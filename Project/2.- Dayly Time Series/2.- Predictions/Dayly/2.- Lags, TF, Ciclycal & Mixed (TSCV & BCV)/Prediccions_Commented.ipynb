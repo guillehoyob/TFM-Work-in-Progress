{
 "cells": [
  {
   "cell_type": "markdown",
   "id": "a3c160d9",
   "metadata": {},
   "source": [
    "# Baselines Predictions"
   ]
  },
  {
   "cell_type": "markdown",
   "id": "b6f9b447",
   "metadata": {},
   "source": [
    "Single Step: https://www.theclickreader.com/single-step-time-series-forecasting/\n",
    "\n",
    "Baseline Method: https://towardsdatascience.com/baseline-models-your-guide-for-model-building-1ec3aa244b8d\n",
    "\n",
    "- Persistance Algorith: https://machinelearningmastery.com/persistence-time-series-forecasting-with-python/"
   ]
  },
  {
   "cell_type": "markdown",
   "id": "95ab2ad1",
   "metadata": {},
   "source": [
    "# <span style='background :khaki' > Install & Importa Libraries </span>"
   ]
  },
  {
   "cell_type": "code",
   "execution_count": 131,
   "id": "85fa628e",
   "metadata": {
    "scrolled": true
   },
   "outputs": [
    {
     "name": "stdout",
     "output_type": "stream",
     "text": [
      "Requirement already satisfied: pandas in c:\\users\\ghoyo\\miniconda3\\lib\\site-packages (1.5.1)\n",
      "Requirement already satisfied: pytz>=2020.1 in c:\\users\\ghoyo\\miniconda3\\lib\\site-packages (from pandas) (2022.6)\n",
      "Requirement already satisfied: numpy>=1.20.3 in c:\\users\\ghoyo\\miniconda3\\lib\\site-packages (from pandas) (1.23.4)\n",
      "Requirement already satisfied: python-dateutil>=2.8.1 in c:\\users\\ghoyo\\miniconda3\\lib\\site-packages (from pandas) (2.8.2)\n",
      "Requirement already satisfied: six>=1.5 in c:\\users\\ghoyo\\miniconda3\\lib\\site-packages (from python-dateutil>=2.8.1->pandas) (1.16.0)\n",
      "Requirement already satisfied: matplotlib in c:\\users\\ghoyo\\miniconda3\\lib\\site-packages (3.6.0)\n",
      "Requirement already satisfied: pillow>=6.2.0 in c:\\users\\ghoyo\\miniconda3\\lib\\site-packages (from matplotlib) (9.3.0)\n",
      "Requirement already satisfied: cycler>=0.10 in c:\\users\\ghoyo\\miniconda3\\lib\\site-packages (from matplotlib) (0.11.0)\n",
      "Requirement already satisfied: fonttools>=4.22.0 in c:\\users\\ghoyo\\miniconda3\\lib\\site-packages (from matplotlib) (4.38.0)\n",
      "Requirement already satisfied: numpy>=1.19 in c:\\users\\ghoyo\\miniconda3\\lib\\site-packages (from matplotlib) (1.23.4)\n",
      "Requirement already satisfied: pyparsing>=2.2.1 in c:\\users\\ghoyo\\miniconda3\\lib\\site-packages (from matplotlib) (3.0.4)\n",
      "Requirement already satisfied: packaging>=20.0 in c:\\users\\ghoyo\\miniconda3\\lib\\site-packages (from matplotlib) (21.3)\n",
      "Requirement already satisfied: contourpy>=1.0.1 in c:\\users\\ghoyo\\miniconda3\\lib\\site-packages (from matplotlib) (1.0.6)\n",
      "Requirement already satisfied: kiwisolver>=1.0.1 in c:\\users\\ghoyo\\miniconda3\\lib\\site-packages (from matplotlib) (1.4.4)\n",
      "Requirement already satisfied: python-dateutil>=2.7 in c:\\users\\ghoyo\\miniconda3\\lib\\site-packages (from matplotlib) (2.8.2)\n",
      "Requirement already satisfied: six>=1.5 in c:\\users\\ghoyo\\miniconda3\\lib\\site-packages (from python-dateutil>=2.7->matplotlib) (1.16.0)\n",
      "Requirement already satisfied: seaborn in c:\\users\\ghoyo\\miniconda3\\lib\\site-packages (0.12.1)\n",
      "Requirement already satisfied: pandas>=0.25 in c:\\users\\ghoyo\\miniconda3\\lib\\site-packages (from seaborn) (1.5.1)\n",
      "Requirement already satisfied: numpy>=1.17 in c:\\users\\ghoyo\\miniconda3\\lib\\site-packages (from seaborn) (1.23.4)\n",
      "Requirement already satisfied: matplotlib!=3.6.1,>=3.1 in c:\\users\\ghoyo\\miniconda3\\lib\\site-packages (from seaborn) (3.6.0)\n",
      "Requirement already satisfied: cycler>=0.10 in c:\\users\\ghoyo\\miniconda3\\lib\\site-packages (from matplotlib!=3.6.1,>=3.1->seaborn) (0.11.0)\n",
      "Requirement already satisfied: kiwisolver>=1.0.1 in c:\\users\\ghoyo\\miniconda3\\lib\\site-packages (from matplotlib!=3.6.1,>=3.1->seaborn) (1.4.4)\n",
      "Requirement already satisfied: pillow>=6.2.0 in c:\\users\\ghoyo\\miniconda3\\lib\\site-packages (from matplotlib!=3.6.1,>=3.1->seaborn) (9.3.0)\n",
      "Requirement already satisfied: packaging>=20.0 in c:\\users\\ghoyo\\miniconda3\\lib\\site-packages (from matplotlib!=3.6.1,>=3.1->seaborn) (21.3)\n",
      "Requirement already satisfied: pyparsing>=2.2.1 in c:\\users\\ghoyo\\miniconda3\\lib\\site-packages (from matplotlib!=3.6.1,>=3.1->seaborn) (3.0.4)\n",
      "Requirement already satisfied: fonttools>=4.22.0 in c:\\users\\ghoyo\\miniconda3\\lib\\site-packages (from matplotlib!=3.6.1,>=3.1->seaborn) (4.38.0)\n",
      "Requirement already satisfied: python-dateutil>=2.7 in c:\\users\\ghoyo\\miniconda3\\lib\\site-packages (from matplotlib!=3.6.1,>=3.1->seaborn) (2.8.2)\n",
      "Requirement already satisfied: contourpy>=1.0.1 in c:\\users\\ghoyo\\miniconda3\\lib\\site-packages (from matplotlib!=3.6.1,>=3.1->seaborn) (1.0.6)\n",
      "Requirement already satisfied: pytz>=2020.1 in c:\\users\\ghoyo\\miniconda3\\lib\\site-packages (from pandas>=0.25->seaborn) (2022.6)\n",
      "Requirement already satisfied: six>=1.5 in c:\\users\\ghoyo\\miniconda3\\lib\\site-packages (from python-dateutil>=2.7->matplotlib!=3.6.1,>=3.1->seaborn) (1.16.0)\n",
      "Requirement already satisfied: scikit-learn in c:\\users\\ghoyo\\miniconda3\\lib\\site-packages (1.1.3)\n",
      "Requirement already satisfied: numpy>=1.17.3 in c:\\users\\ghoyo\\miniconda3\\lib\\site-packages (from scikit-learn) (1.23.4)\n",
      "Requirement already satisfied: threadpoolctl>=2.0.0 in c:\\users\\ghoyo\\miniconda3\\lib\\site-packages (from scikit-learn) (3.1.0)\n",
      "Requirement already satisfied: joblib>=1.0.0 in c:\\users\\ghoyo\\miniconda3\\lib\\site-packages (from scikit-learn) (1.2.0)\n",
      "Requirement already satisfied: scipy>=1.3.2 in c:\\users\\ghoyo\\miniconda3\\lib\\site-packages (from scikit-learn) (1.9.3)\n",
      "Requirement already satisfied: lightgbm in c:\\users\\ghoyo\\miniconda3\\lib\\site-packages (3.3.5)\n",
      "Requirement already satisfied: numpy in c:\\users\\ghoyo\\miniconda3\\lib\\site-packages (from lightgbm) (1.23.4)\n",
      "Requirement already satisfied: scipy in c:\\users\\ghoyo\\miniconda3\\lib\\site-packages (from lightgbm) (1.9.3)\n",
      "Requirement already satisfied: wheel in c:\\users\\ghoyo\\miniconda3\\lib\\site-packages (from lightgbm) (0.37.1)\n",
      "Requirement already satisfied: scikit-learn!=0.22.0 in c:\\users\\ghoyo\\miniconda3\\lib\\site-packages (from lightgbm) (1.1.3)\n",
      "Requirement already satisfied: threadpoolctl>=2.0.0 in c:\\users\\ghoyo\\miniconda3\\lib\\site-packages (from scikit-learn!=0.22.0->lightgbm) (3.1.0)\n",
      "Requirement already satisfied: joblib>=1.0.0 in c:\\users\\ghoyo\\miniconda3\\lib\\site-packages (from scikit-learn!=0.22.0->lightgbm) (1.2.0)\n",
      "Requirement already satisfied: sktime in c:\\users\\ghoyo\\miniconda3\\lib\\site-packages (0.16.1)\n",
      "Requirement already satisfied: deprecated>=1.2.13 in c:\\users\\ghoyo\\miniconda3\\lib\\site-packages (from sktime) (1.2.13)\n",
      "Requirement already satisfied: numba>=0.53 in c:\\users\\ghoyo\\miniconda3\\lib\\site-packages (from sktime) (0.56.4)\n",
      "Requirement already satisfied: scipy<2.0.0,>=1.2.0 in c:\\users\\ghoyo\\miniconda3\\lib\\site-packages (from sktime) (1.9.3)\n",
      "Requirement already satisfied: scikit-learn<1.3.0,>=0.24.0 in c:\\users\\ghoyo\\miniconda3\\lib\\site-packages (from sktime) (1.1.3)\n",
      "Requirement already satisfied: pandas<1.6.0,>=1.1.0 in c:\\users\\ghoyo\\miniconda3\\lib\\site-packages (from sktime) (1.5.1)\n",
      "Requirement already satisfied: numpy<1.25,>=1.21.0 in c:\\users\\ghoyo\\miniconda3\\lib\\site-packages (from sktime) (1.23.4)\n",
      "Requirement already satisfied: wrapt<2,>=1.10 in c:\\users\\ghoyo\\miniconda3\\lib\\site-packages (from deprecated>=1.2.13->sktime) (1.15.0)\n",
      "Requirement already satisfied: setuptools in c:\\users\\ghoyo\\miniconda3\\lib\\site-packages (from numba>=0.53->sktime) (58.0.4)\n",
      "Requirement already satisfied: llvmlite<0.40,>=0.39.0dev0 in c:\\users\\ghoyo\\miniconda3\\lib\\site-packages (from numba>=0.53->sktime) (0.39.1)\n",
      "Requirement already satisfied: pytz>=2020.1 in c:\\users\\ghoyo\\miniconda3\\lib\\site-packages (from pandas<1.6.0,>=1.1.0->sktime) (2022.6)\n",
      "Requirement already satisfied: python-dateutil>=2.8.1 in c:\\users\\ghoyo\\miniconda3\\lib\\site-packages (from pandas<1.6.0,>=1.1.0->sktime) (2.8.2)\n",
      "Requirement already satisfied: threadpoolctl>=2.0.0 in c:\\users\\ghoyo\\miniconda3\\lib\\site-packages (from scikit-learn<1.3.0,>=0.24.0->sktime) (3.1.0)\n",
      "Requirement already satisfied: joblib>=1.0.0 in c:\\users\\ghoyo\\miniconda3\\lib\\site-packages (from scikit-learn<1.3.0,>=0.24.0->sktime) (1.2.0)\n",
      "Requirement already satisfied: six>=1.5 in c:\\users\\ghoyo\\miniconda3\\lib\\site-packages (from python-dateutil>=2.8.1->pandas<1.6.0,>=1.1.0->sktime) (1.16.0)\n",
      "Requirement already satisfied: sklego in c:\\users\\ghoyo\\miniconda3\\lib\\site-packages (0.0)\n",
      "Requirement already satisfied: scikit-lego in c:\\users\\ghoyo\\miniconda3\\lib\\site-packages (from sklego) (0.6.14)\n",
      "Requirement already satisfied: pandas>=1.1.5 in c:\\users\\ghoyo\\miniconda3\\lib\\site-packages (from scikit-lego->sklego) (1.5.1)\n",
      "Requirement already satisfied: Deprecated>=1.2.6 in c:\\users\\ghoyo\\miniconda3\\lib\\site-packages (from scikit-lego->sklego) (1.2.13)\n",
      "Requirement already satisfied: patsy>=0.5.1 in c:\\users\\ghoyo\\miniconda3\\lib\\site-packages (from scikit-lego->sklego) (0.5.3)\n",
      "Requirement already satisfied: autograd>=1.2 in c:\\users\\ghoyo\\miniconda3\\lib\\site-packages (from scikit-lego->sklego) (1.5)\n",
      "Requirement already satisfied: scikit-learn>=0.24.1 in c:\\users\\ghoyo\\miniconda3\\lib\\site-packages (from scikit-lego->sklego) (1.1.3)\n",
      "Requirement already satisfied: umap-learn>=0.4.6 in c:\\users\\ghoyo\\miniconda3\\lib\\site-packages (from scikit-lego->sklego) (0.5.3)\n",
      "Requirement already satisfied: numpy>=1.12 in c:\\users\\ghoyo\\miniconda3\\lib\\site-packages (from autograd>=1.2->scikit-lego->sklego) (1.23.4)\n",
      "Requirement already satisfied: future>=0.15.2 in c:\\users\\ghoyo\\miniconda3\\lib\\site-packages (from autograd>=1.2->scikit-lego->sklego) (0.18.3)\n",
      "Requirement already satisfied: wrapt<2,>=1.10 in c:\\users\\ghoyo\\miniconda3\\lib\\site-packages (from Deprecated>=1.2.6->scikit-lego->sklego) (1.15.0)\n",
      "Requirement already satisfied: pytz>=2020.1 in c:\\users\\ghoyo\\miniconda3\\lib\\site-packages (from pandas>=1.1.5->scikit-lego->sklego) (2022.6)\n",
      "Requirement already satisfied: python-dateutil>=2.8.1 in c:\\users\\ghoyo\\miniconda3\\lib\\site-packages (from pandas>=1.1.5->scikit-lego->sklego) (2.8.2)\n",
      "Requirement already satisfied: six in c:\\users\\ghoyo\\miniconda3\\lib\\site-packages (from patsy>=0.5.1->scikit-lego->sklego) (1.16.0)\n",
      "Requirement already satisfied: scipy>=1.3.2 in c:\\users\\ghoyo\\miniconda3\\lib\\site-packages (from scikit-learn>=0.24.1->scikit-lego->sklego) (1.9.3)\n",
      "Requirement already satisfied: joblib>=1.0.0 in c:\\users\\ghoyo\\miniconda3\\lib\\site-packages (from scikit-learn>=0.24.1->scikit-lego->sklego) (1.2.0)\n",
      "Requirement already satisfied: threadpoolctl>=2.0.0 in c:\\users\\ghoyo\\miniconda3\\lib\\site-packages (from scikit-learn>=0.24.1->scikit-lego->sklego) (3.1.0)\n",
      "Requirement already satisfied: numba>=0.49 in c:\\users\\ghoyo\\miniconda3\\lib\\site-packages (from umap-learn>=0.4.6->scikit-lego->sklego) (0.56.4)\n",
      "Requirement already satisfied: pynndescent>=0.5 in c:\\users\\ghoyo\\miniconda3\\lib\\site-packages (from umap-learn>=0.4.6->scikit-lego->sklego) (0.5.8)\n",
      "Requirement already satisfied: tqdm in c:\\users\\ghoyo\\miniconda3\\lib\\site-packages (from umap-learn>=0.4.6->scikit-lego->sklego) (4.63.0)\n",
      "Requirement already satisfied: llvmlite<0.40,>=0.39.0dev0 in c:\\users\\ghoyo\\miniconda3\\lib\\site-packages (from numba>=0.49->umap-learn>=0.4.6->scikit-lego->sklego) (0.39.1)\n",
      "Requirement already satisfied: setuptools in c:\\users\\ghoyo\\miniconda3\\lib\\site-packages (from numba>=0.49->umap-learn>=0.4.6->scikit-lego->sklego) (58.0.4)\n",
      "Requirement already satisfied: colorama in c:\\users\\ghoyo\\miniconda3\\lib\\site-packages (from tqdm->umap-learn>=0.4.6->scikit-lego->sklego) (0.4.4)\n"
     ]
    },
    {
     "name": "stdout",
     "output_type": "stream",
     "text": [
      "Requirement already satisfied: pip in c:\\users\\ghoyo\\miniconda3\\lib\\site-packages (23.0.1)\n"
     ]
    }
   ],
   "source": [
    "### ***Enviroment Preparation***\n",
    "# Install Pandas\n",
    "!pip install pandas\n",
    "!pip install matplotlib\n",
    "!pip install seaborn\n",
    "!pip install scikit-learn\n",
    "!pip install lightgbm\n",
    "\n",
    "!pip install sktime\n",
    "!pip install sklego\n",
    "\n",
    "#!pip install skforecast\n",
    "\n",
    "# Update pip -- WARNING Resolution\n",
    "!python.exe -m pip install --upgrade pip"
   ]
  },
  {
   "cell_type": "code",
   "execution_count": 132,
   "id": "4319ab42",
   "metadata": {},
   "outputs": [],
   "source": [
    "import numpy as np\n",
    "import pandas as pd\n",
    "import matplotlib.pyplot as plt\n",
    "import seaborn as sns\n",
    "sns.set()\n",
    "\n",
    "from datetime import datetime\n",
    "from datetime import timedelta\n",
    "\n",
    "from sklego.preprocessing import RepeatingBasisFunction\n",
    "\n",
    "from lightgbm import LGBMRegressor\n",
    "from sklearn.ensemble import RandomForestRegressor\n",
    "from sklearn.metrics import mean_absolute_error\n",
    "from sklearn.model_selection import TimeSeriesSplit\n",
    "\n",
    "from sklearn.metrics import mean_squared_error\n",
    "from sklearn.metrics import mean_absolute_error\n",
    "from sklearn.metrics import r2_score\n",
    "\n",
    "import time\n",
    " \n",
    "# Paths\n",
    "data = r\"C:\\Users\\ghoyo\\Desktop\\TFM 3.0\\Project\\GeneratedDfs\\dayly_stational.json\"\n",
    "\n",
    "# Get start time\n",
    "start_time_infi = time.time()\n",
    "\n",
    "import warnings\n",
    "warnings.filterwarnings(\"ignore\")"
   ]
  },
  {
   "cell_type": "markdown",
   "id": "d803c014",
   "metadata": {},
   "source": [
    "#### <span style=\"background:skyblue\"> Load Data <span>"
   ]
  },
  {
   "cell_type": "code",
   "execution_count": 133,
   "id": "1409ffd2",
   "metadata": {},
   "outputs": [],
   "source": [
    "df = pd.read_json(data)"
   ]
  },
  {
   "cell_type": "code",
   "execution_count": 134,
   "id": "e8603724",
   "metadata": {},
   "outputs": [],
   "source": [
    "TARGET = ['day_n_streams', 'day_n_songs', 'day_new_stream', 'day_new_song']"
   ]
  },
  {
   "cell_type": "code",
   "execution_count": 135,
   "id": "091af03e",
   "metadata": {},
   "outputs": [],
   "source": [
    "df = df[TARGET]"
   ]
  },
  {
   "cell_type": "markdown",
   "id": "8dc81758",
   "metadata": {},
   "source": [
    "#### <span style=\"background:skyblue\"> Little Analysis <span>"
   ]
  },
  {
   "cell_type": "markdown",
   "id": "7c71d80e",
   "metadata": {},
   "source": [
    "Hemos eliminado las 2 valiables que hemos visto que obtenian muy buenos resultados con el método baseline, reduciendo así el tiempo de ejecución y el coste de computo"
   ]
  },
  {
   "cell_type": "code",
   "execution_count": 136,
   "id": "523aef6f",
   "metadata": {},
   "outputs": [
    {
     "name": "stdout",
     "output_type": "stream",
     "text": [
      "<class 'pandas.core.frame.DataFrame'>\n",
      "DatetimeIndex: 2061 entries, 2017-04-04 to 2022-11-24\n",
      "Data columns (total 4 columns):\n",
      " #   Column          Non-Null Count  Dtype\n",
      "---  ------          --------------  -----\n",
      " 0   day_n_streams   2061 non-null   int64\n",
      " 1   day_n_songs     2061 non-null   int64\n",
      " 2   day_new_stream  2061 non-null   int64\n",
      " 3   day_new_song    2061 non-null   int64\n",
      "dtypes: int64(4)\n",
      "memory usage: 80.5 KB\n"
     ]
    }
   ],
   "source": [
    "df[TARGET].info()"
   ]
  },
  {
   "cell_type": "code",
   "execution_count": 137,
   "id": "601b52cb",
   "metadata": {
    "scrolled": false
   },
   "outputs": [
    {
     "data": {
      "text/html": [
       "<div>\n",
       "<style scoped>\n",
       "    .dataframe tbody tr th:only-of-type {\n",
       "        vertical-align: middle;\n",
       "    }\n",
       "\n",
       "    .dataframe tbody tr th {\n",
       "        vertical-align: top;\n",
       "    }\n",
       "\n",
       "    .dataframe thead th {\n",
       "        text-align: right;\n",
       "    }\n",
       "</style>\n",
       "<table border=\"1\" class=\"dataframe\">\n",
       "  <thead>\n",
       "    <tr style=\"text-align: right;\">\n",
       "      <th></th>\n",
       "      <th>day_n_streams</th>\n",
       "      <th>day_n_songs</th>\n",
       "      <th>day_new_stream</th>\n",
       "      <th>day_new_song</th>\n",
       "    </tr>\n",
       "  </thead>\n",
       "  <tbody>\n",
       "    <tr>\n",
       "      <th>count</th>\n",
       "      <td>2061.000000</td>\n",
       "      <td>2061.000000</td>\n",
       "      <td>2061.000000</td>\n",
       "      <td>2061.000000</td>\n",
       "    </tr>\n",
       "    <tr>\n",
       "      <th>mean</th>\n",
       "      <td>39.800097</td>\n",
       "      <td>39.741388</td>\n",
       "      <td>6.515284</td>\n",
       "      <td>6.498787</td>\n",
       "    </tr>\n",
       "    <tr>\n",
       "      <th>std</th>\n",
       "      <td>28.399624</td>\n",
       "      <td>28.401398</td>\n",
       "      <td>9.862028</td>\n",
       "      <td>9.855146</td>\n",
       "    </tr>\n",
       "    <tr>\n",
       "      <th>min</th>\n",
       "      <td>0.000000</td>\n",
       "      <td>0.000000</td>\n",
       "      <td>0.000000</td>\n",
       "      <td>0.000000</td>\n",
       "    </tr>\n",
       "    <tr>\n",
       "      <th>25%</th>\n",
       "      <td>20.000000</td>\n",
       "      <td>20.000000</td>\n",
       "      <td>0.000000</td>\n",
       "      <td>0.000000</td>\n",
       "    </tr>\n",
       "    <tr>\n",
       "      <th>50%</th>\n",
       "      <td>35.000000</td>\n",
       "      <td>35.000000</td>\n",
       "      <td>3.000000</td>\n",
       "      <td>3.000000</td>\n",
       "    </tr>\n",
       "    <tr>\n",
       "      <th>75%</th>\n",
       "      <td>53.000000</td>\n",
       "      <td>53.000000</td>\n",
       "      <td>9.000000</td>\n",
       "      <td>9.000000</td>\n",
       "    </tr>\n",
       "    <tr>\n",
       "      <th>max</th>\n",
       "      <td>247.000000</td>\n",
       "      <td>247.000000</td>\n",
       "      <td>106.000000</td>\n",
       "      <td>106.000000</td>\n",
       "    </tr>\n",
       "  </tbody>\n",
       "</table>\n",
       "</div>"
      ],
      "text/plain": [
       "       day_n_streams  day_n_songs  day_new_stream  day_new_song\n",
       "count    2061.000000  2061.000000     2061.000000   2061.000000\n",
       "mean       39.800097    39.741388        6.515284      6.498787\n",
       "std        28.399624    28.401398        9.862028      9.855146\n",
       "min         0.000000     0.000000        0.000000      0.000000\n",
       "25%        20.000000    20.000000        0.000000      0.000000\n",
       "50%        35.000000    35.000000        3.000000      3.000000\n",
       "75%        53.000000    53.000000        9.000000      9.000000\n",
       "max       247.000000   247.000000      106.000000    106.000000"
      ]
     },
     "execution_count": 137,
     "metadata": {},
     "output_type": "execute_result"
    }
   ],
   "source": [
    "df[TARGET].describe()"
   ]
  },
  {
   "cell_type": "markdown",
   "id": "8ddece03",
   "metadata": {},
   "source": [
    "# <span style='background :khaki' > Random Forest Regressor Predictions </span>"
   ]
  },
  {
   "cell_type": "markdown",
   "id": "56390130",
   "metadata": {},
   "source": [
    "### <span style=\"background:lightgreen\"> Functions <span>"
   ]
  },
  {
   "cell_type": "markdown",
   "id": "5b802dff",
   "metadata": {},
   "source": [
    "<span style=\"background:violet\"> Ranfom Forest Regressor - Function <span>"
   ]
  },
  {
   "cell_type": "code",
   "execution_count": 138,
   "id": "16d14c36",
   "metadata": {},
   "outputs": [],
   "source": [
    "def tree_feature_importance(df, target, split=7, n_s=100, plot = 0, r = 0, sort = 0):\n",
    "    # Data\n",
    "    X = df.drop(target, axis=1)\n",
    "    y = df[target]\n",
    "    \n",
    "    # Split\n",
    "    X_train, X_test = X.iloc[:-split,:], X.iloc[-split:,:]\n",
    "    y_train, y_test = y.iloc[:-split], y.iloc[-split:]\n",
    "    \n",
    "    # Create - Train - Predict\n",
    "    model = RandomForestRegressor(n_estimators=n_s)\n",
    "    model.fit(X_train, y_train)\n",
    "    predictions = model.predict(X_test)\n",
    "    \n",
    "    # Evaluation Methods - MAE & MSE\n",
    "    mae = np.round(mean_absolute_error(y_test, predictions), 3)    \n",
    "    mse = np.round(mean_squared_error(y_test, predictions), 3)    \n",
    "    #print('mae', mae)\n",
    "    #print('mse', mse)\n",
    "    \n",
    "    if plot == 0 or plot == 1:\n",
    "        # Plot Real Vs Prediction\n",
    "        fig = plt.figure(figsize=(6,3))\n",
    "        plt.title(f' {target}: Random Forest Real vs Prediction - MAE {mae}', fontsize=20)\n",
    "        plt.plot(y_test, color='red')\n",
    "        plt.plot(pd.Series(predictions, index=y_test.index), color='green')\n",
    "        plt.xlabel('Dais', fontsize=12)\n",
    "        plt.ylabel('Number of streams listened', fontsize=12)\n",
    "        plt.legend(labels=['Real', 'Prediction'], fontsize=12)\n",
    "        plt.grid()\n",
    "        plt.show()\n",
    "    \n",
    "    # Dataframe with Importance of each feature\n",
    "    if sort == 0:\n",
    "        df_importances = pd.DataFrame({\n",
    "            'feature': df.drop(columns = target).columns,\n",
    "            'importance': model.feature_importances_}\n",
    "        ).sort_values(by='importance', ascending=False)\n",
    "    \n",
    "    if sort == 1:\n",
    "        df_importances = pd.DataFrame({\n",
    "            'feature': df.drop(columns = target).columns,\n",
    "            'importance': model.feature_importances_}\n",
    "        )\n",
    "    \n",
    "    if plot == 0 or plot == 2:\n",
    "        # Plot Features Importance\n",
    "        plt.figure(figsize=(12,8))\n",
    "        plt.title('Variable Importances', fontsize=12)\n",
    "        sns.barplot(x=df_importances.importance, y=df_importances.feature, orient='h')\n",
    "        plt.show()\n",
    "    \n",
    "    #  Print Importances\n",
    "    #print('MAE: ', mae)\n",
    "    #print(df_importances.sort_values(by='importance'), '\\n')\n",
    "    \n",
    "    if r == 1:\n",
    "        return mae, mse, df_importances\n",
    "    \n",
    "    return mae, mse"
   ]
  },
  {
   "cell_type": "markdown",
   "id": "adc7a51c",
   "metadata": {},
   "source": [
    "<span style=\"background:violet\"> Ranfom Forest Regressor - TSCV - Function<span>"
   ]
  },
  {
   "cell_type": "code",
   "execution_count": 139,
   "id": "2cedc29e",
   "metadata": {},
   "outputs": [],
   "source": [
    "def tree_feature_importance_cv(df, target, cv_split = 5, test_size = 1, n_s=100, plot = 5, r = 0, sort = 0):\n",
    "    # Results\n",
    "    c_predict = []\n",
    "    c_mae = []\n",
    "    c_mse = []\n",
    "    vals = []\n",
    "    predictions = []\n",
    "    \n",
    "    # Data\n",
    "    X = df.drop(target, axis=1)\n",
    "    y = df[target]\n",
    "    \n",
    "    tscv = TimeSeriesSplit(max_train_size=None, n_splits = cv_split, test_size=test_size)\n",
    "\n",
    "    # Splti CV Data\n",
    "    for train_index, test_index in tscv.split(X):\n",
    "        pre = []\n",
    "        df_i = []\n",
    "        \n",
    "        X_train, X_test = X.iloc[train_index], X.iloc[test_index]\n",
    "        \n",
    "        # Transformation for a single feature.\n",
    "        if X_train.shape[1] == 1:\n",
    "            X_train = X.iloc[train_index].to_numpy().reshape(-1, 1)\n",
    "            y_train, y_test = y[train_index], y[test_index]\n",
    "            \n",
    "        # Transformation for a single sample.\n",
    "        if test_size == 1:\n",
    "            X_test = X.iloc[test_index].to_numpy()\n",
    "            y_train, y_test = y[train_index], y[test_index]\n",
    "            \n",
    "            for x in list(X_test):\n",
    "                model = RandomForestRegressor(n_estimators=n_s)\n",
    "                model.fit(X_train, y_train)\n",
    "                yhat = model.predict(x.reshape(1, -1))\n",
    "                pre.append(yhat)\n",
    "                \n",
    "                # Variable Importance\n",
    "                if sort == 0:\n",
    "                    df_importances = pd.DataFrame({\n",
    "                        'feature': df.drop(columns = target).columns,\n",
    "                        'importance': model.feature_importances_}\n",
    "                    ).sort_values(by='importance', ascending=False)\n",
    "    \n",
    "                if sort == 1:\n",
    "                    df_importances = pd.DataFrame({\n",
    "                        'feature': df.drop(columns = target).columns,\n",
    "                        'importance': model.feature_importances_}\n",
    "                    )\n",
    "                \n",
    "                df_i.append(df_importances)\n",
    "                vals.append(df_importances['importance'].values)\n",
    "            \n",
    "        else:\n",
    "            print('AUN YO NO SE')\n",
    "\n",
    "            \n",
    "        #print('\\nX_test 2.0 :', type(X_test),  X_test.shape, X_test)\n",
    "        #print('\\nX_train 2.0:', type(X_train), X_train.shape, X_train)\n",
    "        #print(df_i)\n",
    "        \n",
    "        \n",
    "        # CV Predict\n",
    "        c_predict.append(pre)\n",
    "        c_mse.append(mean_squared_error(y_test, pre))\n",
    "        c_mae.append(mean_absolute_error(y_test, pre))\n",
    "        #print('\\nCV_MSE = ', c_mse[-1], '-- CV_MAE = ', c_mae[-1])\n",
    "    \n",
    "    # Variable Importance mean CV\n",
    "    mean_i = pd.DataFrame(columns = ['feature', 'importance'])\n",
    "\n",
    "    for i, cols in zip(range(len(vals[0])), df_importances['feature']):\n",
    "        aux = []\n",
    "\n",
    "        for j in range(len(vals)):\n",
    "            aux.append(vals[j][i])\n",
    "        \n",
    "        mean_i.loc[i, 'feature'] = cols\n",
    "        mean_i.loc[i, 'importance'] = np.mean(aux)\n",
    "        \n",
    "    predictions = np.mean(c_predict)\n",
    "    cv_b_mse = np.mean(c_mse)\n",
    "    cv_b_mae = np.mean(c_mae)\n",
    "    \n",
    "    if plot == 1 or plot == 0 or plot == 4:\n",
    "        print('\\nMSE = ', cv_b_mse)\n",
    "        print('\\nMAE = ', cv_b_mae)\n",
    "    \n",
    "    if plot == 2 or plot == 4:\n",
    "        print('\\n Predictions: \\n', c_predict)\n",
    "    \n",
    "    if plot == 3 or plot == 0 or plot == 4:\n",
    "        print('\\n VI\\n', mean_i)\n",
    "\n",
    "    # Create - Train - Predict\n",
    "\n",
    "    if r == 0:\n",
    "        return cv_b_mae, cv_b_mse, mean_i\n",
    "    \n",
    "    if r == 1:\n",
    "        return cv_b_mae, cv_b_mse, mean_i, predictions\n",
    "    \n",
    "    if r == 2:\n",
    "        return cv_b_mae, cv_b_mse"
   ]
  },
  {
   "cell_type": "markdown",
   "id": "8604543c",
   "metadata": {},
   "source": [
    "<span style=\"background:violet\"> Ranfom Forest Regressor - BCV - Function<span>"
   ]
  },
  {
   "cell_type": "code",
   "execution_count": 140,
   "id": "3a5e04d2",
   "metadata": {},
   "outputs": [],
   "source": [
    "def tree_feature_importance_bcv(df, target, test_size = 1, cv_split = 5, n_s=100, plot = 5, r = 0, sort = 0):\n",
    "    # Results\n",
    "    c_predict = []\n",
    "    c_mae = []\n",
    "    c_mse = []\n",
    "    vals = []\n",
    "    predictions = []\n",
    "    \n",
    "    # Data\n",
    "    X = df.drop(target, axis=1)\n",
    "    y = df[target]\n",
    "    \n",
    "    tscv = BlockingTimeSeriesSplit(n_splits = cv_split)\n",
    "\n",
    "    # Splti CV Data\n",
    "    for train_index, test_index in tscv.split(X):\n",
    "        pre = []\n",
    "        df_i = []\n",
    "        \n",
    "        X_train, X_test = X.iloc[train_index], X.iloc[test_index]\n",
    "        \n",
    "        # Transformation for a single feature.\n",
    "        if X_train.shape[1] == 1:\n",
    "            X_train = X.iloc[train_index].to_numpy().reshape(-1, 1)\n",
    "            y_train, y_test = y[train_index], y[test_index]\n",
    "            \n",
    "        # Transformation for a single sample.\n",
    "        if test_size == 1:\n",
    "            X_test = X.iloc[test_index].to_numpy()\n",
    "            y_train, y_test = y[train_index], y[test_index]\n",
    "            \n",
    "            for x in list(X_test):\n",
    "                model = RandomForestRegressor(n_estimators=n_s)\n",
    "                model.fit(X_train, y_train)\n",
    "                yhat = model.predict(x.reshape(1, -1))\n",
    "                pre.append(yhat)\n",
    "                \n",
    "                # Variable Importance\n",
    "                if sort == 0:\n",
    "                    df_importances = pd.DataFrame({\n",
    "                        'feature': df.drop(columns = target).columns,\n",
    "                        'importance': model.feature_importances_}\n",
    "                    ).sort_values(by='importance', ascending=False)\n",
    "    \n",
    "                if sort == 1:\n",
    "                    df_importances = pd.DataFrame({\n",
    "                        'feature': df.drop(columns = target).columns,\n",
    "                        'importance': model.feature_importances_}\n",
    "                    )\n",
    "                \n",
    "                df_i.append(df_importances)\n",
    "                vals.append(df_importances['importance'].values)\n",
    "            \n",
    "        else:\n",
    "            print('AUN YO NO SE')\n",
    "\n",
    "            \n",
    "        #print('\\nX_test 2.0 :', type(X_test),  X_test.shape, X_test)\n",
    "        #print('\\nX_train 2.0:', type(X_train), X_train.shape, X_train)\n",
    "        #print(df_i)\n",
    "        \n",
    "        \n",
    "        # CV Predict\n",
    "        c_predict.append(pre)\n",
    "        c_mse.append(mean_squared_error(y_test, pre))\n",
    "        c_mae.append(mean_absolute_error(y_test, pre))\n",
    "        #print('\\nCV_MSE = ', c_mse[-1], '-- CV_MAE = ', c_mae[-1])\n",
    "    \n",
    "    # Variable Importance mean CV\n",
    "    mean_i = pd.DataFrame(columns = ['feature', 'importance'])\n",
    "\n",
    "    for i, cols in zip(range(len(vals[0])), df_importances['feature']):\n",
    "        aux = []\n",
    "\n",
    "        for j in range(len(vals)):\n",
    "            aux.append(vals[j][i])\n",
    "        \n",
    "        mean_i.loc[i, 'feature'] = cols\n",
    "        mean_i.loc[i, 'importance'] = np.mean(aux)\n",
    "        \n",
    "    predictions.append(c_predict)\n",
    "    cv_b_mse = np.mean(c_mse)\n",
    "    cv_b_mae = np.mean(c_mae)\n",
    "    \n",
    "    if plot == 1 or plot == 0 or plot == 4:\n",
    "        print('\\nMSE = ', cv_b_mse)\n",
    "        print('\\nMAE = ', cv_b_mae)\n",
    "    \n",
    "    if plot == 2 or plot == 4:\n",
    "        print('\\n Predictions: \\n', c_predict)\n",
    "    \n",
    "    if plot == 3 or plot == 0 or plot == 4:\n",
    "        print('\\n VI\\n', mean_i)\n",
    "\n",
    "    # Create - Train - Predict\n",
    "\n",
    "    if r == 0:\n",
    "        return cv_b_mae, cv_b_mse, mean_i\n",
    "    \n",
    "    if r == 1:\n",
    "        return cv_b_mae, cv_b_mse, mean_i, predictions\n",
    "    \n",
    "    if r == 2:\n",
    "        return cv_b_mae, cv_b_mse"
   ]
  },
  {
   "cell_type": "markdown",
   "id": "5eeed11e",
   "metadata": {},
   "source": [
    "<span style='background :violet' > Global Variables for simulation and cross validation </span>"
   ]
  },
  {
   "cell_type": "code",
   "execution_count": 141,
   "id": "3a277759",
   "metadata": {},
   "outputs": [],
   "source": [
    "n_sims = 75\n",
    "n_splits = 14\n",
    "\n",
    "n_sims_cv = 75\n",
    "n_splits_cv = 14"
   ]
  },
  {
   "cell_type": "markdown",
   "id": "1a0413ec",
   "metadata": {},
   "source": [
    "### <span style='background :lightgreen' > Generate Lags and Select a number of Lags </span>"
   ]
  },
  {
   "cell_type": "markdown",
   "id": "24b01e67",
   "metadata": {},
   "source": [
    "#### <span style='background :skyblue' > Generate Lags for better predictions </span>"
   ]
  },
  {
   "cell_type": "markdown",
   "id": "1494d075",
   "metadata": {},
   "source": [
    "Creating lagged dataframes to inspect with the studied information of Autocorrelation and Partial Autocorrelation\n",
    "\n",
    "As we have studied Autocorrelation and Partial-Autocorrelation for all variables we can see best posible options for each variable:  \n",
    "\n",
    "Partial Autocorrelation <br/>\n",
    "- day_n_stream = from 5 to 8 <br/>\n",
    "- day_new_stream = from 3 to 8 <br/>\n",
    "- day_n_song = same ass n_streams <br/>\n",
    "- day_new_song = same as new_stream <br/>\n",
    "\n",
    "We remove this variables because the baseline method already haves awesome results\n",
    "- day_n_podcast = 1 or 2<br/>\n",
    "- day_new_podcast = 1 <br/>"
   ]
  },
  {
   "cell_type": "markdown",
   "id": "bebf2917",
   "metadata": {},
   "source": [
    "https://stackoverflow.com/questions/48818213/make-multiple-shifted-lagged-columns-in-pandas\n",
    "    \n",
    "https://pandas.pydata.org/docs/reference/api/pandas.DataFrame.assign.html\n",
    "        \n",
    "https://www.geeksforgeeks.org/what-does-the-double-star-operator-mean-in-python/"
   ]
  },
  {
   "cell_type": "code",
   "execution_count": 142,
   "id": "56581f3f",
   "metadata": {
    "scrolled": true
   },
   "outputs": [
    {
     "name": "stdout",
     "output_type": "stream",
     "text": [
      "CPU times: total: 93.8 ms\n",
      "Wall time: 107 ms\n"
     ]
    }
   ],
   "source": [
    "%%time \n",
    "\n",
    "df_list = []\n",
    "X_list = []\n",
    "y_list = []\n",
    "\n",
    "for i in TARGET:\n",
    "    autocorr = 8\n",
    "    l_df_var = []\n",
    "    X_aux = []\n",
    "    y_aux = []\n",
    "    lags = range(1, autocorr+1)\n",
    "    \n",
    "    for la in lags:\n",
    "        # Create List of lags for dataframe\n",
    "        df_tr_var = df[i].copy().to_frame()\n",
    "        df_tr_var = df_tr_var.assign(**{f'{col} (t-{l})': df[col].shift(l) for l in range(1, la+1) for col in df_tr_var})\n",
    "        df_tr_var.dropna(inplace=True)\n",
    "        l_df_var.append(df_tr_var)\n",
    "        \n",
    "        # Create list of Data for dataframe\n",
    "        X = df_tr_var[df_tr_var.columns[1:]]\n",
    "        y = df_tr_var[df_tr_var.columns[0]].to_frame()\n",
    "        X_aux.append(X)\n",
    "        y_aux.append(y)\n",
    "        \n",
    "    #l_df_var[7].head(1)\n",
    "    df_list.append(l_df_var)\n",
    "    X_list.append(X_aux)\n",
    "    y_list.append(y_aux)"
   ]
  },
  {
   "cell_type": "markdown",
   "id": "07d6d7fb",
   "metadata": {},
   "source": [
    "#### <span style='background :skyblue' > Variable Importance Overview </span>"
   ]
  },
  {
   "cell_type": "code",
   "execution_count": 143,
   "id": "9fd71ca0",
   "metadata": {
    "scrolled": true
   },
   "outputs": [
    {
     "name": "stdout",
     "output_type": "stream",
     "text": [
      "DATAFRAME:  day_n_streams -- Last Lag ------------------------------------\n"
     ]
    },
    {
     "data": {
      "image/png": "[encoded data removed]",
      "text/plain": [
       "<Figure size 864x576 with 1 Axes>"
      ]
     },
     "metadata": {},
     "output_type": "display_data"
    },
    {
     "name": "stdout",
     "output_type": "stream",
     "text": [
      "DATAFRAME:  day_n_songs -- Last Lag ------------------------------------\n"
     ]
    },
    {
     "data": {
      "image/png": "[encoded data removed]",
      "text/plain": [
       "<Figure size 864x576 with 1 Axes>"
      ]
     },
     "metadata": {},
     "output_type": "display_data"
    },
    {
     "name": "stdout",
     "output_type": "stream",
     "text": [
      "DATAFRAME:  day_new_stream -- Last Lag ------------------------------------\n"
     ]
    },
    {
     "data": {
      "image/png": "[encoded data removed]",
      "text/plain": [
       "<Figure size 864x576 with 1 Axes>"
      ]
     },
     "metadata": {},
     "output_type": "display_data"
    },
    {
     "name": "stdout",
     "output_type": "stream",
     "text": [
      "DATAFRAME:  day_new_song -- Last Lag ------------------------------------\n"
     ]
    },
    {
     "data": {
      "image/png": "[encoded data removed]",
      "text/plain": [
       "<Figure size 864x576 with 1 Axes>"
      ]
     },
     "metadata": {},
     "output_type": "display_data"
    },
    {
     "name": "stdout",
     "output_type": "stream",
     "text": [
      "CPU times: total: 4.22 s\n",
      "Wall time: 4.6 s\n"
     ]
    }
   ],
   "source": [
    "%%time\n",
    "\n",
    "for d in df_list:\n",
    "    print('DATAFRAME: ', d[-1].columns[0], '-- Last Lag ------------------------------------')\n",
    "    target = d[-1].columns[0]\n",
    "    tree_feature_importance(d[-1], target, split=1, plot = 2, r = 1, sort=0)"
   ]
  },
  {
   "cell_type": "markdown",
   "id": "21e01cfb",
   "metadata": {},
   "source": [
    "### <span style='background :lightgreen' > Base - Random Forest Simulation </span>"
   ]
  },
  {
   "cell_type": "code",
   "execution_count": 144,
   "id": "3f207829",
   "metadata": {},
   "outputs": [
    {
     "name": "stdout",
     "output_type": "stream",
     "text": [
      "CPU times: total: 15min 2s\n",
      "Wall time: 33min 25s\n"
     ]
    }
   ],
   "source": [
    "%%time\n",
    "\n",
    "start_full = time.time()\n",
    "times_s = []\n",
    "times_e = []\n",
    "\n",
    "df_mae = []\n",
    "df_mse = []\n",
    "df_var_i = []\n",
    "\n",
    "for d in df_list:\n",
    "    start = time.time()\n",
    "    times_s.append(start)\n",
    "    \n",
    "    lag_mae = []\n",
    "    lag_mse = []\n",
    "    lag_vi = []\n",
    "\n",
    "    # Diferent Lags Loop\n",
    "    for df_vi, lag_i in zip(d, range(len(d))):\n",
    "        sim_mae = []\n",
    "        sim_mse = []\n",
    "        sim_vi = []\n",
    "        \n",
    "        target = df_vi.columns[0]\n",
    "        \n",
    "        # Simulation Loop\n",
    "        for sim in range(n_sims):\n",
    "            #print('-- Sim Nº', sim, '--\\n')\n",
    "            mae , mse, vi = tree_feature_importance(df_vi, target, split=n_splits, plot = 3, r = 1)\n",
    "        \n",
    "            # Save data -- SIM\n",
    "            sim_mae.append(mae)\n",
    "            sim_mse.append(mse)\n",
    "            sim_vi.append(vi)\n",
    "        \n",
    "            #print('mae = ', mae)\n",
    "            #print('mse = ', mse)\n",
    "            #print('vi -- \\n', vi, '\\n')\n",
    "            #print('feature --\\n', vi['feature'], '\\n\\nimportance -- \\n', vi['importance'], '\\n\\n')\n",
    "    \n",
    "        #print('\\n\\nMean Evaluation LAGS ', lag_i , ' METRICS')\n",
    "        #print('MAE ', np.mean(sim_mae))\n",
    "        #print('MSE ', np.mean(sim_mse))\n",
    "\n",
    "        mean_sim_vi = pd.DataFrame(columns = ['feature', 'importance'])\n",
    "    \n",
    "        # Loop to make variable importance simulation mean\n",
    "        for i,col in zip(range(sim_vi[0].shape[0]), sim_vi[0]['feature']):\n",
    "            aux = []\n",
    "    \n",
    "            for j in range(n_sims):\n",
    "                aux.append(sim_vi[j]['importance'][i])\n",
    "    \n",
    "            mean_sim_vi.loc[i, 'feature'] = col\n",
    "            mean_sim_vi.loc[i, 'importance'] = np.mean(aux)\n",
    "\n",
    "        #print('\\n Mean Variable Importance LAGS DATAFRAMES \\n')\n",
    "        #mean_sim_vi.head()\n",
    "    \n",
    "        # Save Data -- LAG Loop\n",
    "        lag_mae.append(np.mean(sim_mae))\n",
    "        lag_mse.append(np.mean(sim_mse))\n",
    "        lag_vi.append(mean_sim_vi)\n",
    "    \n",
    "    # Save Data -- VARIABLES/FEATURES\n",
    "\n",
    "    #print(lag_mae)\n",
    "    #print(lag_mse)\n",
    "    #print(lag_vi)\n",
    "    \n",
    "    df_mae.append(lag_mae)\n",
    "    df_mse.append(lag_mse)\n",
    "    df_var_i.append(lag_vi)\n",
    "    \n",
    "    end = time.time()\n",
    "    times_e.append(end)\n",
    "    \n",
    "end_full = time.time()"
   ]
  },
  {
   "cell_type": "code",
   "execution_count": 145,
   "id": "ff7ae2d4",
   "metadata": {},
   "outputs": [
    {
     "name": "stdout",
     "output_type": "stream",
     "text": [
      "full time:  -1679111748246.0774 ms\n",
      "part_time:  -1679111749885.2969 ms\n",
      "part_time:  -1679112115616.5105 ms\n",
      "part_time:  -1679112717534.1433 ms\n",
      "part_time:  -1679113244051.8667 ms\n"
     ]
    }
   ],
   "source": [
    "print(\"full time: \", end_full-start_full * 10**3, 'ms')\n",
    "for s, e in zip(times_s, times_e):\n",
    "    print(\"part_time: \", e-s*10**3, 'ms')"
   ]
  },
  {
   "cell_type": "code",
   "execution_count": 146,
   "id": "7f62c2e9",
   "metadata": {},
   "outputs": [
    {
     "name": "stdout",
     "output_type": "stream",
     "text": [
      "[24.754546666666663, 21.348146666666672, 23.786640000000002, 22.004880000000004, 22.220613333333333, 21.69472, 21.895226666666666, 22.433933333333336]\n",
      "[804.5227600000001, 651.2407466666666, 836.8406933333333, 686.4733466666667, 667.6297999999999, 640.58992, 660.5141333333333, 701.7745733333334] \n",
      "\n",
      "[23.967293333333334, 22.181626666666666, 22.091613333333335, 22.197533333333332, 21.763093333333334, 21.489880000000003, 22.131093333333336, 22.677373333333335]\n",
      "[743.3247866666666, 728.66072, 709.4612, 706.5943466666666, 644.7516933333334, 636.9448666666666, 677.3634533333333, 716.4452800000001] \n",
      "\n",
      "[5.324866666666667, 4.41908, 4.680293333333333, 7.005186666666667, 4.61436, 4.284186666666667, 5.4085866666666655, 4.6239333333333335]\n",
      "[35.57966666666667, 29.55696, 28.21005333333333, 101.61714666666667, 31.718000000000004, 23.29781333333334, 42.687360000000005, 33.359626666666664] \n",
      "\n",
      "[5.341506666666667, 4.417786666666666, 4.853293333333332, 7.534613333333334, 4.806853333333334, 4.437546666666667, 5.3326, 4.6104666666666665]\n",
      "[36.152359999999994, 29.58882666666667, 30.114813333333345, 107.64986666666668, 32.88029333333333, 25.39673333333333, 43.08248, 35.87573333333333] \n",
      "\n"
     ]
    }
   ],
   "source": [
    "for a,e,i in zip(df_mae, df_mse, df_var_i):\n",
    "    print(a)\n",
    "    print(e, '\\n')\n",
    "    # print(i, '\\n')\n",
    "\n",
    "#print(df_mae)\n",
    "#print(df_mse)\n",
    "#print(df_vi)"
   ]
  },
  {
   "cell_type": "code",
   "execution_count": 147,
   "id": "5ea61422",
   "metadata": {},
   "outputs": [
    {
     "name": "stdout",
     "output_type": "stream",
     "text": [
      "               feature importance\n",
      "0  day_n_streams (t-1)        1.0\n",
      "--------------------------------------\n",
      "               feature importance\n",
      "0  day_n_streams (t-1)   0.504388\n",
      "1  day_n_streams (t-2)   0.495612\n",
      "--------------------------------------\n",
      "               feature importance\n",
      "0  day_n_streams (t-1)   0.352328\n",
      "1  day_n_streams (t-2)   0.332326\n",
      "2  day_n_streams (t-3)   0.315346\n",
      "--------------------------------------\n",
      "               feature importance\n",
      "0  day_n_streams (t-1)   0.287287\n",
      "1  day_n_streams (t-2)   0.248506\n",
      "2  day_n_streams (t-4)   0.230954\n",
      "3  day_n_streams (t-3)   0.233254\n",
      "--------------------------------------\n",
      "               feature importance\n",
      "0  day_n_streams (t-1)   0.243853\n",
      "1  day_n_streams (t-2)   0.204378\n",
      "2  day_n_streams (t-4)    0.18249\n",
      "3  day_n_streams (t-3)   0.189316\n",
      "4  day_n_streams (t-5)   0.179962\n",
      "--------------------------------------\n",
      "               feature importance\n",
      "0  day_n_streams (t-1)   0.213059\n",
      "1  day_n_streams (t-2)   0.170254\n",
      "2  day_n_streams (t-6)   0.152349\n",
      "3  day_n_streams (t-4)   0.156391\n",
      "4  day_n_streams (t-3)   0.145658\n",
      "5  day_n_streams (t-5)   0.162289\n",
      "--------------------------------------\n",
      "               feature importance\n",
      "0  day_n_streams (t-1)   0.189786\n",
      "1  day_n_streams (t-7)   0.145883\n",
      "2  day_n_streams (t-2)   0.127399\n",
      "3  day_n_streams (t-6)   0.129374\n",
      "4  day_n_streams (t-3)    0.11788\n",
      "5  day_n_streams (t-4)   0.136872\n",
      "6  day_n_streams (t-5)   0.152807\n",
      "--------------------------------------\n",
      "               feature importance\n",
      "0  day_n_streams (t-1)   0.173773\n",
      "1  day_n_streams (t-7)   0.126823\n",
      "2  day_n_streams (t-2)   0.110816\n",
      "3  day_n_streams (t-6)    0.11166\n",
      "4  day_n_streams (t-8)   0.102821\n",
      "5  day_n_streams (t-4)   0.120982\n",
      "6  day_n_streams (t-3)   0.131652\n",
      "7  day_n_streams (t-5)   0.121472\n",
      "--------------------------------------\n",
      "             feature importance\n",
      "0  day_n_songs (t-1)        1.0\n",
      "--------------------------------------\n",
      "             feature importance\n",
      "0  day_n_songs (t-2)   0.501933\n",
      "1  day_n_songs (t-1)   0.498067\n",
      "--------------------------------------\n",
      "             feature importance\n",
      "0  day_n_songs (t-1)   0.352115\n",
      "1  day_n_songs (t-2)   0.332305\n",
      "2  day_n_songs (t-3)    0.31558\n",
      "--------------------------------------\n",
      "             feature importance\n",
      "0  day_n_songs (t-1)   0.288617\n",
      "1  day_n_songs (t-2)   0.247069\n",
      "2  day_n_songs (t-4)   0.231392\n",
      "3  day_n_songs (t-3)   0.232923\n",
      "--------------------------------------\n",
      "             feature importance\n",
      "0  day_n_songs (t-1)   0.245377\n",
      "1  day_n_songs (t-2)   0.203107\n",
      "2  day_n_songs (t-4)    0.18308\n",
      "3  day_n_songs (t-3)   0.188995\n",
      "4  day_n_songs (t-5)   0.179443\n",
      "--------------------------------------\n",
      "             feature importance\n",
      "0  day_n_songs (t-1)   0.213851\n",
      "1  day_n_songs (t-2)    0.16954\n",
      "2  day_n_songs (t-6)   0.152066\n",
      "3  day_n_songs (t-4)    0.15773\n",
      "4  day_n_songs (t-3)   0.144449\n",
      "5  day_n_songs (t-5)   0.162364\n",
      "--------------------------------------\n",
      "             feature importance\n",
      "0  day_n_songs (t-1)   0.190827\n",
      "1  day_n_songs (t-7)   0.146067\n",
      "2  day_n_songs (t-2)   0.127216\n",
      "3  day_n_songs (t-6)   0.129849\n",
      "4  day_n_songs (t-3)   0.117392\n",
      "5  day_n_songs (t-4)   0.136745\n",
      "6  day_n_songs (t-5)   0.151903\n",
      "--------------------------------------\n",
      "             feature importance\n",
      "0  day_n_songs (t-1)   0.174481\n",
      "1  day_n_songs (t-7)   0.127117\n",
      "2  day_n_songs (t-6)   0.110306\n",
      "3  day_n_songs (t-2)   0.111948\n",
      "4  day_n_songs (t-8)    0.10192\n",
      "5  day_n_songs (t-3)   0.121234\n",
      "6  day_n_songs (t-4)   0.131673\n",
      "7  day_n_songs (t-5)   0.121321\n",
      "--------------------------------------\n",
      "                feature importance\n",
      "0  day_new_stream (t-1)        1.0\n",
      "--------------------------------------\n",
      "                feature importance\n",
      "0  day_new_stream (t-1)   0.522469\n",
      "1  day_new_stream (t-2)   0.477531\n",
      "--------------------------------------\n",
      "                feature importance\n",
      "0  day_new_stream (t-3)   0.326281\n",
      "1  day_new_stream (t-1)   0.316026\n",
      "2  day_new_stream (t-2)   0.357693\n",
      "--------------------------------------\n",
      "                feature importance\n",
      "0  day_new_stream (t-4)   0.235403\n",
      "1  day_new_stream (t-3)   0.246758\n",
      "2  day_new_stream (t-2)   0.248178\n",
      "3  day_new_stream (t-1)   0.269662\n",
      "--------------------------------------\n",
      "                feature importance\n",
      "0  day_new_stream (t-5)    0.18826\n",
      "1  day_new_stream (t-2)   0.202417\n",
      "2  day_new_stream (t-4)   0.197578\n",
      "3  day_new_stream (t-3)   0.200737\n",
      "4  day_new_stream (t-1)   0.211008\n",
      "--------------------------------------\n",
      "                feature importance\n",
      "0  day_new_stream (t-5)   0.162649\n",
      "1  day_new_stream (t-4)   0.169986\n",
      "2  day_new_stream (t-2)    0.16187\n",
      "3  day_new_stream (t-1)    0.17262\n",
      "4  day_new_stream (t-6)   0.177068\n",
      "5  day_new_stream (t-3)   0.155807\n",
      "--------------------------------------\n",
      "                feature importance\n",
      "0  day_new_stream (t-2)   0.144422\n",
      "1  day_new_stream (t-4)   0.143797\n",
      "2  day_new_stream (t-5)   0.138209\n",
      "3  day_new_stream (t-1)   0.147517\n",
      "4  day_new_stream (t-3)   0.150215\n",
      "5  day_new_stream (t-6)   0.136277\n",
      "6  day_new_stream (t-7)   0.139563\n",
      "--------------------------------------\n",
      "                feature importance\n",
      "0  day_new_stream (t-8)   0.126116\n",
      "1  day_new_stream (t-5)   0.121865\n",
      "2  day_new_stream (t-4)   0.120874\n",
      "3  day_new_stream (t-1)    0.13249\n",
      "4  day_new_stream (t-7)   0.130238\n",
      "5  day_new_stream (t-2)    0.11494\n",
      "6  day_new_stream (t-3)   0.119991\n",
      "7  day_new_stream (t-6)   0.133486\n",
      "--------------------------------------\n",
      "              feature importance\n",
      "0  day_new_song (t-1)        1.0\n",
      "--------------------------------------\n",
      "              feature importance\n",
      "0  day_new_song (t-1)   0.520966\n",
      "1  day_new_song (t-2)   0.479034\n",
      "--------------------------------------\n",
      "              feature importance\n",
      "0  day_new_song (t-3)   0.328484\n",
      "1  day_new_song (t-1)    0.31601\n",
      "2  day_new_song (t-2)   0.355506\n",
      "--------------------------------------\n",
      "              feature importance\n",
      "0  day_new_song (t-4)   0.237769\n",
      "1  day_new_song (t-1)   0.242405\n",
      "2  day_new_song (t-3)   0.248304\n",
      "3  day_new_song (t-2)   0.271521\n",
      "--------------------------------------\n",
      "              feature importance\n",
      "0  day_new_song (t-5)   0.189082\n",
      "1  day_new_song (t-2)   0.203056\n",
      "2  day_new_song (t-4)   0.196482\n",
      "3  day_new_song (t-3)   0.200177\n",
      "4  day_new_song (t-1)   0.211203\n",
      "--------------------------------------\n",
      "              feature importance\n",
      "0  day_new_song (t-5)   0.162485\n",
      "1  day_new_song (t-2)   0.171082\n",
      "2  day_new_song (t-4)   0.160159\n",
      "3  day_new_song (t-1)    0.17271\n",
      "4  day_new_song (t-6)   0.177204\n",
      "5  day_new_song (t-3)    0.15636\n",
      "--------------------------------------\n",
      "              feature importance\n",
      "0  day_new_song (t-4)   0.142919\n",
      "1  day_new_song (t-5)   0.146014\n",
      "2  day_new_song (t-1)   0.138039\n",
      "3  day_new_song (t-2)   0.148446\n",
      "4  day_new_song (t-3)   0.149918\n",
      "5  day_new_song (t-7)   0.135563\n",
      "6  day_new_song (t-6)   0.139101\n",
      "--------------------------------------\n",
      "              feature importance\n",
      "0  day_new_song (t-2)   0.126296\n",
      "1  day_new_song (t-8)   0.123759\n",
      "2  day_new_song (t-4)   0.119828\n",
      "3  day_new_song (t-1)   0.133129\n",
      "4  day_new_song (t-5)   0.130259\n",
      "5  day_new_song (t-7)   0.115076\n",
      "6  day_new_song (t-3)   0.118805\n",
      "7  day_new_song (t-6)   0.132849\n",
      "--------------------------------------\n"
     ]
    }
   ],
   "source": [
    "for i in df_var_i:\n",
    "    for j in i:\n",
    "        print(j)\n",
    "        print('--------------------------------------')"
   ]
  },
  {
   "cell_type": "markdown",
   "id": "965b8625",
   "metadata": {},
   "source": [
    "### <span style='background :lightgreen' > Cross Validation  </span>"
   ]
  },
  {
   "cell_type": "markdown",
   "id": "3019e9db",
   "metadata": {},
   "source": [
    "#### <span style='background :skyblue' > TSCV </span>"
   ]
  },
  {
   "cell_type": "code",
   "execution_count": 148,
   "id": "6358ea7e",
   "metadata": {
    "scrolled": true
   },
   "outputs": [
    {
     "name": "stdout",
     "output_type": "stream",
     "text": [
      "CPU times: total: 4h 33min 14s\n",
      "Wall time: 5h 30min 35s\n"
     ]
    }
   ],
   "source": [
    "%%time\n",
    "\n",
    "start_full_tscv = time.time()\n",
    "times_s_tscv = []\n",
    "times_e_tscv = []\n",
    "\n",
    "df_mae_tscv = []\n",
    "df_mse_tscv = []\n",
    "df_var_i_tscv = []\n",
    "\n",
    "\n",
    "for d in df_list:\n",
    "    start = time.time()\n",
    "    times_s_tscv.append(start)\n",
    "\n",
    "    lag_mae_tscv = []\n",
    "    lag_mse_tscv = []\n",
    "    lag_vi_tscv = []\n",
    "\n",
    "    # Diferent Lags Loop\n",
    "    for df_vi, lag_i in zip(d, range(len(d))):\n",
    "        sim_mae_tscv = []\n",
    "        sim_mse_tscv = []\n",
    "        sim_vi_tscv = []\n",
    "        \n",
    "        target = df_vi.columns[0]\n",
    "        \n",
    "        # Simulation Loop\n",
    "        for sim in range(n_sims_cv):\n",
    "            #print('-- Sim Nº', sim, '--\\n')\n",
    "            mae_tscv , mse_tscv, vi_tscv = tree_feature_importance_cv(df_vi, target = df_vi.columns[0], cv_split=n_splits_cv, r = 0)\n",
    "        \n",
    "            # Save data -- SIM\n",
    "            sim_mae_tscv.append(mae_tscv)\n",
    "            sim_mse_tscv.append(mse_tscv)\n",
    "            sim_vi_tscv.append(vi_tscv)\n",
    "        \n",
    "            #print('mae = ', mae)\n",
    "            #print('mse = ', mse)\n",
    "            #print('vi -- \\n', vi, '\\n')\n",
    "            #print('feature --\\n', vi['feature'], '\\n\\nimportance -- \\n', vi['importance'], '\\n\\n')\n",
    "    \n",
    "        #print('\\n\\nMean Evaluation LAGS ', lag_i , ' METRICS')\n",
    "        #print('MAE ', np.mean(sim_mae))\n",
    "        #print('MSE ', np.mean(sim_mse))\n",
    "\n",
    "        mean_sim_vi_tscv = pd.DataFrame(columns = ['feature', 'importance'])\n",
    "    \n",
    "        # Loop to make variable importance simulation mean\n",
    "        for i,col in zip(range(sim_vi_tscv[0].shape[0]), sim_vi_tscv[0]['feature']):\n",
    "            aux = []\n",
    "    \n",
    "            for j in range(n_sims):\n",
    "                aux.append(sim_vi_tscv[j]['importance'][i])\n",
    "    \n",
    "            mean_sim_vi_tscv.loc[i, 'feature'] = col\n",
    "            mean_sim_vi_tscv.loc[i, 'importance'] = np.mean(aux)\n",
    "\n",
    "        #print('\\n Mean Variable Importance LAGS DATAFRAMES \\n')\n",
    "        #mean_sim_vi.head()\n",
    "    \n",
    "        # Save Data -- LAG Loop\n",
    "        lag_mae_tscv.append(np.round(np.mean(sim_mae_tscv), 3))\n",
    "        lag_mse_tscv.append(np.round(np.mean(sim_mse_tscv), 3))\n",
    "        lag_vi_tscv.append(mean_sim_vi_tscv)\n",
    "    \n",
    "    # Save Data -- VARIABLES/FEATURES\n",
    "\n",
    "    #print(lag_mae)\n",
    "    #print(lag_mse)\n",
    "    #print(lag_vi)\n",
    "    \n",
    "    df_mae_tscv.append(lag_mae_tscv)\n",
    "    df_mse_tscv.append(lag_mse_tscv)\n",
    "    df_var_i_tscv.append(lag_vi_tscv)    \n",
    "    \n",
    "    end = time.time()\n",
    "    times_e_tscv.append(end)\n",
    "    \n",
    "end_full_tscv = time.time()"
   ]
  },
  {
   "cell_type": "code",
   "execution_count": 149,
   "id": "33b092b3",
   "metadata": {},
   "outputs": [
    {
     "name": "stdout",
     "output_type": "stream",
     "text": [
      "full time:  -1679111748246.0774 ms\n",
      "part_time:  -1679111749885.2969 ms\n",
      "part_time:  -1679112115616.5105 ms\n",
      "part_time:  -1679112717534.1433 ms\n",
      "part_time:  -1679113244051.8667 ms\n"
     ]
    }
   ],
   "source": [
    "print(\"full time: \", end_full-start_full * 10**3, 'ms')\n",
    "for s, e in zip(times_s, times_e):\n",
    "    print(\"part_time: \", e-s*10**3, 'ms')"
   ]
  },
  {
   "cell_type": "code",
   "execution_count": 150,
   "id": "6e526cbc",
   "metadata": {},
   "outputs": [
    {
     "name": "stdout",
     "output_type": "stream",
     "text": [
      "[24.528, 21.574, 23.488, 22.163, 22.009, 21.577, 21.816, 22.332]\n",
      "[799.881, 661.113, 829.586, 712.626, 663.408, 635.272, 663.162, 694.759] \n",
      "\n",
      "[23.736, 22.358, 22.101, 22.068, 21.502, 21.52, 22.054, 22.561]\n",
      "[737.859, 734.328, 723.154, 707.701, 639.334, 641.487, 675.728, 717.878] \n",
      "\n",
      "[5.315, 4.425, 4.701, 7.056, 4.592, 4.339, 5.375, 4.628]\n",
      "[35.487, 29.519, 28.632, 103.034, 31.25, 23.64, 42.018, 34.224] \n",
      "\n",
      "[5.337, 4.438, 4.843, 7.47, 4.833, 4.422, 5.292, 4.696]\n",
      "[36.179, 29.979, 30.004, 103.926, 32.948, 25.134, 42.342, 37.719] \n",
      "\n"
     ]
    }
   ],
   "source": [
    "for a,e,i in zip(df_mae_tscv, df_mse_tscv, df_var_i_tscv):\n",
    "    print(a)\n",
    "    print(e, '\\n')\n",
    "    # print(i, '\\n')\n",
    "\n",
    "#print(df_mae)\n",
    "#print(df_mse)\n",
    "#print(df_vi)"
   ]
  },
  {
   "cell_type": "markdown",
   "id": "aad3189f",
   "metadata": {},
   "source": [
    "#### <span style='background :skyblue' > BCV </span>"
   ]
  },
  {
   "cell_type": "code",
   "execution_count": 151,
   "id": "e568286b",
   "metadata": {},
   "outputs": [],
   "source": [
    "class BlockingTimeSeriesSplit():\n",
    "    def __init__(self, n_splits):\n",
    "        self.n_splits = n_splits\n",
    "    \n",
    "    def get_n_splits(self, X, y, groups):\n",
    "        return self.n_splits\n",
    "    \n",
    "    def split(self, X, y=None, groups=None):\n",
    "        n_samples = len(X)\n",
    "        k_fold_size = n_samples // self.n_splits\n",
    "        indices = np.arange(n_samples)\n",
    "\n",
    "        margin = 0\n",
    "        for i in range(self.n_splits):\n",
    "            start = i * k_fold_size\n",
    "            stop = start + k_fold_size\n",
    "            mid = int(0.999999 * (stop - start)) + start\n",
    "            yield indices[start: mid], indices[mid + margin: stop]"
   ]
  },
  {
   "cell_type": "code",
   "execution_count": 152,
   "id": "851118df",
   "metadata": {},
   "outputs": [
    {
     "name": "stdout",
     "output_type": "stream",
     "text": [
      "CPU times: total: 1h 8s\n",
      "Wall time: 1h 28s\n"
     ]
    }
   ],
   "source": [
    "%%time\n",
    "\n",
    "start_full_bcv = time.time()\n",
    "times_s_bcv = []\n",
    "times_e_bcv = []\n",
    "\n",
    "df_mae_bcv = []\n",
    "df_mse_bcv = []\n",
    "df_var_i_bcv = []\n",
    "\n",
    "for d in df_list:\n",
    "    start = time.time()\n",
    "    times_s_bcv.append(start)\n",
    "    \n",
    "    lag_mae_bcv = []\n",
    "    lag_mse_bcv = []\n",
    "    lag_vi_bcv = []\n",
    "    \n",
    "    # Diferent Lags Loop\n",
    "    for df_vi, lag_i in zip(d, range(len(d))):\n",
    "        sim_mae_bcv = []\n",
    "        sim_mse_bcv = []\n",
    "        sim_vi_bcv = []\n",
    "        \n",
    "        target_bcv = df_vi.columns[0]\n",
    "        \n",
    "        # Simulation Loop\n",
    "        for sim in range(n_sims_cv):\n",
    "            #print('-- Sim Nº', sim, '--\\n')\n",
    "            mae_bcv , mse_bcv, vi_bcv = tree_feature_importance_bcv(df_vi, target = df_vi.columns[0], cv_split=n_splits_cv, r = 0)\n",
    "        \n",
    "            # Save data -- SIM\n",
    "            sim_mae_bcv.append(mae_bcv)\n",
    "            sim_mse_bcv.append(mse_bcv)\n",
    "            sim_vi_bcv.append(vi_bcv)\n",
    "        \n",
    "            #print('mae = ', mae)\n",
    "            #print('mse = ', mse)\n",
    "            #print('vi -- \\n', vi, '\\n')\n",
    "            #print('feature --\\n', vi['feature'], '\\n\\nimportance -- \\n', vi['importance'], '\\n\\n')\n",
    "    \n",
    "        #print('\\n\\nMean Evaluation LAGS ', lag_i , ' METRICS')\n",
    "        #print('MAE ', np.mean(sim_mae))\n",
    "        #print('MSE ', np.mean(sim_mse))\n",
    "\n",
    "        mean_sim_vi_bcv = pd.DataFrame(columns = ['feature', 'importance'])\n",
    "    \n",
    "        # Loop to make variable importance simulation mean\n",
    "        for i,col in zip(range(sim_vi_bcv[0].shape[0]), sim_vi_bcv[0]['feature']):\n",
    "            aux = []\n",
    "    \n",
    "            for j in range(n_sims):\n",
    "                aux.append(sim_vi_bcv[j]['importance'][i])\n",
    "    \n",
    "            mean_sim_vi_bcv.loc[i, 'feature'] = col\n",
    "            mean_sim_vi_bcv.loc[i, 'importance'] = np.mean(aux)\n",
    "\n",
    "        #print('\\n Mean Variable Importance LAGS DATAFRAMES \\n')\n",
    "        #mean_sim_vi.head()\n",
    "    \n",
    "        # Save Data -- LAG Loop\n",
    "        lag_mae_bcv.append(np.round(np.mean(sim_mae_bcv), 3))\n",
    "        lag_mse_bcv.append(np.round(np.mean(sim_mse_bcv), 3))\n",
    "        lag_vi_bcv.append(mean_sim_vi_bcv)\n",
    "    \n",
    "    # Save Data -- VARIABLES/FEATURES\n",
    "\n",
    "    #print(lag_mae)\n",
    "    #print(lag_mse)\n",
    "    #print(lag_vi)\n",
    "    \n",
    "    df_mae_bcv.append(lag_mae_bcv)\n",
    "    df_mse_bcv.append(lag_mse_bcv)\n",
    "    df_var_i_bcv.append(lag_vi_bcv)    \n",
    "    \n",
    "    end = time.time()\n",
    "    times_e_bcv.append(end)\n",
    "    \n",
    "end_full_bcv = time.time()"
   ]
  },
  {
   "cell_type": "code",
   "execution_count": 153,
   "id": "0e2647a4",
   "metadata": {},
   "outputs": [
    {
     "name": "stdout",
     "output_type": "stream",
     "text": [
      "full time:  -1679133566803.0842 ms\n",
      "part_time:  -1679133569503.906 ms\n",
      "part_time:  -1679134499395.3323 ms\n",
      "part_time:  -1679135432523.469 ms\n",
      "part_time:  -1679136308555.5247 ms\n"
     ]
    }
   ],
   "source": [
    "print(\"full time: \", end_full_bcv-start_full_bcv * 10**3, 'ms')\n",
    "for s, e in zip(times_s_bcv, times_e_bcv):\n",
    "    print(\"part_time: \", e-s*10**3, 'ms')"
   ]
  },
  {
   "cell_type": "code",
   "execution_count": 154,
   "id": "281d4b28",
   "metadata": {},
   "outputs": [
    {
     "name": "stdout",
     "output_type": "stream",
     "text": [
      "[22.883, 16.12, 28.185, 16.667, 19.356, 21.184, 16.811, 33.006]\n",
      "[819.233, 410.846, 1366.259, 425.241, 586.643, 893.212, 381.166, 1460.626] \n",
      "\n",
      "[22.747, 17.755, 28.024, 15.895, 19.496, 20.373, 17.078, 32.409]\n",
      "[814.501, 476.317, 1335.797, 400.753, 621.277, 865.106, 390.293, 1422.949] \n",
      "\n",
      "[5.503, 6.692, 4.856, 7.159, 5.569, 5.11, 8.349, 8.029]\n",
      "[51.379, 85.019, 47.131, 121.856, 53.936, 36.038, 96.931, 107.805] \n",
      "\n",
      "[5.459, 6.734, 4.683, 7.418, 5.662, 5.135, 8.389, 8.095]\n",
      "[50.984, 83.992, 46.033, 124.47, 56.395, 36.35, 98.118, 110.475] \n",
      "\n"
     ]
    }
   ],
   "source": [
    "for a,e,i in zip(df_mae_bcv, df_mse_bcv, df_var_i_bcv):\n",
    "    print(a)\n",
    "    print(e, '\\n')\n",
    "    # print(i, '\\n')\n",
    "\n",
    "#print(df_mae)\n",
    "#print(df_mse)\n",
    "#print(df_vi)"
   ]
  },
  {
   "cell_type": "markdown",
   "id": "8489411c",
   "metadata": {},
   "source": [
    "# <span style='background :Beige' > For Computation Reason we compare and select the best CV Model </span>"
   ]
  },
  {
   "cell_type": "code",
   "execution_count": 155,
   "id": "c960493b",
   "metadata": {},
   "outputs": [],
   "source": [
    "# Studying mean MAES VALUES "
   ]
  },
  {
   "cell_type": "code",
   "execution_count": 156,
   "id": "fe0a0f9b",
   "metadata": {},
   "outputs": [
    {
     "name": "stdout",
     "output_type": "stream",
     "text": [
      "Full TSCV Mean:  13.72340625\n",
      "Full BCV Mean:  14.08846875\n",
      "Best Average Mean MAE == TSCV\n"
     ]
    },
    {
     "ename": "ValueError",
     "evalue": "not enough values to unpack (expected 3, got 2)",
     "output_type": "error",
     "traceback": [
      "\u001b[1;31m---------------------------------------------------------------------------\u001b[0m",
      "\u001b[1;31mValueError\u001b[0m                                Traceback (most recent call last)",
      "Input \u001b[1;32mIn [156]\u001b[0m, in \u001b[0;36m<cell line: 10>\u001b[1;34m()\u001b[0m\n\u001b[0;32m      7\u001b[0m     \u001b[38;5;28mprint\u001b[39m(\u001b[38;5;124m'\u001b[39m\u001b[38;5;124mBest Average Mean MAE == TSCV\u001b[39m\u001b[38;5;124m'\u001b[39m)\n\u001b[0;32m      9\u001b[0m counts \u001b[38;5;241m=\u001b[39m \u001b[38;5;241m0\u001b[39m\n\u001b[1;32m---> 10\u001b[0m \u001b[38;5;28;01mfor\u001b[39;00m a,e,i \u001b[38;5;129;01min\u001b[39;00m \u001b[38;5;28mzip\u001b[39m(df_mae_tscv, df_mae_bcv):\n\u001b[0;32m     11\u001b[0m     \u001b[38;5;28mprint\u001b[39m(\u001b[38;5;124m'\u001b[39m\u001b[38;5;124mPartial TSCV Mean: \u001b[39m\u001b[38;5;124m'\u001b[39m, np\u001b[38;5;241m.\u001b[39mmean(df_mae_tscv))\n\u001b[0;32m     12\u001b[0m     \u001b[38;5;28mprint\u001b[39m(\u001b[38;5;124m'\u001b[39m\u001b[38;5;124mPartial BCV Mean: \u001b[39m\u001b[38;5;124m'\u001b[39m, np\u001b[38;5;241m.\u001b[39mmean(df_mae_bcv))\n",
      "\u001b[1;31mValueError\u001b[0m: not enough values to unpack (expected 3, got 2)"
     ]
    }
   ],
   "source": [
    "print('Full TSCV Mean: ', np.mean(df_mae_tscv))\n",
    "print('Full BCV Mean: ', np.mean(df_mae_bcv))\n",
    "\n",
    "if(np.mean(df_mae_tscv) >= np.mean(df_mae_bcv)):\n",
    "    print('Best Average Mean MAE == BCV')\n",
    "else:\n",
    "    print('Best Average Mean MAE == TSCV')\n",
    "    \n",
    "counts = 0\n",
    "for a,e,i in zip(df_mae_tscv, df_mae_bcv):\n",
    "    print('Partial TSCV Mean: ', np.mean(df_mae_tscv))\n",
    "    print('Partial BCV Mean: ', np.mean(df_mae_bcv))\n",
    "    if(np.mean(df_mae_tscv) >= np.mean(df_mae_bcv)):\n",
    "        counts = counts+1\n",
    "    else:\n",
    "        counts = counts-1\n",
    "        \n",
    "print(counts)\n",
    "if(counts >= 0):\n",
    "    print('Best Option = BCV')\n",
    "else:\n",
    "    print('Best Option = TSCV')"
   ]
  },
  {
   "cell_type": "code",
   "execution_count": null,
   "id": "7b2db5fb",
   "metadata": {},
   "outputs": [],
   "source": [
    "# Studying mean MSE VALUES "
   ]
  },
  {
   "cell_type": "code",
   "execution_count": null,
   "id": "f0db8ea9",
   "metadata": {},
   "outputs": [],
   "source": [
    "print('Full TSCV Mean: ', np.mean(df_mse_tscv))\n",
    "print('Full BCV Mean: ', np.mean(df_mse_bcv))\n",
    "\n",
    "if(np.mean(df_mse_tscv) >= np.mean(df_mse_bcv)):\n",
    "    print('Best Average Mean MSE == BCV')\n",
    "else:\n",
    "    print('Best Average Mean MSE == TSCV')\n",
    "\n",
    "counts = 0\n",
    "for a,e,i in zip(df_mse_tscv, df_mse_bcv):\n",
    "    print('Partial TSCV Mean: ', np.mean(df_mse_tscv))\n",
    "    print('Partial BCV Mean: ', np.mean(df_mse_bcv))\n",
    "    if(np.mean(df_mse_tscv) >= np.mean(df_mse_bcv)):\n",
    "        counts = counts+1\n",
    "    else\n",
    "        counts = counts-1\n",
    "        \n",
    "print(counts)\n",
    "if(counts >= 0):\n",
    "    print('Best Option = BCV')\n",
    "else:\n",
    "    print('Best Option = TSCV')"
   ]
  },
  {
   "cell_type": "code",
   "execution_count": null,
   "id": "1306cec6",
   "metadata": {},
   "outputs": [],
   "source": [
    "# Studying times"
   ]
  },
  {
   "cell_type": "code",
   "execution_count": null,
   "id": "77f8c042",
   "metadata": {},
   "outputs": [],
   "source": [
    "full_tscv = end_full_tscv-start_full_tscv\n",
    "full_bcv = end_full_bcv-start_full_bcv\n",
    "\n",
    "print(\"full time TSCV: \", full_tscv * 10**3, 'ms')\n",
    "print(\"full time BCV: \", full_bcv * 10**3, 'ms')\n",
    "\n",
    "if(full_tscv = full_bcv):\n",
    "    print('Best Average Mean Time == BCV')\n",
    "else:\n",
    "    print('Best Average Mean Time == TSCV')\n",
    "    \n",
    "partial_tscv = []\n",
    "partial_bcv = []\n",
    "\n",
    "for s, e in zip(times_s_tscv, times_e_tscv):\n",
    "    partial_tscv.append(e-s)\n",
    "    \n",
    "for s, e in zip(times_s_bcv, times_e_bcv):\n",
    "    partial_bcv.append(e-s)\n",
    "    \n",
    "counts = 0\n",
    "for t, b in zip(partial_tscv, partial_bcv):\n",
    "    print('TSCV time = ', t*10**3, 'ms')\n",
    "    print('BCV time = ', b*10**3, 'ms')\n",
    "    if(t >= b):\n",
    "        counts = counts+1\n",
    "    else\n",
    "        counts = counts-1\n",
    "    \n",
    "print(counts)\n",
    "if(counts >= 0):\n",
    "    print('Best Option = BCV')\n",
    "else:\n",
    "    print('Best Option = TSCV')"
   ]
  },
  {
   "cell_type": "code",
   "execution_count": null,
   "id": "d4ac8226",
   "metadata": {},
   "outputs": [],
   "source": []
  },
  {
   "cell_type": "code",
   "execution_count": null,
   "id": "18d6cde6",
   "metadata": {},
   "outputs": [],
   "source": []
  },
  {
   "cell_type": "markdown",
   "id": "05f647d0",
   "metadata": {},
   "source": [
    "# <span style='background :Beige' > New DFs List with best Lags Selected </span>"
   ]
  },
  {
   "cell_type": "markdown",
   "id": "3ae63573",
   "metadata": {},
   "source": [
    "#### <span style='background :skyblue' > Studie Best Values each model predictions </span>"
   ]
  },
  {
   "cell_type": "markdown",
   "id": "3ba7c530",
   "metadata": {},
   "source": [
    "<span style='background :violet' >Original Predict -- Select Best Mae & Mse Result = NºLags for each DF Variable  </span>"
   ]
  },
  {
   "cell_type": "code",
   "execution_count": null,
   "id": "ff18a7a4",
   "metadata": {},
   "outputs": [],
   "source": [
    "best_res_mae = []\n",
    "best_res_mse = []\n",
    "ix_lags_mae = []\n",
    "ix_lags_mse = []\n",
    "\n",
    "# Block Cross Validation\n",
    "for d, mae, mse in zip(df_list, df_mae, df_mse):\n",
    "    best_res_mae.append(min(mae))\n",
    "    best_res_mse.append(min(mse))\n",
    "    \n",
    "    ix_lags_mae.append(mae.index(min(mae)))\n",
    "    ix_lags_mse.append(mse.index(min(mse)))\n",
    "\n",
    "    print(str(d[ix_lags_mae[-1]].columns[0]), ': \\n\\t - MAE: ix = ', ix_lags_mae[-1], ' --- val = ', best_res_mae[-1],\n",
    "         '\\n\\t - MSE: ix = ', ix_lags_mse[-1], ' --- val = ', best_res_mse[-1])"
   ]
  },
  {
   "cell_type": "markdown",
   "id": "67631737",
   "metadata": {},
   "source": [
    "<span style='background :violet' >TSCV -- Select Best Mae & Mse Result = NºLags for each DF Variable  </span>"
   ]
  },
  {
   "cell_type": "code",
   "execution_count": null,
   "id": "55b3eab1",
   "metadata": {},
   "outputs": [],
   "source": [
    "best_res_mae_tscv = []\n",
    "best_res_mse_tscv = []\n",
    "ix_lags_mae_tscv = []\n",
    "ix_lags_mse_tscv = []\n",
    "\n",
    "# Block Cross Validation\n",
    "for d, mae, mse in zip(df_list, df_mae_tscv, df_mse_tscv):\n",
    "    best_res_mae_tscv.append(min(mae))\n",
    "    best_res_mse_tscv.append(min(mse))\n",
    "    \n",
    "    ix_lags_mae_tscv.append(mae.index(min(mae)))\n",
    "    ix_lags_mse_tscv.append(mse.index(min(mse)))\n",
    "\n",
    "    print(str(d[ix_lags_mae_tscv[-1]].columns[0]), ': \\n\\t - MAE: ix = ', ix_lags_mae_tscv[-1], ' --- val = ', best_res_mae_tscv[-1],\n",
    "         '\\n\\t - MSE: ix = ', ix_lags_mse_tscv[-1], ' --- val = ', best_res_mse_tscv[-1])"
   ]
  },
  {
   "cell_type": "markdown",
   "id": "4a6f6a37",
   "metadata": {},
   "source": [
    "<span style='background :violet' >BCV -- Select Best Mae & Mse Result = NºLags for each DF Variable  </span>"
   ]
  },
  {
   "cell_type": "code",
   "execution_count": null,
   "id": "3751c7d1",
   "metadata": {
    "scrolled": true
   },
   "outputs": [],
   "source": [
    "best_res_mae_bcv = []\n",
    "best_res_mse_bcv = []\n",
    "ix_lags_mae_bcv = []\n",
    "ix_lags_mse_bcv = []\n",
    "\n",
    "# Block Cross Validation\n",
    "for d, mae, mse in zip(df_list, df_mae_bcv, df_mse_bcv):\n",
    "    best_res_mae_bcv.append(min(mae))\n",
    "    best_res_mse_bcv.append(min(mse))\n",
    "    \n",
    "    ix_lags_mae_bcv.append(mae.index(min(mae)))\n",
    "    ix_lags_mse_bcv.append(mse.index(min(mse)))\n",
    "\n",
    "    print(str(d[ix_lags_mae_bcv[-1]].columns[0]), ': \\n\\t - MAE: ix = ', ix_lags_mae_bcv[-1], ' --- val = ', best_res_mae_bcv[-1],\n",
    "         '\\n\\t - MSE: ix = ', ix_lags_mse_bcv[-1], ' --- val = ', best_res_mse_bcv[-1])"
   ]
  },
  {
   "cell_type": "markdown",
   "id": "da530ff3",
   "metadata": {},
   "source": [
    "#### <span style='background :skyblue' > Compare Global Results -- Mostly Caring About </span>"
   ]
  },
  {
   "cell_type": "code",
   "execution_count": null,
   "id": "4ffc46d0",
   "metadata": {},
   "outputs": [],
   "source": [
    "best_mae_res = []\n",
    "best_mse_res = []\n",
    "ix_lags_mae = []\n",
    "ix_lags_mse = []\n",
    "whoswhomae = []\n",
    "whoswhomse = []\n",
    "\n",
    "\n",
    "for d, mae_tscv, mse_tscv, mae_bcv, mse_bcv in zip(df_list, df_mae_tscv, df_mse_tscv, df_mae_bcv, df_mse_bcv):\n",
    "    \n",
    "    # Saving Best of all Mae Results and Index\n",
    "    if(min(mae_tscv) <= min(mae_bcv)):\n",
    "        best_mae_res.append(min(mae_tscv))\n",
    "        ix_lags_mae.append(mae_tscv.index(min(mae_tscv)))\n",
    "        whoswhomae.append('tscv')\n",
    "        \n",
    "    elif(min(mae_tscv) > min(mae_bcv)):\n",
    "        best_mae_res.append(min(mae_bcv))\n",
    "        ix_lags_mae.append(mae_bcv.index(min(mae_bcv)))\n",
    "        whoswhomae.append('bcv')\n",
    "        \n",
    "    # Saving Best of all Mse Results and Index\n",
    "    if(min(mse_tscv) <= min(mse_bcv)):\n",
    "        best_mse_res.append(min(mse_tscv))\n",
    "        ix_lags_mse.append(mse_tscv.index(min(mse_tscv)))\n",
    "        whoswhomse.append('tscv')\n",
    "        \n",
    "    elif(min(mse_tscv) > min(mse_bcv)):\n",
    "        best_mse_res.append(min(mse_bcv))\n",
    "        ix_lags_mse.append(mse_bcv.index(min(mse_bcv)))\n",
    "        whoswhomse.append('bcv')\n",
    "        \n",
    "    # Print Best Results and Indexes\n",
    "    print(str(d[ix_lags_mae[-1]].columns[0]), ': \\n\\t', whoswhomae[-1], '- MAE: ix = ', ix_lags_mae[-1], ' --- val = ', best_mae_res[-1],\n",
    "         '\\n\\t', whoswhomse[-1], '- MSE: ix = ', ix_lags_mse[-1], ' --- val = ', best_mse_res[-1])\n",
    "    \n",
    "    "
   ]
  },
  {
   "cell_type": "markdown",
   "id": "6a7e1f2d",
   "metadata": {},
   "source": [
    "# <span style='background :yellow' > Search Why Better or why we ussing MAE insted of MSE </span>\n"
   ]
  },
  {
   "cell_type": "markdown",
   "id": "b1033746",
   "metadata": {},
   "source": [
    "# <span style='background :yellow' > Compare Execution Time: TSCV Gets Better Results but in Execution and computation time BCV is much better 7 min to 22 min of tscv </span>\n"
   ]
  },
  {
   "cell_type": "markdown",
   "id": "2def9101",
   "metadata": {},
   "source": [
    "<span style='background :orange' > Who is worth and why ? </span>\n"
   ]
  },
  {
   "cell_type": "markdown",
   "id": "f9f057c0",
   "metadata": {},
   "source": [
    "#### <span style='background :skyblue' > Generate New Df List with the best lags assigned </span>"
   ]
  },
  {
   "cell_type": "code",
   "execution_count": null,
   "id": "1fab358c",
   "metadata": {},
   "outputs": [],
   "source": [
    "df_list_best_lags = []\n",
    "\n",
    "for d, i in zip(df_list, ix_lags_mae):\n",
    "    print(i)\n",
    "    df_list_best_lags.append(d[i])\n",
    "    print(d[i])"
   ]
  },
  {
   "cell_type": "code",
   "execution_count": null,
   "id": "b713e2b5",
   "metadata": {
    "scrolled": true
   },
   "outputs": [],
   "source": [
    "df_list_best_lags"
   ]
  },
  {
   "cell_type": "code",
   "execution_count": null,
   "id": "76d5636a",
   "metadata": {},
   "outputs": [],
   "source": [
    "df_list_best_lags[1].head(2)"
   ]
  },
  {
   "cell_type": "markdown",
   "id": "9a67ef14",
   "metadata": {},
   "source": [
    "<span style='background :violet' > Some Theory </span>"
   ]
  },
  {
   "cell_type": "markdown",
   "id": "a914844d",
   "metadata": {},
   "source": [
    "<span style='background :yellow' >Generate Lags for better predictions - VI.- VARIABLE IMPORTANCE\n",
    "\n",
    "<span style='background :yellow' >Creating lagged dataframes to inspect with the studied information of Autocorrelation and Partial Autocorrelation\n",
    "\n",
    "\n",
    "- <span style='background :yellow' > As we have studied Autocorrelation and Partial-Autocorrelation for all variables we can see best posible options for each variable:\n",
    "\n",
    "<span style='background :yellow' >Partial Autocorrelation <br/>\n",
    " - <span style='background :yellow' >day_n_stream = from 5 to 8 <br/>\n",
    " - <span style='background :yellow' >day_new_stream = from 3 to 8 <br/>\n",
    " - <span style='background :yellow' >day_n_song = same ass n_streams <br/>\n",
    " - <span style='background :yellow' >day_new_song = same as new_stream <br/>\n",
    "\n",
    "<span style='background :yellow' >We remove this variables because the baseline method already haves awesome results\n",
    "- <span style='background :yellow' >day_n_podcast = 1 or 2<br/>\n",
    "- <span style='background :yellow' >day_new_podcast = 1 <br/> </span>"
   ]
  },
  {
   "cell_type": "markdown",
   "id": "73e9f425",
   "metadata": {},
   "source": [
    "https://stackoverflow.com/questions/48818213/make-multiple-shifted-lagged-columns-in-pandas\n",
    "    \n",
    "https://pandas.pydata.org/docs/reference/api/pandas.DataFrame.assign.html\n",
    "        \n",
    "https://www.geeksforgeeks.org/what-does-the-double-star-operator-mean-in-python/"
   ]
  },
  {
   "cell_type": "code",
   "execution_count": null,
   "id": "c6673a6b",
   "metadata": {},
   "outputs": [],
   "source": []
  },
  {
   "cell_type": "markdown",
   "id": "394f9f3b",
   "metadata": {},
   "source": [
    "# <span style='background :Beige' > Time Features </span>"
   ]
  },
  {
   "cell_type": "markdown",
   "id": "0bc88e4b",
   "metadata": {},
   "source": [
    "### <span style='background :lightgreen' > Functions  </span>"
   ]
  },
  {
   "cell_type": "markdown",
   "id": "98e18651",
   "metadata": {},
   "source": [
    "<span style='background :violet' > Multiple TF - Function </span>"
   ]
  },
  {
   "cell_type": "code",
   "execution_count": null,
   "id": "1ab4e6e8",
   "metadata": {},
   "outputs": [],
   "source": [
    "def create_time_features(df, f=0):\n",
    "    df = df.copy()\n",
    "    if f == 0:\n",
    "        df['year'] = df.index.year\n",
    "        df['quarter'] = df.index.quarter\n",
    "        df['month'] = df.index.month\n",
    "        df['week'] = df.index.isocalendar().week\n",
    "        df['day'] = df.index.day\n",
    "        df['dayofyear'] = df.index.dayofyear\n",
    "        df['dayofweek'] = df.index.dayofweek\n",
    "    \n",
    "        df['is_month_end'] = df.index.is_month_end\n",
    "        df['is_month_start'] = df.index.is_month_start\n",
    "        df['is_cuarter_end'] = df.index.is_quarter_end\n",
    "        df['is_cuarter_start'] = df.index.is_quarter_start\n",
    "        df['is_year_start'] = df.index.is_year_start\n",
    "    \n",
    "    if f == 1:\n",
    "        df['year'] = df.index.year\n",
    "        df['quarter'] = df.index.quarter\n",
    "        df['month'] = df.index.month\n",
    "        df['week'] = df.index.isocalendar().week\n",
    "        df['day'] = df.index.day\n",
    "        df['dayofyear'] = df.index.dayofyear\n",
    "        df['dayofweek'] = df.index.dayofweek\n",
    "        \n",
    "    if f == 2:\n",
    "        df['day'] = df.index.day\n",
    "        df['dayofyear'] = df.index.dayofyear\n",
    "        df['dayofweek'] = df.index.dayofweek\n",
    "        df['year'] = df.index.year\n",
    "        \n",
    "        \n",
    "    return df"
   ]
  },
  {
   "cell_type": "markdown",
   "id": "a1b6550d",
   "metadata": {},
   "source": [
    "<span style='background :yellow' > 1.1.1.- Funcion que seleccion X numero de variables según un threshold de importancia </span>\n",
    "\n",
    "Por ejemplo: \n",
    "   - solo las variables que su VI >= 0.1\n",
    "   - Sumar VI de Variables, de mas importante a menos, hasta llegar a un VI_TOTAL >= 0.8 "
   ]
  },
  {
   "cell_type": "markdown",
   "id": "ebb3ef49",
   "metadata": {},
   "source": [
    "### <span style='background :lightgreen' > Generate TF to the Best Lag Dataframes  </span>"
   ]
  },
  {
   "cell_type": "code",
   "execution_count": null,
   "id": "4b23b04d",
   "metadata": {},
   "outputs": [],
   "source": [
    "# Create Time Features List - Splitt because it is more visual.\n",
    "df_list_tf0 = []\n",
    "df_list_tf1 = []\n",
    "df_list_tf2 = []"
   ]
  },
  {
   "cell_type": "code",
   "execution_count": null,
   "id": "736e3445",
   "metadata": {},
   "outputs": [],
   "source": [
    "# Generate Time Features\n",
    "for d in df_list_best_lags:\n",
    "    df_list_tf0.append(create_time_features(d))\n",
    "    df_list_tf1.append(create_time_features(d, f = 1))\n",
    "    df_list_tf2.append(create_time_features(d, f = 2))   "
   ]
  },
  {
   "cell_type": "code",
   "execution_count": null,
   "id": "b16719ac",
   "metadata": {
    "scrolled": true
   },
   "outputs": [],
   "source": [
    "df_list_tf0[1].head(2)"
   ]
  },
  {
   "cell_type": "markdown",
   "id": "cdd9455b",
   "metadata": {},
   "source": [
    "#### <span style='background :skyblue' > Full TF - Variable Importance </span>"
   ]
  },
  {
   "cell_type": "code",
   "execution_count": null,
   "id": "1c6c7d7a",
   "metadata": {},
   "outputs": [],
   "source": [
    "for d in df_list_tf0:\n",
    "    target = d.columns[0]\n",
    "    tree_feature_importance(d, target, split=1, plot = 0, r = 1)"
   ]
  },
  {
   "cell_type": "markdown",
   "id": "333f3c8f",
   "metadata": {},
   "source": [
    "<span style='background :orange' > Lags Always More Important than tf </span>"
   ]
  },
  {
   "cell_type": "markdown",
   "id": "cdbd6471",
   "metadata": {},
   "source": [
    "### <span style='background :lightgreen' > Base prediction </span>"
   ]
  },
  {
   "cell_type": "markdown",
   "id": "b019a39c",
   "metadata": {},
   "source": [
    "#### <span style='background :skyblue'> TF 0 </span>"
   ]
  },
  {
   "cell_type": "code",
   "execution_count": null,
   "id": "f8308d6e",
   "metadata": {},
   "outputs": [],
   "source": [
    "%%time\n",
    "\n",
    "df_mae_tf0 = []\n",
    "df_mse_tf0 = []\n",
    "df_var_i_tf0 = []\n",
    "\n",
    "# Dataframes Loop\n",
    "for d in df_list_tf0:\n",
    "    sim_mae_tf0 = []\n",
    "    sim_mse_tf0 = []\n",
    "    sim_vi_tf0 = []\n",
    "\n",
    "    target0 = d.columns[0]\n",
    "        \n",
    "    # Simulation Loop\n",
    "    for sim in range(n_sims):\n",
    "        #print('-- Sim Nº', sim, '--\\n')\n",
    "        mae0 , mse0, vi0 = tree_feature_importance(d, target0, split=n_splits, plot = 3, r = 1)\n",
    "        \n",
    "        # Save data -- SIM\n",
    "        sim_mae_tf0.append(mae0)\n",
    "        sim_mse_tf0.append(mse0)\n",
    "        sim_vi_tf0.append(vi0)\n",
    "        \n",
    "        #print('mae = ', mae)\n",
    "        #print('mse = ', mse)\n",
    "        #print('vi -- \\n', vi, '\\n')\n",
    "        #print('feature --\\n', vi['feature'], '\\n\\nimportance -- \\n', vi['importance'], '\\n\\n')\n",
    "    \n",
    "    #print('\\n\\nMean Evaluation SIM ', lag_i , ' METRICS')\n",
    "    #print('MAE ', np.mean(sim_mae))\n",
    "    #print('MSE ', np.mean(sim_mse))\n",
    "\n",
    "    mean_sim_vi0 = pd.DataFrame(columns = ['feature', 'importance'])\n",
    "    \n",
    "    # Loop to make variable importance simulation mean\n",
    "    for i,col in zip(range(sim_vi_tf0[0].shape[0]), sim_vi_tf0[0]['feature']):\n",
    "        aux = []\n",
    "    \n",
    "        for j in range(n_sims):\n",
    "            aux.append(sim_vi_tf0[j]['importance'][i])\n",
    "    \n",
    "        mean_sim_vi0.loc[i, 'feature'] = col\n",
    "        mean_sim_vi0.loc[i, 'importance'] = np.mean(aux)\n",
    "\n",
    "    #print('\\n Mean Variable Importance \\n')\n",
    "    #mean_sim_vi.head()\n",
    "    \n",
    "    # Save Data -- VARIABLES/FEATURES\n",
    "    df_mae_tf0.append(np.mean(sim_mae_tf0))\n",
    "    df_mse_tf0.append(np.mean(sim_mse_tf0))\n",
    "    df_var_i_tf0.append(mean_sim_vi0)"
   ]
  },
  {
   "cell_type": "markdown",
   "id": "2f53e0a6",
   "metadata": {},
   "source": [
    "#### <span style='background :skyblue'> TF 1 </span>"
   ]
  },
  {
   "cell_type": "code",
   "execution_count": null,
   "id": "3395a7d4",
   "metadata": {},
   "outputs": [],
   "source": [
    "%%time\n",
    "\n",
    "df_mae_tf1 = []\n",
    "df_mse_tf1 = []\n",
    "df_var_i_tf1 = []\n",
    "\n",
    "# Dataframes Loop\n",
    "for d in df_list_tf1:\n",
    "    sim_mae_tf1 = []\n",
    "    sim_mse_tf1 = []\n",
    "    sim_vi_tf1 = []\n",
    "\n",
    "    target1 = d.columns[0]\n",
    "        \n",
    "    # Simulation Loop\n",
    "    for sim in range(n_sims):\n",
    "        #print('-- Sim Nº', sim, '--\\n')\n",
    "        mae1 , mse1, vi1 = tree_feature_importance(d, target1, split=n_splits, plot = 3, r = 1)\n",
    "        \n",
    "        # Save data -- SIM\n",
    "        sim_mae_tf1.append(mae1)\n",
    "        sim_mse_tf1.append(mse1)\n",
    "        sim_vi_tf1.append(vi1)\n",
    "        \n",
    "        #print('mae = ', mae)\n",
    "        #print('mse = ', mse)\n",
    "        #print('vi -- \\n', vi, '\\n')\n",
    "        #print('feature --\\n', vi['feature'], '\\n\\nimportance -- \\n', vi['importance'], '\\n\\n')\n",
    "    \n",
    "    #print('\\n\\nMean Evaluation SIM ', lag_i , ' METRICS')\n",
    "    #print('MAE ', np.mean(sim_mae))\n",
    "    #print('MSE ', np.mean(sim_mse))\n",
    "\n",
    "    mean_sim_vi1 = pd.DataFrame(columns = ['feature', 'importance'])\n",
    "    \n",
    "    # Loop to make variable importance simulation mean\n",
    "    for i,col in zip(range(sim_vi_tf1[0].shape[0]), sim_vi_tf1[0]['feature']):\n",
    "        aux = []\n",
    "    \n",
    "        for j in range(n_sims):\n",
    "            aux.append(sim_vi_tf1[j]['importance'][i])\n",
    "    \n",
    "        mean_sim_vi1.loc[i, 'feature'] = col\n",
    "        mean_sim_vi1.loc[i, 'importance'] = np.mean(aux)\n",
    "\n",
    "    #print('\\n Mean Variable Importance \\n')\n",
    "    #mean_sim_vi.head()\n",
    "    \n",
    "    # Save Data -- VARIABLES/FEATURES\n",
    "    df_mae_tf1.append(np.mean(sim_mae_tf1))\n",
    "    df_mse_tf1.append(np.mean(sim_mse_tf1))\n",
    "    df_var_i_tf1.append(mean_sim_vi1)"
   ]
  },
  {
   "cell_type": "markdown",
   "id": "3dfbcfc6",
   "metadata": {},
   "source": [
    "#### <span style='background :skyblue'> TF 2 </span>"
   ]
  },
  {
   "cell_type": "code",
   "execution_count": null,
   "id": "c46f8981",
   "metadata": {},
   "outputs": [],
   "source": [
    "%%time\n",
    "\n",
    "df_mae_tf2 = []\n",
    "df_mse_tf2 = []\n",
    "df_var_i_tf2 = []\n",
    "\n",
    "# Dataframes Loop\n",
    "for d in df_list_tf2:\n",
    "    sim_mae_tf2 = []\n",
    "    sim_mse_tf2 = []\n",
    "    sim_vi_tf2 = []\n",
    "\n",
    "    target2 = d.columns[0]\n",
    "        \n",
    "    # Simulation Loop\n",
    "    for sim in range(n_sims):\n",
    "        #print('-- Sim Nº', sim, '--\\n')\n",
    "        mae2 , mse2, vi2 = tree_feature_importance(d, target2, split=n_splits, plot = 3, r = 1)\n",
    "        \n",
    "        # Save data -- SIM\n",
    "        sim_mae_tf2.append(mae2)\n",
    "        sim_mse_tf2.append(mse2)\n",
    "        sim_vi_tf2.append(vi2)\n",
    "        \n",
    "        #print('mae = ', mae)\n",
    "        #print('mse = ', mse)\n",
    "        #print('vi -- \\n', vi, '\\n')\n",
    "        #print('feature --\\n', vi['feature'], '\\n\\nimportance -- \\n', vi['importance'], '\\n\\n')\n",
    "    \n",
    "    #print('\\n\\nMean Evaluation SIM ', lag_i , ' METRICS')\n",
    "    #print('MAE ', np.mean(sim_mae))\n",
    "    #print('MSE ', np.mean(sim_mse))\n",
    "\n",
    "    mean_sim_vi2 = pd.DataFrame(columns = ['feature', 'importance'])\n",
    "    \n",
    "    # Loop to make variable importance simulation mean\n",
    "    for i,col in zip(range(sim_vi_tf2[0].shape[0]), sim_vi_tf2[0]['feature']):\n",
    "        aux = []\n",
    "    \n",
    "        for j in range(n_sims):\n",
    "            aux.append(sim_vi_tf2[j]['importance'][i])\n",
    "    \n",
    "        mean_sim_vi2.loc[i, 'feature'] = col\n",
    "        mean_sim_vi2.loc[i, 'importance'] = np.mean(aux)\n",
    "\n",
    "    #print('\\n Mean Variable Importance \\n')\n",
    "    #mean_sim_vi.head()\n",
    "    \n",
    "    # Save Data -- VARIABLES/FEATURES\n",
    "    df_mae_tf2.append(np.mean(sim_mae_tf2))\n",
    "    df_mse_tf2.append(np.mean(sim_mse_tf2))\n",
    "    df_var_i_tf2.append(mean_sim_vi2)"
   ]
  },
  {
   "cell_type": "markdown",
   "id": "e63bbbd6",
   "metadata": {},
   "source": [
    "<span style='background :Violet' > Global print of the 3 TF Basic Predictions </span>"
   ]
  },
  {
   "cell_type": "code",
   "execution_count": null,
   "id": "33e5d49c",
   "metadata": {},
   "outputs": [],
   "source": [
    "for d, mae, mse, d1, mae1, mse1, d2, mae2, mse2 in zip(df_list_tf0, df_mae_tf0, df_mae_tf0, df_list_tf1, df_mae_tf1, df_mse_tf1, df_list_tf2, df_mae_tf2, df_mse_tf2):\n",
    "    print('TF 0:',str(d.columns[0]), ': ', mae, ' --- ', mse)\n",
    "    print('TF 1:', str(d1.columns[0]), ': ', mae1, ' --- ', mse1)\n",
    "    print('TF 2:',str(d2.columns[0]), ': ', mae2, ' --- ', mse2)\n",
    "    print('\\n')"
   ]
  },
  {
   "cell_type": "markdown",
   "id": "388a7f13",
   "metadata": {},
   "source": [
    "### <span style='background :lightgreen' > Cross Validation  </span>"
   ]
  },
  {
   "cell_type": "markdown",
   "id": "f6096407",
   "metadata": {},
   "source": [
    "#### <span style='background :skyblue' > TSCV </span>"
   ]
  },
  {
   "cell_type": "markdown",
   "id": "024eb738",
   "metadata": {},
   "source": [
    "<span style='background :skyblue' > TF 0 </span>"
   ]
  },
  {
   "cell_type": "code",
   "execution_count": null,
   "id": "d1e85e57",
   "metadata": {},
   "outputs": [],
   "source": [
    "'''%%time\n",
    "\n",
    "df_mae_tf_0_tscv = []\n",
    "df_mse_tf_0_tscv = []\n",
    "df_var_i_tf_0_tscv = []\n",
    "\n",
    "# Dataframes Loop\n",
    "for d in df_list_tf0:\n",
    "    sim_mae_tf_0_tscv = []\n",
    "    sim_mse_tf_0_tscv = []\n",
    "    sim_vi_tf_0_tscv = []\n",
    "\n",
    "    target_0_tscv = d.columns[0]\n",
    "        \n",
    "    # Simulation Loop\n",
    "    for sim in range(n_sims_cv):\n",
    "        #print('-- Sim Nº', sim, '--\\n')\n",
    "        mae_0_tscv , mse_0_tscv, vi_0_tscv = tree_feature_importance_cv(d, target = d.columns[0], cv_split=n_splits_cv, r = 0)\n",
    "\n",
    "        # Save data -- SIM\n",
    "        sim_mae_tf_0_tscv.append(mae_0_tscv)\n",
    "        sim_mse_tf_0_tscv.append(mse_0_tscv)\n",
    "        sim_vi_tf_0_tscv.append(vi_0_tscv)\n",
    "        \n",
    "        #print('mae = ', mae)\n",
    "        #print('mse = ', mse)\n",
    "        #print('vi -- \\n', vi, '\\n')\n",
    "        #print('feature --\\n', vi['feature'], '\\n\\nimportance -- \\n', vi['importance'], '\\n\\n')\n",
    "    \n",
    "    #print('\\n\\nMean Evaluation SIM ', lag_i , ' METRICS')\n",
    "    #print('MAE ', np.mean(sim_mae))\n",
    "    #print('MSE ', np.mean(sim_mse))\n",
    "\n",
    "    mean_sim_vi_0_tscv = pd.DataFrame(columns = ['feature', 'importance'])\n",
    "    \n",
    "    # Loop to make variable importance simulation mean\n",
    "    for i,col in zip(range(sim_vi_tf_0_tscv[0].shape[0]), sim_vi_tf_0_tscv[0]['feature']):\n",
    "        aux = []\n",
    "    \n",
    "        for j in range(n_sims):\n",
    "            aux.append(sim_vi_tf_0_tscv[j]['importance'][i])\n",
    "    \n",
    "        mean_sim_vi_0_tscv.loc[i, 'feature'] = col\n",
    "        mean_sim_vi_0_tscv.loc[i, 'importance'] = np.mean(aux)\n",
    "\n",
    "    #print('\\n Mean Variable Importance \\n')\n",
    "    #mean_sim_vi.head()\n",
    "    \n",
    "    # Save Data -- VARIABLES/FEATURES\n",
    "    df_mae_tf_0_tscv.append(np.mean(sim_mae_tf_0_tscv))\n",
    "    df_mse_tf_0_tscv.append(np.mean(sim_mse_tf_0_tscv))\n",
    "    df_var_i_tf_0_tscv.append(mean_sim_vi_0_tscv)'''"
   ]
  },
  {
   "cell_type": "markdown",
   "id": "c309e15c",
   "metadata": {},
   "source": [
    "<span style='background :skyblue' > TF 1 </span>"
   ]
  },
  {
   "cell_type": "code",
   "execution_count": null,
   "id": "f3e05a90",
   "metadata": {},
   "outputs": [],
   "source": [
    "'''%%time\n",
    "\n",
    "df_mae_tf_1_tscv = []\n",
    "df_mse_tf_1_tscv = []\n",
    "df_var_i_tf_1_tscv = []\n",
    "\n",
    "# Dataframes Loop\n",
    "for d in df_list_tf1:\n",
    "    sim_mae_tf_1_tscv = []\n",
    "    sim_mse_tf_1_tscv = []\n",
    "    sim_vi_tf_1_tscv = []\n",
    "\n",
    "    target_1_tscv = d.columns[0]\n",
    "        \n",
    "    # Simulation Loop\n",
    "    for sim in range(n_sims_cv):\n",
    "        #print('-- Sim Nº', sim, '--\\n')\n",
    "        mae_1_tscv , mse_1_tscv, vi_1_tscv = tree_feature_importance_cv(d, target = d.columns[0], cv_split=n_splits_cv, r = 0)\n",
    "\n",
    "        # Save data -- SIM\n",
    "        sim_mae_tf_1_tscv.append(mae_1_tscv)\n",
    "        sim_mse_tf_1_tscv.append(mse_1_tscv)\n",
    "        sim_vi_tf_1_tscv.append(vi_1_tscv)\n",
    "        \n",
    "        #print('mae = ', mae)\n",
    "        #print('mse = ', mse)\n",
    "        #print('vi -- \\n', vi, '\\n')\n",
    "        #print('feature --\\n', vi['feature'], '\\n\\nimportance -- \\n', vi['importance'], '\\n\\n')\n",
    "    \n",
    "    #print('\\n\\nMean Evaluation SIM ', lag_i , ' METRICS')\n",
    "    #print('MAE ', np.mean(sim_mae))\n",
    "    #print('MSE ', np.mean(sim_mse))\n",
    "\n",
    "    mean_sim_vi_1_tscv = pd.DataFrame(columns = ['feature', 'importance'])\n",
    "    \n",
    "    # Loop to make variable importance simulation mean\n",
    "    for i,col in zip(range(sim_vi_tf_1_tscv[0].shape[0]), sim_vi_tf_1_tscv[0]['feature']):\n",
    "        aux = []\n",
    "    \n",
    "        for j in range(n_sims):\n",
    "            aux.append(sim_vi_tf_1_tscv[j]['importance'][i])\n",
    "    \n",
    "        mean_sim_vi_1_tscv.loc[i, 'feature'] = col\n",
    "        mean_sim_vi_1_tscv.loc[i, 'importance'] = np.mean(aux)\n",
    "\n",
    "    #print('\\n Mean Variable Importance \\n')\n",
    "    #mean_sim_vi.head()\n",
    "    \n",
    "    # Save Data -- VARIABLES/FEATURES\n",
    "    df_mae_tf_1_tscv.append(np.mean(sim_mae_tf_1_tscv))\n",
    "    df_mse_tf_1_tscv.append(np.mean(sim_mse_tf_1_tscv))\n",
    "    df_var_i_tf_1_tscv.append(mean_sim_vi_1_tscv)'''"
   ]
  },
  {
   "cell_type": "markdown",
   "id": "88278e2a",
   "metadata": {},
   "source": [
    "<span style='background :skyblue' > TF 2 </span>"
   ]
  },
  {
   "cell_type": "code",
   "execution_count": null,
   "id": "49d771cf",
   "metadata": {},
   "outputs": [],
   "source": [
    "'''%%time\n",
    "\n",
    "df_mae_tf_2_tscv = []\n",
    "df_mse_tf_2_tscv = []\n",
    "df_var_i_tf_2_tscv = []\n",
    "\n",
    "# Dataframes Loop\n",
    "for d in df_list_tf2:\n",
    "    sim_mae_tf_2_tscv = []\n",
    "    sim_mse_tf_2_tscv = []\n",
    "    sim_vi_tf_2_tscv = []\n",
    "\n",
    "    target_2_tscv = d.columns[0]\n",
    "        \n",
    "    # Simulation Loop\n",
    "    for sim in range(n_sims_cv):\n",
    "        #print('-- Sim Nº', sim, '--\\n')\n",
    "        mae_2_tscv , mse_2_tscv, vi_2_tscv = tree_feature_importance_cv(d, target = d.columns[0], cv_split=n_splits_cv, r = 0)\n",
    "\n",
    "        # Save data -- SIM\n",
    "        sim_mae_tf_2_tscv.append(mae_2_tscv)\n",
    "        sim_mse_tf_2_tscv.append(mse_2_tscv)\n",
    "        sim_vi_tf_2_tscv.append(vi_2_tscv)\n",
    "        \n",
    "        #print('mae = ', mae)\n",
    "        #print('mse = ', mse)\n",
    "        #print('vi -- \\n', vi, '\\n')\n",
    "        #print('feature --\\n', vi['feature'], '\\n\\nimportance -- \\n', vi['importance'], '\\n\\n')\n",
    "    \n",
    "    #print('\\n\\nMean Evaluation SIM ', lag_i , ' METRICS')\n",
    "    #print('MAE ', np.mean(sim_mae))\n",
    "    #print('MSE ', np.mean(sim_mse))\n",
    "\n",
    "    mean_sim_vi_2_tscv = pd.DataFrame(columns = ['feature', 'importance'])\n",
    "    \n",
    "    # Loop to make variable importance simulation mean\n",
    "    for i,col in zip(range(sim_vi_tf_2_tscv[0].shape[0]), sim_vi_tf_2_tscv[0]['feature']):\n",
    "        aux = []\n",
    "    \n",
    "        for j in range(n_sims):\n",
    "            aux.append(sim_vi_tf_2_tscv[j]['importance'][i])\n",
    "    \n",
    "        mean_sim_vi_2_tscv.loc[i, 'feature'] = col\n",
    "        mean_sim_vi_2_tscv.loc[i, 'importance'] = np.mean(aux)\n",
    "\n",
    "    #print('\\n Mean Variable Importance \\n')\n",
    "    #mean_sim_vi.head()\n",
    "    \n",
    "    # Save Data -- VARIABLES/FEATURES\n",
    "    df_mae_tf_2_tscv.append(np.mean(sim_mae_tf_2_tscv))\n",
    "    df_mse_tf_2_tscv.append(np.mean(sim_mse_tf_2_tscv))\n",
    "    df_var_i_tf_2_tscv.append(mean_sim_vi_2_tscv)'''"
   ]
  },
  {
   "cell_type": "markdown",
   "id": "73aff442",
   "metadata": {},
   "source": [
    "#### <span style='background :skyblue' > BCV </span>"
   ]
  },
  {
   "cell_type": "markdown",
   "id": "9b018e54",
   "metadata": {},
   "source": [
    "<span style='background :skyblue' > TF 0 </span>"
   ]
  },
  {
   "cell_type": "code",
   "execution_count": null,
   "id": "70dc4b6f",
   "metadata": {},
   "outputs": [],
   "source": [
    "%%time\n",
    "\n",
    "df_mae_tf_0_bcv = []\n",
    "df_mse_tf_0_bcv = []\n",
    "df_var_i_tf_0_bcv = []\n",
    "\n",
    "# Dataframes Loop\n",
    "for d in df_list_tf0:\n",
    "    sim_mae_tf_0_bcv = []\n",
    "    sim_mse_tf_0_bcv = []\n",
    "    sim_vi_tf_0_bcv = []\n",
    "\n",
    "    target_0_bcv = d.columns[0]\n",
    "        \n",
    "    # Simulation Loop\n",
    "    for sim in range(n_sims_cv):\n",
    "        #print('-- Sim Nº', sim, '--\\n')\n",
    "        mae_0_bcv , mse_0_bcv, vi_0_bcv = tree_feature_importance_bcv(d, target = d.columns[0], cv_split=n_splits_cv, r = 0)\n",
    "\n",
    "        # Save data -- SIM\n",
    "        sim_mae_tf_0_bcv.append(mae_0_bcv)\n",
    "        sim_mse_tf_0_bcv.append(mse_0_bcv)\n",
    "        sim_vi_tf_0_bcv.append(vi_0_bcv)\n",
    "        \n",
    "        #print('mae = ', mae)\n",
    "        #print('mse = ', mse)\n",
    "        #print('vi -- \\n', vi, '\\n')\n",
    "        #print('feature --\\n', vi['feature'], '\\n\\nimportance -- \\n', vi['importance'], '\\n\\n')\n",
    "    \n",
    "    #print('\\n\\nMean Evaluation SIM ', lag_i , ' METRICS')\n",
    "    #print('MAE ', np.mean(sim_mae))\n",
    "    #print('MSE ', np.mean(sim_mse))\n",
    "\n",
    "    mean_sim_vi_0_bcv = pd.DataFrame(columns = ['feature', 'importance'])\n",
    "    \n",
    "    # Loop to make variable importance simulation mean\n",
    "    for i,col in zip(range(sim_vi_tf_0_bcv[0].shape[0]), sim_vi_tf_0_bcv[0]['feature']):\n",
    "        aux = []\n",
    "    \n",
    "        for j in range(n_sims):\n",
    "            aux.append(sim_vi_tf_0_bcv[j]['importance'][i])\n",
    "    \n",
    "        mean_sim_vi_0_bcv.loc[i, 'feature'] = col\n",
    "        mean_sim_vi_0_bcv.loc[i, 'importance'] = np.mean(aux)\n",
    "\n",
    "    #print('\\n Mean Variable Importance \\n')\n",
    "    #mean_sim_vi.head()\n",
    "    \n",
    "    # Save Data -- VARIABLES/FEATURES\n",
    "    df_mae_tf_0_bcv.append(np.mean(sim_mae_tf_0_bcv))\n",
    "    df_mse_tf_0_bcv.append(np.mean(sim_mse_tf_0_bcv))\n",
    "    df_var_i_tf_0_bcv.append(mean_sim_vi_0_bcv)"
   ]
  },
  {
   "cell_type": "markdown",
   "id": "622d9140",
   "metadata": {},
   "source": [
    "<span style='background :skyblue' > TF 1 </span>"
   ]
  },
  {
   "cell_type": "code",
   "execution_count": null,
   "id": "c2e950a2",
   "metadata": {
    "scrolled": true
   },
   "outputs": [],
   "source": [
    "%%time\n",
    "\n",
    "df_mae_tf_1_bcv = []\n",
    "df_mse_tf_1_bcv = []\n",
    "df_var_i_tf_1_bcv = []\n",
    "\n",
    "# Dataframes Loop\n",
    "for d in df_list_tf1:\n",
    "    sim_mae_tf_1_bcv = []\n",
    "    sim_mse_tf_1_bcv = []\n",
    "    sim_vi_tf_1_bcv = []\n",
    "\n",
    "    target_1_bcv = d.columns[0]\n",
    "        \n",
    "    # Simulation Loop\n",
    "    for sim in range(n_sims_cv):\n",
    "        #print('-- Sim Nº', sim, '--\\n')\n",
    "        mae_1_bcv , mse_1_bcv, vi_1_bcv = tree_feature_importance_bcv(d, target = d.columns[0], cv_split=n_splits_cv, r = 0)\n",
    "\n",
    "        # Save data -- SIM\n",
    "        sim_mae_tf_1_bcv.append(mae_1_bcv)\n",
    "        sim_mse_tf_1_bcv.append(mse_1_bcv)\n",
    "        sim_vi_tf_1_bcv.append(vi_1_bcv)\n",
    "        \n",
    "        #print('mae = ', mae)\n",
    "        #print('mse = ', mse)\n",
    "        #print('vi -- \\n', vi, '\\n')\n",
    "        #print('feature --\\n', vi['feature'], '\\n\\nimportance -- \\n', vi['importance'], '\\n\\n')\n",
    "    \n",
    "    #print('\\n\\nMean Evaluation SIM ', lag_i , ' METRICS')\n",
    "    #print('MAE ', np.mean(sim_mae))\n",
    "    #print('MSE ', np.mean(sim_mse))\n",
    "\n",
    "    mean_sim_vi_1_bcv = pd.DataFrame(columns = ['feature', 'importance'])\n",
    "    \n",
    "    # Loop to make variable importance simulation mean\n",
    "    for i,col in zip(range(sim_vi_tf_1_bcv[0].shape[0]), sim_vi_tf_1_bcv[0]['feature']):\n",
    "        aux = []\n",
    "    \n",
    "        for j in range(n_sims):\n",
    "            aux.append(sim_vi_tf_1_bcv[j]['importance'][i])\n",
    "    \n",
    "        mean_sim_vi_1_bcv.loc[i, 'feature'] = col\n",
    "        mean_sim_vi_1_bcv.loc[i, 'importance'] = np.mean(aux)\n",
    "\n",
    "    #print('\\n Mean Variable Importance \\n')\n",
    "    #mean_sim_vi.head()\n",
    "    \n",
    "    # Save Data -- VARIABLES/FEATURES\n",
    "    df_mae_tf_1_bcv.append(np.mean(sim_mae_tf_1_bcv))\n",
    "    df_mse_tf_1_bcv.append(np.mean(sim_mse_tf_1_bcv))\n",
    "    df_var_i_tf_1_bcv.append(mean_sim_vi_1_bcv)"
   ]
  },
  {
   "cell_type": "markdown",
   "id": "6ff8c09d",
   "metadata": {},
   "source": [
    "<span style='background :skyblue' > TF 2 </span>"
   ]
  },
  {
   "cell_type": "code",
   "execution_count": null,
   "id": "57950f82",
   "metadata": {},
   "outputs": [],
   "source": [
    "%%time\n",
    "\n",
    "df_mae_tf_2_bcv = []\n",
    "df_mse_tf_2_bcv = []\n",
    "df_var_i_tf_2_bcv = []\n",
    "\n",
    "# Dataframes Loop\n",
    "for d in df_list_tf2:\n",
    "    sim_mae_tf_2_bcv = []\n",
    "    sim_mse_tf_2_bcv = []\n",
    "    sim_vi_tf_2_bcv = []\n",
    "\n",
    "    target_2_bcv = d.columns[0]\n",
    "        \n",
    "    # Simulation Loop\n",
    "    for sim in range(n_sims_cv):\n",
    "        #print('-- Sim Nº', sim, '--\\n')\n",
    "        mae_2_bcv , mse_2_bcv, vi_2_bcv = tree_feature_importance_bcv(d, target = d.columns[0], cv_split=n_splits_cv, r = 0)\n",
    "\n",
    "        # Save data -- SIM\n",
    "        sim_mae_tf_2_bcv.append(mae_2_bcv)\n",
    "        sim_mse_tf_2_bcv.append(mse_2_bcv)\n",
    "        sim_vi_tf_2_bcv.append(vi_2_bcv)\n",
    "        \n",
    "        #print('mae = ', mae)\n",
    "        #print('mse = ', mse)\n",
    "        #print('vi -- \\n', vi, '\\n')\n",
    "        #print('feature --\\n', vi['feature'], '\\n\\nimportance -- \\n', vi['importance'], '\\n\\n')\n",
    "    \n",
    "    #print('\\n\\nMean Evaluation SIM ', lag_i , ' METRICS')\n",
    "    #print('MAE ', np.mean(sim_mae))\n",
    "    #print('MSE ', np.mean(sim_mse))\n",
    "\n",
    "    mean_sim_vi_2_bcv = pd.DataFrame(columns = ['feature', 'importance'])\n",
    "    \n",
    "    # Loop to make variable importance simulation mean\n",
    "    for i,col in zip(range(sim_vi_tf_2_bcv[0].shape[0]), sim_vi_tf_2_bcv[0]['feature']):\n",
    "        aux = []\n",
    "    \n",
    "        for j in range(n_sims):\n",
    "            aux.append(sim_vi_tf_2_bcv[j]['importance'][i])\n",
    "    \n",
    "        mean_sim_vi_2_bcv.loc[i, 'feature'] = col\n",
    "        mean_sim_vi_2_bcv.loc[i, 'importance'] = np.mean(aux)\n",
    "\n",
    "    #print('\\n Mean Variable Importance \\n')\n",
    "    #mean_sim_vi.head()\n",
    "    \n",
    "    # Save Data -- VARIABLES/FEATURES\n",
    "    df_mae_tf_2_bcv.append(np.mean(sim_mae_tf_2_bcv))\n",
    "    df_mse_tf_2_bcv.append(np.mean(sim_mse_tf_2_bcv))\n",
    "    df_var_i_tf_2_bcv.append(mean_sim_vi_2_bcv)"
   ]
  },
  {
   "cell_type": "markdown",
   "id": "ccfd87f5",
   "metadata": {},
   "source": [
    "# <span style='background :orange' > Check Results of TFs Predictions </span>"
   ]
  },
  {
   "cell_type": "markdown",
   "id": "ae1bb6f4",
   "metadata": {},
   "source": [
    "#### <span style='background :skyblue' > Best Result For each prediction precedure </span>"
   ]
  },
  {
   "cell_type": "markdown",
   "id": "5fe48608",
   "metadata": {},
   "source": [
    "<span style='background :violet' > Base Prediction </span>"
   ]
  },
  {
   "cell_type": "code",
   "execution_count": null,
   "id": "1404d7fa",
   "metadata": {},
   "outputs": [],
   "source": [
    "for d, mae, mse, d1, mae1, mse1, d2, mae2, mse2 in zip(df_list_tf0, df_mae_tf0, df_mae_tf0, df_list_tf1, df_mae_tf1, df_mse_tf1, df_list_tf2, df_mae_tf2, df_mse_tf2):\n",
    "    print('TF 0:',str(d.columns[0]), ': ', mae, ' --- ', mse)\n",
    "    print('TF 1:', str(d1.columns[0]), ': ', mae1, ' --- ', mse1)\n",
    "    print('TF 2:',str(d2.columns[0]), ': ', mae2, ' --- ', mse2)\n",
    "    print('\\n')"
   ]
  },
  {
   "cell_type": "markdown",
   "id": "328031ca",
   "metadata": {},
   "source": [
    "<span style='background :violet' > TSCV </span>"
   ]
  },
  {
   "cell_type": "code",
   "execution_count": null,
   "id": "5a548da1",
   "metadata": {
    "scrolled": true
   },
   "outputs": [],
   "source": [
    "'''for d, mae, mse, d1, mae1, mse1, d2, mae2, mse2 in zip(df_list_tf0, df_mae_tf_0_tscv, df_mse_tf_0_tscv, df_list_tf1, df_mae_tf_1_tscv, df_mse_tf_1_tscv, df_list_tf2, df_mae_tf_2_tscv, df_mse_tf_2_tscv):\n",
    "    print('TF 0 TSCV:',str(d.columns[0]), ': ', mae, ' --- ', mse)\n",
    "    print('TF 1 TSCV:', str(d1.columns[0]), ': ', mae1, ' --- ', mse1)\n",
    "    print('TF 2 TSCV:',str(d2.columns[0]), ': ', mae2, ' --- ', mse2)\n",
    "    print('\\n')'''"
   ]
  },
  {
   "cell_type": "markdown",
   "id": "62473c96",
   "metadata": {},
   "source": [
    "<span style='background :violet' > BCV </span>"
   ]
  },
  {
   "cell_type": "code",
   "execution_count": null,
   "id": "56b0453f",
   "metadata": {},
   "outputs": [],
   "source": [
    "for d, mae, mse, d1, mae1, mse1, d2, mae2, mse2 in zip(df_list_tf0, df_mae_tf_0_bcv, df_mse_tf_0_bcv, df_list_tf1, df_mae_tf_1_bcv, df_mse_tf_1_bcv, df_list_tf2, df_mae_tf_2_bcv, df_mse_tf_2_bcv):\n",
    "    print('TF 0 BCV:',str(d.columns[0]), ': ', mae, ' --- ', mse)\n",
    "    print('TF 1 BCV:', str(d1.columns[0]), ': ', mae1, ' --- ', mse1)\n",
    "    print('TF 2 BCV:',str(d2.columns[0]), ': ', mae2, ' --- ', mse2)\n",
    "    print('\\n')"
   ]
  },
  {
   "cell_type": "markdown",
   "id": "194b0777",
   "metadata": {},
   "source": [
    "#### <span style='background :skyblue' > Find Best Result Between CVs Predictions </span>"
   ]
  },
  {
   "cell_type": "markdown",
   "id": "a287cce6",
   "metadata": {},
   "source": [
    "<span style='background :violet' > Average - Means for each type of TFs  </span>"
   ]
  },
  {
   "cell_type": "code",
   "execution_count": null,
   "id": "88da3015",
   "metadata": {},
   "outputs": [],
   "source": [
    "'''print('Average: ')\n",
    "print('\\t MAE')\n",
    "print('\\t\\t TSCV 0 - ', np.mean(df_mae_tf_0_tscv), '\\t BCV 0 - ', np.mean(df_mae_tf_0_bcv))\n",
    "print('\\t\\t TSCV 1 - ', np.mean(df_mae_tf_1_tscv), '\\t BCV 1 - ', np.mean(df_mae_tf_1_bcv))\n",
    "print('\\t\\t TSCV 2 - ', np.mean(df_mae_tf_2_tscv), '\\t BCV 2 - ', np.mean(df_mae_tf_2_bcv))\n",
    "print('\\t MSE')\n",
    "print('\\t\\t TSCV 0 - ', np.mean(df_mse_tf_0_tscv), '\\t BCV 0 - ', np.mean(df_mse_tf_0_bcv))\n",
    "print('\\t\\t TSCV 1 - ', np.mean(df_mse_tf_1_tscv), '\\t BCV 1 - ', np.mean(df_mse_tf_1_bcv))\n",
    "print('\\t\\t TSCV 2 - ', np.mean(df_mse_tf_2_tscv), '\\t BCV 2 - ', np.mean(df_mse_tf_2_bcv))'''"
   ]
  },
  {
   "cell_type": "markdown",
   "id": "38740d77",
   "metadata": {},
   "source": [
    "<span style='background :violet' > Average Best performance CV Model  </span>"
   ]
  },
  {
   "cell_type": "code",
   "execution_count": null,
   "id": "b6f59f76",
   "metadata": {},
   "outputs": [],
   "source": [
    "'''print('Punctiation sistem: ')\n",
    "bm = 0\n",
    "tm = 0\n",
    "bs = 0\n",
    "ts = 0\n",
    "\n",
    "# Mae\n",
    "if(np.mean(df_mae_tf_0_bcv) <= np.mean(df_mae_tf_0_tscv)):\n",
    "    bm = bm+1\n",
    "else:\n",
    "    tm = tm+1\n",
    "    \n",
    "if(np.mean(df_mae_tf_1_bcv) <= np.mean(df_mae_tf_1_tscv)):\n",
    "    bm = bm+1\n",
    "else:\n",
    "    tm = tm+1\n",
    "    \n",
    "if(np.mean(df_mae_tf_2_bcv) <= np.mean(df_mae_tf_2_tscv)):\n",
    "    bm = bm+1\n",
    "else:\n",
    "    tm = tm+1\n",
    "\n",
    "# Mse\n",
    "if(np.mean(df_mae_tf_0_bcv) <= np.mean(df_mae_tf_0_tscv)):\n",
    "    bs = bs+1\n",
    "else:\n",
    "    ts = ts+1\n",
    "    \n",
    "if(np.mean(df_mae_tf_1_bcv) <= np.mean(df_mae_tf_1_tscv)):\n",
    "    bs = bs+1\n",
    "else:\n",
    "    ts = ts+1\n",
    "    \n",
    "if(np.mean(df_mae_tf_2_bcv) <= np.mean(df_mae_tf_2_tscv)):\n",
    "    bs = bs+1\n",
    "else:\n",
    "    ts = ts+1\n",
    "    \n",
    "print('t Vs b')\n",
    "print('MAE: t = ', tm, ' - VS - ', bm, ' = b')\n",
    "print('MSE: t = ', ts, ' - VS - ', bs, ' = b')\n",
    "print('TOTAL: t = ', tm+ts, ' - VS -', bm+bs, ' = b')\n",
    "print()\n",
    "if(bm+bs > tm+ts):\n",
    "    print('BCV gives better result for time features')\n",
    "    \n",
    "elif(bm+bs == tm+ts):\n",
    "    print('Both CV Methods have similar results')\n",
    "    \n",
    "else:\n",
    "    print('TSCV gives better results for time features')'''"
   ]
  },
  {
   "cell_type": "markdown",
   "id": "80852b1a",
   "metadata": {},
   "source": [
    "<span style='background :violet' > Get minum values of each type of TF and see which has better results  </span>"
   ]
  },
  {
   "cell_type": "code",
   "execution_count": null,
   "id": "f0aa192a",
   "metadata": {},
   "outputs": [],
   "source": [
    "'''best_mae_res_tscv = []\n",
    "best_mse_res_tscv = []\n",
    "ix_lags_mae_tscv = []\n",
    "ix_lags_mse_tscv = []\n",
    "\n",
    "# TSCV\n",
    "for i, d, mae, mse, d1, mae1, mse1, d2, mae2, mse2 in zip(range(len(df_list_tf0)), df_list_tf0, df_mae_tf_0_tscv, df_mse_tf_0_tscv, df_list_tf1, df_mae_tf_1_tscv, df_mse_tf_1_tscv, df_list_tf2, df_mae_tf_2_tscv, df_mse_tf_2_tscv):\n",
    "    # Mae\n",
    "    if(mae <= mae1) and (mae <= mae2):\n",
    "        best_mae_res_tscv.append(mae)\n",
    "        ix_lags_mae_tscv.append(0)\n",
    "        \n",
    "    elif(mae1 < mae) and (mae1 <= mae2):\n",
    "        best_mae_res_tscv.append(mae1)\n",
    "        ix_lags_mae_tscv.append(1)\n",
    "        \n",
    "    elif(mae2 < mae) and (mae2 < mae1):   \n",
    "        best_mae_res_tscv.append(mae2)\n",
    "        ix_lags_mae_tscv.append(2)\n",
    "        \n",
    "    # Mse\n",
    "    if(mse <= mse1) and (mse <= mse2):\n",
    "        best_mse_res_tscv.append(mse)\n",
    "        ix_lags_mse_tscv.append(0)\n",
    "        \n",
    "    elif(mse1 < mse) and (mse1 <= mse2):\n",
    "        best_mse_res_tscv.append(mse1)\n",
    "        ix_lags_mse_tscv.append(1)\n",
    "        \n",
    "    elif(mse2 < mse) and (mse2 < mse1):   \n",
    "        best_mse_res_tscv.append(mse2)\n",
    "        ix_lags_mse_tscv.append(2)\n",
    "'''\n",
    "best_mae_res_bcv = []\n",
    "best_mse_res_bcv = []\n",
    "ix_lags_mae_bcv = []\n",
    "ix_lags_mse_bcv = []\n",
    "\n",
    "# BCV\n",
    "for i, d, mae, mse, d1, mae1, mse1, d2, mae2, mse2 in zip(range(len(df_list_tf0)), df_list_tf0, df_mae_tf_0_bcv, df_mse_tf_0_bcv, df_list_tf1, df_mae_tf_1_bcv, df_mse_tf_1_bcv, df_list_tf2, df_mae_tf_2_bcv, df_mse_tf_2_bcv):\n",
    "    # Mae\n",
    "    if(mae <= mae1) and (mae <= mae2):\n",
    "        best_mae_res_bcv.append(mae)\n",
    "        ix_lags_mae_bcv.append(0)\n",
    "        \n",
    "    elif(mae1 < mae) and (mae1 <= mae2):\n",
    "        best_mae_res_bcv.append(mae1)\n",
    "        ix_lags_mae_bcv.append(1)\n",
    "        \n",
    "    elif(mae2 < mae) and (mae2 < mae1):   \n",
    "        best_mae_res_bcv.append(mae2)\n",
    "        ix_lags_mae_bcv.append(2)\n",
    "        \n",
    "    # Mse\n",
    "    if(mse <= mse1) and (mse <= mse2):\n",
    "        best_mse_res_bcv.append(mse)\n",
    "        ix_lags_mse_bcv.append(0)\n",
    "        \n",
    "    elif(mse1 < mse) and (mse1 <= mse2):\n",
    "        best_mse_res_bcv.append(mse1)\n",
    "        ix_lags_mse_bcv.append(1)\n",
    "        \n",
    "    elif(mse2 < mse) and (mse2 < mse1):   \n",
    "        best_mse_res_bcv.append(mse2)\n",
    "        ix_lags_mse_bcv.append(2)"
   ]
  },
  {
   "cell_type": "code",
   "execution_count": null,
   "id": "b86dbaf6",
   "metadata": {},
   "outputs": [],
   "source": [
    "'''\n",
    "print('TSCV')\n",
    "print(best_mae_res_tscv, ' --- ', ix_lags_mae_tscv )\n",
    "print(best_mse_res_tscv, ' --- ', ix_lags_mse_tscv )\n",
    "print()\n",
    "'''\n",
    "\n",
    "print('CBV')\n",
    "print(best_mae_res_bcv, ' --- ', ix_lags_mae_bcv )\n",
    "print(best_mse_res_bcv, ' --- ', ix_lags_mse_bcv )"
   ]
  },
  {
   "cell_type": "code",
   "execution_count": null,
   "id": "983ff446",
   "metadata": {},
   "outputs": [],
   "source": [
    "'''mae_t_dicc = {0: 0, 1: 0, 2: 0}\n",
    "mse_t_dicc = {0: 0, 1: 0, 2: 0}'''\n",
    "mae_b_dicc = {0: 0, 1: 0, 2: 0}\n",
    "mse_b_dicc = {0: 0, 1: 0, 2: 0}\n",
    "\n",
    "print('punctuation: ')\n",
    "'''i, j,''' '''ix_lags_mae_tscv, ix_lags_mse_tscv,'''\n",
    "for  z, k in zip( ix_lags_mae_bcv, ix_lags_mse_bcv):\n",
    "    '''\n",
    "    # TSCV\n",
    "    if(i == 0):\n",
    "        mae_t_dicc[0] = mae_t_dicc[0]+1\n",
    "    elif(i == 1):\n",
    "        mae_t_dicc[1] = mae_t_dicc[1]+1\n",
    "    else:\n",
    "        mae_t_dicc[2] = mae_t_dicc[2]+1\n",
    "    \n",
    "    if(j == 0):\n",
    "        mse_t_dicc[0] = mse_t_dicc[0]+1\n",
    "    elif(j == 1):\n",
    "        mse_t_dicc[1] = mse_t_dicc[1]+1\n",
    "    else:\n",
    "        mse_t_dicc[2] = mse_t_dicc[2]+1\n",
    "    '''\n",
    "    \n",
    "    # BCV\n",
    "    if(z == 0):\n",
    "        mae_b_dicc[0] = mae_b_dicc[0]+1\n",
    "    elif(z == 1):\n",
    "        mae_b_dicc[1] = mae_b_dicc[1]+1\n",
    "    else:\n",
    "        mae_b_dicc[2] = mae_b_dicc[2]+1\n",
    "    \n",
    "    if(k == 0):\n",
    "        mse_b_dicc[0] = mse_b_dicc[0]+1\n",
    "    elif(k == 1):\n",
    "        mse_b_dicc[1] = mse_b_dicc[1]+1\n",
    "    else:\n",
    "        mse_b_dicc[2] = mse_b_dicc[2]+1\n",
    "\n",
    "'''print('TSCV - MAE: ', mae_t_dicc, '\\t MSE: ',mse_t_dicc )\n",
    "print(max(mae_t_dicc.values()), '\\t\\t\\t\\t\\t\\t', max(mse_t_dicc.values()))'''\n",
    "\n",
    "print('BCV -  MAE: ', mae_b_dicc, '\\t MSE: ', mse_b_dicc)\n",
    "print(max(mae_b_dicc.values()), '\\t\\t\\t\\t\\t\\t', max(mse_b_dicc.values()))"
   ]
  },
  {
   "cell_type": "markdown",
   "id": "f7260d2e",
   "metadata": {},
   "source": [
    "<span style='background :yellow' > En caso de empate, una vez decidido cual va a ser el método de CV, escojemos la clave con valor más álto, porque tiene menos variables y reducirá el tiempo de entrenamiento  </span>"
   ]
  },
  {
   "cell_type": "code",
   "execution_count": null,
   "id": "684ffea0",
   "metadata": {},
   "outputs": [],
   "source": []
  },
  {
   "cell_type": "markdown",
   "id": "52824213",
   "metadata": {},
   "source": [
    "## <span style='background :orange' > Una vez escogido el mejor modelo creamos TF Cyclicos y mixtos </span>"
   ]
  },
  {
   "cell_type": "code",
   "execution_count": null,
   "id": "8f3bdef7",
   "metadata": {},
   "outputs": [],
   "source": []
  },
  {
   "cell_type": "markdown",
   "id": "da794944",
   "metadata": {},
   "source": [
    "# <span style='background :Beige' > Cyclical Time Features </span>"
   ]
  },
  {
   "cell_type": "markdown",
   "id": "964d225d",
   "metadata": {},
   "source": [
    "https://towardsdatascience.com/cyclical-features-encoding-its-about-time-ce23581845ca"
   ]
  },
  {
   "cell_type": "markdown",
   "id": "4eeca717",
   "metadata": {},
   "source": [
    "https://developer.nvidia.com/blog/three-approaches-to-encoding-time-information-as-features-for-ml-models/\n",
    "\n",
    "https://towardsdatascience.com/three-approaches-to-feature-engineering-for-time-series-2123069567be"
   ]
  },
  {
   "cell_type": "markdown",
   "id": "fe0fd733",
   "metadata": {},
   "source": [
    "### <span style='background :lightgreen' > Prepare Cyclical Values Dataframe </span>"
   ]
  },
  {
   "cell_type": "markdown",
   "id": "8bdb20ad",
   "metadata": {},
   "source": [
    "Create Dataframes with best results of Time Features"
   ]
  },
  {
   "cell_type": "code",
   "execution_count": null,
   "id": "d5a33329",
   "metadata": {},
   "outputs": [],
   "source": [
    "df_list_cy = []\n",
    "for i in range(len(df_list_tf1)):\n",
    "    df_list_cy.append(df_list_tf1[i].copy())"
   ]
  },
  {
   "cell_type": "code",
   "execution_count": null,
   "id": "7c983d92",
   "metadata": {},
   "outputs": [],
   "source": [
    "df_list_cy[1].head()"
   ]
  },
  {
   "cell_type": "markdown",
   "id": "2b2ca492",
   "metadata": {},
   "source": [
    "### <span style='background :lightgreen' > Transform Time Features Into Cyclical Values </span>"
   ]
  },
  {
   "cell_type": "markdown",
   "id": "be494229",
   "metadata": {},
   "source": [
    "#### <span style='background :skyblue' > Time Features proper cyclical transformation </span>"
   ]
  },
  {
   "cell_type": "code",
   "execution_count": null,
   "id": "2cb83edb",
   "metadata": {},
   "outputs": [],
   "source": [
    "# Save all new Features:\n",
    "cy_list = []\n",
    "\n",
    "# Transforming quarter to cyclical Values\n",
    "rbf_quarter = RepeatingBasisFunction(n_periods=4,\n",
    "                             column=\"dayofyear\",\n",
    "                             input_range=(1,365),\n",
    "                             remainder=\"drop\")\n",
    "\n",
    "rbf_quarter.fit(df_list_cy[1])\n",
    "df_cy_quarter = pd.DataFrame(index=df_list_cy[1].index, data=rbf_quarter.transform(df_list_cy[1]))\n",
    "cy_list.append(df_cy_quarter)\n",
    "\n",
    "# Transforming month to cyclical Values\n",
    "rbf_month = RepeatingBasisFunction(n_periods=12,\n",
    "                             column=\"dayofyear\",\n",
    "                             input_range=(1,365),\n",
    "                             remainder=\"drop\")\n",
    "\n",
    "rbf_month.fit(df_list_cy[1])\n",
    "df_cy_month = pd.DataFrame(index=df_list_cy[1].index, data=rbf_month.transform(df_list_cy[1]))\n",
    "cy_list.append(df_cy_month)\n",
    "\n",
    "'''# Transforming monthday to cyclical Values\n",
    "rbf_monthday = RepeatingBasisFunction(n_periods=30,\n",
    "                             column=\"month\",\n",
    "                             input_range=(1,12),\n",
    "                             remainder=\"drop\")\n",
    "\n",
    "rbf_monthday.fit(df_list_cy[1])\n",
    "df_cy_monthday = pd.DataFrame(index=df_list_cy[1].index, data=rbf_monthday.transform(df_list_cy[1]))\n",
    "cy_list.append(df_cy_monthday)'''\n",
    "\n",
    "# Transforming week to cyclical Values\n",
    "rbf_week = RepeatingBasisFunction(n_periods=52,\n",
    "                             column=\"dayofyear\",\n",
    "                             input_range=(1,365),\n",
    "                             remainder=\"drop\")\n",
    "\n",
    "rbf_week.fit(df_list_cy[1])\n",
    "df_cy_week = pd.DataFrame(index=df_list_cy[1].index, data=rbf_week.transform(df_list_cy[1]))\n",
    "cy_list.append(df_cy_week)\n",
    "\n",
    "'''# Transforming weekday to cyclical Values\n",
    "rbf_weekday = RepeatingBasisFunction(n_periods=7,\n",
    "                             column=\"week\",\n",
    "                             input_range=(1,52),\n",
    "                             remainder=\"drop\")\n",
    "\n",
    "rbf_weekday.fit(df_list_cy[1])\n",
    "df_cy_weekday = pd.DataFrame(index=df_list_cy[1].index, data=rbf_weekday.transform(df_list_cy[1]))\n",
    "cy_list.append(df_cy_weekday)\n",
    "\n",
    "# Transforming yearday to cyclical Values\n",
    "rbf_yearday = RepeatingBasisFunction(n_periods=365,\n",
    "                             column=\"dayofyear\",\n",
    "                             input_range=(1,365),\n",
    "                             remainder=\"drop\")\n",
    "\n",
    "rbf_yearday.fit(df_list_cy[1])\n",
    "df_cy_yearday = pd.DataFrame(index=df_list_cy[1].index, data=rbf_yearday.transform(df_list_cy[1]))\n",
    "cy_list.append(df_cy_yearday)'''\n",
    "print()"
   ]
  },
  {
   "cell_type": "code",
   "execution_count": null,
   "id": "a433e9b4",
   "metadata": {},
   "outputs": [],
   "source": [
    "print('df_cy_quarter', len(df_cy_quarter.columns), df_cy_quarter.columns, '\\n',\n",
    "     'df_cy_month', len(df_cy_month.columns), df_cy_month.columns, '\\n',\n",
    "     'df_cy_week', len(df_cy_week.columns), df_cy_week.columns, '\\n')"
   ]
  },
  {
   "cell_type": "markdown",
   "id": "52122251",
   "metadata": {},
   "source": [
    "<span style='background :violet' > Plots </span>"
   ]
  },
  {
   "cell_type": "code",
   "execution_count": null,
   "id": "efd37abe",
   "metadata": {
    "scrolled": true
   },
   "outputs": [],
   "source": [
    "%%time \n",
    "\n",
    "# Plotsss\n",
    "df_cy_quarter.plot(subplots=True, figsize=(14, 4), \n",
    "         sharex=True, title=\"Radial Basis Functions -- Feature = quarter\",\n",
    "         legend=False);\n",
    "\n",
    "df_cy_month.plot(subplots=True, figsize=(14, 4), \n",
    "         sharex=True, title=\"Radial Basis Functions -- Feature = months\",\n",
    "         legend=False);\n",
    "\n",
    "df_cy_week.plot(subplots=True, figsize=(14, 4), \n",
    "         sharex=True, title=\"Radial Basis Functions -- Feature = week\",\n",
    "         legend=False);"
   ]
  },
  {
   "cell_type": "markdown",
   "id": "1c7c1398",
   "metadata": {},
   "source": [
    "<span style='background :yellow' > Some more explanation - Representation of the data </span>"
   ]
  },
  {
   "cell_type": "markdown",
   "id": "fbdbadcf",
   "metadata": {},
   "source": [
    "#### <span style='background :skyblue' > Time Features Sin/Cos cyclical transformation </span>"
   ]
  },
  {
   "cell_type": "markdown",
   "id": "572167b6",
   "metadata": {},
   "source": [
    "<span style='background :Violet' > Functions </span>"
   ]
  },
  {
   "cell_type": "code",
   "execution_count": null,
   "id": "2924d0d8",
   "metadata": {},
   "outputs": [],
   "source": [
    "def cy_sin(df, column):\n",
    "    sin = np.sin(2 * np.pi * df[column] / max(df[column]))\n",
    "    return sin\n",
    "\n",
    "def cy_cos(df, column):\n",
    "    cos = np.cos(2 * np.pi * df[column] / max(df[column]))\n",
    "    return cos"
   ]
  },
  {
   "cell_type": "markdown",
   "id": "177e46dd",
   "metadata": {},
   "source": [
    "#### <span style='background :skyblue' > Time Features Homemade cyclical transformation </span>"
   ]
  },
  {
   "cell_type": "markdown",
   "id": "f101e777",
   "metadata": {},
   "source": [
    "<span style='background :Violet' > Functions </span>"
   ]
  },
  {
   "cell_type": "code",
   "execution_count": null,
   "id": "62d134cf",
   "metadata": {},
   "outputs": [],
   "source": [
    "import math   \n",
    "\n",
    "def make_neg(n):\n",
    "    return int(-n)\n",
    "\n",
    "def shambles(values, val):\n",
    "    half = math.ceil(max(values)/2)+1\n",
    "    diff = val-half\n",
    "    ret = half-diff\n",
    "    return make_neg(ret-1)\n",
    "    \n",
    "def to_cyclical(values):\n",
    "    l = max(values)\n",
    "    half = math.ceil(l/2)\n",
    "    new_values = [v if(v<=half) else shambles(values, v) for v in values]\n",
    "    return new_values\n",
    "\n",
    "def transform_series(series, values, transformed_values):\n",
    "    mapping = dict(zip(values, transformed_values))\n",
    "    transformed_series = [mapping[val] for val in series]\n",
    "    return transformed_series"
   ]
  },
  {
   "cell_type": "markdown",
   "id": "50b676ec",
   "metadata": {},
   "source": [
    "<span style='background :Violet' > Testing </span>"
   ]
  },
  {
   "cell_type": "code",
   "execution_count": null,
   "id": "bf8bc8fe",
   "metadata": {
    "scrolled": true
   },
   "outputs": [],
   "source": [
    "# Check Check Check Check\n",
    "print(to_cyclical([1,2,3,4,5,6]))\n",
    "list(transform_series(df_list_cy[1].day, df_list_cy[1].day.unique(), to_cyclical(df_list_cy[1].day.unique())))[:20]"
   ]
  },
  {
   "cell_type": "markdown",
   "id": "c0713c89",
   "metadata": {},
   "source": [
    "### <span style='background :lightgreen' > Join Cyclical Features Data </span>"
   ]
  },
  {
   "cell_type": "markdown",
   "id": "cd812ce7",
   "metadata": {},
   "source": [
    "#### <span style='background :skyblue' > Posible columns transformations </span>"
   ]
  },
  {
   "cell_type": "code",
   "execution_count": null,
   "id": "03b2ce19",
   "metadata": {},
   "outputs": [],
   "source": [
    "# cy_list contains the 3 cyclical vars == quarte, month, week\n",
    "# df_list_cy contains the 4 df with the best tf selected\n",
    "\n",
    "# TF only possible 1 or 2, 0 option is removed, no sense\n",
    "\n",
    "# Name of the columns that are going to be transformed -- we already know because we know which df got the best score\n",
    "cs = []\n",
    "cs1 = [] \n",
    "\n",
    "for c in df_list_cy[1].columns:\n",
    "    if(c == 'quarter') or (c == 'month') or (c == 'week'):\n",
    "        cs.append(c)\n",
    "    elif(c == 'day') or (c == 'dayofyear') or (c == 'dayofweek'):\n",
    "        cs1.append(c)"
   ]
  },
  {
   "cell_type": "markdown",
   "id": "c9836a2b",
   "metadata": {},
   "source": [
    "#### <span style='background :skyblue' > Rename Cyclical Datasets Columns </span>"
   ]
  },
  {
   "cell_type": "code",
   "execution_count": null,
   "id": "21e4a6b8",
   "metadata": {},
   "outputs": [],
   "source": [
    "# Renaim Cyclical Columns Dataframes\n",
    "for cy, j in zip(cy_list, range(len(cy_list))):\n",
    "    for c in cy.columns:\n",
    "        cy.rename(columns = {c:str(j)+'-'+str(c)}, inplace=True)"
   ]
  },
  {
   "cell_type": "code",
   "execution_count": null,
   "id": "cc0b2749",
   "metadata": {},
   "outputs": [],
   "source": [
    "cy_list[0]"
   ]
  },
  {
   "cell_type": "markdown",
   "id": "27691b8b",
   "metadata": {},
   "source": [
    "#### <span style='background :skyblue' > Generate Different Mixtures </span>"
   ]
  },
  {
   "cell_type": "code",
   "execution_count": null,
   "id": "641c73f7",
   "metadata": {},
   "outputs": [],
   "source": [
    "cys_dfs = []"
   ]
  },
  {
   "cell_type": "markdown",
   "id": "aac88f97",
   "metadata": {},
   "source": [
    "<span style='background :Violet' > Cy + Sin/cos </span>"
   ]
  },
  {
   "cell_type": "code",
   "execution_count": null,
   "id": "0ac6308b",
   "metadata": {},
   "outputs": [],
   "source": [
    "# New Cyclical_df_list\n",
    "for i in range(len(df_list_cy)):\n",
    "    \n",
    "    # Add legit Cyclical Tf:\n",
    "    if len(cs) != 0:\n",
    "        for cy in cy_list:\n",
    "            df_list_cy[i] = pd.concat([df_list_cy[i],cy], axis=1)\n",
    "    \n",
    "    # Add Homemade Cyclical TF:\n",
    "    if(len(cs1) != 0):\n",
    "        for c in cs1:\n",
    "            df_list_cy[i][c + 'sin'] = cy_sin(df_list_cy[i], c)\n",
    "            df_list_cy[i][c + 'cos'] = cy_cos(df_list_cy[i], c)\n",
    "        \n",
    "    # Remove the tf we already have:\n",
    "    df_list_cy[i].drop(['quarter', 'month', 'week', 'day', 'dayofyear', 'dayofweek'], axis=1, inplace=True)"
   ]
  },
  {
   "cell_type": "code",
   "execution_count": null,
   "id": "cca8b4e7",
   "metadata": {},
   "outputs": [],
   "source": [
    "cys_dfs.append(df_list_cy)"
   ]
  },
  {
   "cell_type": "code",
   "execution_count": null,
   "id": "ba8f08aa",
   "metadata": {},
   "outputs": [],
   "source": [
    "len(cys_dfs)"
   ]
  },
  {
   "cell_type": "code",
   "execution_count": null,
   "id": "f7038f02",
   "metadata": {
    "scrolled": true
   },
   "outputs": [],
   "source": [
    "for c in cys_dfs:\n",
    "    print(len(c))\n",
    "    for d in c:\n",
    "        print(d.columns)"
   ]
  },
  {
   "cell_type": "markdown",
   "id": "8551415c",
   "metadata": {},
   "source": [
    "<span style='background :Violet' > Sin/Cos </span>"
   ]
  },
  {
   "cell_type": "code",
   "execution_count": null,
   "id": "c3054362",
   "metadata": {},
   "outputs": [],
   "source": [
    "# Reset\n",
    "df_list_cy = []\n",
    "for i in range(len(df_list_tf1)):\n",
    "    df_list_cy.append(df_list_tf1[i].copy())"
   ]
  },
  {
   "cell_type": "code",
   "execution_count": null,
   "id": "50b15a98",
   "metadata": {},
   "outputs": [],
   "source": [
    "# New Cyclical_df_list\n",
    "for i in range(len(df_list_cy)):\n",
    "    \n",
    "    for c in cs:\n",
    "        df_list_cy[i][c + 'sin'] = cy_sin(df_list_cy[i], c)\n",
    "        df_list_cy[i][c + 'cos'] = cy_cos(df_list_cy[i], c)\n",
    "        \n",
    "    for c in cs1:\n",
    "        df_list_cy[i][c + 'sin'] = cy_sin(df_list_cy[i], c)\n",
    "        df_list_cy[i][c + 'cos'] = cy_cos(df_list_cy[i], c)\n",
    "        \n",
    "    # Remove the tf we already have:\n",
    "    df_list_cy[i].drop(['quarter', 'month', 'week', 'day', 'dayofyear', 'dayofweek'], axis=1, inplace=True)"
   ]
  },
  {
   "cell_type": "code",
   "execution_count": null,
   "id": "922f7542",
   "metadata": {},
   "outputs": [],
   "source": [
    "cys_dfs.append(df_list_cy)"
   ]
  },
  {
   "cell_type": "code",
   "execution_count": null,
   "id": "784cfe03",
   "metadata": {},
   "outputs": [],
   "source": [
    "for a in cys_dfs[1]:\n",
    "    print(a.columns)"
   ]
  },
  {
   "cell_type": "markdown",
   "id": "5fc0e6d4",
   "metadata": {},
   "source": [
    "<span style='background :Violet' > Cy + Homemade </span>"
   ]
  },
  {
   "cell_type": "code",
   "execution_count": null,
   "id": "3f2cc359",
   "metadata": {},
   "outputs": [],
   "source": [
    "# Reset\n",
    "df_list_cy = []\n",
    "for i in range(len(df_list_tf1)):\n",
    "    df_list_cy.append(df_list_tf1[i].copy())"
   ]
  },
  {
   "cell_type": "code",
   "execution_count": null,
   "id": "4c24e817",
   "metadata": {},
   "outputs": [],
   "source": [
    "# New Cyclical_df_list\n",
    "for i in range(len(df_list_cy)):\n",
    "    \n",
    "    # Add legit Cyclical Tf:\n",
    "    if len(cs) != 0:\n",
    "        for cy in cy_list:\n",
    "            df_list_cy[i] = pd.concat([df_list_cy[i],cy], axis=1)\n",
    "    \n",
    "    # Add Homemade Cyclical TF:\n",
    "    if(len(cs1) != 0):\n",
    "        df_list_cy[i]['day'] = df_list_cy[i]['day']-1\n",
    "        serie_day = transform_series(df_list_cy[i].day, df_list_cy[i].day.unique(), to_cyclical(df_list_cy[i].day.unique()))\n",
    "        df_list_cy[i]['day_cy'] = serie_day\n",
    "        \n",
    "        df_list_cy[i]['dayofyear'] = df_list_cy[i]['dayofyear']-1\n",
    "        serie_dyear = transform_series(df_list_cy[i].dayofyear, df_list_cy[i].dayofyear.unique(), to_cyclical(df_list_cy[i].dayofyear.unique()))\n",
    "        df_list_cy[i]['dayofyear_cy'] = serie_dyear\n",
    "        \n",
    "        serie_dweek = transform_series(df_list_cy[i]['dayofweek'], df_list_cy[i]['dayofweek'], to_cyclical(df_list_cy[i]['dayofweek'].unique()))\n",
    "        df_list_cy[i]['dayofweek_cy'] = serie_dweek\n",
    "        \n",
    "    # Remove the tf we already have:\n",
    "    df_list_cy[i].drop(['quarter', 'month', 'week', 'day', 'dayofyear', 'dayofweek'], axis=1, inplace=True)"
   ]
  },
  {
   "cell_type": "code",
   "execution_count": null,
   "id": "ca027b83",
   "metadata": {},
   "outputs": [],
   "source": [
    "cys_dfs.append(df_list_cy)"
   ]
  },
  {
   "cell_type": "code",
   "execution_count": null,
   "id": "b1b0925b",
   "metadata": {
    "scrolled": true
   },
   "outputs": [],
   "source": [
    "for a in cys_dfs[2]:\n",
    "    print(a.columns)"
   ]
  },
  {
   "cell_type": "markdown",
   "id": "7eb59260",
   "metadata": {},
   "source": [
    "<span style='background :Violet' > Homemade </span>"
   ]
  },
  {
   "cell_type": "code",
   "execution_count": null,
   "id": "d79d73d8",
   "metadata": {},
   "outputs": [],
   "source": [
    "# Reset\n",
    "df_list_cy = []\n",
    "for i in range(len(df_list_tf1)):\n",
    "    df_list_cy.append(df_list_tf1[i].copy())"
   ]
  },
  {
   "cell_type": "code",
   "execution_count": null,
   "id": "114cc36e",
   "metadata": {
    "scrolled": true
   },
   "outputs": [],
   "source": [
    "# New Cyclical_df_list\n",
    "for i in range(len(df_list_cy)):\n",
    "    \n",
    "    # Add legit Cyclical Tf:\n",
    "    if len(cs) != 0:\n",
    "        df_list_cy[i]['quarter'] = df_list_cy[i]['quarter']-1\n",
    "        serie_quarter = transform_series(df_list_cy[i].quarter, df_list_cy[i].quarter.unique(), to_cyclical(df_list_cy[i].quarter.unique()))\n",
    "        df_list_cy[i]['quarter_cy'] = serie_quarter\n",
    "        \n",
    "        df_list_cy[i]['month'] = df_list_cy[i]['month']-1\n",
    "        serie_month = transform_series(df_list_cy[i].month, df_list_cy[i].month.unique(), to_cyclical(df_list_cy[i].month.unique()))\n",
    "        df_list_cy[i]['month_cy'] = serie_month\n",
    "        \n",
    "        df_list_cy[i]['week'] = df_list_cy[i]['week']-1\n",
    "        serie_week = transform_series(df_list_cy[i].week, df_list_cy[i].week.unique(), to_cyclical(df_list_cy[i].week.unique()))\n",
    "        df_list_cy[i]['week_cy'] = serie_week\n",
    "        \n",
    "    # Add Homemade Cyclical TF:\n",
    "    if(len(cs1) != 0):\n",
    "        df_list_cy[i]['day'] = df_list_cy[i]['day']-1\n",
    "        serie_day = transform_series(df_list_cy[i].day, df_list_cy[i].day.unique(), to_cyclical(df_list_cy[i].day.unique()))\n",
    "        df_list_cy[i]['day_cy'] = serie_day\n",
    "        \n",
    "        df_list_cy[i]['dayofyear'] = df_list_cy[i]['dayofyear']-1\n",
    "        serie_dyear = transform_series(df_list_cy[i].dayofyear, df_list_cy[i].dayofyear.unique(), to_cyclical(df_list_cy[i].dayofyear.unique()))\n",
    "        df_list_cy[i]['dayofyear_cy'] = serie_dyear\n",
    "        \n",
    "        serie_dweek = transform_series(df_list_cy[i]['dayofweek'], df_list_cy[i]['dayofweek'], to_cyclical(df_list_cy[i]['dayofweek'].unique()))\n",
    "        df_list_cy[i]['dayofweek_cy'] = serie_dweek\n",
    "        \n",
    "    # Remove the tf we already have:\n",
    "    df_list_cy[i].drop(['quarter', 'month', 'week', 'day', 'dayofyear', 'dayofweek'], axis=1, inplace=True)"
   ]
  },
  {
   "cell_type": "code",
   "execution_count": null,
   "id": "9145ece5",
   "metadata": {},
   "outputs": [],
   "source": [
    "cys_dfs.append(df_list_cy)"
   ]
  },
  {
   "cell_type": "code",
   "execution_count": null,
   "id": "c45720b0",
   "metadata": {},
   "outputs": [],
   "source": [
    "for a in cys_dfs[3]:\n",
    "    print(a.columns)"
   ]
  },
  {
   "cell_type": "markdown",
   "id": "331aecc1",
   "metadata": {},
   "source": [
    "### <span style='background :lightgreen' > Predictions </span>"
   ]
  },
  {
   "cell_type": "code",
   "execution_count": null,
   "id": "d559c03c",
   "metadata": {},
   "outputs": [],
   "source": [
    "# Reset\n",
    "df_list_cy = []\n",
    "for i in range(len(df_list_tf1)):\n",
    "    df_list_cy.append(df_list_tf1[i].copy())"
   ]
  },
  {
   "cell_type": "code",
   "execution_count": null,
   "id": "9ee0725f",
   "metadata": {},
   "outputs": [],
   "source": [
    "for d in cys_dfs:\n",
    "    for dd in d:\n",
    "        dd.dropna(axis=1, inplace=True)"
   ]
  },
  {
   "cell_type": "markdown",
   "id": "cc0149a8",
   "metadata": {},
   "source": [
    "#### <span style='background :skyblue' > Basic </span>"
   ]
  },
  {
   "cell_type": "code",
   "execution_count": null,
   "id": "fa9ab88d",
   "metadata": {},
   "outputs": [],
   "source": [
    "%%time\n",
    "\n",
    "df_mae_cy = []\n",
    "df_mse_cy = []\n",
    "df_var_i_cy = []\n",
    "\n",
    "for d in cys_dfs:\n",
    "    mix_mae_cy = []\n",
    "    mix_mse_cy = []\n",
    "    mix_vi_cy = []\n",
    "\n",
    "    # Diferent Lags Loop\n",
    "    for df_vi, cy_i in zip(d, range(len(d))):\n",
    "        sim_mae_cy = []\n",
    "        sim_mse_cy = []\n",
    "        sim_vi_cy = []\n",
    "        \n",
    "        target = df_vi.columns[0]\n",
    "        \n",
    "        # Simulation Loop\n",
    "        for sim in range(n_sims):\n",
    "            #print('-- Sim Nº', sim, '--\\n')\n",
    "            mae_cy , mse_cy, vi_cy = tree_feature_importance(df_vi, target, split=n_splits, plot = 3, r = 1)\n",
    "        \n",
    "            # Save data -- SIM\n",
    "            sim_mae_cy.append(mae_cy)\n",
    "            sim_mse_cy.append(mse_cy)\n",
    "            sim_vi_cy.append(vi_cy)\n",
    "        \n",
    "            #print('mae = ', mae)\n",
    "            #print('mse = ', mse)\n",
    "            #print('vi -- \\n', vi, '\\n')\n",
    "            #print('feature --\\n', vi['feature'], '\\n\\nimportance -- \\n', vi['importance'], '\\n\\n')\n",
    "    \n",
    "        #print('\\n\\nMean Evaluation LAGS ', lag_i , ' METRICS')\n",
    "        #print('MAE ', np.mean(sim_mae))\n",
    "        #print('MSE ', np.mean(sim_mse))\n",
    "\n",
    "        mean_sim_vi_cy = pd.DataFrame(columns = ['feature', 'importance'])\n",
    "    \n",
    "        # Loop to make variable importance simulation mean\n",
    "        for i,col in zip(range(sim_vi_cy[0].shape[0]), sim_vi_cy[0]['feature']):\n",
    "            aux = []\n",
    "    \n",
    "            for j in range(n_sims):\n",
    "                aux.append(sim_vi_cy[j]['importance'][i])\n",
    "    \n",
    "            mean_sim_vi_cy.loc[i, 'feature'] = col\n",
    "            mean_sim_vi_cy.loc[i, 'importance'] = np.mean(aux)\n",
    "\n",
    "        #print('\\n Mean Variable Importance LAGS DATAFRAMES \\n')\n",
    "        #mean_sim_vi.head()\n",
    "    \n",
    "        # Save Data -- LAG Loop\n",
    "        mix_mae_cy.append(np.mean(sim_mae_cy))\n",
    "        mix_mse_cy.append(np.mean(sim_mse_cy))\n",
    "        mix_vi_cy.append(mean_sim_vi_cy)\n",
    "    \n",
    "    # Save Data -- VARIABLES/FEATURES\n",
    "\n",
    "    #print(lag_mae)\n",
    "    #print(lag_mse)\n",
    "    #print(lag_vi)\n",
    "    \n",
    "    df_mae_cy.append(mix_mae_cy)\n",
    "    df_mse_cy.append(mix_mse_cy)\n",
    "    df_var_i_cy.append(mix_vi_cy)"
   ]
  },
  {
   "cell_type": "code",
   "execution_count": null,
   "id": "06eac73c",
   "metadata": {},
   "outputs": [],
   "source": [
    "for a,e,i in zip(df_mae_cy, df_mse_cy, df_var_i_cy):\n",
    "    print(a)\n",
    "    print(e, '\\n')\n",
    "    # print(i, '\\n')\n",
    "\n",
    "#print(df_mae)\n",
    "#print(df_mse)\n",
    "#print(df_vi)"
   ]
  },
  {
   "cell_type": "markdown",
   "id": "521b74fd",
   "metadata": {},
   "source": [
    "#### <span style='background :skyblue' > CV </span>"
   ]
  },
  {
   "cell_type": "markdown",
   "id": "e9c31a6a",
   "metadata": {},
   "source": [
    "<span style='background :skyblue' > TSCV </span>"
   ]
  },
  {
   "cell_type": "code",
   "execution_count": null,
   "id": "e47eb13c",
   "metadata": {},
   "outputs": [],
   "source": [
    "'''%%time\n",
    "\n",
    "df_mae_tscv_cy = []\n",
    "df_mse_tscv_cy = []\n",
    "df_var_i_tscv_cy = []\n",
    "\n",
    "\n",
    "for d in cys_dfs:\n",
    "    mix_mae_tscv_cy = []\n",
    "    mix_mse_tscv_cy = []\n",
    "    mix_vi_tscv_cy = []\n",
    "    print('___________________________________________________________________________________________________________________')\n",
    "\n",
    "    # Diferent Lags Loop\n",
    "    for df_vi, cy_i in zip(d, range(len(d))):\n",
    "        print('888888888888888888888888888888888888888888888888888888888888888888888888888888888888888888888888888888888888888')\n",
    "        sim_mae_tscv_cy = []\n",
    "        sim_mse_tscv_cy = []\n",
    "        sim_vi_tscv_cy = []\n",
    "        \n",
    "        target = df_vi.columns[0]\n",
    "        \n",
    "        # Simulation Loop\n",
    "        for sim in range(n_sims_cv):\n",
    "            #print('-- Sim Nº', sim, '--\\n')\n",
    "            mae_tscv_cy , mse_tscv_cy, vi_tscv_cy = tree_feature_importance_cv(df_vi, target = df_vi.columns[0], cv_split=n_splits_cv, r = 0)\n",
    "        \n",
    "            # Save data -- SIM\n",
    "            sim_mae_tscv_cy.append(mae_tscv_cy)\n",
    "            sim_mse_tscv_cy.append(mse_tscv_cy)\n",
    "            sim_vi_tscv_cy.append(vi_tscv_cy)\n",
    "        \n",
    "            #print('mae = ', mae)\n",
    "            #print('mse = ', mse)\n",
    "            #print('vi -- \\n', vi, '\\n')\n",
    "            #print('feature --\\n', vi['feature'], '\\n\\nimportance -- \\n', vi['importance'], '\\n\\n')\n",
    "    \n",
    "        #print('\\n\\nMean Evaluation LAGS ', lag_i , ' METRICS')\n",
    "        #print('MAE ', np.mean(sim_mae))\n",
    "        #print('MSE ', np.mean(sim_mse))\n",
    "\n",
    "        mean_sim_vi_tscv_cy = pd.DataFrame(columns = ['feature', 'importance'])\n",
    "    \n",
    "        # Loop to make variable importance simulation mean\n",
    "        for i,col in zip(range(sim_vi_tscv_cy[0].shape[0]), sim_vi_tscv_cy[0]['feature']):\n",
    "            aux = []\n",
    "    \n",
    "            for j in range(n_sims):\n",
    "                aux.append(sim_vi_tscv_cy[j]['importance'][i])\n",
    "    \n",
    "            mean_sim_vi_tscv_cy.loc[i, 'feature'] = col\n",
    "            mean_sim_vi_tscv_cy.loc[i, 'importance'] = np.mean(aux)\n",
    "\n",
    "        #print('\\n Mean Variable Importance LAGS DATAFRAMES \\n')\n",
    "        #mean_sim_vi.head()\n",
    "    \n",
    "        # Save Data -- LAG Loop\n",
    "        mix_mae_tscv_cy.append(np.round(np.mean(sim_mae_tscv_cy), 3))\n",
    "        mix_mse_tscv_cy.append(np.round(np.mean(sim_mse_tscv_cy), 3))\n",
    "        mix_vi_tscv_cy.append(mean_sim_vi_tscv_cy)\n",
    "    \n",
    "    # Save Data -- VARIABLES/FEATURES\n",
    "\n",
    "    #print(lag_mae)\n",
    "    #print(lag_mse)\n",
    "    #print(lag_vi)\n",
    "    \n",
    "    df_mae_tscv_cy.append(mix_mae_tscv_cy)\n",
    "    df_mse_tscv_cy.append(mix_mse_tscv_cy)\n",
    "    df_var_i_tscv_cy.append(mix_vi_tscv_cy)  '''  "
   ]
  },
  {
   "cell_type": "code",
   "execution_count": null,
   "id": "513ecbbd",
   "metadata": {},
   "outputs": [],
   "source": [
    "'''for a,e,i in zip(df_mae_tscv_cy, df_mae_tscv_cy, df_mae_tscv_cy):\n",
    "    print(a)\n",
    "    print(e, '\\n')\n",
    "    # print(i, '\\n')\n",
    "\n",
    "#print(df_mae)\n",
    "#print(df_mse)\n",
    "#print(df_vi)'''"
   ]
  },
  {
   "cell_type": "code",
   "execution_count": null,
   "id": "139abca8",
   "metadata": {},
   "outputs": [],
   "source": [
    "cys_dfs[1]"
   ]
  },
  {
   "cell_type": "markdown",
   "id": "b67a3f86",
   "metadata": {},
   "source": [
    "<span style='background :skyblue' > BCV </span>"
   ]
  },
  {
   "cell_type": "code",
   "execution_count": null,
   "id": "76ed0e8e",
   "metadata": {},
   "outputs": [],
   "source": [
    "%%time\n",
    "\n",
    "df_mae_bcv_cy = []\n",
    "df_mse_bcv_cy = []\n",
    "df_var_i_bcv_cy = []\n",
    "\n",
    "\n",
    "for d in cys_dfs:\n",
    "    mix_mae_bcv_cy = []\n",
    "    mix_mse_bcv_cy = []\n",
    "    mix_vi_bcv_cy = []\n",
    "    print('___________________________________________________________________________________________________________________')\n",
    "\n",
    "    # Diferent Lags Loop\n",
    "    for df_vi, cy_i in zip(d, range(len(d))):\n",
    "        print('888888888888888888888888888888888888888888888888888888888888888888888888888888888888888888888888888888888888888')\n",
    "        sim_mae_bcv_cy = []\n",
    "        sim_mse_bcv_cy = []\n",
    "        sim_vi_bcv_cy = []\n",
    "        \n",
    "        target = df_vi.columns[0]\n",
    "        \n",
    "        # Simulation Loop\n",
    "        for sim in range(n_sims_cv):\n",
    "            #print('-- Sim Nº', sim, '--\\n')\n",
    "            mae_bcv_cy , mse_bcv_cy, vi_bcv_cy = tree_feature_importance_cv(df_vi, target = df_vi.columns[0], cv_split=n_splits_cv, r = 0)\n",
    "        \n",
    "            # Save data -- SIM\n",
    "            sim_mae_bcv_cy.append(mae_bcv_cy)\n",
    "            sim_mse_bcv_cy.append(mse_bcv_cy)\n",
    "            sim_vi_bcv_cy.append(vi_bcv_cy)\n",
    "        \n",
    "            #print('mae = ', mae)\n",
    "            #print('mse = ', mse)\n",
    "            #print('vi -- \\n', vi, '\\n')\n",
    "            #print('feature --\\n', vi['feature'], '\\n\\nimportance -- \\n', vi['importance'], '\\n\\n')\n",
    "    \n",
    "        #print('\\n\\nMean Evaluation LAGS ', lag_i , ' METRICS')\n",
    "        #print('MAE ', np.mean(sim_mae))\n",
    "        #print('MSE ', np.mean(sim_mse))\n",
    "\n",
    "        mean_sim_vi_bcv_cy = pd.DataFrame(columns = ['feature', 'importance'])\n",
    "    \n",
    "        # Loop to make variable importance simulation mean\n",
    "        for i,col in zip(range(sim_vi_bcv_cy[0].shape[0]), sim_vi_bcv_cy[0]['feature']):\n",
    "            aux = []\n",
    "    \n",
    "            for j in range(n_sims):\n",
    "                aux.append(sim_vi_bcv_cy[j]['importance'][i])\n",
    "    \n",
    "            mean_sim_vi_bcv_cy.loc[i, 'feature'] = col\n",
    "            mean_sim_vi_bcv_cy.loc[i, 'importance'] = np.mean(aux)\n",
    "\n",
    "        #print('\\n Mean Variable Importance LAGS DATAFRAMES \\n')\n",
    "        #mean_sim_vi.head()\n",
    "    \n",
    "        # Save Data -- LAG Loop\n",
    "        mix_mae_bcv_cy.append(np.round(np.mean(sim_mae_bcv_cy), 3))\n",
    "        mix_mse_bcv_cy.append(np.round(np.mean(sim_mse_bcv_cy), 3))\n",
    "        mix_vi_bcv_cy.append(mean_sim_vi_bcv_cy)\n",
    "    \n",
    "    # Save Data -- VARIABLES/FEATURES\n",
    "\n",
    "    #print(lag_mae)\n",
    "    #print(lag_mse)\n",
    "    #print(lag_vi)\n",
    "    \n",
    "    df_mae_bcv_cy.append(mix_mae_bcv_cy)\n",
    "    df_mse_bcv_cy.append(mix_mse_bcv_cy)\n",
    "    df_var_i_bcv_cy.append(mix_vi_bcv_cy)    "
   ]
  },
  {
   "cell_type": "code",
   "execution_count": null,
   "id": "dd9e5023",
   "metadata": {},
   "outputs": [],
   "source": [
    "for a,e,i in zip(df_mae_bcv_cy, df_mae_bcv_cy, df_mae_bcv_cy):\n",
    "    print(a)\n",
    "    print(e, '\\n')\n",
    "    # print(i, '\\n')\n",
    "\n",
    "#print(df_mae)\n",
    "#print(df_mse)\n",
    "#print(df_vi)"
   ]
  },
  {
   "cell_type": "code",
   "execution_count": null,
   "id": "26ca8fb8",
   "metadata": {},
   "outputs": [],
   "source": []
  },
  {
   "cell_type": "markdown",
   "id": "c7db35ef",
   "metadata": {},
   "source": [
    "#### <span style='background :skyblue' > Give Results </span>"
   ]
  },
  {
   "cell_type": "markdown",
   "id": "e455a97c",
   "metadata": {},
   "source": [
    "<span style='background :violet' > Best model for Basic Predictions </span>"
   ]
  },
  {
   "cell_type": "code",
   "execution_count": null,
   "id": "a5134a42",
   "metadata": {},
   "outputs": [],
   "source": [
    "best_res_mae_cy = []\n",
    "best_res_mse_cy = []\n",
    "ix_lags_mae_cy = []\n",
    "ix_lags_mse_cy = []\n",
    "\n",
    "# iterate over the indices of the inner lists\n",
    "for i in range(len(df_mae_cy[0])):\n",
    "    # initialize the variables to store the minimum value and its index\n",
    "    min_val = None\n",
    "    min_ix = None\n",
    "    # iterate over the outer list\n",
    "    for j in range(len(df_mae_cy)):\n",
    "        # check if the current value is smaller than the minimum value\n",
    "        if min_val is None or df_mae_cy[j][i] < min_val:\n",
    "            # if so, update the minimum value and its index\n",
    "            min_val = df_mae_cy[j][i]\n",
    "            min_ix = j\n",
    "    # append the minimum value and its index to the output lists\n",
    "    best_res_mae_cy.append(min_val)\n",
    "    ix_lags_mae_cy.append(min_ix)\n",
    "\n",
    "# print the output lists\n",
    "print(\"Best MAE results:\", best_res_mae_cy)\n",
    "print(\"Index of best results:\", ix_lags_mae_cy)\n",
    "\n",
    "# iterate over the indices of the inner lists\n",
    "for i in range(len(df_mse_cy[0])):\n",
    "    # initialize the variables to store the minimum value and its index\n",
    "    min_val = None\n",
    "    min_ix = None\n",
    "    # iterate over the outer list\n",
    "    for j in range(len(df_mse_cy)):\n",
    "        # check if the current value is smaller than the minimum value\n",
    "        if min_val is None or df_mse_cy[j][i] < min_val:\n",
    "            # if so, update the minimum value and its index\n",
    "            min_val = df_mse_cy[j][i]\n",
    "            min_ix = j\n",
    "    # append the minimum value and its index to the output lists\n",
    "    best_res_mse_cy.append(min_val)\n",
    "    ix_lags_mse_cy.append(min_ix)\n",
    "\n",
    "# print the output lists\n",
    "print(\"Best MAE results:\", best_res_mse_cy)\n",
    "print(\"Index of best results:\", ix_lags_mse_cy)"
   ]
  },
  {
   "cell_type": "code",
   "execution_count": null,
   "id": "619b1c30",
   "metadata": {},
   "outputs": [],
   "source": [
    "best_res_mae_cy = []\n",
    "best_res_mse_cy = []\n",
    "ix_lags_mae_cy = []\n",
    "ix_lags_mse_cy = []\n",
    "\n",
    "# Block Cross Validation\n",
    "for d, mae, mse in zip(cys_dfs, df_mae_cy, df_mse_cy):\n",
    "    best_res_mae_cy.append(min(mae))\n",
    "    best_res_mse_cy.append(min(mse))\n",
    "    \n",
    "    ix_lags_mae_cy.append(mae.index(min(mae)))\n",
    "    ix_lags_mse_cy.append(mse.index(min(mse)))\n",
    "\n",
    "    print(str(d[ix_lags_mae_cy[-1]].columns[0]), ': \\n\\t - MAE: ix = ', ix_lags_mae_cy[-1], ' --- val = ', best_res_mae_cy[-1],\n",
    "         '\\n\\t - MSE: ix = ', ix_lags_mse_cy[-1], ' --- val = ', best_res_mse_cy[-1])"
   ]
  },
  {
   "cell_type": "markdown",
   "id": "41dd0750",
   "metadata": {},
   "source": [
    "<span style='background :violet' > Best model for TSCV </span>"
   ]
  },
  {
   "cell_type": "code",
   "execution_count": null,
   "id": "3f5fbfa1",
   "metadata": {},
   "outputs": [],
   "source": [
    "'''best_res_mae_tscv_cy = []\n",
    "best_res_mse_tscv_cy = []\n",
    "ix_lags_mae_tscv_cy = []\n",
    "ix_lags_mse_tscv_cy = []\n",
    "\n",
    "# iterate over the indices of the inner lists\n",
    "for i in range(len(df_mae_tscv_cy[0])):\n",
    "    # initialize the variables to store the minimum value and its index\n",
    "    min_val = None\n",
    "    min_ix = None\n",
    "    # iterate over the outer list\n",
    "    for j in range(len(df_mae_tscv_cy)):\n",
    "        # check if the current value is smaller than the minimum value\n",
    "        if min_val is None or df_mae_tscv_cy[j][i] < min_val:\n",
    "            # if so, update the minimum value and its index\n",
    "            min_val = df_mae_tscv_cy[j][i]\n",
    "            min_ix = j\n",
    "    # append the minimum value and its index to the output lists\n",
    "    best_res_mae_tscv_cy.append(min_val)\n",
    "    ix_lags_mae_tscv_cy.append(min_ix)\n",
    "\n",
    "# print the output lists\n",
    "print(\"Best MAE results:\", best_res_mae_tscv_cy)\n",
    "print(\"Index of best results:\", ix_lags_mae_tscv_cy)\n",
    "\n",
    "# iterate over the indices of the inner lists\n",
    "for i in range(len(df_mse_cy[0])):\n",
    "    # initialize the variables to store the minimum value and its index\n",
    "    min_val = None\n",
    "    min_ix = None\n",
    "    # iterate over the outer list\n",
    "    for j in range(len(df_mse_cy)):\n",
    "        # check if the current value is smaller than the minimum value\n",
    "        if min_val is None or df_mse_cy[j][i] < min_val:\n",
    "            # if so, update the minimum value and its index\n",
    "            min_val = df_mse_cy[j][i]\n",
    "            min_ix = j\n",
    "    # append the minimum value and its index to the output lists\n",
    "    best_res_mse_tscv_cy.append(min_val)\n",
    "    ix_lags_mse_tscv_cy.append(min_ix)\n",
    "\n",
    "# print the output lists\n",
    "print(\"Best MAE results:\", best_res_mse_tscv_cy)\n",
    "print(\"Index of best results:\", ix_lags_mse_tscv_cy)'''"
   ]
  },
  {
   "cell_type": "markdown",
   "id": "ffcd6db2",
   "metadata": {},
   "source": [
    "<span style='background :violet' > Best model for BCV </span>"
   ]
  },
  {
   "cell_type": "code",
   "execution_count": null,
   "id": "0ce16da4",
   "metadata": {},
   "outputs": [],
   "source": [
    "best_res_mae_bcv_cy = []\n",
    "best_res_mse_bcv_cy = []\n",
    "ix_lags_mae_bcv_cy = []\n",
    "ix_lags_mse_bcv_cy = []\n",
    "\n",
    "# iterate over the indices of the inner lists\n",
    "for i in range(len(df_mae_bcv_cy[0])):\n",
    "    # initialize the variables to store the minimum value and its index\n",
    "    min_val = None\n",
    "    min_ix = None\n",
    "    # iterate over the outer list\n",
    "    for j in range(len(df_mae_bcv_cy)):\n",
    "        # check if the current value is smaller than the minimum value\n",
    "        if min_val is None or df_mae_bcv_cy[j][i] < min_val:\n",
    "            # if so, update the minimum value and its index\n",
    "            min_val = df_mae_bcv_cy[j][i]\n",
    "            min_ix = j\n",
    "    # append the minimum value and its index to the output lists\n",
    "    best_res_mae_bcv_cy.append(min_val)\n",
    "    ix_lags_mae_bcv_cy.append(min_ix)\n",
    "\n",
    "# print the output lists\n",
    "print(\"Best MAE results:\", best_res_mae_bcv_cy)\n",
    "print(\"Index of best results:\", ix_lags_mae_bcv_cy)\n",
    "\n",
    "# iterate over the indices of the inner lists\n",
    "for i in range(len(df_mse_cy[0])):\n",
    "    # initialize the variables to store the minimum value and its index\n",
    "    min_val = None\n",
    "    min_ix = None\n",
    "    # iterate over the outer list\n",
    "    for j in range(len(df_mse_cy)):\n",
    "        # check if the current value is smaller than the minimum value\n",
    "        if min_val is None or df_mse_cy[j][i] < min_val:\n",
    "            # if so, update the minimum value and its index\n",
    "            min_val = df_mse_cy[j][i]\n",
    "            min_ix = j\n",
    "    # append the minimum value and its index to the output lists\n",
    "    best_res_mse_bcv_cy.append(min_val)\n",
    "    ix_lags_mse_bcv_cy.append(min_ix)\n",
    "\n",
    "# print the output lists\n",
    "print(\"Best MAE results:\", best_res_mse_bcv_cy)\n",
    "print(\"Index of best results:\", ix_lags_mse_bcv_cy)"
   ]
  },
  {
   "cell_type": "markdown",
   "id": "032b638c",
   "metadata": {},
   "source": [
    "### <span style='background :lightgreen' > Compare Results </span>"
   ]
  },
  {
   "cell_type": "code",
   "execution_count": null,
   "id": "112226a7",
   "metadata": {},
   "outputs": [],
   "source": []
  },
  {
   "cell_type": "code",
   "execution_count": null,
   "id": "5a57bbf2",
   "metadata": {},
   "outputs": [],
   "source": []
  },
  {
   "cell_type": "markdown",
   "id": "185aa69a",
   "metadata": {},
   "source": [
    "# <span style='background :Beige' > Mixed Time Features </span>"
   ]
  },
  {
   "cell_type": "markdown",
   "id": "6d982a87",
   "metadata": {},
   "source": [
    "#### <span style='background :orange' > Now, because of the random forest condition we want to know if it is better a combination of both or not, by letting the most important variables as unic original features, Vs best Cy model </span>"
   ]
  },
  {
   "cell_type": "markdown",
   "id": "e5f7c834",
   "metadata": {},
   "source": [
    "#### <span style='background :skyblue' > Create New mixed Df to evaluate </span>"
   ]
  },
  {
   "cell_type": "code",
   "execution_count": null,
   "id": "d01b9668",
   "metadata": {},
   "outputs": [],
   "source": [
    "mixxx_df = []"
   ]
  },
  {
   "cell_type": "code",
   "execution_count": null,
   "id": "d84cec05",
   "metadata": {},
   "outputs": [],
   "source": [
    "# Reset\n",
    "mixed_df = []\n",
    "for i in range(len(df_list_tf1)):\n",
    "    mixed_df.append(df_list_tf1[i].copy())"
   ]
  },
  {
   "cell_type": "markdown",
   "id": "84930dde",
   "metadata": {},
   "source": [
    "<span style='background :orange' > We are asumming the best model is the one with sin/cos Values</span>"
   ]
  },
  {
   "cell_type": "code",
   "execution_count": null,
   "id": "6d1d3780",
   "metadata": {},
   "outputs": [],
   "source": [
    "cs = ['quarter', 'month', 'week']"
   ]
  },
  {
   "cell_type": "code",
   "execution_count": null,
   "id": "fd2f8380",
   "metadata": {},
   "outputs": [],
   "source": [
    "# New Cyclical_df_list\n",
    "for i in range(len(mixed_df)):\n",
    "    \n",
    "    # Add legit Cyclical Tf:\n",
    "    if len(cs) != 0:\n",
    "        for cy in cy_list:\n",
    "            mixed_df[i] = pd.concat([mixed_df[i],cy], axis=1)\n",
    "        \n",
    "    # Remove the tf we already have:\n",
    "    mixed_df[i].drop(['quarter', 'month', 'week', 'day', 'dayofyear', 'dayofweek'], axis=1, inplace=True)"
   ]
  },
  {
   "cell_type": "code",
   "execution_count": null,
   "id": "9fcd2fce",
   "metadata": {},
   "outputs": [],
   "source": [
    "mixxx_df.append(mixed_df)"
   ]
  },
  {
   "cell_type": "code",
   "execution_count": null,
   "id": "59e35213",
   "metadata": {
    "scrolled": true
   },
   "outputs": [],
   "source": [
    "for a in mixxx_df[0]:\n",
    "    print(a.columns)"
   ]
  },
  {
   "cell_type": "markdown",
   "id": "916cc64b",
   "metadata": {},
   "source": [
    "<span style='background :orange' > We are asumming the best model is the one with sin/cos Values, just in case we do it also with Legit Cy Values </span>"
   ]
  },
  {
   "cell_type": "code",
   "execution_count": null,
   "id": "ef46963a",
   "metadata": {},
   "outputs": [],
   "source": [
    "# Reset\n",
    "mixed_df = []\n",
    "for i in range(len(df_list_tf1)):\n",
    "    mixed_df.append(df_list_tf1[i].copy())"
   ]
  },
  {
   "cell_type": "code",
   "execution_count": null,
   "id": "0cdc4c4a",
   "metadata": {},
   "outputs": [],
   "source": [
    "# New Cyclical_df_list\n",
    "for i in range(len(mixed_df)):\n",
    "    \n",
    "    # Add legit Cyclical Tf:\n",
    "    if len(cs) != 0:\n",
    "        for c in cs:\n",
    "            mixed_df[i][c + 'sin'] = cy_sin(mixed_df[i], c)\n",
    "            mixed_df[i][c + 'cos'] = cy_cos(mixed_df[i], c)\n",
    "        \n",
    "    # Remove the tf we already have:\n",
    "    mixed_df[i].drop(['quarter', 'month', 'week', 'day', 'dayofyear', 'dayofweek'], axis=1, inplace=True)"
   ]
  },
  {
   "cell_type": "code",
   "execution_count": null,
   "id": "7a99567f",
   "metadata": {},
   "outputs": [],
   "source": [
    "mixxx_df.append(mixed_df)"
   ]
  },
  {
   "cell_type": "code",
   "execution_count": null,
   "id": "819f6734",
   "metadata": {},
   "outputs": [],
   "source": [
    "for a in mixxx_df[1]:\n",
    "    print(a.columns)"
   ]
  },
  {
   "cell_type": "code",
   "execution_count": null,
   "id": "4d6e95dd",
   "metadata": {},
   "outputs": [],
   "source": []
  },
  {
   "cell_type": "markdown",
   "id": "e2674b5f",
   "metadata": {},
   "source": [
    "### <span style='background :lightgreen' > Predict </span>"
   ]
  },
  {
   "cell_type": "code",
   "execution_count": null,
   "id": "807393bb",
   "metadata": {},
   "outputs": [],
   "source": [
    "# Reset\n",
    "mixed_df = []\n",
    "for i in range(len(df_list_tf1)):\n",
    "    mixed_df.append(df_list_tf1[i].copy())"
   ]
  },
  {
   "cell_type": "code",
   "execution_count": null,
   "id": "ec12d5d8",
   "metadata": {},
   "outputs": [],
   "source": [
    "for d in mixxx_df:\n",
    "    for dd in d:\n",
    "        dd.dropna(axis=1, inplace=True)"
   ]
  },
  {
   "cell_type": "markdown",
   "id": "964a1527",
   "metadata": {},
   "source": [
    "#### <span style='background :skyblue' > Basic </span>"
   ]
  },
  {
   "cell_type": "code",
   "execution_count": null,
   "id": "5af1502b",
   "metadata": {},
   "outputs": [],
   "source": [
    "%%time\n",
    "\n",
    "df_mae_cy_mix = []\n",
    "df_mse_cy_mix = []\n",
    "df_var_i_cy_mix = []\n",
    "\n",
    "for d in mixxx_df:\n",
    "    mix_mae_cy_mix = []\n",
    "    mix_mse_cy_mix = []\n",
    "    mix_vi_cy_mix = []\n",
    "\n",
    "    # Diferent Lags Loop\n",
    "    for df_vi, cy_i in zip(d, range(len(d))):\n",
    "        sim_mae_cy_mix = []\n",
    "        sim_mse_cy_mix = []\n",
    "        sim_vi_cy_mix = []\n",
    "        \n",
    "        target = df_vi.columns[0]\n",
    "        \n",
    "        # Simulation Loop\n",
    "        for sim in range(n_sims):\n",
    "            #print('-- Sim Nº', sim, '--\\n')\n",
    "            mae_cy_mix , mse_cy_mix, vi_cy_mix = tree_feature_importance(df_vi, target, split=n_splits, plot = 3, r = 1)\n",
    "        \n",
    "            # Save data -- SIM\n",
    "            sim_mae_cy_mix.append(mae_cy_mix)\n",
    "            sim_mse_cy_mix.append(mse_cy_mix)\n",
    "            sim_vi_cy_mix.append(vi_cy_mix)\n",
    "        \n",
    "            #print('mae = ', mae)\n",
    "            #print('mse = ', mse)\n",
    "            #print('vi -- \\n', vi, '\\n')\n",
    "            #print('feature --\\n', vi['feature'], '\\n\\nimportance -- \\n', vi['importance'], '\\n\\n')\n",
    "    \n",
    "        #print('\\n\\nMean Evaluation LAGS ', lag_i , ' METRICS')\n",
    "        #print('MAE ', np.mean(sim_mae))\n",
    "        #print('MSE ', np.mean(sim_mse))\n",
    "\n",
    "        mean_sim_vi_cy_mix = pd.DataFrame(columns = ['feature', 'importance'])\n",
    "    \n",
    "        # Loop to make variable importance simulation mean\n",
    "        for i,col in zip(range(sim_vi_cy_mix[0].shape[0]), sim_vi_cy_mix[0]['feature']):\n",
    "            aux = []\n",
    "    \n",
    "            for j in range(n_sims):\n",
    "                aux.append(sim_vi_cy_mix[j]['importance'][i])\n",
    "    \n",
    "            mean_sim_vi_cy_mix.loc[i, 'feature'] = col\n",
    "            mean_sim_vi_cy_mix.loc[i, 'importance'] = np.mean(aux)\n",
    "\n",
    "        #print('\\n Mean Variable Importance LAGS DATAFRAMES \\n')\n",
    "        #mean_sim_vi.head()\n",
    "    \n",
    "        # Save Data -- LAG Loop\n",
    "        mix_mae_cy_mix.append(np.mean(sim_mae_cy_mix))\n",
    "        mix_mse_cy_mix.append(np.mean(sim_mse_cy_mix))\n",
    "        mix_vi_cy_mix.append(mean_sim_vi_cy_mix)\n",
    "    \n",
    "    # Save Data -- VARIABLES/FEATURES\n",
    "\n",
    "    #print(lag_mae)\n",
    "    #print(lag_mse)\n",
    "    #print(lag_vi)\n",
    "    \n",
    "    df_mae_cy_mix.append(mix_mae_cy_mix)\n",
    "    df_mse_cy_mix.append(mix_mse_cy_mix)\n",
    "    df_var_i_cy_mix.append(mix_vi_cy_mix)"
   ]
  },
  {
   "cell_type": "code",
   "execution_count": null,
   "id": "1fe83ad2",
   "metadata": {},
   "outputs": [],
   "source": [
    "for a,e,i in zip(df_mae_cy_mix, df_mse_cy_mix, df_var_i_cy_mix):\n",
    "    print(a)\n",
    "    print(e, '\\n')\n",
    "    # print(i, '\\n')\n",
    "\n",
    "#print(df_mae)\n",
    "#print(df_mse)\n",
    "#print(df_vi)"
   ]
  },
  {
   "cell_type": "markdown",
   "id": "7ae8ed31",
   "metadata": {},
   "source": [
    "#### <span style='background :skyblue' > CV </span>"
   ]
  },
  {
   "cell_type": "markdown",
   "id": "e83dca42",
   "metadata": {},
   "source": [
    "<span style='background :skyblue' > TSCV </span>"
   ]
  },
  {
   "cell_type": "code",
   "execution_count": null,
   "id": "0b9d761d",
   "metadata": {},
   "outputs": [],
   "source": [
    "'''%%time\n",
    "\n",
    "df_mae_tscv_cy_mix = []\n",
    "df_mse_tscv_cy_mix = []\n",
    "df_var_i_tscv_cy_mix = []\n",
    "\n",
    "\n",
    "for d in mixxx_df:\n",
    "    mix_mae_tscv_cy_mix = []\n",
    "    mix_mse_tscv_cy_mix = []\n",
    "    mix_vi_tscv_cy_mix = []\n",
    "    print('___________________________________________________________________________________________________________________')\n",
    "\n",
    "    # Diferent Lags Loop\n",
    "    for df_vi, cy_i in zip(d, range(len(d))):\n",
    "        print('888888888888888888888888888888888888888888888888888888888888888888888888888888888888888888888888888888888888888')\n",
    "        sim_mae_tscv_cy_mix = []\n",
    "        sim_mse_tscv_cy_mix = []\n",
    "        sim_vi_tscv_cy_mix = []\n",
    "        \n",
    "        target = df_vi.columns[0]\n",
    "        \n",
    "        # Simulation Loop\n",
    "        for sim in range(n_sims_cv):\n",
    "            #print('-- Sim Nº', sim, '--\\n')\n",
    "            mae_tscv_cy_mix , mse_tscv_cy_mix, vi_tscv_cy_mix = tree_feature_importance_cv(df_vi, target = df_vi.columns[0], cv_split=n_splits_cv, r = 0)\n",
    "        \n",
    "            # Save data -- SIM\n",
    "            sim_mae_tscv_cy_mix.append(mae_tscv_cy_mix)\n",
    "            sim_mse_tscv_cy_mix.append(mse_tscv_cy_mix)\n",
    "            sim_vi_tscv_cy_mix.append(vi_tscv_cy_mix)\n",
    "        \n",
    "            #print('mae = ', mae)\n",
    "            #print('mse = ', mse)\n",
    "            #print('vi -- \\n', vi, '\\n')\n",
    "            #print('feature --\\n', vi['feature'], '\\n\\nimportance -- \\n', vi['importance'], '\\n\\n')\n",
    "    \n",
    "        #print('\\n\\nMean Evaluation LAGS ', lag_i , ' METRICS')\n",
    "        #print('MAE ', np.mean(sim_mae))\n",
    "        #print('MSE ', np.mean(sim_mse))\n",
    "\n",
    "        mean_sim_vi_tscv_cy_mix = pd.DataFrame(columns = ['feature', 'importance'])\n",
    "    \n",
    "        # Loop to make variable importance simulation mean\n",
    "        for i,col in zip(range(sim_vi_tscv_cy_mix[0].shape[0]), sim_vi_tscv_cy_mix[0]['feature']):\n",
    "            aux = []\n",
    "    \n",
    "            for j in range(n_sims):\n",
    "                aux.append(sim_vi_tscv_cy_mix[j]['importance'][i])\n",
    "    \n",
    "            mean_sim_vi_tscv_cy_mix.loc[i, 'feature'] = col\n",
    "            mean_sim_vi_tscv_cy_mix.loc[i, 'importance'] = np.mean(aux)\n",
    "\n",
    "        #print('\\n Mean Variable Importance LAGS DATAFRAMES \\n')\n",
    "        #mean_sim_vi.head()\n",
    "    \n",
    "        # Save Data -- LAG Loop\n",
    "        mix_mae_tscv_cy_mix.append(np.round(np.mean(sim_mae_tscv_cy_mix), 3))\n",
    "        mix_mse_tscv_cy_mix.append(np.round(np.mean(sim_mse_tscv_cy_mix), 3))\n",
    "        mix_vi_tscv_cy_mix.append(mean_sim_vi_tscv_cy_mix)\n",
    "    \n",
    "    # Save Data -- VARIABLES/FEATURES\n",
    "\n",
    "    #print(lag_mae)\n",
    "    #print(lag_mse)\n",
    "    #print(lag_vi)\n",
    "    \n",
    "    df_mae_tscv_cy_mix.append(mix_mae_tscv_cy_mix)\n",
    "    df_mse_tscv_cy_mix.append(mix_mse_tscv_cy_mix)\n",
    "    df_var_i_tscv_cy_mix.append(mix_vi_tscv_cy_mix)'''"
   ]
  },
  {
   "cell_type": "code",
   "execution_count": null,
   "id": "8ac86ab7",
   "metadata": {},
   "outputs": [],
   "source": [
    "'''for a,e,i in zip(df_mae_tscv_cy_mix, df_mse_tscv_cy_mix, df_var_i_tscv_cy_mix):\n",
    "    print(a)\n",
    "    print(e, '\\n')\n",
    "    # print(i, '\\n')\n",
    "\n",
    "#print(df_mae)\n",
    "#print(df_mse)\n",
    "#print(df_vi)'''"
   ]
  },
  {
   "cell_type": "markdown",
   "id": "2060f6fd",
   "metadata": {},
   "source": [
    "<span style='background :skyblue' > BCV </span>"
   ]
  },
  {
   "cell_type": "code",
   "execution_count": null,
   "id": "f52094fe",
   "metadata": {},
   "outputs": [],
   "source": [
    "%%time\n",
    "\n",
    "df_mae_bcv_cy_mix = []\n",
    "df_mse_bcv_cy_mix = []\n",
    "df_var_i_bcv_cy_mix = []\n",
    "\n",
    "\n",
    "for d in mixxx_df:\n",
    "    mix_mae_bcv_cy_mix = []\n",
    "    mix_mse_bcv_cy_mix = []\n",
    "    mix_vi_bcv_cy_mix = []\n",
    "    print('___________________________________________________________________________________________________________________')\n",
    "\n",
    "    # Diferent Lags Loop\n",
    "    for df_vi, cy_i in zip(d, range(len(d))):\n",
    "        print('888888888888888888888888888888888888888888888888888888888888888888888888888888888888888888888888888888888888888')\n",
    "        sim_mae_bcv_cy_mix = []\n",
    "        sim_mse_bcv_cy_mix = []\n",
    "        sim_vi_bcv_cy_mix = []\n",
    "        \n",
    "        target = df_vi.columns[0]\n",
    "        \n",
    "        # Simulation Loop\n",
    "        for sim in range(n_sims_cv):\n",
    "            #print('-- Sim Nº', sim, '--\\n')\n",
    "            mae_bcv_cy_mix , mse_bcv_cy_mix, vi_bcv_cy_mix = tree_feature_importance_cv(df_vi, target = df_vi.columns[0], cv_split=n_splits_cv, r = 0)\n",
    "        \n",
    "            # Save data -- SIM\n",
    "            sim_mae_bcv_cy_mix.append(mae_bcv_cy_mix)\n",
    "            sim_mse_bcv_cy_mix.append(mse_bcv_cy_mix)\n",
    "            sim_vi_bcv_cy_mix.append(vi_bcv_cy_mix)\n",
    "        \n",
    "            #print('mae = ', mae)\n",
    "            #print('mse = ', mse)\n",
    "            #print('vi -- \\n', vi, '\\n')\n",
    "            #print('feature --\\n', vi['feature'], '\\n\\nimportance -- \\n', vi['importance'], '\\n\\n')\n",
    "    \n",
    "        #print('\\n\\nMean Evaluation LAGS ', lag_i , ' METRICS')\n",
    "        #print('MAE ', np.mean(sim_mae))\n",
    "        #print('MSE ', np.mean(sim_mse))\n",
    "\n",
    "        mean_sim_vi_bcv_cy_mix = pd.DataFrame(columns = ['feature', 'importance'])\n",
    "    \n",
    "        # Loop to make variable importance simulation mean\n",
    "        for i,col in zip(range(sim_vi_bcv_cy_mix[0].shape[0]), sim_vi_bcv_cy_mix[0]['feature']):\n",
    "            aux = []\n",
    "    \n",
    "            for j in range(n_sims):\n",
    "                aux.append(sim_vi_bcv_cy_mix[j]['importance'][i])\n",
    "    \n",
    "            mean_sim_vi_bcv_cy_mix.loc[i, 'feature'] = col\n",
    "            mean_sim_vi_bcv_cy_mix.loc[i, 'importance'] = np.mean(aux)\n",
    "\n",
    "        #print('\\n Mean Variable Importance LAGS DATAFRAMES \\n')\n",
    "        #mean_sim_vi.head()\n",
    "    \n",
    "        # Save Data -- LAG Loop\n",
    "        mix_mae_bcv_cy_mix.append(np.round(np.mean(sim_mae_bcv_cy_mix), 3))\n",
    "        mix_mse_bcv_cy_mix.append(np.round(np.mean(sim_mse_bcv_cy_mix), 3))\n",
    "        mix_vi_bcv_cy_mix.append(mean_sim_vi_bcv_cy_mix)\n",
    "    \n",
    "    # Save Data -- VARIABLES/FEATURES\n",
    "\n",
    "    #print(lag_mae)\n",
    "    #print(lag_mse)\n",
    "    #print(lag_vi)\n",
    "    \n",
    "    df_mae_bcv_cy_mix.append(mix_mae_bcv_cy_mix)\n",
    "    df_mse_bcv_cy_mix.append(mix_mse_bcv_cy_mix)\n",
    "    df_var_i_bcv_cy_mix.append(mix_vi_bcv_cy_mix)    "
   ]
  },
  {
   "cell_type": "code",
   "execution_count": null,
   "id": "90666562",
   "metadata": {},
   "outputs": [],
   "source": [
    "for a,e,i in zip(df_mae_bcv_cy_mix, df_mse_bcv_cy_mix, df_var_i_bcv_cy_mix):\n",
    "    print(a)\n",
    "    print(e, '\\n')\n",
    "    # print(i, '\\n')\n",
    "\n",
    "#print(df_mae)\n",
    "#print(df_mse)\n",
    "#print(df_vi)"
   ]
  },
  {
   "cell_type": "markdown",
   "id": "49ada9d5",
   "metadata": {},
   "source": [
    "### <span style='background :lightgreen' > Compare Results </span>"
   ]
  },
  {
   "cell_type": "markdown",
   "id": "9eae6f40",
   "metadata": {},
   "source": [
    "<span style='background :violet' > Best model Basic Prediction </span>"
   ]
  },
  {
   "cell_type": "code",
   "execution_count": null,
   "id": "dd2a92ae",
   "metadata": {},
   "outputs": [],
   "source": [
    "best_res_mae_cy_mix = []\n",
    "best_res_mse_cy_mix = []\n",
    "ix_lags_mae_cy_mix = []\n",
    "ix_lags_mse_cy_mix = []\n",
    "\n",
    "# iterate over the indices of the inner lists\n",
    "for i in range(len(df_mae_cy_mix[0])):\n",
    "    # initialize the variables to store the minimum value and its index\n",
    "    min_val = None\n",
    "    min_ix = None\n",
    "    # iterate over the outer list\n",
    "    for j in range(len(df_mae_cy_mix)):\n",
    "        # check if the current value is smaller than the minimum value\n",
    "        if min_val is None or df_mae_cy_mix[j][i] < min_val:\n",
    "            # if so, update the minimum value and its index\n",
    "            min_val = df_mae_cy_mix[j][i]\n",
    "            min_ix = j\n",
    "    # append the minimum value and its index to the output lists\n",
    "    best_res_mae_cy_mix.append(min_val)\n",
    "    ix_lags_mae_cy_mix.append(min_ix)\n",
    "\n",
    "# print the output lists\n",
    "print(\"Best MAE results:\", best_res_mae_cy_mix)\n",
    "print(\"Index of best results:\", ix_lags_mae_cy_mix)\n",
    "\n",
    "# iterate over the indices of the inner lists\n",
    "for i in range(len(df_mse_cy_mix[0])):\n",
    "    # initialize the variables to store the minimum value and its index\n",
    "    min_val = None\n",
    "    min_ix = None\n",
    "    # iterate over the outer list\n",
    "    for j in range(len(df_mse_cy_mix)):\n",
    "        # check if the current value is smaller than the minimum value\n",
    "        if min_val is None or df_mse_cy_mix[j][i] < min_val:\n",
    "            # if so, update the minimum value and its index\n",
    "            min_val = df_mse_cy_mix[j][i]\n",
    "            min_ix = j\n",
    "    # append the minimum value and its index to the output lists\n",
    "    best_res_mse_cy_mix.append(min_val)\n",
    "    ix_lags_mse_cy_mix.append(min_ix)\n",
    "\n",
    "# print the output lists\n",
    "print(\"Best MAE results:\", best_res_mse_cy_mix)\n",
    "print(\"Index of best results:\", ix_lags_mse_cy_mix)"
   ]
  },
  {
   "cell_type": "markdown",
   "id": "42c1606e",
   "metadata": {},
   "source": [
    "<span style='background :violet' > Best model for TSCV </span>"
   ]
  },
  {
   "cell_type": "code",
   "execution_count": null,
   "id": "c8a8d808",
   "metadata": {},
   "outputs": [],
   "source": [
    "'''best_res_mae_tscv_cy_mix = []\n",
    "best_res_mse_tscv_cy_mix = []\n",
    "ix_lags_mae_tscv_cy_mix = []\n",
    "ix_lags_mse_tscv_cy_mix = []\n",
    "\n",
    "# iterate over the indices of the inner lists\n",
    "for i in range(len(df_mae_tscv_cy_mix[0])):\n",
    "    # initialize the variables to store the minimum value and its index\n",
    "    min_val = None\n",
    "    min_ix = None\n",
    "    # iterate over the outer list\n",
    "    for j in range(len(df_mae_tscv_cy_mix)):\n",
    "        # check if the current value is smaller than the minimum value\n",
    "        if min_val is None or df_mae_tscv_cy_mix[j][i] < min_val:\n",
    "            # if so, update the minimum value and its index\n",
    "            min_val = df_mae_tscv_cy_mix[j][i]\n",
    "            min_ix = j\n",
    "    # append the minimum value and its index to the output lists\n",
    "    best_res_mae_tscv_cy_mix.append(min_val)\n",
    "    ix_lags_mae_tscv_cy_mix.append(min_ix)\n",
    "\n",
    "# print the output lists\n",
    "print(\"Best MAE results:\", best_res_mae_tscv_cy_mix)\n",
    "print(\"Index of best results:\", ix_lags_mae_tscv_cy_mix)\n",
    "\n",
    "# iterate over the indices of the inner lists\n",
    "for i in range(len(df_mse_cy_mix[0])):\n",
    "    # initialize the variables to store the minimum value and its index\n",
    "    min_val = None\n",
    "    min_ix = None\n",
    "    # iterate over the outer list\n",
    "    for j in range(len(df_mse_cy_mix)):\n",
    "        # check if the current value is smaller than the minimum value\n",
    "        if min_val is None or df_mse_cy_mix[j][i] < min_val:\n",
    "            # if so, update the minimum value and its index\n",
    "            min_val = df_mse_cy_mix[j][i]\n",
    "            min_ix = j\n",
    "    # append the minimum value and its index to the output lists\n",
    "    best_res_mse_tscv_cy_mix.append(min_val)\n",
    "    ix_lags_mse_tscv_cy_mix.append(min_ix)\n",
    "\n",
    "# print the output lists\n",
    "print(\"Best MAE results:\", best_res_mse_tscv_cy_mix)\n",
    "print(\"Index of best results:\", ix_lags_mse_tscv_cy_mix)'''"
   ]
  },
  {
   "cell_type": "markdown",
   "id": "d06f5ee6",
   "metadata": {},
   "source": [
    "<span style='background :violet' > Best model for BCV </span>"
   ]
  },
  {
   "cell_type": "code",
   "execution_count": null,
   "id": "b4edbc24",
   "metadata": {},
   "outputs": [],
   "source": [
    "best_res_mae_bcv_cy_mix = []\n",
    "best_res_mse_bcv_cy_mix = []\n",
    "ix_lags_mae_bcv_cy_mix = []\n",
    "ix_lags_mse_bcv_cy_mix = []\n",
    "\n",
    "# iterate over the indices of the inner lists\n",
    "for i in range(len(df_mae_bcv_cy_mix[0])):\n",
    "    # initialize the variables to store the minimum value and its index\n",
    "    min_val = None\n",
    "    min_ix = None\n",
    "    # iterate over the outer list\n",
    "    for j in range(len(df_mae_bcv_cy_mix)):\n",
    "        # check if the current value is smaller than the minimum value\n",
    "        if min_val is None or df_mae_bcv_cy_mix[j][i] < min_val:\n",
    "            # if so, update the minimum value and its index\n",
    "            min_val = df_mae_bcv_cy_mix[j][i]\n",
    "            min_ix = j\n",
    "    # append the minimum value and its index to the output lists\n",
    "    best_res_mae_bcv_cy_mix.append(min_val)\n",
    "    ix_lags_mae_bcv_cy_mix.append(min_ix)\n",
    "\n",
    "# print the output lists\n",
    "print(\"Best MAE results:\", best_res_mae_bcv_cy_mix)\n",
    "print(\"Index of best results:\", ix_lags_mae_bcv_cy_mix)\n",
    "\n",
    "# iterate over the indices of the inner lists\n",
    "for i in range(len(df_mse_cy_mix[0])):\n",
    "    # initialize the variables to store the minimum value and its index\n",
    "    min_val = None\n",
    "    min_ix = None\n",
    "    # iterate over the outer list\n",
    "    for j in range(len(df_mse_cy_mix)):\n",
    "        # check if the current value is smaller than the minimum value\n",
    "        if min_val is None or df_mse_cy_mix[j][i] < min_val:\n",
    "            # if so, update the minimum value and its index\n",
    "            min_val = df_mse_cy_mix[j][i]\n",
    "            min_ix = j\n",
    "    # append the minimum value and its index to the output lists\n",
    "    best_res_mse_bcv_cy_mix.append(min_val)\n",
    "    ix_lags_mse_bcv_cy_mix.append(min_ix)\n",
    "\n",
    "# print the output lists\n",
    "print(\"Best MAE results:\", best_res_mse_bcv_cy_mix)\n",
    "print(\"Index of best results:\", ix_lags_mse_bcv_cy_mix)"
   ]
  },
  {
   "cell_type": "code",
   "execution_count": null,
   "id": "3f4efc4c",
   "metadata": {},
   "outputs": [],
   "source": [
    "# End Time\n",
    "end_time_infi = time.time()\n",
    "print(\"--- %s seconds ---\" % (end_time_infi - start_time_infi))"
   ]
  },
  {
   "cell_type": "markdown",
   "id": "b8112851",
   "metadata": {},
   "source": [
    "## <span style='background :orange' > Una vez escogido el mejor modelo comparamos: Best_lags_Model, Best_TF_Model, Best_CyTF_Model y Best_MIX_TF_Model </span>"
   ]
  },
  {
   "cell_type": "markdown",
   "id": "df45e0f9",
   "metadata": {},
   "source": [
    "# <span style='background :red' > Select Best Model </span>\n",
    "# <span style='background :red' > Select Best Model </span>\n",
    "# <span style='background :red' > Select Best Model </span>\n",
    "# <span style='background :red' > Select Best Model </span>\n",
    "# <span style='background :red' > Select Best Model </span>\n",
    "# <span style='background :red' > Select Best Model </span>"
   ]
  },
  {
   "cell_type": "markdown",
   "id": "0eb6926e",
   "metadata": {},
   "source": [
    "# <span style='background :orange' > Some Extra </span>"
   ]
  },
  {
   "cell_type": "markdown",
   "id": "4435389c",
   "metadata": {},
   "source": [
    "#### <span style='background :orange' > Create Same kind of simulation for Time Features instead of 1 by one -- Change all </span>"
   ]
  },
  {
   "cell_type": "markdown",
   "id": "aa91b582",
   "metadata": {},
   "source": [
    "#### <span style='background :orange' > Make a function that makes together Basic Pred -- TSCV & BCV </span>"
   ]
  }
 ],
 "metadata": {
  "kernelspec": {
   "display_name": "Python 3 (ipykernel)",
   "language": "python",
   "name": "python3"
  },
  "language_info": {
   "codemirror_mode": {
    "name": "ipython",
    "version": 3
   },
   "file_extension": ".py",
   "mimetype": "text/x-python",
   "name": "python",
   "nbconvert_exporter": "python",
   "pygments_lexer": "ipython3",
   "version": "3.9.11"
  }
 },
 "nbformat": 4,
 "nbformat_minor": 5
}
