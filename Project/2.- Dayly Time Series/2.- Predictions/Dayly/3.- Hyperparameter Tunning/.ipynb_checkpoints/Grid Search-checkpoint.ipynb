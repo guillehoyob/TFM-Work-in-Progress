{
 "cells": [
  {
   "cell_type": "markdown",
   "id": "07b08a01",
   "metadata": {},
   "source": [
    "# Grid Search"
   ]
  },
  {
   "cell_type": "code",
   "execution_count": 1,
   "id": "0b722c1f",
   "metadata": {},
   "outputs": [
    {
     "name": "stdout",
     "output_type": "stream",
     "text": [
      "Requirement already satisfied: pandas in c:\\users\\ghoyo\\appdata\\local\\programs\\python\\python310\\lib\\site-packages (1.4.3)\n",
      "Requirement already satisfied: python-dateutil>=2.8.1 in c:\\users\\ghoyo\\appdata\\local\\programs\\python\\python310\\lib\\site-packages (from pandas) (2.8.2)\n",
      "Requirement already satisfied: pytz>=2020.1 in c:\\users\\ghoyo\\appdata\\local\\programs\\python\\python310\\lib\\site-packages (from pandas) (2022.2.1)\n",
      "Requirement already satisfied: numpy>=1.21.0 in c:\\users\\ghoyo\\appdata\\local\\programs\\python\\python310\\lib\\site-packages (from pandas) (1.22.4)\n",
      "Requirement already satisfied: six>=1.5 in c:\\users\\ghoyo\\appdata\\local\\programs\\python\\python310\\lib\\site-packages (from python-dateutil>=2.8.1->pandas) (1.16.0)\n",
      "Requirement already satisfied: matplotlib in c:\\users\\ghoyo\\appdata\\local\\programs\\python\\python310\\lib\\site-packages (3.5.3)\n",
      "Requirement already satisfied: numpy>=1.17 in c:\\users\\ghoyo\\appdata\\local\\programs\\python\\python310\\lib\\site-packages (from matplotlib) (1.22.4)\n",
      "Requirement already satisfied: fonttools>=4.22.0 in c:\\users\\ghoyo\\appdata\\local\\programs\\python\\python310\\lib\\site-packages (from matplotlib) (4.37.1)\n",
      "Requirement already satisfied: kiwisolver>=1.0.1 in c:\\users\\ghoyo\\appdata\\local\\programs\\python\\python310\\lib\\site-packages (from matplotlib) (1.4.4)\n",
      "Requirement already satisfied: pyparsing>=2.2.1 in c:\\users\\ghoyo\\appdata\\local\\programs\\python\\python310\\lib\\site-packages (from matplotlib) (3.0.7)\n",
      "Requirement already satisfied: cycler>=0.10 in c:\\users\\ghoyo\\appdata\\local\\programs\\python\\python310\\lib\\site-packages (from matplotlib) (0.11.0)\n",
      "Requirement already satisfied: python-dateutil>=2.7 in c:\\users\\ghoyo\\appdata\\local\\programs\\python\\python310\\lib\\site-packages (from matplotlib) (2.8.2)\n",
      "Requirement already satisfied: packaging>=20.0 in c:\\users\\ghoyo\\appdata\\local\\programs\\python\\python310\\lib\\site-packages (from matplotlib) (21.3)\n",
      "Requirement already satisfied: pillow>=6.2.0 in c:\\users\\ghoyo\\appdata\\local\\programs\\python\\python310\\lib\\site-packages (from matplotlib) (9.2.0)\n",
      "Requirement already satisfied: six>=1.5 in c:\\users\\ghoyo\\appdata\\local\\programs\\python\\python310\\lib\\site-packages (from python-dateutil>=2.7->matplotlib) (1.16.0)\n",
      "Requirement already satisfied: seaborn in c:\\users\\ghoyo\\appdata\\local\\programs\\python\\python310\\lib\\site-packages (0.12.0)\n",
      "Requirement already satisfied: pandas>=0.25 in c:\\users\\ghoyo\\appdata\\local\\programs\\python\\python310\\lib\\site-packages (from seaborn) (1.4.3)\n",
      "Requirement already satisfied: matplotlib>=3.1 in c:\\users\\ghoyo\\appdata\\local\\programs\\python\\python310\\lib\\site-packages (from seaborn) (3.5.3)\n",
      "Requirement already satisfied: numpy>=1.17 in c:\\users\\ghoyo\\appdata\\local\\programs\\python\\python310\\lib\\site-packages (from seaborn) (1.22.4)\n",
      "Requirement already satisfied: packaging>=20.0 in c:\\users\\ghoyo\\appdata\\local\\programs\\python\\python310\\lib\\site-packages (from matplotlib>=3.1->seaborn) (21.3)\n",
      "Requirement already satisfied: cycler>=0.10 in c:\\users\\ghoyo\\appdata\\local\\programs\\python\\python310\\lib\\site-packages (from matplotlib>=3.1->seaborn) (0.11.0)\n",
      "Requirement already satisfied: pyparsing>=2.2.1 in c:\\users\\ghoyo\\appdata\\local\\programs\\python\\python310\\lib\\site-packages (from matplotlib>=3.1->seaborn) (3.0.7)\n",
      "Requirement already satisfied: python-dateutil>=2.7 in c:\\users\\ghoyo\\appdata\\local\\programs\\python\\python310\\lib\\site-packages (from matplotlib>=3.1->seaborn) (2.8.2)\n",
      "Requirement already satisfied: kiwisolver>=1.0.1 in c:\\users\\ghoyo\\appdata\\local\\programs\\python\\python310\\lib\\site-packages (from matplotlib>=3.1->seaborn) (1.4.4)\n",
      "Requirement already satisfied: pillow>=6.2.0 in c:\\users\\ghoyo\\appdata\\local\\programs\\python\\python310\\lib\\site-packages (from matplotlib>=3.1->seaborn) (9.2.0)\n",
      "Requirement already satisfied: fonttools>=4.22.0 in c:\\users\\ghoyo\\appdata\\local\\programs\\python\\python310\\lib\\site-packages (from matplotlib>=3.1->seaborn) (4.37.1)\n",
      "Requirement already satisfied: pytz>=2020.1 in c:\\users\\ghoyo\\appdata\\local\\programs\\python\\python310\\lib\\site-packages (from pandas>=0.25->seaborn) (2022.2.1)\n",
      "Requirement already satisfied: six>=1.5 in c:\\users\\ghoyo\\appdata\\local\\programs\\python\\python310\\lib\\site-packages (from python-dateutil>=2.7->matplotlib>=3.1->seaborn) (1.16.0)\n",
      "Requirement already satisfied: scikit-learn in c:\\users\\ghoyo\\appdata\\local\\programs\\python\\python310\\lib\\site-packages (1.1.2)\n",
      "Requirement already satisfied: scipy>=1.3.2 in c:\\users\\ghoyo\\appdata\\local\\programs\\python\\python310\\lib\\site-packages (from scikit-learn) (1.9.3)\n",
      "Requirement already satisfied: numpy>=1.17.3 in c:\\users\\ghoyo\\appdata\\local\\programs\\python\\python310\\lib\\site-packages (from scikit-learn) (1.22.4)\n",
      "Requirement already satisfied: threadpoolctl>=2.0.0 in c:\\users\\ghoyo\\appdata\\local\\programs\\python\\python310\\lib\\site-packages (from scikit-learn) (3.1.0)\n",
      "Requirement already satisfied: joblib>=1.0.0 in c:\\users\\ghoyo\\appdata\\local\\programs\\python\\python310\\lib\\site-packages (from scikit-learn) (1.2.0)\n",
      "Requirement already satisfied: lightgbm in c:\\users\\ghoyo\\appdata\\local\\programs\\python\\python310\\lib\\site-packages (3.3.3)\n",
      "Requirement already satisfied: numpy in c:\\users\\ghoyo\\appdata\\local\\programs\\python\\python310\\lib\\site-packages (from lightgbm) (1.22.4)\n",
      "Requirement already satisfied: wheel in c:\\users\\ghoyo\\appdata\\local\\programs\\python\\python310\\lib\\site-packages (from lightgbm) (0.37.1)\n",
      "Requirement already satisfied: scipy in c:\\users\\ghoyo\\appdata\\local\\programs\\python\\python310\\lib\\site-packages (from lightgbm) (1.9.3)\n",
      "Requirement already satisfied: scikit-learn!=0.22.0 in c:\\users\\ghoyo\\appdata\\local\\programs\\python\\python310\\lib\\site-packages (from lightgbm) (1.1.2)\n",
      "Requirement already satisfied: joblib>=1.0.0 in c:\\users\\ghoyo\\appdata\\local\\programs\\python\\python310\\lib\\site-packages (from scikit-learn!=0.22.0->lightgbm) (1.2.0)\n",
      "Requirement already satisfied: threadpoolctl>=2.0.0 in c:\\users\\ghoyo\\appdata\\local\\programs\\python\\python310\\lib\\site-packages (from scikit-learn!=0.22.0->lightgbm) (3.1.0)\n",
      "Requirement already satisfied: dtale in c:\\users\\ghoyo\\appdata\\local\\programs\\python\\python310\\lib\\site-packages (2.9.0)\n",
      "Requirement already satisfied: et-xmlfile in c:\\users\\ghoyo\\appdata\\local\\programs\\python\\python310\\lib\\site-packages (from dtale) (1.1.0)\n",
      "Requirement already satisfied: pandas in c:\\users\\ghoyo\\appdata\\local\\programs\\python\\python310\\lib\\site-packages (from dtale) (1.4.3)\n",
      "Requirement already satisfied: missingno<=0.4.2 in c:\\users\\ghoyo\\appdata\\local\\programs\\python\\python310\\lib\\site-packages (from dtale) (0.4.2)\n",
      "Requirement already satisfied: openpyxl in c:\\users\\ghoyo\\appdata\\local\\programs\\python\\python310\\lib\\site-packages (from dtale) (3.0.10)\n",
      "Requirement already satisfied: six in c:\\users\\ghoyo\\appdata\\local\\programs\\python\\python310\\lib\\site-packages (from dtale) (1.16.0)\n",
      "Requirement already satisfied: dash-daq in c:\\users\\ghoyo\\appdata\\local\\programs\\python\\python310\\lib\\site-packages (from dtale) (0.5.0)\n",
      "Requirement already satisfied: squarify in c:\\users\\ghoyo\\appdata\\local\\programs\\python\\python310\\lib\\site-packages (from dtale) (0.4.3)\n",
      "Requirement already satisfied: lz4 in c:\\users\\ghoyo\\appdata\\local\\programs\\python\\python310\\lib\\site-packages (from dtale) (4.0.2)\n",
      "Requirement already satisfied: dash-colorscales in c:\\users\\ghoyo\\appdata\\local\\programs\\python\\python310\\lib\\site-packages (from dtale) (0.0.4)\n",
      "Requirement already satisfied: scikit-learn in c:\\users\\ghoyo\\appdata\\local\\programs\\python\\python310\\lib\\site-packages (from dtale) (1.1.2)\n",
      "Requirement already satisfied: strsimpy in c:\\users\\ghoyo\\appdata\\local\\programs\\python\\python310\\lib\\site-packages (from dtale) (0.2.1)\n",
      "Requirement already satisfied: Flask in c:\\users\\ghoyo\\appdata\\local\\programs\\python\\python310\\lib\\site-packages (from dtale) (2.2.2)\n",
      "Requirement already satisfied: flask-ngrok in c:\\users\\ghoyo\\appdata\\local\\programs\\python\\python310\\lib\\site-packages (from dtale) (0.0.25)\n",
      "Requirement already satisfied: statsmodels in c:\\users\\ghoyo\\appdata\\local\\programs\\python\\python310\\lib\\site-packages (from dtale) (0.13.2)\n",
      "Requirement already satisfied: xlrd in c:\\users\\ghoyo\\appdata\\local\\programs\\python\\python310\\lib\\site-packages (from dtale) (2.0.1)\n",
      "Requirement already satisfied: matplotlib in c:\\users\\ghoyo\\appdata\\local\\programs\\python\\python310\\lib\\site-packages (from dtale) (3.5.3)\n",
      "Requirement already satisfied: scipy in c:\\users\\ghoyo\\appdata\\local\\programs\\python\\python310\\lib\\site-packages (from dtale) (1.9.3)\n",
      "Requirement already satisfied: kaleido in c:\\users\\ghoyo\\appdata\\local\\programs\\python\\python310\\lib\\site-packages (from dtale) (0.2.1)\n",
      "Requirement already satisfied: seaborn in c:\\users\\ghoyo\\appdata\\local\\programs\\python\\python310\\lib\\site-packages (from dtale) (0.12.0)\n",
      "Requirement already satisfied: plotly>=5.0.0 in c:\\users\\ghoyo\\appdata\\local\\programs\\python\\python310\\lib\\site-packages (from dtale) (5.11.0)\n",
      "Requirement already satisfied: itsdangerous in c:\\users\\ghoyo\\appdata\\local\\programs\\python\\python310\\lib\\site-packages (from dtale) (2.1.2)\n",
      "Requirement already satisfied: Flask-Compress in c:\\users\\ghoyo\\appdata\\local\\programs\\python\\python310\\lib\\site-packages (from dtale) (1.13)\n",
      "Requirement already satisfied: numpy in c:\\users\\ghoyo\\appdata\\local\\programs\\python\\python310\\lib\\site-packages (from dtale) (1.22.4)\n",
      "Requirement already satisfied: xarray in c:\\users\\ghoyo\\appdata\\local\\programs\\python\\python310\\lib\\site-packages (from dtale) (2022.11.0)\n",
      "Requirement already satisfied: networkx in c:\\users\\ghoyo\\appdata\\local\\programs\\python\\python310\\lib\\site-packages (from dtale) (2.8.8)\n",
      "Requirement already satisfied: certifi in c:\\users\\ghoyo\\appdata\\local\\programs\\python\\python310\\lib\\site-packages (from dtale) (2021.10.8)\n",
      "Requirement already satisfied: dash>=2.0.0 in c:\\users\\ghoyo\\appdata\\local\\programs\\python\\python310\\lib\\site-packages (from dtale) (2.7.0)\n",
      "Requirement already satisfied: cycler in c:\\users\\ghoyo\\appdata\\local\\programs\\python\\python310\\lib\\site-packages (from dtale) (0.11.0)\n",
      "Requirement already satisfied: dash-bootstrap-components in c:\\users\\ghoyo\\appdata\\local\\programs\\python\\python310\\lib\\site-packages (from dtale) (1.2.1)\n",
      "Requirement already satisfied: requests in c:\\users\\ghoyo\\appdata\\local\\programs\\python\\python310\\lib\\site-packages (from dtale) (2.27.1)\n",
      "Requirement already satisfied: future>=0.14.0 in c:\\users\\ghoyo\\appdata\\local\\programs\\python\\python310\\lib\\site-packages (from dtale) (0.18.2)\n",
      "Requirement already satisfied: dash-core-components==2.0.0 in c:\\users\\ghoyo\\appdata\\local\\programs\\python\\python310\\lib\\site-packages (from dash>=2.0.0->dtale) (2.0.0)\n",
      "Requirement already satisfied: dash-html-components==2.0.0 in c:\\users\\ghoyo\\appdata\\local\\programs\\python\\python310\\lib\\site-packages (from dash>=2.0.0->dtale) (2.0.0)\n",
      "Requirement already satisfied: dash-table==5.0.0 in c:\\users\\ghoyo\\appdata\\local\\programs\\python\\python310\\lib\\site-packages (from dash>=2.0.0->dtale) (5.0.0)\n",
      "Requirement already satisfied: click>=8.0 in c:\\users\\ghoyo\\appdata\\local\\programs\\python\\python310\\lib\\site-packages (from Flask->dtale) (8.0.3)\n",
      "Requirement already satisfied: Werkzeug>=2.2.2 in c:\\users\\ghoyo\\appdata\\local\\programs\\python\\python310\\lib\\site-packages (from Flask->dtale) (2.2.2)\n",
      "Requirement already satisfied: Jinja2>=3.0 in c:\\users\\ghoyo\\appdata\\local\\programs\\python\\python310\\lib\\site-packages (from Flask->dtale) (3.1.2)\n",
      "Requirement already satisfied: tenacity>=6.2.0 in c:\\users\\ghoyo\\appdata\\local\\programs\\python\\python310\\lib\\site-packages (from plotly>=5.0.0->dtale) (8.1.0)\n",
      "Requirement already satisfied: brotli in c:\\users\\ghoyo\\appdata\\local\\programs\\python\\python310\\lib\\site-packages (from Flask-Compress->dtale) (1.0.9)\n",
      "Requirement already satisfied: pyparsing>=2.2.1 in c:\\users\\ghoyo\\appdata\\local\\programs\\python\\python310\\lib\\site-packages (from matplotlib->dtale) (3.0.7)\n",
      "Requirement already satisfied: packaging>=20.0 in c:\\users\\ghoyo\\appdata\\local\\programs\\python\\python310\\lib\\site-packages (from matplotlib->dtale) (21.3)\n",
      "Requirement already satisfied: python-dateutil>=2.7 in c:\\users\\ghoyo\\appdata\\local\\programs\\python\\python310\\lib\\site-packages (from matplotlib->dtale) (2.8.2)\n",
      "Requirement already satisfied: kiwisolver>=1.0.1 in c:\\users\\ghoyo\\appdata\\local\\programs\\python\\python310\\lib\\site-packages (from matplotlib->dtale) (1.4.4)\n",
      "Requirement already satisfied: fonttools>=4.22.0 in c:\\users\\ghoyo\\appdata\\local\\programs\\python\\python310\\lib\\site-packages (from matplotlib->dtale) (4.37.1)\n",
      "Requirement already satisfied: pillow>=6.2.0 in c:\\users\\ghoyo\\appdata\\local\\programs\\python\\python310\\lib\\site-packages (from matplotlib->dtale) (9.2.0)\n",
      "Requirement already satisfied: pytz>=2020.1 in c:\\users\\ghoyo\\appdata\\local\\programs\\python\\python310\\lib\\site-packages (from pandas->dtale) (2022.2.1)\n",
      "Requirement already satisfied: urllib3<1.27,>=1.21.1 in c:\\users\\ghoyo\\appdata\\local\\programs\\python\\python310\\lib\\site-packages (from requests->dtale) (1.26.9)\n",
      "Requirement already satisfied: idna<4,>=2.5 in c:\\users\\ghoyo\\appdata\\local\\programs\\python\\python310\\lib\\site-packages (from requests->dtale) (3.3)\n",
      "Requirement already satisfied: charset-normalizer~=2.0.0 in c:\\users\\ghoyo\\appdata\\local\\programs\\python\\python310\\lib\\site-packages (from requests->dtale) (2.0.12)\n",
      "Requirement already satisfied: joblib>=1.0.0 in c:\\users\\ghoyo\\appdata\\local\\programs\\python\\python310\\lib\\site-packages (from scikit-learn->dtale) (1.2.0)\n",
      "Requirement already satisfied: threadpoolctl>=2.0.0 in c:\\users\\ghoyo\\appdata\\local\\programs\\python\\python310\\lib\\site-packages (from scikit-learn->dtale) (3.1.0)\n",
      "Requirement already satisfied: patsy>=0.5.2 in c:\\users\\ghoyo\\appdata\\local\\programs\\python\\python310\\lib\\site-packages (from statsmodels->dtale) (0.5.3)\n",
      "Requirement already satisfied: colorama in c:\\users\\ghoyo\\appdata\\local\\programs\\python\\python310\\lib\\site-packages (from click>=8.0->Flask->dtale) (0.4.4)\n",
      "Requirement already satisfied: MarkupSafe>=2.0 in c:\\users\\ghoyo\\appdata\\local\\programs\\python\\python310\\lib\\site-packages (from Jinja2>=3.0->Flask->dtale) (2.1.1)\n"
     ]
    },
    {
     "name": "stdout",
     "output_type": "stream",
     "text": [
      "Requirement already satisfied: sktime in c:\\users\\ghoyo\\appdata\\local\\programs\\python\\python310\\lib\\site-packages (0.14.0)\n",
      "Requirement already satisfied: statsmodels>=0.12.1 in c:\\users\\ghoyo\\appdata\\local\\programs\\python\\python310\\lib\\site-packages (from sktime) (0.13.2)\n",
      "Requirement already satisfied: scikit-learn<1.2.0,>=0.24.0 in c:\\users\\ghoyo\\appdata\\local\\programs\\python\\python310\\lib\\site-packages (from sktime) (1.1.2)\n",
      "Requirement already satisfied: deprecated>=1.2.13 in c:\\users\\ghoyo\\appdata\\local\\programs\\python\\python310\\lib\\site-packages (from sktime) (1.2.13)\n",
      "Requirement already satisfied: numpy<1.23,>=1.21.0 in c:\\users\\ghoyo\\appdata\\local\\programs\\python\\python310\\lib\\site-packages (from sktime) (1.22.4)\n",
      "Requirement already satisfied: scipy<2.0.0 in c:\\users\\ghoyo\\appdata\\local\\programs\\python\\python310\\lib\\site-packages (from sktime) (1.9.3)\n",
      "Requirement already satisfied: numba>=0.53 in c:\\users\\ghoyo\\appdata\\local\\programs\\python\\python310\\lib\\site-packages (from sktime) (0.56.4)\n",
      "Requirement already satisfied: pandas<1.6.0,>=1.1.0 in c:\\users\\ghoyo\\appdata\\local\\programs\\python\\python310\\lib\\site-packages (from sktime) (1.4.3)\n",
      "Requirement already satisfied: wrapt<2,>=1.10 in c:\\users\\ghoyo\\appdata\\local\\programs\\python\\python310\\lib\\site-packages (from deprecated>=1.2.13->sktime) (1.14.1)\n",
      "Requirement already satisfied: setuptools in c:\\users\\ghoyo\\appdata\\local\\programs\\python\\python310\\lib\\site-packages (from numba>=0.53->sktime) (63.2.0)\n",
      "Requirement already satisfied: llvmlite<0.40,>=0.39.0dev0 in c:\\users\\ghoyo\\appdata\\local\\programs\\python\\python310\\lib\\site-packages (from numba>=0.53->sktime) (0.39.1)\n",
      "Requirement already satisfied: pytz>=2020.1 in c:\\users\\ghoyo\\appdata\\local\\programs\\python\\python310\\lib\\site-packages (from pandas<1.6.0,>=1.1.0->sktime) (2022.2.1)\n",
      "Requirement already satisfied: python-dateutil>=2.8.1 in c:\\users\\ghoyo\\appdata\\local\\programs\\python\\python310\\lib\\site-packages (from pandas<1.6.0,>=1.1.0->sktime) (2.8.2)\n",
      "Requirement already satisfied: joblib>=1.0.0 in c:\\users\\ghoyo\\appdata\\local\\programs\\python\\python310\\lib\\site-packages (from scikit-learn<1.2.0,>=0.24.0->sktime) (1.2.0)\n",
      "Requirement already satisfied: threadpoolctl>=2.0.0 in c:\\users\\ghoyo\\appdata\\local\\programs\\python\\python310\\lib\\site-packages (from scikit-learn<1.2.0,>=0.24.0->sktime) (3.1.0)\n",
      "Requirement already satisfied: patsy>=0.5.2 in c:\\users\\ghoyo\\appdata\\local\\programs\\python\\python310\\lib\\site-packages (from statsmodels>=0.12.1->sktime) (0.5.3)\n",
      "Requirement already satisfied: packaging>=21.3 in c:\\users\\ghoyo\\appdata\\local\\programs\\python\\python310\\lib\\site-packages (from statsmodels>=0.12.1->sktime) (21.3)\n",
      "Requirement already satisfied: pyparsing!=3.0.5,>=2.0.2 in c:\\users\\ghoyo\\appdata\\local\\programs\\python\\python310\\lib\\site-packages (from packaging>=21.3->statsmodels>=0.12.1->sktime) (3.0.7)\n",
      "Requirement already satisfied: six in c:\\users\\ghoyo\\appdata\\local\\programs\\python\\python310\\lib\\site-packages (from patsy>=0.5.2->statsmodels>=0.12.1->sktime) (1.16.0)\n",
      "Requirement already satisfied: sklego in c:\\users\\ghoyo\\appdata\\local\\programs\\python\\python310\\lib\\site-packages (0.0)\n",
      "Requirement already satisfied: scikit-lego in c:\\users\\ghoyo\\appdata\\local\\programs\\python\\python310\\lib\\site-packages (from sklego) (0.6.14)\n",
      "Requirement already satisfied: autograd>=1.2 in c:\\users\\ghoyo\\appdata\\local\\programs\\python\\python310\\lib\\site-packages (from scikit-lego->sklego) (1.5)\n",
      "Requirement already satisfied: scikit-learn>=0.24.1 in c:\\users\\ghoyo\\appdata\\local\\programs\\python\\python310\\lib\\site-packages (from scikit-lego->sklego) (1.1.2)\n",
      "Requirement already satisfied: umap-learn>=0.4.6 in c:\\users\\ghoyo\\appdata\\local\\programs\\python\\python310\\lib\\site-packages (from scikit-lego->sklego) (0.5.3)\n",
      "Requirement already satisfied: patsy>=0.5.1 in c:\\users\\ghoyo\\appdata\\local\\programs\\python\\python310\\lib\\site-packages (from scikit-lego->sklego) (0.5.3)\n",
      "Requirement already satisfied: Deprecated>=1.2.6 in c:\\users\\ghoyo\\appdata\\local\\programs\\python\\python310\\lib\\site-packages (from scikit-lego->sklego) (1.2.13)\n",
      "Requirement already satisfied: pandas>=1.1.5 in c:\\users\\ghoyo\\appdata\\local\\programs\\python\\python310\\lib\\site-packages (from scikit-lego->sklego) (1.4.3)\n",
      "Requirement already satisfied: numpy>=1.12 in c:\\users\\ghoyo\\appdata\\local\\programs\\python\\python310\\lib\\site-packages (from autograd>=1.2->scikit-lego->sklego) (1.22.4)\n",
      "Requirement already satisfied: future>=0.15.2 in c:\\users\\ghoyo\\appdata\\local\\programs\\python\\python310\\lib\\site-packages (from autograd>=1.2->scikit-lego->sklego) (0.18.2)\n",
      "Requirement already satisfied: wrapt<2,>=1.10 in c:\\users\\ghoyo\\appdata\\local\\programs\\python\\python310\\lib\\site-packages (from Deprecated>=1.2.6->scikit-lego->sklego) (1.14.1)\n",
      "Requirement already satisfied: python-dateutil>=2.8.1 in c:\\users\\ghoyo\\appdata\\local\\programs\\python\\python310\\lib\\site-packages (from pandas>=1.1.5->scikit-lego->sklego) (2.8.2)\n",
      "Requirement already satisfied: pytz>=2020.1 in c:\\users\\ghoyo\\appdata\\local\\programs\\python\\python310\\lib\\site-packages (from pandas>=1.1.5->scikit-lego->sklego) (2022.2.1)\n",
      "Requirement already satisfied: six in c:\\users\\ghoyo\\appdata\\local\\programs\\python\\python310\\lib\\site-packages (from patsy>=0.5.1->scikit-lego->sklego) (1.16.0)\n",
      "Requirement already satisfied: scipy>=1.3.2 in c:\\users\\ghoyo\\appdata\\local\\programs\\python\\python310\\lib\\site-packages (from scikit-learn>=0.24.1->scikit-lego->sklego) (1.9.3)\n",
      "Requirement already satisfied: joblib>=1.0.0 in c:\\users\\ghoyo\\appdata\\local\\programs\\python\\python310\\lib\\site-packages (from scikit-learn>=0.24.1->scikit-lego->sklego) (1.2.0)\n",
      "Requirement already satisfied: threadpoolctl>=2.0.0 in c:\\users\\ghoyo\\appdata\\local\\programs\\python\\python310\\lib\\site-packages (from scikit-learn>=0.24.1->scikit-lego->sklego) (3.1.0)\n",
      "Requirement already satisfied: pynndescent>=0.5 in c:\\users\\ghoyo\\appdata\\local\\programs\\python\\python310\\lib\\site-packages (from umap-learn>=0.4.6->scikit-lego->sklego) (0.5.8)\n",
      "Requirement already satisfied: numba>=0.49 in c:\\users\\ghoyo\\appdata\\local\\programs\\python\\python310\\lib\\site-packages (from umap-learn>=0.4.6->scikit-lego->sklego) (0.56.4)\n",
      "Requirement already satisfied: tqdm in c:\\users\\ghoyo\\appdata\\local\\programs\\python\\python310\\lib\\site-packages (from umap-learn>=0.4.6->scikit-lego->sklego) (4.64.1)\n",
      "Requirement already satisfied: setuptools in c:\\users\\ghoyo\\appdata\\local\\programs\\python\\python310\\lib\\site-packages (from numba>=0.49->umap-learn>=0.4.6->scikit-lego->sklego) (63.2.0)\n",
      "Requirement already satisfied: llvmlite<0.40,>=0.39.0dev0 in c:\\users\\ghoyo\\appdata\\local\\programs\\python\\python310\\lib\\site-packages (from numba>=0.49->umap-learn>=0.4.6->scikit-lego->sklego) (0.39.1)\n",
      "Requirement already satisfied: colorama in c:\\users\\ghoyo\\appdata\\local\\programs\\python\\python310\\lib\\site-packages (from tqdm->umap-learn>=0.4.6->scikit-lego->sklego) (0.4.4)\n",
      "Requirement already satisfied: pip in c:\\users\\ghoyo\\appdata\\local\\programs\\python\\python310\\lib\\site-packages (23.0.1)\n"
     ]
    }
   ],
   "source": [
    "### ***Enviroment Preparation***\n",
    "# Install Pandas\n",
    "!pip install pandas\n",
    "!pip install matplotlib\n",
    "!pip install seaborn\n",
    "!pip install scikit-learn\n",
    "!pip install lightgbm\n",
    "\n",
    "!pip install dtale\n",
    "\n",
    "!pip install sktime\n",
    "!pip install sklego\n",
    "\n",
    "#!pip install skforecast\n",
    "\n",
    "# Update pip -- WARNING Resolution\n",
    "!python.exe -m pip install --upgrade pip"
   ]
  },
  {
   "cell_type": "code",
   "execution_count": 3,
   "id": "2d536f90",
   "metadata": {},
   "outputs": [],
   "source": [
    "from sklearn.model_selection import GridSearchCV\n",
    "from sklearn.model_selection import RandomizedSearchCV"
   ]
  },
  {
   "cell_type": "code",
   "execution_count": 4,
   "id": "4e59b072",
   "metadata": {},
   "outputs": [],
   "source": [
    "import pandas\n",
    "from sklearn import model_selection\n",
    "from sklearn.linear_model import LogisticRegression\n",
    "import joblib\n",
    "import os"
   ]
  },
  {
   "cell_type": "markdown",
   "id": "29917f46",
   "metadata": {},
   "source": [
    "### <span style='background :red' > Select & Load Best performance model and CV type for Grid Search </span>"
   ]
  },
  {
   "cell_type": "markdown",
   "id": "4014dce3",
   "metadata": {},
   "source": [
    "https://medium.com/all-things-ai/in-depth-parameter-tuning-for-random-forest-d67bb7e920d\n",
    "\n",
    "https://www.analyticsvidhya.com/blog/2020/03/beginners-guide-random-forest-hyperparameter-tuning/\n",
    "    \n",
    "https://towardsdatascience.com/random-forest-hyperparameters-and-how-to-fine-tune-them-17aee785ee0d"
   ]
  },
  {
   "cell_type": "markdown",
   "id": "0496760c",
   "metadata": {},
   "source": [
    "#### <span style='background :violet' > Functions </span>"
   ]
  },
  {
   "cell_type": "code",
   "execution_count": null,
   "id": "7379aac3",
   "metadata": {},
   "outputs": [],
   "source": [
    "class BlockingTimeSeriesSplit():\n",
    "    def __init__(self, n_splits):\n",
    "        self.n_splits = n_splits\n",
    "    \n",
    "    def get_n_splits(self, X, y, groups):\n",
    "        return self.n_splits\n",
    "    \n",
    "    def split(self, X, y=None, groups=None):\n",
    "        n_samples = len(X)\n",
    "        k_fold_size = n_samples // self.n_splits\n",
    "        indices = np.arange(n_samples)\n",
    "\n",
    "        margin = 0\n",
    "        for i in range(self.n_splits):\n",
    "            start = i * k_fold_size\n",
    "            stop = start + k_fold_size\n",
    "            mid = int(0.999999 * (stop - start)) + start\n",
    "            yield indices[start: mid], indices[mid + margin: stop]"
   ]
  },
  {
   "cell_type": "markdown",
   "id": "959a824b",
   "metadata": {},
   "source": [
    "# <span style='background :khaki' > Grid Search </span>"
   ]
  },
  {
   "cell_type": "code",
   "execution_count": 2,
   "id": "3d5be619",
   "metadata": {
    "scrolled": true
   },
   "outputs": [
    {
     "ename": "NameError",
     "evalue": "name 'np' is not defined",
     "output_type": "error",
     "traceback": [
      "\u001b[1;31m---------------------------------------------------------------------------\u001b[0m",
      "\u001b[1;31mNameError\u001b[0m                                 Traceback (most recent call last)",
      "File \u001b[1;32m<timed exec>:28\u001b[0m, in \u001b[0;36m<module>\u001b[1;34m\u001b[0m\n",
      "\u001b[1;31mNameError\u001b[0m: name 'np' is not defined"
     ]
    }
   ],
   "source": [
    "%%time\n",
    "# save the model to disk\n",
    "models_path = r'C:\\Users\\ghoyo\\Desktop\\TFM 2.0\\BETA\\Project\\RegularDatasets\\GridModels'\n",
    "\n",
    "# Dataframes\n",
    "grid_clf = []\n",
    "grid_mae = []\n",
    "grid_mse = []\n",
    "grid_pred = []\n",
    "grid_params = []\n",
    "\n",
    "# Data - NOT RUNNED CODE --------------------------------------------------------------------------------------------------\n",
    "X_train_list = []\n",
    "X_test_list = []\n",
    "y_train_list = []\n",
    "y_test_list = []\n",
    "# -------------------------------------------------------------------------------------------------------------------------\n",
    "\n",
    "# Future days predictions\n",
    "horizon = 1\n",
    "\n",
    "# Number of splits for the cross valdiation function\n",
    "n_split = 15\n",
    "\n",
    "# Generate Best Grid\n",
    "# RF Grid - https://towardsdatascience.com/hyperparameter-tuning-the-random-forest-in-python-using-scikit-learn-28d2aa77dd74\n",
    "\n",
    "# Number of trees in random forest\n",
    "n_estimators = [int(x) for x in np.linspace(start = 1, stop = 1000, num = 10)]\n",
    "# Number of features to consider at every split\n",
    "max_features = ['auto', 'sqrt', 'log2']\n",
    "# Maximum number of levels in tree\n",
    "max_depth = [int(x) for x in np.linspace(start = 1, stop = 100, num = 10)]\n",
    "max_depth.append(None)\n",
    "# Minimum number of samples required to split a node\n",
    "min_samples_split = [2, 5, 10]\n",
    "# Minimum number of samples required at each leaf node\n",
    "min_samples_leaf = [1, 2, 4]\n",
    "# Method of selecting samples for training each tree\n",
    "bootstrap = [True, False]\n",
    "# Create the random grid\n",
    "random_grid = {'n_estimators': n_estimators,\n",
    "               'max_features': max_features,\n",
    "               'max_depth': max_depth,\n",
    "               'min_samples_split': min_samples_split,\n",
    "               'min_samples_leaf': min_samples_leaf,\n",
    "               'bootstrap': bootstrap}\n",
    "\n",
    "print(len(n_estimators))\n",
    "#print('Grid:\\n', random_grid)\n",
    "\n",
    "for df, i in zip(df_list_tf_1, range(len(df_list_tf_2))):\n",
    "    \n",
    "    features = df.drop(df.columns[0], axis=1).columns\n",
    "    target = df.columns[0]\n",
    "\n",
    "    X = df[features]\n",
    "    y = df[target]\n",
    "\n",
    "    X_train, X_test = X.iloc[:-horizon,:], X.iloc[-horizon:,:]\n",
    "    y_train, y_test = y.iloc[:-horizon], y.iloc[-horizon:]\n",
    "    \n",
    "    # NOT RUNNED CODE ---------------------------------------------------------------------------------------------------------\n",
    "    X_train_list.append(X_train)\n",
    "    X_test_list.append(X_test)\n",
    "    y_train_list.append(y_train)\n",
    "    y_test_list.append(y_test)\n",
    "    # -------------------------------------------------------------------------------------------------------------------------\n",
    "    \n",
    "    # https://stackoverflow.com/questions/46732748/how-do-i-use-a-timeseriessplit-with-a-gridsearchcv-object-to-tune-a-model-in-sci\n",
    "    rf = RandomForestRegressor()\n",
    "\n",
    "    tscv = TimeSeriesSplit(n_splits = n_split, test_size = horizon)\n",
    "\n",
    "    #rf_random = RandomizedSearchCV(estimator = rf, param_distributions = random_grid, n_iter = 100, cv = tscv, verbose=2, n_jobs = -1)\n",
    "    rf_random = GridSearchCV(estimator = rf, param_grid = random_grid, cv = tscv, verbose=2, n_jobs = -1)\n",
    "    rf_random.fit(X_train, y_train)\n",
    "    \n",
    "    # Save Data - NOT RUNNED CODE ---------------------------------------------------------------------------------------------\n",
    "    filename = '\\grid_clf_model_' + str(i) + '.sav'\n",
    "    joblib.dump(g, models_path + filename)\n",
    "    # -------------------------------------------------------------------------------------------------------------------------\n",
    "\n",
    "    # Results\n",
    "    grid_params.append(rf_random.best_params_)\n",
    "    print('Best Params: \\n', rf_random.best_params_)\n",
    "    \n",
    "    grid_clf.append(rf_random.best_estimator_)\n",
    "    grid_pred.append(grid_clf[-1].predict(X_test))\n",
    "    grid_mae.append(np.round(mean_absolute_error(y_test, grid_pred[-1]), 3))\n",
    "    grid_mse.append(np.round(mean_squared_error(y_test, grid_pred[-1]), 3))\n",
    "    print('Mae = ', grid_mae[-1])\n",
    "    print('Mse = ', grid_mse[-1])\n",
    "    "
   ]
  },
  {
   "cell_type": "markdown",
   "id": "9a3af951",
   "metadata": {},
   "source": [
    "#### <span style='background :red' > Save Grid Search Model And Parameters </span>"
   ]
  },
  {
   "cell_type": "markdown",
   "id": "75e959a3",
   "metadata": {},
   "source": [
    "#### <span style='background :red' > Save Grid Search Model And Parameters </span>"
   ]
  },
  {
   "cell_type": "markdown",
   "id": "10273040",
   "metadata": {},
   "source": [
    "#### <span style='background :red' > Save Grid Search Model And Parameters </span>"
   ]
  },
  {
   "cell_type": "markdown",
   "id": "ef783f32",
   "metadata": {},
   "source": [
    "#### <span style='background :red' > Save Grid Search Model And Parameters </span>"
   ]
  },
  {
   "cell_type": "markdown",
   "id": "ac9a9952",
   "metadata": {},
   "source": [
    "#### <span style='background :skyBlue' > Load Models </span>"
   ]
  },
  {
   "cell_type": "code",
   "execution_count": null,
   "id": "e9129aa5",
   "metadata": {},
   "outputs": [],
   "source": [
    "loaded_grids = []\n",
    "res = []\n",
    "\n",
    "for filename, i in zip(os.listdir(models_path), range(len(os.listdir(models_path)))):\n",
    "    loaded_grids.append(joblib.load(models_path + '\\\\' + filename))\n",
    "    #print(models_path + '\\\\' + filename)\n",
    "    result = loaded_grids[-1].score(X_test_list[i], y_test_list[i])\n",
    "    res.append(result)\n",
    "    print(result)\n",
    "    "
   ]
  },
  {
   "cell_type": "markdown",
   "id": "f6bf13ca",
   "metadata": {},
   "source": [
    "Si GridSearchCV devuelve los valores más bajos posibles para cada parámetro, significa que la búsqueda exhaustiva de parámetros ha encontrado que la combinación de esos valores resulta en el mejor rendimiento del modelo. Esto puede ser porque una mayor complejidad del modelo (como un mayor número de árboles o hojas) no es necesaria para ajustarse adecuadamente a los datos de entrenamiento y, por lo tanto, puede llevar a un sobreajuste.\n",
    "\n",
    "También es posible que la cantidad de datos de entrenamiento sea insuficiente para justificar un modelo más complejo o que los datos de entrenamiento estén muy correlacionados, lo que resulta en un modelo más simple.\n",
    "\n",
    "En cualquier caso, los resultados obtenidos con el GridSearchCV te permiten tener una idea de la configuración óptima de los parámetros para el modelo RandomForestRegressor. Sin embargo, es importante tener en cuenta que los resultados pueden ser influenciados por la división de datos utilizada para entrenar y validar el modelo, por lo que es recomendable realizar varias divisiones de datos y validar los resultados de GridSearchCV en diferentes conjuntos de datos antes de tomar una decisión final."
   ]
  },
  {
   "cell_type": "code",
   "execution_count": null,
   "id": "a2fc9d00",
   "metadata": {},
   "outputs": [],
   "source": []
  }
 ],
 "metadata": {
  "kernelspec": {
   "display_name": "Python 3 (ipykernel)",
   "language": "python",
   "name": "python3"
  },
  "language_info": {
   "codemirror_mode": {
    "name": "ipython",
    "version": 3
   },
   "file_extension": ".py",
   "mimetype": "text/x-python",
   "name": "python",
   "nbconvert_exporter": "python",
   "pygments_lexer": "ipython3",
   "version": "3.10.6"
  }
 },
 "nbformat": 4,
 "nbformat_minor": 5
}
