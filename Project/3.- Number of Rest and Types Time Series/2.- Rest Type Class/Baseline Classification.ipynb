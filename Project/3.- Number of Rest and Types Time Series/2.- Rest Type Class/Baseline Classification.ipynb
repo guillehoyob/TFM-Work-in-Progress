{
 "cells": [
  {
   "cell_type": "markdown",
   "id": "39396163",
   "metadata": {},
   "source": [
    "# Baseline Prediction "
   ]
  },
  {
   "cell_type": "markdown",
   "id": "4c5f0d52",
   "metadata": {},
   "source": [
    "https://towardsdatascience.com/multivariate-time-series-forecasting-using-random-forest-2372f3ecbad1"
   ]
  },
  {
   "cell_type": "markdown",
   "id": "4adebbb6",
   "metadata": {},
   "source": [
    "# <span style='background :khaki' > Install & Importa Libraries </span>"
   ]
  },
  {
   "cell_type": "code",
   "execution_count": 1,
   "id": "7ae51247",
   "metadata": {},
   "outputs": [
    {
     "name": "stdout",
     "output_type": "stream",
     "text": [
      "Requirement already satisfied: pandas in c:\\users\\ghoyo\\miniconda3\\lib\\site-packages (1.5.1)\n",
      "Requirement already satisfied: python-dateutil>=2.8.1 in c:\\users\\ghoyo\\miniconda3\\lib\\site-packages (from pandas) (2.8.2)\n",
      "Requirement already satisfied: pytz>=2020.1 in c:\\users\\ghoyo\\miniconda3\\lib\\site-packages (from pandas) (2022.6)\n",
      "Requirement already satisfied: numpy>=1.20.3 in c:\\users\\ghoyo\\miniconda3\\lib\\site-packages (from pandas) (1.23.4)\n",
      "Requirement already satisfied: six>=1.5 in c:\\users\\ghoyo\\miniconda3\\lib\\site-packages (from python-dateutil>=2.8.1->pandas) (1.16.0)\n",
      "Requirement already satisfied: matplotlib in c:\\users\\ghoyo\\miniconda3\\lib\\site-packages (3.6.0)\n",
      "Requirement already satisfied: kiwisolver>=1.0.1 in c:\\users\\ghoyo\\miniconda3\\lib\\site-packages (from matplotlib) (1.4.4)\n",
      "Requirement already satisfied: contourpy>=1.0.1 in c:\\users\\ghoyo\\miniconda3\\lib\\site-packages (from matplotlib) (1.0.6)\n",
      "Requirement already satisfied: fonttools>=4.22.0 in c:\\users\\ghoyo\\miniconda3\\lib\\site-packages (from matplotlib) (4.38.0)\n",
      "Requirement already satisfied: pillow>=6.2.0 in c:\\users\\ghoyo\\miniconda3\\lib\\site-packages (from matplotlib) (9.3.0)\n",
      "Requirement already satisfied: packaging>=20.0 in c:\\users\\ghoyo\\miniconda3\\lib\\site-packages (from matplotlib) (21.3)\n",
      "Requirement already satisfied: cycler>=0.10 in c:\\users\\ghoyo\\miniconda3\\lib\\site-packages (from matplotlib) (0.11.0)\n",
      "Requirement already satisfied: pyparsing>=2.2.1 in c:\\users\\ghoyo\\miniconda3\\lib\\site-packages (from matplotlib) (3.0.4)\n",
      "Requirement already satisfied: python-dateutil>=2.7 in c:\\users\\ghoyo\\miniconda3\\lib\\site-packages (from matplotlib) (2.8.2)\n",
      "Requirement already satisfied: numpy>=1.19 in c:\\users\\ghoyo\\miniconda3\\lib\\site-packages (from matplotlib) (1.23.4)\n",
      "Requirement already satisfied: six>=1.5 in c:\\users\\ghoyo\\miniconda3\\lib\\site-packages (from python-dateutil>=2.7->matplotlib) (1.16.0)\n",
      "Requirement already satisfied: seaborn in c:\\users\\ghoyo\\miniconda3\\lib\\site-packages (0.12.1)\n",
      "Requirement already satisfied: numpy>=1.17 in c:\\users\\ghoyo\\miniconda3\\lib\\site-packages (from seaborn) (1.23.4)\n",
      "Requirement already satisfied: matplotlib!=3.6.1,>=3.1 in c:\\users\\ghoyo\\miniconda3\\lib\\site-packages (from seaborn) (3.6.0)\n",
      "Requirement already satisfied: pandas>=0.25 in c:\\users\\ghoyo\\miniconda3\\lib\\site-packages (from seaborn) (1.5.1)\n",
      "Requirement already satisfied: pyparsing>=2.2.1 in c:\\users\\ghoyo\\miniconda3\\lib\\site-packages (from matplotlib!=3.6.1,>=3.1->seaborn) (3.0.4)\n",
      "Requirement already satisfied: packaging>=20.0 in c:\\users\\ghoyo\\miniconda3\\lib\\site-packages (from matplotlib!=3.6.1,>=3.1->seaborn) (21.3)\n",
      "Requirement already satisfied: kiwisolver>=1.0.1 in c:\\users\\ghoyo\\miniconda3\\lib\\site-packages (from matplotlib!=3.6.1,>=3.1->seaborn) (1.4.4)\n",
      "Requirement already satisfied: contourpy>=1.0.1 in c:\\users\\ghoyo\\miniconda3\\lib\\site-packages (from matplotlib!=3.6.1,>=3.1->seaborn) (1.0.6)\n",
      "Requirement already satisfied: python-dateutil>=2.7 in c:\\users\\ghoyo\\miniconda3\\lib\\site-packages (from matplotlib!=3.6.1,>=3.1->seaborn) (2.8.2)\n",
      "Requirement already satisfied: pillow>=6.2.0 in c:\\users\\ghoyo\\miniconda3\\lib\\site-packages (from matplotlib!=3.6.1,>=3.1->seaborn) (9.3.0)\n",
      "Requirement already satisfied: fonttools>=4.22.0 in c:\\users\\ghoyo\\miniconda3\\lib\\site-packages (from matplotlib!=3.6.1,>=3.1->seaborn) (4.38.0)\n",
      "Requirement already satisfied: cycler>=0.10 in c:\\users\\ghoyo\\miniconda3\\lib\\site-packages (from matplotlib!=3.6.1,>=3.1->seaborn) (0.11.0)\n",
      "Requirement already satisfied: pytz>=2020.1 in c:\\users\\ghoyo\\miniconda3\\lib\\site-packages (from pandas>=0.25->seaborn) (2022.6)\n",
      "Requirement already satisfied: six>=1.5 in c:\\users\\ghoyo\\miniconda3\\lib\\site-packages (from python-dateutil>=2.7->matplotlib!=3.6.1,>=3.1->seaborn) (1.16.0)\n",
      "Requirement already satisfied: scikit-learn in c:\\users\\ghoyo\\miniconda3\\lib\\site-packages (1.1.3)\n",
      "Requirement already satisfied: numpy>=1.17.3 in c:\\users\\ghoyo\\miniconda3\\lib\\site-packages (from scikit-learn) (1.23.4)\n",
      "Requirement already satisfied: scipy>=1.3.2 in c:\\users\\ghoyo\\miniconda3\\lib\\site-packages (from scikit-learn) (1.9.3)\n",
      "Requirement already satisfied: threadpoolctl>=2.0.0 in c:\\users\\ghoyo\\miniconda3\\lib\\site-packages (from scikit-learn) (3.1.0)\n",
      "Requirement already satisfied: joblib>=1.0.0 in c:\\users\\ghoyo\\miniconda3\\lib\\site-packages (from scikit-learn) (1.2.0)\n",
      "Requirement already satisfied: lightgbm in c:\\users\\ghoyo\\miniconda3\\lib\\site-packages (3.3.5)\n",
      "Requirement already satisfied: scipy in c:\\users\\ghoyo\\miniconda3\\lib\\site-packages (from lightgbm) (1.9.3)\n",
      "Requirement already satisfied: scikit-learn!=0.22.0 in c:\\users\\ghoyo\\miniconda3\\lib\\site-packages (from lightgbm) (1.1.3)\n",
      "Requirement already satisfied: numpy in c:\\users\\ghoyo\\miniconda3\\lib\\site-packages (from lightgbm) (1.23.4)\n",
      "Requirement already satisfied: wheel in c:\\users\\ghoyo\\miniconda3\\lib\\site-packages (from lightgbm) (0.37.1)\n",
      "Requirement already satisfied: joblib>=1.0.0 in c:\\users\\ghoyo\\miniconda3\\lib\\site-packages (from scikit-learn!=0.22.0->lightgbm) (1.2.0)\n",
      "Requirement already satisfied: threadpoolctl>=2.0.0 in c:\\users\\ghoyo\\miniconda3\\lib\\site-packages (from scikit-learn!=0.22.0->lightgbm) (3.1.0)\n",
      "Requirement already satisfied: dtale in c:\\users\\ghoyo\\miniconda3\\lib\\site-packages (2.13.0)\n",
      "Requirement already satisfied: certifi in c:\\users\\ghoyo\\miniconda3\\lib\\site-packages (from dtale) (2021.10.8)\n",
      "Requirement already satisfied: numpy in c:\\users\\ghoyo\\miniconda3\\lib\\site-packages (from dtale) (1.23.4)\n",
      "Requirement already satisfied: beautifulsoup4 in c:\\users\\ghoyo\\miniconda3\\lib\\site-packages (from dtale) (4.11.2)\n",
      "Requirement already satisfied: dash>=2.0.0 in c:\\users\\ghoyo\\miniconda3\\lib\\site-packages (from dtale) (2.8.1)\n",
      "Requirement already satisfied: scikit-learn in c:\\users\\ghoyo\\miniconda3\\lib\\site-packages (from dtale) (1.1.3)\n",
      "Requirement already satisfied: missingno<=0.4.2 in c:\\users\\ghoyo\\miniconda3\\lib\\site-packages (from dtale) (0.4.2)\n",
      "Requirement already satisfied: xarray in c:\\users\\ghoyo\\miniconda3\\lib\\site-packages (from dtale) (2023.2.0)\n",
      "Requirement already satisfied: Flask-Compress in c:\\users\\ghoyo\\miniconda3\\lib\\site-packages (from dtale) (1.13)\n",
      "Requirement already satisfied: scipy==1.9.3 in c:\\users\\ghoyo\\miniconda3\\lib\\site-packages (from dtale) (1.9.3)\n",
      "Requirement already satisfied: squarify in c:\\users\\ghoyo\\miniconda3\\lib\\site-packages (from dtale) (0.4.3)\n",
      "Requirement already satisfied: Flask in c:\\users\\ghoyo\\miniconda3\\lib\\site-packages (from dtale) (2.2.3)\n",
      "Requirement already satisfied: cycler in c:\\users\\ghoyo\\miniconda3\\lib\\site-packages (from dtale) (0.11.0)\n",
      "Requirement already satisfied: kaleido in c:\\users\\ghoyo\\miniconda3\\lib\\site-packages (from dtale) (0.2.1)\n",
      "Requirement already satisfied: future>=0.14.0 in c:\\users\\ghoyo\\miniconda3\\lib\\site-packages (from dtale) (0.18.3)\n",
      "Requirement already satisfied: networkx in c:\\users\\ghoyo\\miniconda3\\lib\\site-packages (from dtale) (3.0)\n",
      "Requirement already satisfied: strsimpy in c:\\users\\ghoyo\\miniconda3\\lib\\site-packages (from dtale) (0.2.1)\n",
      "Requirement already satisfied: itsdangerous in c:\\users\\ghoyo\\miniconda3\\lib\\site-packages (from dtale) (2.1.2)\n",
      "Requirement already satisfied: dash-bootstrap-components<=1.3.1 in c:\\users\\ghoyo\\miniconda3\\lib\\site-packages (from dtale) (1.3.1)\n",
      "Requirement already satisfied: dash-colorscales in c:\\users\\ghoyo\\miniconda3\\lib\\site-packages (from dtale) (0.0.4)\n",
      "Requirement already satisfied: pandas in c:\\users\\ghoyo\\miniconda3\\lib\\site-packages (from dtale) (1.5.1)\n",
      "Requirement already satisfied: six in c:\\users\\ghoyo\\miniconda3\\lib\\site-packages (from dtale) (1.16.0)\n",
      "Requirement already satisfied: seaborn in c:\\users\\ghoyo\\miniconda3\\lib\\site-packages (from dtale) (0.12.1)\n",
      "Requirement already satisfied: et-xmlfile in c:\\users\\ghoyo\\miniconda3\\lib\\site-packages (from dtale) (1.1.0)\n",
      "Requirement already satisfied: matplotlib==3.6.0 in c:\\users\\ghoyo\\miniconda3\\lib\\site-packages (from dtale) (3.6.0)\n",
      "Requirement already satisfied: lz4 in c:\\users\\ghoyo\\miniconda3\\lib\\site-packages (from dtale) (4.3.2)\n",
      "Requirement already satisfied: flask-ngrok in c:\\users\\ghoyo\\miniconda3\\lib\\site-packages (from dtale) (0.0.25)\n",
      "Requirement already satisfied: requests in c:\\users\\ghoyo\\miniconda3\\lib\\site-packages (from dtale) (2.27.1)\n",
      "Requirement already satisfied: statsmodels in c:\\users\\ghoyo\\miniconda3\\lib\\site-packages (from dtale) (0.13.5)\n",
      "Requirement already satisfied: openpyxl!=3.2.0b1 in c:\\users\\ghoyo\\miniconda3\\lib\\site-packages (from dtale) (3.1.2)\n",
      "Requirement already satisfied: dash-daq in c:\\users\\ghoyo\\miniconda3\\lib\\site-packages (from dtale) (0.5.0)\n",
      "Requirement already satisfied: xlrd in c:\\users\\ghoyo\\miniconda3\\lib\\site-packages (from dtale) (2.0.1)\n",
      "Requirement already satisfied: plotly>=5.0.0 in c:\\users\\ghoyo\\miniconda3\\lib\\site-packages (from dtale) (5.13.1)\n",
      "Requirement already satisfied: pyparsing>=2.2.1 in c:\\users\\ghoyo\\miniconda3\\lib\\site-packages (from matplotlib==3.6.0->dtale) (3.0.4)\n",
      "Requirement already satisfied: contourpy>=1.0.1 in c:\\users\\ghoyo\\miniconda3\\lib\\site-packages (from matplotlib==3.6.0->dtale) (1.0.6)\n",
      "Requirement already satisfied: kiwisolver>=1.0.1 in c:\\users\\ghoyo\\miniconda3\\lib\\site-packages (from matplotlib==3.6.0->dtale) (1.4.4)\n",
      "Requirement already satisfied: packaging>=20.0 in c:\\users\\ghoyo\\miniconda3\\lib\\site-packages (from matplotlib==3.6.0->dtale) (21.3)\n",
      "Requirement already satisfied: python-dateutil>=2.7 in c:\\users\\ghoyo\\miniconda3\\lib\\site-packages (from matplotlib==3.6.0->dtale) (2.8.2)\n",
      "Requirement already satisfied: pillow>=6.2.0 in c:\\users\\ghoyo\\miniconda3\\lib\\site-packages (from matplotlib==3.6.0->dtale) (9.3.0)\n",
      "Requirement already satisfied: fonttools>=4.22.0 in c:\\users\\ghoyo\\miniconda3\\lib\\site-packages (from matplotlib==3.6.0->dtale) (4.38.0)\n",
      "Requirement already satisfied: dash-core-components==2.0.0 in c:\\users\\ghoyo\\miniconda3\\lib\\site-packages (from dash>=2.0.0->dtale) (2.0.0)\n",
      "Requirement already satisfied: dash-html-components==2.0.0 in c:\\users\\ghoyo\\miniconda3\\lib\\site-packages (from dash>=2.0.0->dtale) (2.0.0)\n",
      "Requirement already satisfied: dash-table==5.0.0 in c:\\users\\ghoyo\\miniconda3\\lib\\site-packages (from dash>=2.0.0->dtale) (5.0.0)\n",
      "Requirement already satisfied: click>=8.0 in c:\\users\\ghoyo\\miniconda3\\lib\\site-packages (from Flask->dtale) (8.1.3)\n",
      "Requirement already satisfied: Jinja2>=3.0 in c:\\users\\ghoyo\\miniconda3\\lib\\site-packages (from Flask->dtale) (3.0.3)\n",
      "Requirement already satisfied: importlib-metadata>=3.6.0 in c:\\users\\ghoyo\\miniconda3\\lib\\site-packages (from Flask->dtale) (4.8.2)\n",
      "Requirement already satisfied: Werkzeug>=2.2.2 in c:\\users\\ghoyo\\miniconda3\\lib\\site-packages (from Flask->dtale) (2.2.3)\n",
      "Requirement already satisfied: tenacity>=6.2.0 in c:\\users\\ghoyo\\miniconda3\\lib\\site-packages (from plotly>=5.0.0->dtale) (8.2.2)\n",
      "Requirement already satisfied: soupsieve>1.2 in c:\\users\\ghoyo\\miniconda3\\lib\\site-packages (from beautifulsoup4->dtale) (2.4)\n",
      "Requirement already satisfied: brotli in c:\\users\\ghoyo\\miniconda3\\lib\\site-packages (from Flask-Compress->dtale) (1.0.9)\n",
      "Requirement already satisfied: pytz>=2020.1 in c:\\users\\ghoyo\\miniconda3\\lib\\site-packages (from pandas->dtale) (2022.6)\n",
      "Requirement already satisfied: idna<4,>=2.5 in c:\\users\\ghoyo\\miniconda3\\lib\\site-packages (from requests->dtale) (3.3)\n",
      "Requirement already satisfied: charset-normalizer~=2.0.0 in c:\\users\\ghoyo\\miniconda3\\lib\\site-packages (from requests->dtale) (2.0.4)\n",
      "Requirement already satisfied: urllib3<1.27,>=1.21.1 in c:\\users\\ghoyo\\miniconda3\\lib\\site-packages (from requests->dtale) (1.26.8)\n",
      "Requirement already satisfied: joblib>=1.0.0 in c:\\users\\ghoyo\\miniconda3\\lib\\site-packages (from scikit-learn->dtale) (1.2.0)\n",
      "Requirement already satisfied: threadpoolctl>=2.0.0 in c:\\users\\ghoyo\\miniconda3\\lib\\site-packages (from scikit-learn->dtale) (3.1.0)\n",
      "Requirement already satisfied: patsy>=0.5.2 in c:\\users\\ghoyo\\miniconda3\\lib\\site-packages (from statsmodels->dtale) (0.5.3)\n",
      "Requirement already satisfied: colorama in c:\\users\\ghoyo\\miniconda3\\lib\\site-packages (from click>=8.0->Flask->dtale) (0.4.4)\n",
      "Requirement already satisfied: zipp>=0.5 in c:\\users\\ghoyo\\miniconda3\\lib\\site-packages (from importlib-metadata>=3.6.0->Flask->dtale) (3.7.0)\n",
      "Requirement already satisfied: MarkupSafe>=2.0 in c:\\users\\ghoyo\\miniconda3\\lib\\site-packages (from Jinja2>=3.0->Flask->dtale) (2.1.2)\n"
     ]
    },
    {
     "name": "stdout",
     "output_type": "stream",
     "text": [
      "Requirement already satisfied: sktime in c:\\users\\ghoyo\\miniconda3\\lib\\site-packages (0.16.1)\n",
      "Requirement already satisfied: numpy<1.25,>=1.21.0 in c:\\users\\ghoyo\\miniconda3\\lib\\site-packages (from sktime) (1.23.4)\n",
      "Requirement already satisfied: deprecated>=1.2.13 in c:\\users\\ghoyo\\miniconda3\\lib\\site-packages (from sktime) (1.2.13)\n",
      "Requirement already satisfied: pandas<1.6.0,>=1.1.0 in c:\\users\\ghoyo\\miniconda3\\lib\\site-packages (from sktime) (1.5.1)\n",
      "Requirement already satisfied: scikit-learn<1.3.0,>=0.24.0 in c:\\users\\ghoyo\\miniconda3\\lib\\site-packages (from sktime) (1.1.3)\n",
      "Requirement already satisfied: numba>=0.53 in c:\\users\\ghoyo\\miniconda3\\lib\\site-packages (from sktime) (0.56.4)\n",
      "Requirement already satisfied: scipy<2.0.0,>=1.2.0 in c:\\users\\ghoyo\\miniconda3\\lib\\site-packages (from sktime) (1.9.3)\n",
      "Requirement already satisfied: wrapt<2,>=1.10 in c:\\users\\ghoyo\\miniconda3\\lib\\site-packages (from deprecated>=1.2.13->sktime) (1.15.0)\n",
      "Requirement already satisfied: setuptools in c:\\users\\ghoyo\\miniconda3\\lib\\site-packages (from numba>=0.53->sktime) (58.0.4)\n",
      "Requirement already satisfied: llvmlite<0.40,>=0.39.0dev0 in c:\\users\\ghoyo\\miniconda3\\lib\\site-packages (from numba>=0.53->sktime) (0.39.1)\n",
      "Requirement already satisfied: python-dateutil>=2.8.1 in c:\\users\\ghoyo\\miniconda3\\lib\\site-packages (from pandas<1.6.0,>=1.1.0->sktime) (2.8.2)\n",
      "Requirement already satisfied: pytz>=2020.1 in c:\\users\\ghoyo\\miniconda3\\lib\\site-packages (from pandas<1.6.0,>=1.1.0->sktime) (2022.6)\n",
      "Requirement already satisfied: threadpoolctl>=2.0.0 in c:\\users\\ghoyo\\miniconda3\\lib\\site-packages (from scikit-learn<1.3.0,>=0.24.0->sktime) (3.1.0)\n",
      "Requirement already satisfied: joblib>=1.0.0 in c:\\users\\ghoyo\\miniconda3\\lib\\site-packages (from scikit-learn<1.3.0,>=0.24.0->sktime) (1.2.0)\n",
      "Requirement already satisfied: six>=1.5 in c:\\users\\ghoyo\\miniconda3\\lib\\site-packages (from python-dateutil>=2.8.1->pandas<1.6.0,>=1.1.0->sktime) (1.16.0)\n",
      "Requirement already satisfied: sklego in c:\\users\\ghoyo\\miniconda3\\lib\\site-packages (0.0)\n",
      "Requirement already satisfied: scikit-lego in c:\\users\\ghoyo\\miniconda3\\lib\\site-packages (from sklego) (0.6.14)\n",
      "Requirement already satisfied: pandas>=1.1.5 in c:\\users\\ghoyo\\miniconda3\\lib\\site-packages (from scikit-lego->sklego) (1.5.1)\n",
      "Requirement already satisfied: umap-learn>=0.4.6 in c:\\users\\ghoyo\\miniconda3\\lib\\site-packages (from scikit-lego->sklego) (0.5.3)\n",
      "Requirement already satisfied: scikit-learn>=0.24.1 in c:\\users\\ghoyo\\miniconda3\\lib\\site-packages (from scikit-lego->sklego) (1.1.3)\n",
      "Requirement already satisfied: autograd>=1.2 in c:\\users\\ghoyo\\miniconda3\\lib\\site-packages (from scikit-lego->sklego) (1.5)\n",
      "Requirement already satisfied: patsy>=0.5.1 in c:\\users\\ghoyo\\miniconda3\\lib\\site-packages (from scikit-lego->sklego) (0.5.3)\n",
      "Requirement already satisfied: Deprecated>=1.2.6 in c:\\users\\ghoyo\\miniconda3\\lib\\site-packages (from scikit-lego->sklego) (1.2.13)\n",
      "Requirement already satisfied: numpy>=1.12 in c:\\users\\ghoyo\\miniconda3\\lib\\site-packages (from autograd>=1.2->scikit-lego->sklego) (1.23.4)\n",
      "Requirement already satisfied: future>=0.15.2 in c:\\users\\ghoyo\\miniconda3\\lib\\site-packages (from autograd>=1.2->scikit-lego->sklego) (0.18.3)\n",
      "Requirement already satisfied: wrapt<2,>=1.10 in c:\\users\\ghoyo\\miniconda3\\lib\\site-packages (from Deprecated>=1.2.6->scikit-lego->sklego) (1.15.0)\n",
      "Requirement already satisfied: python-dateutil>=2.8.1 in c:\\users\\ghoyo\\miniconda3\\lib\\site-packages (from pandas>=1.1.5->scikit-lego->sklego) (2.8.2)\n",
      "Requirement already satisfied: pytz>=2020.1 in c:\\users\\ghoyo\\miniconda3\\lib\\site-packages (from pandas>=1.1.5->scikit-lego->sklego) (2022.6)\n",
      "Requirement already satisfied: six in c:\\users\\ghoyo\\miniconda3\\lib\\site-packages (from patsy>=0.5.1->scikit-lego->sklego) (1.16.0)\n",
      "Requirement already satisfied: joblib>=1.0.0 in c:\\users\\ghoyo\\miniconda3\\lib\\site-packages (from scikit-learn>=0.24.1->scikit-lego->sklego) (1.2.0)\n",
      "Requirement already satisfied: scipy>=1.3.2 in c:\\users\\ghoyo\\miniconda3\\lib\\site-packages (from scikit-learn>=0.24.1->scikit-lego->sklego) (1.9.3)\n",
      "Requirement already satisfied: threadpoolctl>=2.0.0 in c:\\users\\ghoyo\\miniconda3\\lib\\site-packages (from scikit-learn>=0.24.1->scikit-lego->sklego) (3.1.0)\n",
      "Requirement already satisfied: tqdm in c:\\users\\ghoyo\\miniconda3\\lib\\site-packages (from umap-learn>=0.4.6->scikit-lego->sklego) (4.63.0)\n",
      "Requirement already satisfied: numba>=0.49 in c:\\users\\ghoyo\\miniconda3\\lib\\site-packages (from umap-learn>=0.4.6->scikit-lego->sklego) (0.56.4)\n",
      "Requirement already satisfied: pynndescent>=0.5 in c:\\users\\ghoyo\\miniconda3\\lib\\site-packages (from umap-learn>=0.4.6->scikit-lego->sklego) (0.5.8)\n",
      "Requirement already satisfied: llvmlite<0.40,>=0.39.0dev0 in c:\\users\\ghoyo\\miniconda3\\lib\\site-packages (from numba>=0.49->umap-learn>=0.4.6->scikit-lego->sklego) (0.39.1)\n",
      "Requirement already satisfied: setuptools in c:\\users\\ghoyo\\miniconda3\\lib\\site-packages (from numba>=0.49->umap-learn>=0.4.6->scikit-lego->sklego) (58.0.4)\n",
      "Requirement already satisfied: colorama in c:\\users\\ghoyo\\miniconda3\\lib\\site-packages (from tqdm->umap-learn>=0.4.6->scikit-lego->sklego) (0.4.4)\n",
      "Requirement already satisfied: pip in c:\\users\\ghoyo\\miniconda3\\lib\\site-packages (23.0.1)\n"
     ]
    }
   ],
   "source": [
    "### ***Enviroment Preparation***\n",
    "# Install Pandas\n",
    "!pip install pandas\n",
    "!pip install matplotlib\n",
    "!pip install seaborn\n",
    "!pip install scikit-learn\n",
    "!pip install lightgbm\n",
    "\n",
    "!pip install dtale\n",
    "\n",
    "!pip install sktime\n",
    "!pip install sklego\n",
    "\n",
    "#!pip install skforecast\n",
    "\n",
    "# Update pip -- WARNING Resolution\n",
    "!python.exe -m pip install --upgrade pip"
   ]
  },
  {
   "cell_type": "code",
   "execution_count": 2,
   "id": "9fa0a7f0",
   "metadata": {},
   "outputs": [],
   "source": [
    "### ***Imports***\n",
    "import numpy as np\n",
    "import pandas as pd\n",
    "import matplotlib.pyplot as plt\n",
    "import seaborn as sns\n",
    "sns.set()\n",
    "\n",
    "import dtale\n",
    "\n",
    "from statsmodels.tsa.seasonal import seasonal_decompose\n",
    "from statsmodels.graphics.tsaplots import plot_acf, plot_pacf\n",
    "\n",
    "from datetime import datetime\n",
    "from datetime import timedelta\n",
    "\n",
    "from statsmodels.tsa.stattools import adfuller, kpss\n",
    "\n",
    "from sklego.preprocessing import RepeatingBasisFunction\n",
    "\n",
    "from lightgbm import LGBMRegressor\n",
    "from sklearn.ensemble import RandomForestRegressor\n",
    "from sklearn.ensemble import RandomForestClassifier\n",
    "from sklearn.metrics import mean_absolute_error\n",
    "from sklearn.model_selection import TimeSeriesSplit\n",
    "\n",
    "from sklearn.metrics import mean_squared_error\n",
    "from sklearn.metrics import mean_absolute_error\n",
    "from sklearn.metrics import r2_score\n",
    "from sklearn.metrics import accuracy_score\n",
    "from sklearn.metrics import precision_score\n",
    "from sklearn.metrics import recall_score\n",
    "from sklearn.metrics import f1_score\n",
    "\n",
    "import time\n",
    "# Current Location.. !cd\n",
    "#C:\\Users\\ghoyo\\Desktop\\TFM\\Nuevo\\Proyect\n",
    "\n",
    "# Paths\n",
    "data = r\"C:\\Users\\ghoyo\\Desktop\\TFM4\\Project\\GeneratedDfs\\dayly_rests_type.json\""
   ]
  },
  {
   "cell_type": "markdown",
   "id": "9f00ba81",
   "metadata": {},
   "source": [
    "#### <span style=\"background:skyblue\"> Load Data <span>"
   ]
  },
  {
   "cell_type": "code",
   "execution_count": 3,
   "id": "79edec2c",
   "metadata": {},
   "outputs": [
    {
     "data": {
      "text/plain": [
       "(11504, 2)"
      ]
     },
     "execution_count": 3,
     "metadata": {},
     "output_type": "execute_result"
    }
   ],
   "source": [
    "df = pd.read_json(data)\n",
    "df.shape"
   ]
  },
  {
   "cell_type": "markdown",
   "id": "8a6818f0",
   "metadata": {},
   "source": [
    "#### <span style=\"background:skyblue\"> Little Analysis <span>\n"
   ]
  },
  {
   "cell_type": "code",
   "execution_count": 4,
   "id": "7f78a232",
   "metadata": {},
   "outputs": [
    {
     "name": "stdout",
     "output_type": "stream",
     "text": [
      "<class 'pandas.core.frame.DataFrame'>\n",
      "DatetimeIndex: 11504 entries, 2017-04-04 14:06:56 to 2022-11-24 22:04:22\n",
      "Data columns (total 2 columns):\n",
      " #   Column              Non-Null Count  Dtype\n",
      "---  ------              --------------  -----\n",
      " 0   rest_type           11504 non-null  int64\n",
      " 1   n_streams_listened  11504 non-null  int64\n",
      "dtypes: int64(2)\n",
      "memory usage: 269.6 KB\n"
     ]
    }
   ],
   "source": [
    "df.info()"
   ]
  },
  {
   "cell_type": "code",
   "execution_count": 5,
   "id": "445a5ef2",
   "metadata": {},
   "outputs": [
    {
     "data": {
      "text/html": [
       "<div>\n",
       "<style scoped>\n",
       "    .dataframe tbody tr th:only-of-type {\n",
       "        vertical-align: middle;\n",
       "    }\n",
       "\n",
       "    .dataframe tbody tr th {\n",
       "        vertical-align: top;\n",
       "    }\n",
       "\n",
       "    .dataframe thead th {\n",
       "        text-align: right;\n",
       "    }\n",
       "</style>\n",
       "<table border=\"1\" class=\"dataframe\">\n",
       "  <thead>\n",
       "    <tr style=\"text-align: right;\">\n",
       "      <th></th>\n",
       "      <th>count</th>\n",
       "      <th>mean</th>\n",
       "      <th>std</th>\n",
       "      <th>min</th>\n",
       "      <th>25%</th>\n",
       "      <th>50%</th>\n",
       "      <th>75%</th>\n",
       "      <th>max</th>\n",
       "    </tr>\n",
       "  </thead>\n",
       "  <tbody>\n",
       "    <tr>\n",
       "      <th>rest_type</th>\n",
       "      <td>11504.0</td>\n",
       "      <td>2.459840</td>\n",
       "      <td>1.685460</td>\n",
       "      <td>0.0</td>\n",
       "      <td>1.0</td>\n",
       "      <td>2.0</td>\n",
       "      <td>4.0</td>\n",
       "      <td>6.0</td>\n",
       "    </tr>\n",
       "    <tr>\n",
       "      <th>n_streams_listened</th>\n",
       "      <td>11504.0</td>\n",
       "      <td>7.129781</td>\n",
       "      <td>8.876177</td>\n",
       "      <td>1.0</td>\n",
       "      <td>2.0</td>\n",
       "      <td>5.0</td>\n",
       "      <td>9.0</td>\n",
       "      <td>191.0</td>\n",
       "    </tr>\n",
       "  </tbody>\n",
       "</table>\n",
       "</div>"
      ],
      "text/plain": [
       "                      count      mean       std  min  25%  50%  75%    max\n",
       "rest_type           11504.0  2.459840  1.685460  0.0  1.0  2.0  4.0    6.0\n",
       "n_streams_listened  11504.0  7.129781  8.876177  1.0  2.0  5.0  9.0  191.0"
      ]
     },
     "execution_count": 5,
     "metadata": {},
     "output_type": "execute_result"
    }
   ],
   "source": [
    "df.describe().T"
   ]
  },
  {
   "cell_type": "code",
   "execution_count": 6,
   "id": "20027aa6",
   "metadata": {
    "scrolled": true
   },
   "outputs": [
    {
     "data": {
      "text/html": [
       "<div>\n",
       "<style scoped>\n",
       "    .dataframe tbody tr th:only-of-type {\n",
       "        vertical-align: middle;\n",
       "    }\n",
       "\n",
       "    .dataframe tbody tr th {\n",
       "        vertical-align: top;\n",
       "    }\n",
       "\n",
       "    .dataframe thead th {\n",
       "        text-align: right;\n",
       "    }\n",
       "</style>\n",
       "<table border=\"1\" class=\"dataframe\">\n",
       "  <thead>\n",
       "    <tr style=\"text-align: right;\">\n",
       "      <th></th>\n",
       "      <th>rest_type</th>\n",
       "      <th>n_streams_listened</th>\n",
       "    </tr>\n",
       "  </thead>\n",
       "  <tbody>\n",
       "    <tr>\n",
       "      <th>2017-04-04 14:06:56</th>\n",
       "      <td>1</td>\n",
       "      <td>2</td>\n",
       "    </tr>\n",
       "    <tr>\n",
       "      <th>2017-04-04 14:55:10</th>\n",
       "      <td>1</td>\n",
       "      <td>9</td>\n",
       "    </tr>\n",
       "    <tr>\n",
       "      <th>2017-04-04 16:28:27</th>\n",
       "      <td>2</td>\n",
       "      <td>7</td>\n",
       "    </tr>\n",
       "    <tr>\n",
       "      <th>2017-04-04 17:28:27</th>\n",
       "      <td>0</td>\n",
       "      <td>18</td>\n",
       "    </tr>\n",
       "  </tbody>\n",
       "</table>\n",
       "</div>"
      ],
      "text/plain": [
       "                     rest_type  n_streams_listened\n",
       "2017-04-04 14:06:56          1                   2\n",
       "2017-04-04 14:55:10          1                   9\n",
       "2017-04-04 16:28:27          2                   7\n",
       "2017-04-04 17:28:27          0                  18"
      ]
     },
     "execution_count": 6,
     "metadata": {},
     "output_type": "execute_result"
    }
   ],
   "source": [
    "df.head(4)"
   ]
  },
  {
   "cell_type": "markdown",
   "id": "10507854",
   "metadata": {},
   "source": [
    "# <span style='background :khaki' > Baseline Method </span>"
   ]
  },
  {
   "cell_type": "markdown",
   "id": "6939b5fd",
   "metadata": {},
   "source": [
    "### <span style=\"background:lightgreen\">  Baseline = Predict X Past Values <span>"
   ]
  },
  {
   "cell_type": "markdown",
   "id": "a388453e",
   "metadata": {},
   "source": [
    "Asuming the prediction of next day rest is going to be = 6 steps forward\n",
    "\n",
    "https://www.theclickreader.com/multi-step-time-series-forecasting/"
   ]
  },
  {
   "cell_type": "code",
   "execution_count": 7,
   "id": "c20f580f",
   "metadata": {
    "scrolled": true
   },
   "outputs": [
    {
     "data": {
      "text/html": [
       "<div>\n",
       "<style scoped>\n",
       "    .dataframe tbody tr th:only-of-type {\n",
       "        vertical-align: middle;\n",
       "    }\n",
       "\n",
       "    .dataframe tbody tr th {\n",
       "        vertical-align: top;\n",
       "    }\n",
       "\n",
       "    .dataframe thead th {\n",
       "        text-align: right;\n",
       "    }\n",
       "</style>\n",
       "<table border=\"1\" class=\"dataframe\">\n",
       "  <thead>\n",
       "    <tr style=\"text-align: right;\">\n",
       "      <th></th>\n",
       "      <th>rest_type</th>\n",
       "      <th>n_streams_listened</th>\n",
       "    </tr>\n",
       "  </thead>\n",
       "  <tbody>\n",
       "    <tr>\n",
       "      <th>2017-04-04 14:06:56</th>\n",
       "      <td>1</td>\n",
       "      <td>2</td>\n",
       "    </tr>\n",
       "    <tr>\n",
       "      <th>2017-04-04 14:55:10</th>\n",
       "      <td>1</td>\n",
       "      <td>9</td>\n",
       "    </tr>\n",
       "  </tbody>\n",
       "</table>\n",
       "</div>"
      ],
      "text/plain": [
       "                     rest_type  n_streams_listened\n",
       "2017-04-04 14:06:56          1                   2\n",
       "2017-04-04 14:55:10          1                   9"
      ]
     },
     "execution_count": 7,
     "metadata": {},
     "output_type": "execute_result"
    }
   ],
   "source": [
    "n_rests = 6\n",
    "df.head(2)"
   ]
  },
  {
   "cell_type": "markdown",
   "id": "737080c2",
   "metadata": {},
   "source": [
    "#### <span style=\"background:violet\"> Functions <span>"
   ]
  },
  {
   "cell_type": "code",
   "execution_count": 8,
   "id": "c5ca2c9a",
   "metadata": {},
   "outputs": [],
   "source": [
    "# persistence model\n",
    "def model_persistence(x):\n",
    "    return x"
   ]
  },
  {
   "cell_type": "code",
   "execution_count": 9,
   "id": "4828749b",
   "metadata": {},
   "outputs": [],
   "source": [
    "class BlockingTimeSeriesSplit():\n",
    "    def __init__(self, n_splits, numb):\n",
    "        self.n_splits = n_splits\n",
    "        self.numb = numb\n",
    "    \n",
    "    def get_n_splits(self, X, y, groups):\n",
    "        return self.n_splits\n",
    "    \n",
    "    def split(self, X, y=None, groups=None):\n",
    "        n_samples = len(X)\n",
    "        k_fold_size = n_samples // self.n_splits\n",
    "        indices = np.arange(n_samples)\n",
    "\n",
    "        margin = 0\n",
    "        for i in range(self.n_splits):\n",
    "            start = i * k_fold_size\n",
    "            stop = start + k_fold_size\n",
    "            mid = stop-self.numb\n",
    "            yield indices[start: mid], indices[mid + margin: stop]"
   ]
  },
  {
   "cell_type": "markdown",
   "id": "a13e6d7c",
   "metadata": {},
   "source": [
    "### <span style=\"background:lightgreen\"> Dummy Regresors - lag_1 <span>"
   ]
  },
  {
   "cell_type": "code",
   "execution_count": 10,
   "id": "8111d346",
   "metadata": {},
   "outputs": [
    {
     "data": {
      "text/html": [
       "<div>\n",
       "<style scoped>\n",
       "    .dataframe tbody tr th:only-of-type {\n",
       "        vertical-align: middle;\n",
       "    }\n",
       "\n",
       "    .dataframe tbody tr th {\n",
       "        vertical-align: top;\n",
       "    }\n",
       "\n",
       "    .dataframe thead th {\n",
       "        text-align: right;\n",
       "    }\n",
       "</style>\n",
       "<table border=\"1\" class=\"dataframe\">\n",
       "  <thead>\n",
       "    <tr style=\"text-align: right;\">\n",
       "      <th></th>\n",
       "      <th>rest_type</th>\n",
       "      <th>n_streams_listened</th>\n",
       "      <th>lag_1</th>\n",
       "    </tr>\n",
       "  </thead>\n",
       "  <tbody>\n",
       "    <tr>\n",
       "      <th>2022-11-22 07:18:52</th>\n",
       "      <td>5</td>\n",
       "      <td>2</td>\n",
       "      <td>3.0</td>\n",
       "    </tr>\n",
       "    <tr>\n",
       "      <th>2022-11-22 18:13:55</th>\n",
       "      <td>5</td>\n",
       "      <td>12</td>\n",
       "      <td>5.0</td>\n",
       "    </tr>\n",
       "    <tr>\n",
       "      <th>2022-11-23 06:53:53</th>\n",
       "      <td>5</td>\n",
       "      <td>13</td>\n",
       "      <td>5.0</td>\n",
       "    </tr>\n",
       "    <tr>\n",
       "      <th>2022-11-23 18:14:12</th>\n",
       "      <td>5</td>\n",
       "      <td>14</td>\n",
       "      <td>5.0</td>\n",
       "    </tr>\n",
       "    <tr>\n",
       "      <th>2022-11-23 21:31:19</th>\n",
       "      <td>3</td>\n",
       "      <td>5</td>\n",
       "      <td>5.0</td>\n",
       "    </tr>\n",
       "    <tr>\n",
       "      <th>2022-11-24 07:27:12</th>\n",
       "      <td>5</td>\n",
       "      <td>2</td>\n",
       "      <td>3.0</td>\n",
       "    </tr>\n",
       "    <tr>\n",
       "      <th>2022-11-24 22:04:22</th>\n",
       "      <td>5</td>\n",
       "      <td>11</td>\n",
       "      <td>5.0</td>\n",
       "    </tr>\n",
       "  </tbody>\n",
       "</table>\n",
       "</div>"
      ],
      "text/plain": [
       "                     rest_type  n_streams_listened  lag_1\n",
       "2022-11-22 07:18:52          5                   2    3.0\n",
       "2022-11-22 18:13:55          5                  12    5.0\n",
       "2022-11-23 06:53:53          5                  13    5.0\n",
       "2022-11-23 18:14:12          5                  14    5.0\n",
       "2022-11-23 21:31:19          3                   5    5.0\n",
       "2022-11-24 07:27:12          5                   2    3.0\n",
       "2022-11-24 22:04:22          5                  11    5.0"
      ]
     },
     "execution_count": 10,
     "metadata": {},
     "output_type": "execute_result"
    }
   ],
   "source": [
    "# Create Base Lag\n",
    "\n",
    "df_base = df.copy()\n",
    "n_lags = 1\n",
    "\n",
    "for i in range(n_lags):\n",
    "    df_base['lag_'+ str(i+1)] = df_base['rest_type'].shift(i+1)\n",
    "\n",
    "df_base.dropna(inplace=True)\n",
    "df_base.tail(7)"
   ]
  },
  {
   "cell_type": "code",
   "execution_count": 11,
   "id": "52c48e07",
   "metadata": {
    "scrolled": true
   },
   "outputs": [],
   "source": [
    "# X DATA... \n",
    "cols = df_base.columns[df_base.columns.str.contains('lag')]\n",
    "X = df_base[cols].squeeze()\n",
    "\n",
    "# Y DATA SPLIT\n",
    "y = df_base['rest_type']\n",
    "\n",
    "# Other Variables\n",
    "test_size = n_rests\n",
    "predict = []\n",
    "\n",
    "# Train, Predict and error.\n",
    "for x in X[-test_size:]:\n",
    "    yhat = model_persistence(x)\n",
    "    predict.append(yhat)\n",
    "    \n",
    "acc = accuracy_score(y[-test_size:], predict)"
   ]
  },
  {
   "cell_type": "code",
   "execution_count": 12,
   "id": "7618869b",
   "metadata": {},
   "outputs": [
    {
     "name": "stdout",
     "output_type": "stream",
     "text": [
      "Prediction =  5.0  -- Vs --  Original =  5\n",
      "ACC =  0.6666666666666666\n"
     ]
    }
   ],
   "source": [
    "print('Prediction = ', yhat, ' -- Vs -- ', 'Original = ', list(y[-test_size:])[0])\n",
    "print('ACC = ', acc)"
   ]
  },
  {
   "cell_type": "markdown",
   "id": "cd1f371e",
   "metadata": {},
   "source": [
    "#### <span style=\"background:skyblue\"> Baseline CV </span>"
   ]
  },
  {
   "cell_type": "markdown",
   "id": "6bee55b4",
   "metadata": {},
   "source": [
    "#### <span style=\"background:skyblue\"> TSCV </span>"
   ]
  },
  {
   "cell_type": "code",
   "execution_count": 13,
   "id": "6ca09944",
   "metadata": {
    "scrolled": true
   },
   "outputs": [
    {
     "name": "stdout",
     "output_type": "stream",
     "text": [
      "ACC Mean =  0.20888888888888887\n",
      "\n",
      "\n"
     ]
    }
   ],
   "source": [
    "# X DATA... \n",
    "cols = df_base.columns[df_base.columns.str.contains('lag')]\n",
    "X = df_base[cols].squeeze()\n",
    "# Y DATA SPLIT\n",
    "y = df_base['rest_type']\n",
    "\n",
    "# Other Variables\n",
    "test_size = n_rests\n",
    "predict = []\n",
    "acc = []\n",
    "#Split, Train, Predict and error.\n",
    "\n",
    "tscv = TimeSeriesSplit(max_train_size=None, n_splits = 75, test_size=test_size)\n",
    "\n",
    "for train_index, test_index in tscv.split(X):\n",
    "    predict = []\n",
    "    #print('TRAIN:', train_index, 'TEST:', test_index) \n",
    "    X_train, X_test = X[train_index], X[test_index]\n",
    "    y_train, y_test = y[train_index], y[test_index]\n",
    "\n",
    "    for x in X_test:\n",
    "        yhat = model_persistence(x)\n",
    "        predict.append(yhat)\n",
    "        \n",
    "    #print('Prediction = ', predict, ' -- Vs -- ', 'Original = ', list(y_test[-test_size:]))\n",
    "    acc.append(accuracy_score(y_test[-test_size:], predict))\n",
    "    #print('ACC = ', acc[-1])\n",
    "    \n",
    "print('ACC Mean = ', np.mean(acc))\n",
    "print('\\n')\n"
   ]
  },
  {
   "cell_type": "markdown",
   "id": "48815065",
   "metadata": {},
   "source": [
    "#### <span style=\"background:skyblue\"> BCV </span>"
   ]
  },
  {
   "cell_type": "code",
   "execution_count": 14,
   "id": "4b34000d",
   "metadata": {},
   "outputs": [
    {
     "name": "stdout",
     "output_type": "stream",
     "text": [
      "ACC Mean =  0.18222222222222223\n",
      "\n",
      "\n"
     ]
    }
   ],
   "source": [
    "# X DATA... \n",
    "cols = df_base.columns[df_base.columns.str.contains('lag')]\n",
    "X = df_base[cols].squeeze()\n",
    "# Y DATA SPLIT\n",
    "y = df_base['rest_type']\n",
    "\n",
    "# Other Variables\n",
    "test_size = n_rests\n",
    "predict = []\n",
    "acc = []\n",
    "#Split, Train, Predict and error.\n",
    "\n",
    "tscv = BlockingTimeSeriesSplit(n_splits = 75, numb = test_size)\n",
    "for train_index, test_index in tscv.split(X):\n",
    "    predict = []\n",
    "    #print('TRAIN:', train_index, 'TEST:', test_index) \n",
    "    X_train, X_test = X[train_index], X[test_index]\n",
    "    y_train, y_test = y[train_index], y[test_index]\n",
    "\n",
    "    for x in X_test:\n",
    "        yhat = model_persistence(x)\n",
    "        predict.append(yhat)\n",
    "        \n",
    "    #print('Prediction = ', predict, ' -- Vs -- ', 'Original = ', list(y_test[-test_size:]))\n",
    "    acc.append(accuracy_score(y_test[-test_size:], predict))\n",
    "    #print('ACC = ', acc[-1])\n",
    "    \n",
    "print('ACC Mean = ', np.mean(acc))\n",
    "print('\\n')\n"
   ]
  }
 ],
 "metadata": {
  "kernelspec": {
   "display_name": "Python 3 (ipykernel)",
   "language": "python",
   "name": "python3"
  },
  "language_info": {
   "codemirror_mode": {
    "name": "ipython",
    "version": 3
   },
   "file_extension": ".py",
   "mimetype": "text/x-python",
   "name": "python",
   "nbconvert_exporter": "python",
   "pygments_lexer": "ipython3",
   "version": "3.9.11"
  }
 },
 "nbformat": 4,
 "nbformat_minor": 5
}
