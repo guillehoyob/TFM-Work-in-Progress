{
 "cells": [
  {
   "cell_type": "markdown",
   "id": "39396163",
   "metadata": {},
   "source": [
    "# Baseline Prediction "
   ]
  },
  {
   "cell_type": "markdown",
   "id": "4c5f0d52",
   "metadata": {},
   "source": [
    "https://towardsdatascience.com/multivariate-time-series-forecasting-using-random-forest-2372f3ecbad1"
   ]
  },
  {
   "cell_type": "markdown",
   "id": "4adebbb6",
   "metadata": {},
   "source": [
    "# <span style='background :khaki' > Install & Importa Libraries </span>"
   ]
  },
  {
   "cell_type": "code",
   "execution_count": 2,
   "id": "7ae51247",
   "metadata": {},
   "outputs": [
    {
     "name": "stdout",
     "output_type": "stream",
     "text": [
      "Requirement already satisfied: pandas in c:\\users\\ghoyo\\miniconda3\\lib\\site-packages (1.5.1)\n",
      "Requirement already satisfied: python-dateutil>=2.8.1 in c:\\users\\ghoyo\\miniconda3\\lib\\site-packages (from pandas) (2.8.2)\n",
      "Requirement already satisfied: numpy>=1.20.3 in c:\\users\\ghoyo\\miniconda3\\lib\\site-packages (from pandas) (1.23.4)\n",
      "Requirement already satisfied: pytz>=2020.1 in c:\\users\\ghoyo\\miniconda3\\lib\\site-packages (from pandas) (2022.6)\n",
      "Requirement already satisfied: six>=1.5 in c:\\users\\ghoyo\\miniconda3\\lib\\site-packages (from python-dateutil>=2.8.1->pandas) (1.16.0)\n",
      "Requirement already satisfied: matplotlib in c:\\users\\ghoyo\\miniconda3\\lib\\site-packages (3.6.0)\n",
      "Requirement already satisfied: fonttools>=4.22.0 in c:\\users\\ghoyo\\miniconda3\\lib\\site-packages (from matplotlib) (4.38.0)\n",
      "Requirement already satisfied: contourpy>=1.0.1 in c:\\users\\ghoyo\\miniconda3\\lib\\site-packages (from matplotlib) (1.0.6)\n",
      "Requirement already satisfied: packaging>=20.0 in c:\\users\\ghoyo\\miniconda3\\lib\\site-packages (from matplotlib) (21.3)\n",
      "Requirement already satisfied: cycler>=0.10 in c:\\users\\ghoyo\\miniconda3\\lib\\site-packages (from matplotlib) (0.11.0)\n",
      "Requirement already satisfied: pyparsing>=2.2.1 in c:\\users\\ghoyo\\miniconda3\\lib\\site-packages (from matplotlib) (3.0.4)\n",
      "Requirement already satisfied: python-dateutil>=2.7 in c:\\users\\ghoyo\\miniconda3\\lib\\site-packages (from matplotlib) (2.8.2)\n",
      "Requirement already satisfied: pillow>=6.2.0 in c:\\users\\ghoyo\\miniconda3\\lib\\site-packages (from matplotlib) (9.3.0)\n",
      "Requirement already satisfied: kiwisolver>=1.0.1 in c:\\users\\ghoyo\\miniconda3\\lib\\site-packages (from matplotlib) (1.4.4)\n",
      "Requirement already satisfied: numpy>=1.19 in c:\\users\\ghoyo\\miniconda3\\lib\\site-packages (from matplotlib) (1.23.4)\n",
      "Requirement already satisfied: six>=1.5 in c:\\users\\ghoyo\\miniconda3\\lib\\site-packages (from python-dateutil>=2.7->matplotlib) (1.16.0)\n",
      "Requirement already satisfied: seaborn in c:\\users\\ghoyo\\miniconda3\\lib\\site-packages (0.12.1)\n",
      "Requirement already satisfied: matplotlib!=3.6.1,>=3.1 in c:\\users\\ghoyo\\miniconda3\\lib\\site-packages (from seaborn) (3.6.0)\n",
      "Requirement already satisfied: numpy>=1.17 in c:\\users\\ghoyo\\miniconda3\\lib\\site-packages (from seaborn) (1.23.4)\n",
      "Requirement already satisfied: pandas>=0.25 in c:\\users\\ghoyo\\miniconda3\\lib\\site-packages (from seaborn) (1.5.1)\n",
      "Requirement already satisfied: packaging>=20.0 in c:\\users\\ghoyo\\miniconda3\\lib\\site-packages (from matplotlib!=3.6.1,>=3.1->seaborn) (21.3)\n",
      "Requirement already satisfied: kiwisolver>=1.0.1 in c:\\users\\ghoyo\\miniconda3\\lib\\site-packages (from matplotlib!=3.6.1,>=3.1->seaborn) (1.4.4)\n",
      "Requirement already satisfied: contourpy>=1.0.1 in c:\\users\\ghoyo\\miniconda3\\lib\\site-packages (from matplotlib!=3.6.1,>=3.1->seaborn) (1.0.6)\n",
      "Requirement already satisfied: cycler>=0.10 in c:\\users\\ghoyo\\miniconda3\\lib\\site-packages (from matplotlib!=3.6.1,>=3.1->seaborn) (0.11.0)\n",
      "Requirement already satisfied: python-dateutil>=2.7 in c:\\users\\ghoyo\\miniconda3\\lib\\site-packages (from matplotlib!=3.6.1,>=3.1->seaborn) (2.8.2)\n",
      "Requirement already satisfied: pyparsing>=2.2.1 in c:\\users\\ghoyo\\miniconda3\\lib\\site-packages (from matplotlib!=3.6.1,>=3.1->seaborn) (3.0.4)\n",
      "Requirement already satisfied: pillow>=6.2.0 in c:\\users\\ghoyo\\miniconda3\\lib\\site-packages (from matplotlib!=3.6.1,>=3.1->seaborn) (9.3.0)\n",
      "Requirement already satisfied: fonttools>=4.22.0 in c:\\users\\ghoyo\\miniconda3\\lib\\site-packages (from matplotlib!=3.6.1,>=3.1->seaborn) (4.38.0)\n",
      "Requirement already satisfied: pytz>=2020.1 in c:\\users\\ghoyo\\miniconda3\\lib\\site-packages (from pandas>=0.25->seaborn) (2022.6)\n",
      "Requirement already satisfied: six>=1.5 in c:\\users\\ghoyo\\miniconda3\\lib\\site-packages (from python-dateutil>=2.7->matplotlib!=3.6.1,>=3.1->seaborn) (1.16.0)\n",
      "Requirement already satisfied: scikit-learn in c:\\users\\ghoyo\\miniconda3\\lib\\site-packages (1.1.3)\n",
      "Requirement already satisfied: threadpoolctl>=2.0.0 in c:\\users\\ghoyo\\miniconda3\\lib\\site-packages (from scikit-learn) (3.1.0)\n",
      "Requirement already satisfied: scipy>=1.3.2 in c:\\users\\ghoyo\\miniconda3\\lib\\site-packages (from scikit-learn) (1.9.3)\n",
      "Requirement already satisfied: joblib>=1.0.0 in c:\\users\\ghoyo\\miniconda3\\lib\\site-packages (from scikit-learn) (1.2.0)\n",
      "Requirement already satisfied: numpy>=1.17.3 in c:\\users\\ghoyo\\miniconda3\\lib\\site-packages (from scikit-learn) (1.23.4)\n",
      "Requirement already satisfied: lightgbm in c:\\users\\ghoyo\\miniconda3\\lib\\site-packages (3.3.5)\n",
      "Requirement already satisfied: numpy in c:\\users\\ghoyo\\miniconda3\\lib\\site-packages (from lightgbm) (1.23.4)\n",
      "Requirement already satisfied: wheel in c:\\users\\ghoyo\\miniconda3\\lib\\site-packages (from lightgbm) (0.37.1)\n",
      "Requirement already satisfied: scipy in c:\\users\\ghoyo\\miniconda3\\lib\\site-packages (from lightgbm) (1.9.3)\n",
      "Requirement already satisfied: scikit-learn!=0.22.0 in c:\\users\\ghoyo\\miniconda3\\lib\\site-packages (from lightgbm) (1.1.3)\n",
      "Requirement already satisfied: threadpoolctl>=2.0.0 in c:\\users\\ghoyo\\miniconda3\\lib\\site-packages (from scikit-learn!=0.22.0->lightgbm) (3.1.0)\n",
      "Requirement already satisfied: joblib>=1.0.0 in c:\\users\\ghoyo\\miniconda3\\lib\\site-packages (from scikit-learn!=0.22.0->lightgbm) (1.2.0)\n",
      "Requirement already satisfied: dtale in c:\\users\\ghoyo\\miniconda3\\lib\\site-packages (2.13.0)\n",
      "Requirement already satisfied: cycler in c:\\users\\ghoyo\\miniconda3\\lib\\site-packages (from dtale) (0.11.0)\n",
      "Requirement already satisfied: et-xmlfile in c:\\users\\ghoyo\\miniconda3\\lib\\site-packages (from dtale) (1.1.0)\n",
      "Requirement already satisfied: matplotlib==3.6.0 in c:\\users\\ghoyo\\miniconda3\\lib\\site-packages (from dtale) (3.6.0)\n",
      "Requirement already satisfied: Flask in c:\\users\\ghoyo\\miniconda3\\lib\\site-packages (from dtale) (2.2.3)\n",
      "Requirement already satisfied: beautifulsoup4 in c:\\users\\ghoyo\\miniconda3\\lib\\site-packages (from dtale) (4.11.2)\n",
      "Requirement already satisfied: networkx in c:\\users\\ghoyo\\miniconda3\\lib\\site-packages (from dtale) (3.0)\n",
      "Requirement already satisfied: statsmodels in c:\\users\\ghoyo\\miniconda3\\lib\\site-packages (from dtale) (0.13.5)\n",
      "Requirement already satisfied: certifi in c:\\users\\ghoyo\\miniconda3\\lib\\site-packages (from dtale) (2021.10.8)\n",
      "Requirement already satisfied: xlrd in c:\\users\\ghoyo\\miniconda3\\lib\\site-packages (from dtale) (2.0.1)\n",
      "Requirement already satisfied: seaborn in c:\\users\\ghoyo\\miniconda3\\lib\\site-packages (from dtale) (0.12.1)\n",
      "Requirement already satisfied: itsdangerous in c:\\users\\ghoyo\\miniconda3\\lib\\site-packages (from dtale) (2.1.2)\n",
      "Requirement already satisfied: future>=0.14.0 in c:\\users\\ghoyo\\miniconda3\\lib\\site-packages (from dtale) (0.18.3)\n",
      "Requirement already satisfied: strsimpy in c:\\users\\ghoyo\\miniconda3\\lib\\site-packages (from dtale) (0.2.1)\n",
      "Requirement already satisfied: xarray in c:\\users\\ghoyo\\miniconda3\\lib\\site-packages (from dtale) (2023.2.0)\n",
      "Requirement already satisfied: kaleido in c:\\users\\ghoyo\\miniconda3\\lib\\site-packages (from dtale) (0.2.1)\n",
      "Requirement already satisfied: flask-ngrok in c:\\users\\ghoyo\\miniconda3\\lib\\site-packages (from dtale) (0.0.25)\n",
      "Requirement already satisfied: dash-bootstrap-components<=1.3.1 in c:\\users\\ghoyo\\miniconda3\\lib\\site-packages (from dtale) (1.3.1)\n",
      "Requirement already satisfied: scipy==1.9.3 in c:\\users\\ghoyo\\miniconda3\\lib\\site-packages (from dtale) (1.9.3)\n",
      "Requirement already satisfied: scikit-learn in c:\\users\\ghoyo\\miniconda3\\lib\\site-packages (from dtale) (1.1.3)\n",
      "Requirement already satisfied: pandas in c:\\users\\ghoyo\\miniconda3\\lib\\site-packages (from dtale) (1.5.1)\n",
      "Requirement already satisfied: dash-daq in c:\\users\\ghoyo\\miniconda3\\lib\\site-packages (from dtale) (0.5.0)\n",
      "Requirement already satisfied: numpy in c:\\users\\ghoyo\\miniconda3\\lib\\site-packages (from dtale) (1.23.4)\n",
      "Requirement already satisfied: requests in c:\\users\\ghoyo\\miniconda3\\lib\\site-packages (from dtale) (2.27.1)\n",
      "Requirement already satisfied: squarify in c:\\users\\ghoyo\\miniconda3\\lib\\site-packages (from dtale) (0.4.3)\n",
      "Requirement already satisfied: lz4 in c:\\users\\ghoyo\\miniconda3\\lib\\site-packages (from dtale) (4.3.2)\n",
      "Requirement already satisfied: openpyxl!=3.2.0b1 in c:\\users\\ghoyo\\miniconda3\\lib\\site-packages (from dtale) (3.1.2)\n",
      "Requirement already satisfied: missingno<=0.4.2 in c:\\users\\ghoyo\\miniconda3\\lib\\site-packages (from dtale) (0.4.2)\n",
      "Requirement already satisfied: dash-colorscales in c:\\users\\ghoyo\\miniconda3\\lib\\site-packages (from dtale) (0.0.4)\n",
      "Requirement already satisfied: plotly>=5.0.0 in c:\\users\\ghoyo\\miniconda3\\lib\\site-packages (from dtale) (5.13.1)\n",
      "Requirement already satisfied: dash>=2.0.0 in c:\\users\\ghoyo\\miniconda3\\lib\\site-packages (from dtale) (2.8.1)\n",
      "Requirement already satisfied: Flask-Compress in c:\\users\\ghoyo\\miniconda3\\lib\\site-packages (from dtale) (1.13)\n",
      "Requirement already satisfied: six in c:\\users\\ghoyo\\miniconda3\\lib\\site-packages (from dtale) (1.16.0)\n",
      "Requirement already satisfied: kiwisolver>=1.0.1 in c:\\users\\ghoyo\\miniconda3\\lib\\site-packages (from matplotlib==3.6.0->dtale) (1.4.4)\n",
      "Requirement already satisfied: packaging>=20.0 in c:\\users\\ghoyo\\miniconda3\\lib\\site-packages (from matplotlib==3.6.0->dtale) (21.3)\n",
      "Requirement already satisfied: pyparsing>=2.2.1 in c:\\users\\ghoyo\\miniconda3\\lib\\site-packages (from matplotlib==3.6.0->dtale) (3.0.4)\n",
      "Requirement already satisfied: python-dateutil>=2.7 in c:\\users\\ghoyo\\miniconda3\\lib\\site-packages (from matplotlib==3.6.0->dtale) (2.8.2)\n",
      "Requirement already satisfied: contourpy>=1.0.1 in c:\\users\\ghoyo\\miniconda3\\lib\\site-packages (from matplotlib==3.6.0->dtale) (1.0.6)\n",
      "Requirement already satisfied: fonttools>=4.22.0 in c:\\users\\ghoyo\\miniconda3\\lib\\site-packages (from matplotlib==3.6.0->dtale) (4.38.0)\n",
      "Requirement already satisfied: pillow>=6.2.0 in c:\\users\\ghoyo\\miniconda3\\lib\\site-packages (from matplotlib==3.6.0->dtale) (9.3.0)\n",
      "Requirement already satisfied: dash-table==5.0.0 in c:\\users\\ghoyo\\miniconda3\\lib\\site-packages (from dash>=2.0.0->dtale) (5.0.0)\n",
      "Requirement already satisfied: dash-core-components==2.0.0 in c:\\users\\ghoyo\\miniconda3\\lib\\site-packages (from dash>=2.0.0->dtale) (2.0.0)\n",
      "Requirement already satisfied: dash-html-components==2.0.0 in c:\\users\\ghoyo\\miniconda3\\lib\\site-packages (from dash>=2.0.0->dtale) (2.0.0)\n",
      "Requirement already satisfied: Jinja2>=3.0 in c:\\users\\ghoyo\\miniconda3\\lib\\site-packages (from Flask->dtale) (3.0.3)\n",
      "Requirement already satisfied: importlib-metadata>=3.6.0 in c:\\users\\ghoyo\\miniconda3\\lib\\site-packages (from Flask->dtale) (4.8.2)\n",
      "Requirement already satisfied: click>=8.0 in c:\\users\\ghoyo\\miniconda3\\lib\\site-packages (from Flask->dtale) (8.1.3)\n",
      "Requirement already satisfied: Werkzeug>=2.2.2 in c:\\users\\ghoyo\\miniconda3\\lib\\site-packages (from Flask->dtale) (2.2.3)\n",
      "Requirement already satisfied: tenacity>=6.2.0 in c:\\users\\ghoyo\\miniconda3\\lib\\site-packages (from plotly>=5.0.0->dtale) (8.2.2)\n",
      "Requirement already satisfied: soupsieve>1.2 in c:\\users\\ghoyo\\miniconda3\\lib\\site-packages (from beautifulsoup4->dtale) (2.4)\n",
      "Requirement already satisfied: brotli in c:\\users\\ghoyo\\miniconda3\\lib\\site-packages (from Flask-Compress->dtale) (1.0.9)\n",
      "Requirement already satisfied: pytz>=2020.1 in c:\\users\\ghoyo\\miniconda3\\lib\\site-packages (from pandas->dtale) (2022.6)\n",
      "Requirement already satisfied: charset-normalizer~=2.0.0 in c:\\users\\ghoyo\\miniconda3\\lib\\site-packages (from requests->dtale) (2.0.4)\n",
      "Requirement already satisfied: urllib3<1.27,>=1.21.1 in c:\\users\\ghoyo\\miniconda3\\lib\\site-packages (from requests->dtale) (1.26.8)\n",
      "Requirement already satisfied: idna<4,>=2.5 in c:\\users\\ghoyo\\miniconda3\\lib\\site-packages (from requests->dtale) (3.3)\n",
      "Requirement already satisfied: threadpoolctl>=2.0.0 in c:\\users\\ghoyo\\miniconda3\\lib\\site-packages (from scikit-learn->dtale) (3.1.0)\n",
      "Requirement already satisfied: joblib>=1.0.0 in c:\\users\\ghoyo\\miniconda3\\lib\\site-packages (from scikit-learn->dtale) (1.2.0)\n",
      "Requirement already satisfied: patsy>=0.5.2 in c:\\users\\ghoyo\\miniconda3\\lib\\site-packages (from statsmodels->dtale) (0.5.3)\n",
      "Requirement already satisfied: colorama in c:\\users\\ghoyo\\miniconda3\\lib\\site-packages (from click>=8.0->Flask->dtale) (0.4.4)\n",
      "Requirement already satisfied: zipp>=0.5 in c:\\users\\ghoyo\\miniconda3\\lib\\site-packages (from importlib-metadata>=3.6.0->Flask->dtale) (3.7.0)\n",
      "Requirement already satisfied: MarkupSafe>=2.0 in c:\\users\\ghoyo\\miniconda3\\lib\\site-packages (from Jinja2>=3.0->Flask->dtale) (2.1.2)\n"
     ]
    },
    {
     "name": "stdout",
     "output_type": "stream",
     "text": [
      "Requirement already satisfied: sktime in c:\\users\\ghoyo\\miniconda3\\lib\\site-packages (0.16.1)\n",
      "Requirement already satisfied: deprecated>=1.2.13 in c:\\users\\ghoyo\\miniconda3\\lib\\site-packages (from sktime) (1.2.13)\n",
      "Requirement already satisfied: scipy<2.0.0,>=1.2.0 in c:\\users\\ghoyo\\miniconda3\\lib\\site-packages (from sktime) (1.9.3)\n",
      "Requirement already satisfied: pandas<1.6.0,>=1.1.0 in c:\\users\\ghoyo\\miniconda3\\lib\\site-packages (from sktime) (1.5.1)\n",
      "Requirement already satisfied: numpy<1.25,>=1.21.0 in c:\\users\\ghoyo\\miniconda3\\lib\\site-packages (from sktime) (1.23.4)\n",
      "Requirement already satisfied: scikit-learn<1.3.0,>=0.24.0 in c:\\users\\ghoyo\\miniconda3\\lib\\site-packages (from sktime) (1.1.3)\n",
      "Requirement already satisfied: numba>=0.53 in c:\\users\\ghoyo\\miniconda3\\lib\\site-packages (from sktime) (0.56.4)\n",
      "Requirement already satisfied: wrapt<2,>=1.10 in c:\\users\\ghoyo\\miniconda3\\lib\\site-packages (from deprecated>=1.2.13->sktime) (1.15.0)\n",
      "Requirement already satisfied: setuptools in c:\\users\\ghoyo\\miniconda3\\lib\\site-packages (from numba>=0.53->sktime) (58.0.4)\n",
      "Requirement already satisfied: llvmlite<0.40,>=0.39.0dev0 in c:\\users\\ghoyo\\miniconda3\\lib\\site-packages (from numba>=0.53->sktime) (0.39.1)\n",
      "Requirement already satisfied: pytz>=2020.1 in c:\\users\\ghoyo\\miniconda3\\lib\\site-packages (from pandas<1.6.0,>=1.1.0->sktime) (2022.6)\n",
      "Requirement already satisfied: python-dateutil>=2.8.1 in c:\\users\\ghoyo\\miniconda3\\lib\\site-packages (from pandas<1.6.0,>=1.1.0->sktime) (2.8.2)\n",
      "Requirement already satisfied: threadpoolctl>=2.0.0 in c:\\users\\ghoyo\\miniconda3\\lib\\site-packages (from scikit-learn<1.3.0,>=0.24.0->sktime) (3.1.0)\n",
      "Requirement already satisfied: joblib>=1.0.0 in c:\\users\\ghoyo\\miniconda3\\lib\\site-packages (from scikit-learn<1.3.0,>=0.24.0->sktime) (1.2.0)\n",
      "Requirement already satisfied: six>=1.5 in c:\\users\\ghoyo\\miniconda3\\lib\\site-packages (from python-dateutil>=2.8.1->pandas<1.6.0,>=1.1.0->sktime) (1.16.0)\n",
      "Requirement already satisfied: sklego in c:\\users\\ghoyo\\miniconda3\\lib\\site-packages (0.0)\n",
      "Requirement already satisfied: scikit-lego in c:\\users\\ghoyo\\miniconda3\\lib\\site-packages (from sklego) (0.6.14)\n",
      "Requirement already satisfied: umap-learn>=0.4.6 in c:\\users\\ghoyo\\miniconda3\\lib\\site-packages (from scikit-lego->sklego) (0.5.3)\n",
      "Requirement already satisfied: autograd>=1.2 in c:\\users\\ghoyo\\miniconda3\\lib\\site-packages (from scikit-lego->sklego) (1.5)\n",
      "Requirement already satisfied: scikit-learn>=0.24.1 in c:\\users\\ghoyo\\miniconda3\\lib\\site-packages (from scikit-lego->sklego) (1.1.3)\n",
      "Requirement already satisfied: Deprecated>=1.2.6 in c:\\users\\ghoyo\\miniconda3\\lib\\site-packages (from scikit-lego->sklego) (1.2.13)\n",
      "Requirement already satisfied: patsy>=0.5.1 in c:\\users\\ghoyo\\miniconda3\\lib\\site-packages (from scikit-lego->sklego) (0.5.3)\n",
      "Requirement already satisfied: pandas>=1.1.5 in c:\\users\\ghoyo\\miniconda3\\lib\\site-packages (from scikit-lego->sklego) (1.5.1)\n",
      "Requirement already satisfied: numpy>=1.12 in c:\\users\\ghoyo\\miniconda3\\lib\\site-packages (from autograd>=1.2->scikit-lego->sklego) (1.23.4)\n",
      "Requirement already satisfied: future>=0.15.2 in c:\\users\\ghoyo\\miniconda3\\lib\\site-packages (from autograd>=1.2->scikit-lego->sklego) (0.18.3)\n",
      "Requirement already satisfied: wrapt<2,>=1.10 in c:\\users\\ghoyo\\miniconda3\\lib\\site-packages (from Deprecated>=1.2.6->scikit-lego->sklego) (1.15.0)\n",
      "Requirement already satisfied: pytz>=2020.1 in c:\\users\\ghoyo\\miniconda3\\lib\\site-packages (from pandas>=1.1.5->scikit-lego->sklego) (2022.6)\n",
      "Requirement already satisfied: python-dateutil>=2.8.1 in c:\\users\\ghoyo\\miniconda3\\lib\\site-packages (from pandas>=1.1.5->scikit-lego->sklego) (2.8.2)\n",
      "Requirement already satisfied: six in c:\\users\\ghoyo\\miniconda3\\lib\\site-packages (from patsy>=0.5.1->scikit-lego->sklego) (1.16.0)\n",
      "Requirement already satisfied: joblib>=1.0.0 in c:\\users\\ghoyo\\miniconda3\\lib\\site-packages (from scikit-learn>=0.24.1->scikit-lego->sklego) (1.2.0)\n",
      "Requirement already satisfied: threadpoolctl>=2.0.0 in c:\\users\\ghoyo\\miniconda3\\lib\\site-packages (from scikit-learn>=0.24.1->scikit-lego->sklego) (3.1.0)\n",
      "Requirement already satisfied: scipy>=1.3.2 in c:\\users\\ghoyo\\miniconda3\\lib\\site-packages (from scikit-learn>=0.24.1->scikit-lego->sklego) (1.9.3)\n",
      "Requirement already satisfied: tqdm in c:\\users\\ghoyo\\miniconda3\\lib\\site-packages (from umap-learn>=0.4.6->scikit-lego->sklego) (4.63.0)\n",
      "Requirement already satisfied: numba>=0.49 in c:\\users\\ghoyo\\miniconda3\\lib\\site-packages (from umap-learn>=0.4.6->scikit-lego->sklego) (0.56.4)\n",
      "Requirement already satisfied: pynndescent>=0.5 in c:\\users\\ghoyo\\miniconda3\\lib\\site-packages (from umap-learn>=0.4.6->scikit-lego->sklego) (0.5.8)\n",
      "Requirement already satisfied: llvmlite<0.40,>=0.39.0dev0 in c:\\users\\ghoyo\\miniconda3\\lib\\site-packages (from numba>=0.49->umap-learn>=0.4.6->scikit-lego->sklego) (0.39.1)\n",
      "Requirement already satisfied: setuptools in c:\\users\\ghoyo\\miniconda3\\lib\\site-packages (from numba>=0.49->umap-learn>=0.4.6->scikit-lego->sklego) (58.0.4)\n",
      "Requirement already satisfied: colorama in c:\\users\\ghoyo\\miniconda3\\lib\\site-packages (from tqdm->umap-learn>=0.4.6->scikit-lego->sklego) (0.4.4)\n",
      "Requirement already satisfied: pip in c:\\users\\ghoyo\\miniconda3\\lib\\site-packages (23.0.1)\n"
     ]
    }
   ],
   "source": [
    "### ***Enviroment Preparation***\n",
    "# Install Pandas\n",
    "!pip install pandas\n",
    "!pip install matplotlib\n",
    "!pip install seaborn\n",
    "!pip install scikit-learn\n",
    "!pip install lightgbm\n",
    "\n",
    "!pip install dtale\n",
    "\n",
    "!pip install sktime\n",
    "!pip install sklego\n",
    "\n",
    "#!pip install skforecast\n",
    "\n",
    "# Update pip -- WARNING Resolution\n",
    "!python.exe -m pip install --upgrade pip"
   ]
  },
  {
   "cell_type": "code",
   "execution_count": 3,
   "id": "9fa0a7f0",
   "metadata": {},
   "outputs": [],
   "source": [
    "### ***Imports***\n",
    "import numpy as np\n",
    "import pandas as pd\n",
    "import matplotlib.pyplot as plt\n",
    "import seaborn as sns\n",
    "sns.set()\n",
    "\n",
    "import dtale\n",
    "\n",
    "from statsmodels.tsa.seasonal import seasonal_decompose\n",
    "from statsmodels.graphics.tsaplots import plot_acf, plot_pacf\n",
    "\n",
    "from datetime import datetime\n",
    "from datetime import timedelta\n",
    "\n",
    "from statsmodels.tsa.stattools import adfuller, kpss\n",
    "\n",
    "from sklego.preprocessing import RepeatingBasisFunction\n",
    "\n",
    "from lightgbm import LGBMRegressor\n",
    "from sklearn.ensemble import RandomForestRegressor\n",
    "from sklearn.ensemble import RandomForestClassifier\n",
    "from sklearn.metrics import mean_absolute_error\n",
    "from sklearn.model_selection import TimeSeriesSplit\n",
    "\n",
    "from sklearn.metrics import mean_squared_error\n",
    "from sklearn.metrics import mean_absolute_error\n",
    "from sklearn.metrics import r2_score\n",
    "from sklearn.metrics import accuracy_score\n",
    "from sklearn.metrics import precision_score\n",
    "from sklearn.metrics import recall_score\n",
    "from sklearn.metrics import f1_score\n",
    "\n",
    "import time\n",
    "# Current Location.. !cd\n",
    "#C:\\Users\\ghoyo\\Desktop\\TFM\\Nuevo\\Proyect\n",
    "\n",
    "# Paths\n",
    "data = r\"C:\\Users\\ghoyo\\Desktop\\TFM4\\Project\\GeneratedDfs\\dayly_rests.json\"\n",
    "\n",
    "# Full Time\n",
    "start_full_infi = time.time()\n",
    "\n",
    "import warnings\n",
    "warnings.filterwarnings(\"ignore\")"
   ]
  },
  {
   "cell_type": "markdown",
   "id": "9f00ba81",
   "metadata": {},
   "source": [
    "#### <span style=\"background:skyblue\"> Load Data <span>"
   ]
  },
  {
   "cell_type": "code",
   "execution_count": 4,
   "id": "79edec2c",
   "metadata": {},
   "outputs": [
    {
     "data": {
      "text/plain": [
       "(2061, 1)"
      ]
     },
     "execution_count": 4,
     "metadata": {},
     "output_type": "execute_result"
    }
   ],
   "source": [
    "df = pd.read_json(data)\n",
    "df.shape"
   ]
  },
  {
   "cell_type": "markdown",
   "id": "8a6818f0",
   "metadata": {},
   "source": [
    "#### <span style=\"background:skyblue\"> Little Analysis <span>\n"
   ]
  },
  {
   "cell_type": "code",
   "execution_count": 5,
   "id": "7f78a232",
   "metadata": {},
   "outputs": [
    {
     "name": "stdout",
     "output_type": "stream",
     "text": [
      "<class 'pandas.core.frame.DataFrame'>\n",
      "DatetimeIndex: 2061 entries, 2017-04-04 to 2022-11-24\n",
      "Data columns (total 1 columns):\n",
      " #   Column   Non-Null Count  Dtype\n",
      "---  ------   --------------  -----\n",
      " 0   n_rests  2061 non-null   int64\n",
      "dtypes: int64(1)\n",
      "memory usage: 32.2 KB\n"
     ]
    }
   ],
   "source": [
    "df.info()"
   ]
  },
  {
   "cell_type": "code",
   "execution_count": 6,
   "id": "445a5ef2",
   "metadata": {},
   "outputs": [
    {
     "data": {
      "text/html": [
       "<div>\n",
       "<style scoped>\n",
       "    .dataframe tbody tr th:only-of-type {\n",
       "        vertical-align: middle;\n",
       "    }\n",
       "\n",
       "    .dataframe tbody tr th {\n",
       "        vertical-align: top;\n",
       "    }\n",
       "\n",
       "    .dataframe thead th {\n",
       "        text-align: right;\n",
       "    }\n",
       "</style>\n",
       "<table border=\"1\" class=\"dataframe\">\n",
       "  <thead>\n",
       "    <tr style=\"text-align: right;\">\n",
       "      <th></th>\n",
       "      <th>count</th>\n",
       "      <th>mean</th>\n",
       "      <th>std</th>\n",
       "      <th>min</th>\n",
       "      <th>25%</th>\n",
       "      <th>50%</th>\n",
       "      <th>75%</th>\n",
       "      <th>max</th>\n",
       "    </tr>\n",
       "  </thead>\n",
       "  <tbody>\n",
       "    <tr>\n",
       "      <th>n_rests</th>\n",
       "      <td>2061.0</td>\n",
       "      <td>5.581756</td>\n",
       "      <td>2.828039</td>\n",
       "      <td>0.0</td>\n",
       "      <td>4.0</td>\n",
       "      <td>5.0</td>\n",
       "      <td>7.0</td>\n",
       "      <td>18.0</td>\n",
       "    </tr>\n",
       "  </tbody>\n",
       "</table>\n",
       "</div>"
      ],
      "text/plain": [
       "          count      mean       std  min  25%  50%  75%   max\n",
       "n_rests  2061.0  5.581756  2.828039  0.0  4.0  5.0  7.0  18.0"
      ]
     },
     "execution_count": 6,
     "metadata": {},
     "output_type": "execute_result"
    }
   ],
   "source": [
    "df.describe().T"
   ]
  },
  {
   "cell_type": "code",
   "execution_count": 7,
   "id": "20027aa6",
   "metadata": {
    "scrolled": true
   },
   "outputs": [
    {
     "data": {
      "text/html": [
       "<div>\n",
       "<style scoped>\n",
       "    .dataframe tbody tr th:only-of-type {\n",
       "        vertical-align: middle;\n",
       "    }\n",
       "\n",
       "    .dataframe tbody tr th {\n",
       "        vertical-align: top;\n",
       "    }\n",
       "\n",
       "    .dataframe thead th {\n",
       "        text-align: right;\n",
       "    }\n",
       "</style>\n",
       "<table border=\"1\" class=\"dataframe\">\n",
       "  <thead>\n",
       "    <tr style=\"text-align: right;\">\n",
       "      <th></th>\n",
       "      <th>n_rests</th>\n",
       "    </tr>\n",
       "  </thead>\n",
       "  <tbody>\n",
       "    <tr>\n",
       "      <th>2017-04-04</th>\n",
       "      <td>5</td>\n",
       "    </tr>\n",
       "    <tr>\n",
       "      <th>2017-04-05</th>\n",
       "      <td>7</td>\n",
       "    </tr>\n",
       "    <tr>\n",
       "      <th>2017-04-06</th>\n",
       "      <td>7</td>\n",
       "    </tr>\n",
       "    <tr>\n",
       "      <th>2017-04-07</th>\n",
       "      <td>7</td>\n",
       "    </tr>\n",
       "  </tbody>\n",
       "</table>\n",
       "</div>"
      ],
      "text/plain": [
       "            n_rests\n",
       "2017-04-04        5\n",
       "2017-04-05        7\n",
       "2017-04-06        7\n",
       "2017-04-07        7"
      ]
     },
     "execution_count": 7,
     "metadata": {},
     "output_type": "execute_result"
    }
   ],
   "source": [
    "df.head(4)"
   ]
  },
  {
   "cell_type": "markdown",
   "id": "10507854",
   "metadata": {},
   "source": [
    "# <span style='background :khaki' > Random Forest Predictions </span>"
   ]
  },
  {
   "cell_type": "markdown",
   "id": "737080c2",
   "metadata": {},
   "source": [
    "#### <span style=\"background:violet\"> Functions <span>"
   ]
  },
  {
   "cell_type": "code",
   "execution_count": 8,
   "id": "4828749b",
   "metadata": {},
   "outputs": [],
   "source": [
    "class BlockingTimeSeriesSplit():\n",
    "    def __init__(self, n_splits):\n",
    "        self.n_splits = n_splits\n",
    "    \n",
    "    def get_n_splits(self, X, y, groups):\n",
    "        return self.n_splits\n",
    "    \n",
    "    def split(self, X, y=None, groups=None):\n",
    "        n_samples = len(X)\n",
    "        k_fold_size = n_samples // self.n_splits\n",
    "        indices = np.arange(n_samples)\n",
    "\n",
    "        margin = 0\n",
    "        for i in range(self.n_splits):\n",
    "            start = i * k_fold_size\n",
    "            stop = start + k_fold_size\n",
    "            mid = int(0.999999 * (stop - start)) + start\n",
    "            yield indices[start: mid], indices[mid + margin: stop]"
   ]
  },
  {
   "cell_type": "code",
   "execution_count": 9,
   "id": "3919a3ba",
   "metadata": {},
   "outputs": [],
   "source": [
    "def tree_feature_importance(df, target, split=7, n_s=100, plot = 0, r = 0, sort = 0):\n",
    "    # Data\n",
    "    X = df.drop(target, axis=1)\n",
    "    y = df[target]\n",
    "    \n",
    "    # Split\n",
    "    X_train, X_test = X.iloc[:-split,:], X.iloc[-split:,:]\n",
    "    y_train, y_test = y.iloc[:-split], y.iloc[-split:]\n",
    "    \n",
    "    # Create - Train - Predict\n",
    "    model = RandomForestRegressor(n_estimators=n_s)\n",
    "    model.fit(X_train, y_train)\n",
    "    predictions = model.predict(X_test)\n",
    "    \n",
    "    # Evaluation Methods - MAE & MSE\n",
    "    mae = np.round(mean_absolute_error(y_test, predictions), 3)    \n",
    "    mse = np.round(mean_squared_error(y_test, predictions), 3)    \n",
    "    #print('mae', mae)\n",
    "    #print('mse', mse)\n",
    "    \n",
    "    if plot == 0 or plot == 1:\n",
    "        # Plot Real Vs Prediction\n",
    "        fig = plt.figure(figsize=(6,3))\n",
    "        plt.title(f' {target}: Random Forest Real vs Prediction - MAE {mae}', fontsize=20)\n",
    "        plt.plot(y_test, color='red')\n",
    "        plt.plot(pd.Series(predictions, index=y_test.index), color='green')\n",
    "        plt.xlabel('Dais', fontsize=12)\n",
    "        plt.ylabel('Number of streams listened', fontsize=12)\n",
    "        plt.legend(labels=['Real', 'Prediction'], fontsize=12)\n",
    "        plt.grid()\n",
    "        plt.show()\n",
    "    \n",
    "    # Dataframe with Importance of each feature\n",
    "    if sort == 0:\n",
    "        df_importances = pd.DataFrame({\n",
    "            'feature': df.drop(columns = target).columns,\n",
    "            'importance': model.feature_importances_}\n",
    "        ).sort_values(by='importance', ascending=False)\n",
    "    \n",
    "    if sort == 1:\n",
    "        df_importances = pd.DataFrame({\n",
    "            'feature': df.drop(columns = target).columns,\n",
    "            'importance': model.feature_importances_}\n",
    "        )\n",
    "    \n",
    "    if plot == 0 or plot == 2:\n",
    "        # Plot Features Importance\n",
    "        plt.figure(figsize=(12,8))\n",
    "        plt.title('Variable Importances', fontsize=12)\n",
    "        sns.barplot(x=df_importances.importance, y=df_importances.feature, orient='h')\n",
    "        plt.show()\n",
    "    \n",
    "    #  Print Importances\n",
    "    #print('MAE: ', mae)\n",
    "    #print(df_importances.sort_values(by='importance'), '\\n')\n",
    "    \n",
    "    if r == 1:\n",
    "        return mae, mse, df_importances\n",
    "    \n",
    "    return mae, mse"
   ]
  },
  {
   "cell_type": "code",
   "execution_count": 10,
   "id": "5b3a1e7d",
   "metadata": {},
   "outputs": [],
   "source": [
    "def tree_feature_importance_cv(df, target, cv_split = 5, test_size = 1, n_s=100, plot = 5, r = 0, sort = 0):\n",
    "    # Results\n",
    "    c_predict = []\n",
    "    c_mae = []\n",
    "    c_mse = []\n",
    "    vals = []\n",
    "    predictions = []\n",
    "    \n",
    "    # Data\n",
    "    X = df.drop(target, axis=1)\n",
    "    y = df[target]\n",
    "    \n",
    "    tscv = TimeSeriesSplit(max_train_size=None, n_splits = cv_split, test_size=test_size)\n",
    "\n",
    "    # Splti CV Data\n",
    "    for train_index, test_index in tscv.split(X):\n",
    "        pre = []\n",
    "        df_i = []\n",
    "        \n",
    "        X_train, X_test = X.iloc[train_index], X.iloc[test_index]\n",
    "        \n",
    "        # Transformation for a single feature.\n",
    "        if X_train.shape[1] == 1:\n",
    "            X_train = X.iloc[train_index].to_numpy().reshape(-1, 1)\n",
    "            y_train, y_test = y[train_index], y[test_index]\n",
    "            \n",
    "        # Transformation for a single sample.\n",
    "        if test_size == 1:\n",
    "            X_test = X.iloc[test_index].to_numpy()\n",
    "            y_train, y_test = y[train_index], y[test_index]\n",
    "            \n",
    "            for x in list(X_test):\n",
    "                model = RandomForestRegressor(n_estimators=n_s)\n",
    "                model.fit(X_train, y_train)\n",
    "                yhat = model.predict(x.reshape(1, -1))\n",
    "                pre.append(yhat)\n",
    "                \n",
    "                # Variable Importance\n",
    "                if sort == 0:\n",
    "                    df_importances = pd.DataFrame({\n",
    "                        'feature': df.drop(columns = target).columns,\n",
    "                        'importance': model.feature_importances_}\n",
    "                    ).sort_values(by='importance', ascending=False)\n",
    "    \n",
    "                if sort == 1:\n",
    "                    df_importances = pd.DataFrame({\n",
    "                        'feature': df.drop(columns = target).columns,\n",
    "                        'importance': model.feature_importances_}\n",
    "                    )\n",
    "                \n",
    "                df_i.append(df_importances)\n",
    "                vals.append(df_importances['importance'].values)\n",
    "            \n",
    "        else:\n",
    "            print('AUN YO NO SE')\n",
    "\n",
    "            \n",
    "        #print('\\nX_test 2.0 :', type(X_test),  X_test.shape, X_test)\n",
    "        #print('\\nX_train 2.0:', type(X_train), X_train.shape, X_train)\n",
    "        #print(df_i)\n",
    "        \n",
    "        \n",
    "        # CV Predict\n",
    "        c_predict.append(pre)\n",
    "        c_mse.append(mean_squared_error(y_test, pre))\n",
    "        c_mae.append(mean_absolute_error(y_test, pre))\n",
    "        #print('\\nCV_MSE = ', c_mse[-1], '-- CV_MAE = ', c_mae[-1])\n",
    "    \n",
    "    # Variable Importance mean CV\n",
    "    mean_i = pd.DataFrame(columns = ['feature', 'importance'])\n",
    "\n",
    "    for i, cols in zip(range(len(vals[0])), df_importances['feature']):\n",
    "        aux = []\n",
    "\n",
    "        for j in range(len(vals)):\n",
    "            aux.append(vals[j][i])\n",
    "        \n",
    "        mean_i.loc[i, 'feature'] = cols\n",
    "        mean_i.loc[i, 'importance'] = np.mean(aux)\n",
    "        \n",
    "    predictions = np.mean(c_predict)\n",
    "    cv_b_mse = np.mean(c_mse)\n",
    "    cv_b_mae = np.mean(c_mae)\n",
    "    \n",
    "    if plot == 1 or plot == 0 or plot == 4:\n",
    "        print('\\nMSE = ', cv_b_mse)\n",
    "        print('\\nMAE = ', cv_b_mae)\n",
    "    \n",
    "    if plot == 2 or plot == 4:\n",
    "        print('\\n Predictions: \\n', c_predict)\n",
    "    \n",
    "    if plot == 3 or plot == 0 or plot == 4:\n",
    "        print('\\n VI\\n', mean_i)\n",
    "\n",
    "    # Create - Train - Predict\n",
    "\n",
    "    if r == 0:\n",
    "        return cv_b_mae, cv_b_mse, mean_i\n",
    "    \n",
    "    if r == 1:\n",
    "        return cv_b_mae, cv_b_mse, mean_i, predictions\n",
    "    \n",
    "    if r == 2:\n",
    "        return cv_b_mae, cv_b_mse"
   ]
  },
  {
   "cell_type": "code",
   "execution_count": 11,
   "id": "dd369484",
   "metadata": {},
   "outputs": [],
   "source": [
    "def tree_feature_importance_bcv(df, target, test_size = 1, cv_split = 5, n_s=100, plot = 5, r = 0, sort = 0):\n",
    "    # Results\n",
    "    c_predict = []\n",
    "    c_mae = []\n",
    "    c_mse = []\n",
    "    vals = []\n",
    "    predictions = []\n",
    "    \n",
    "    # Data\n",
    "    X = df.drop(target, axis=1)\n",
    "    y = df[target]\n",
    "    \n",
    "    tscv = BlockingTimeSeriesSplit(n_splits = cv_split)\n",
    "\n",
    "    # Splti CV Data\n",
    "    for train_index, test_index in tscv.split(X):\n",
    "        pre = []\n",
    "        df_i = []\n",
    "        \n",
    "        X_train, X_test = X.iloc[train_index], X.iloc[test_index]\n",
    "        \n",
    "        # Transformation for a single feature.\n",
    "        if X_train.shape[1] == 1:\n",
    "            X_train = X.iloc[train_index].to_numpy().reshape(-1, 1)\n",
    "            y_train, y_test = y[train_index], y[test_index]\n",
    "            \n",
    "        # Transformation for a single sample.\n",
    "        if test_size == 1:\n",
    "            X_test = X.iloc[test_index].to_numpy()\n",
    "            y_train, y_test = y[train_index], y[test_index]\n",
    "            \n",
    "            for x in list(X_test):\n",
    "                model = RandomForestRegressor(n_estimators=n_s)\n",
    "                model.fit(X_train, y_train)\n",
    "                yhat = model.predict(x.reshape(1, -1))\n",
    "                pre.append(yhat)\n",
    "                \n",
    "                # Variable Importance\n",
    "                if sort == 0:\n",
    "                    df_importances = pd.DataFrame({\n",
    "                        'feature': df.drop(columns = target).columns,\n",
    "                        'importance': model.feature_importances_}\n",
    "                    ).sort_values(by='importance', ascending=False)\n",
    "    \n",
    "                if sort == 1:\n",
    "                    df_importances = pd.DataFrame({\n",
    "                        'feature': df.drop(columns = target).columns,\n",
    "                        'importance': model.feature_importances_}\n",
    "                    )\n",
    "                \n",
    "                df_i.append(df_importances)\n",
    "                vals.append(df_importances['importance'].values)\n",
    "            \n",
    "        else:\n",
    "            print('AUN YO NO SE')\n",
    "\n",
    "            \n",
    "        #print('\\nX_test 2.0 :', type(X_test),  X_test.shape, X_test)\n",
    "        #print('\\nX_train 2.0:', type(X_train), X_train.shape, X_train)\n",
    "        #print(df_i)\n",
    "        \n",
    "        \n",
    "        # CV Predict\n",
    "        c_predict.append(pre)\n",
    "        c_mse.append(mean_squared_error(y_test, pre))\n",
    "        c_mae.append(mean_absolute_error(y_test, pre))\n",
    "        #print('\\nCV_MSE = ', c_mse[-1], '-- CV_MAE = ', c_mae[-1])\n",
    "    \n",
    "    # Variable Importance mean CV\n",
    "    mean_i = pd.DataFrame(columns = ['feature', 'importance'])\n",
    "\n",
    "    for i, cols in zip(range(len(vals[0])), df_importances['feature']):\n",
    "        aux = []\n",
    "\n",
    "        for j in range(len(vals)):\n",
    "            aux.append(vals[j][i])\n",
    "        \n",
    "        mean_i.loc[i, 'feature'] = cols\n",
    "        mean_i.loc[i, 'importance'] = np.mean(aux)\n",
    "        \n",
    "    predictions.append(c_predict)\n",
    "    cv_b_mse = np.mean(c_mse)\n",
    "    cv_b_mae = np.mean(c_mae)\n",
    "    \n",
    "    if plot == 1 or plot == 0 or plot == 4:\n",
    "        print('\\nMSE = ', cv_b_mse)\n",
    "        print('\\nMAE = ', cv_b_mae)\n",
    "    \n",
    "    if plot == 2 or plot == 4:\n",
    "        print('\\n Predictions: \\n', c_predict)\n",
    "    \n",
    "    if plot == 3 or plot == 0 or plot == 4:\n",
    "        print('\\n VI\\n', mean_i)\n",
    "\n",
    "    # Create - Train - Predict\n",
    "\n",
    "    if r == 0:\n",
    "        return cv_b_mae, cv_b_mse, mean_i\n",
    "    \n",
    "    if r == 1:\n",
    "        return cv_b_mae, cv_b_mse, mean_i, predictions\n",
    "    \n",
    "    if r == 2:\n",
    "        return cv_b_mae, cv_b_mse"
   ]
  },
  {
   "cell_type": "markdown",
   "id": "ee79a259",
   "metadata": {},
   "source": [
    "### <span style=\"background:lightGreen\"> Prediction <span>"
   ]
  },
  {
   "cell_type": "markdown",
   "id": "7bea93bf",
   "metadata": {},
   "source": [
    "#### <span style='background :skyblue' > Generate Lags and Select a Best number of Lags </span>"
   ]
  },
  {
   "cell_type": "code",
   "execution_count": 12,
   "id": "5f480db4",
   "metadata": {},
   "outputs": [],
   "source": [
    "def generate_lags(df, n_lags):\n",
    "    lag_dfs = []\n",
    "    combined_df = df.copy()\n",
    "    for i in range(1, n_lags + 1):\n",
    "        lag_df = df.shift(i).rename(columns={df.columns[0]: f\"{df.columns[0]}_lag{i}\"})\n",
    "        combined_df = pd.concat([combined_df, lag_df], axis=1)\n",
    "        combined_df.dropna(inplace=True)\n",
    "        combined_df.reset_index(drop=True, inplace=True)\n",
    "\n",
    "        lag_dfs.append(combined_df)\n",
    "    return lag_dfs"
   ]
  },
  {
   "cell_type": "code",
   "execution_count": 13,
   "id": "d3df734b",
   "metadata": {},
   "outputs": [],
   "source": [
    "def generate_lags(df, n_lags):\n",
    "    lag_dfs = []\n",
    "    for i in range(1, n_lags + 1):\n",
    "        combined_df = df.copy()\n",
    "        lag_df = df.shift(i).rename(columns={df.columns[0]: f\"{df.columns[0]}_lag{i}\"})\n",
    "        if(i == 1):\n",
    "            combined_df = pd.concat([combined_df, lag_df], axis=1)\n",
    "            \n",
    "        else:\n",
    "            combined_df = pd.concat([lag_dfs[i-2], lag_df], axis=1)\n",
    "            \n",
    "        combined_df.dropna(inplace=True)\n",
    "        lag_dfs.append(combined_df)\n",
    "    return lag_dfs"
   ]
  },
  {
   "cell_type": "code",
   "execution_count": 14,
   "id": "5b03636f",
   "metadata": {
    "scrolled": false
   },
   "outputs": [
    {
     "data": {
      "text/html": [
       "<div>\n",
       "<style scoped>\n",
       "    .dataframe tbody tr th:only-of-type {\n",
       "        vertical-align: middle;\n",
       "    }\n",
       "\n",
       "    .dataframe tbody tr th {\n",
       "        vertical-align: top;\n",
       "    }\n",
       "\n",
       "    .dataframe thead th {\n",
       "        text-align: right;\n",
       "    }\n",
       "</style>\n",
       "<table border=\"1\" class=\"dataframe\">\n",
       "  <thead>\n",
       "    <tr style=\"text-align: right;\">\n",
       "      <th></th>\n",
       "      <th>n_rests</th>\n",
       "      <th>n_rests_lag1</th>\n",
       "      <th>n_rests_lag2</th>\n",
       "      <th>n_rests_lag3</th>\n",
       "      <th>n_rests_lag4</th>\n",
       "      <th>n_rests_lag5</th>\n",
       "      <th>n_rests_lag6</th>\n",
       "      <th>n_rests_lag7</th>\n",
       "    </tr>\n",
       "  </thead>\n",
       "  <tbody>\n",
       "    <tr>\n",
       "      <th>2017-04-11</th>\n",
       "      <td>4.0</td>\n",
       "      <td>7.0</td>\n",
       "      <td>5.0</td>\n",
       "      <td>6.0</td>\n",
       "      <td>7.0</td>\n",
       "      <td>7.0</td>\n",
       "      <td>7.0</td>\n",
       "      <td>5.0</td>\n",
       "    </tr>\n",
       "    <tr>\n",
       "      <th>2017-04-12</th>\n",
       "      <td>0.0</td>\n",
       "      <td>4.0</td>\n",
       "      <td>7.0</td>\n",
       "      <td>5.0</td>\n",
       "      <td>6.0</td>\n",
       "      <td>7.0</td>\n",
       "      <td>7.0</td>\n",
       "      <td>7.0</td>\n",
       "    </tr>\n",
       "    <tr>\n",
       "      <th>2017-04-13</th>\n",
       "      <td>0.0</td>\n",
       "      <td>0.0</td>\n",
       "      <td>4.0</td>\n",
       "      <td>7.0</td>\n",
       "      <td>5.0</td>\n",
       "      <td>6.0</td>\n",
       "      <td>7.0</td>\n",
       "      <td>7.0</td>\n",
       "    </tr>\n",
       "    <tr>\n",
       "      <th>2017-04-14</th>\n",
       "      <td>0.0</td>\n",
       "      <td>0.0</td>\n",
       "      <td>0.0</td>\n",
       "      <td>4.0</td>\n",
       "      <td>7.0</td>\n",
       "      <td>5.0</td>\n",
       "      <td>6.0</td>\n",
       "      <td>7.0</td>\n",
       "    </tr>\n",
       "    <tr>\n",
       "      <th>2017-04-15</th>\n",
       "      <td>0.0</td>\n",
       "      <td>0.0</td>\n",
       "      <td>0.0</td>\n",
       "      <td>0.0</td>\n",
       "      <td>4.0</td>\n",
       "      <td>7.0</td>\n",
       "      <td>5.0</td>\n",
       "      <td>6.0</td>\n",
       "    </tr>\n",
       "  </tbody>\n",
       "</table>\n",
       "</div>"
      ],
      "text/plain": [
       "            n_rests  n_rests_lag1  n_rests_lag2  n_rests_lag3  n_rests_lag4  \\\n",
       "2017-04-11      4.0           7.0           5.0           6.0           7.0   \n",
       "2017-04-12      0.0           4.0           7.0           5.0           6.0   \n",
       "2017-04-13      0.0           0.0           4.0           7.0           5.0   \n",
       "2017-04-14      0.0           0.0           0.0           4.0           7.0   \n",
       "2017-04-15      0.0           0.0           0.0           0.0           4.0   \n",
       "\n",
       "            n_rests_lag5  n_rests_lag6  n_rests_lag7  \n",
       "2017-04-11           7.0           7.0           5.0  \n",
       "2017-04-12           7.0           7.0           7.0  \n",
       "2017-04-13           6.0           7.0           7.0  \n",
       "2017-04-14           5.0           6.0           7.0  \n",
       "2017-04-15           7.0           5.0           6.0  "
      ]
     },
     "execution_count": 14,
     "metadata": {},
     "output_type": "execute_result"
    }
   ],
   "source": [
    "lags_df = generate_lags(df, n_lags = 15)    \n",
    "lags_df[6].head()"
   ]
  },
  {
   "cell_type": "markdown",
   "id": "5dbb46cd",
   "metadata": {},
   "source": [
    "#### <span style='background :skyblue' > Global Variables </span>"
   ]
  },
  {
   "cell_type": "code",
   "execution_count": 15,
   "id": "246d9020",
   "metadata": {},
   "outputs": [],
   "source": [
    "n_split = 14\n",
    "n_sims = 75"
   ]
  },
  {
   "cell_type": "markdown",
   "id": "f647cf32",
   "metadata": {},
   "source": [
    "#### <span style='background :skyblue' > Variables Importance </span>"
   ]
  },
  {
   "cell_type": "code",
   "execution_count": 16,
   "id": "58d77a3d",
   "metadata": {},
   "outputs": [
    {
     "name": "stdout",
     "output_type": "stream",
     "text": [
      "DATAFRAME:  n_rests -- Last Lag ------------------------------------\n"
     ]
    },
    {
     "data": {
      "image/png": "[encoded data removed]",
      "text/plain": [
       "<Figure size 864x576 with 1 Axes>"
      ]
     },
     "metadata": {
      "needs_background": "light"
     },
     "output_type": "display_data"
    },
    {
     "name": "stdout",
     "output_type": "stream",
     "text": [
      "DATAFRAME:  n_rests -- Last Lag ------------------------------------\n"
     ]
    },
    {
     "data": {
      "image/png": "[encoded data removed]",
      "text/plain": [
       "<Figure size 864x576 with 1 Axes>"
      ]
     },
     "metadata": {
      "needs_background": "light"
     },
     "output_type": "display_data"
    },
    {
     "name": "stdout",
     "output_type": "stream",
     "text": [
      "DATAFRAME:  n_rests -- Last Lag ------------------------------------\n"
     ]
    },
    {
     "data": {
      "image/png": "[encoded data removed]",
      "text/plain": [
       "<Figure size 864x576 with 1 Axes>"
      ]
     },
     "metadata": {
      "needs_background": "light"
     },
     "output_type": "display_data"
    },
    {
     "name": "stdout",
     "output_type": "stream",
     "text": [
      "DATAFRAME:  n_rests -- Last Lag ------------------------------------\n"
     ]
    },
    {
     "data": {
      "image/png": "[encoded data removed]",
      "text/plain": [
       "<Figure size 864x576 with 1 Axes>"
      ]
     },
     "metadata": {
      "needs_background": "light"
     },
     "output_type": "display_data"
    },
    {
     "name": "stdout",
     "output_type": "stream",
     "text": [
      "DATAFRAME:  n_rests -- Last Lag ------------------------------------\n"
     ]
    },
    {
     "data": {
      "image/png": "[encoded data removed]",
      "text/plain": [
       "<Figure size 864x576 with 1 Axes>"
      ]
     },
     "metadata": {
      "needs_background": "light"
     },
     "output_type": "display_data"
    },
    {
     "name": "stdout",
     "output_type": "stream",
     "text": [
      "DATAFRAME:  n_rests -- Last Lag ------------------------------------\n"
     ]
    },
    {
     "data": {
      "image/png": "[encoded data removed]",
      "text/plain": [
       "<Figure size 864x576 with 1 Axes>"
      ]
     },
     "metadata": {
      "needs_background": "light"
     },
     "output_type": "display_data"
    },
    {
     "name": "stdout",
     "output_type": "stream",
     "text": [
      "DATAFRAME:  n_rests -- Last Lag ------------------------------------\n"
     ]
    },
    {
     "data": {
      "image/png": "[encoded data removed]",
      "text/plain": [
       "<Figure size 864x576 with 1 Axes>"
      ]
     },
     "metadata": {
      "needs_background": "light"
     },
     "output_type": "display_data"
    },
    {
     "name": "stdout",
     "output_type": "stream",
     "text": [
      "DATAFRAME:  n_rests -- Last Lag ------------------------------------\n"
     ]
    },
    {
     "data": {
      "image/png": "[encoded data removed]",
      "text/plain": [
       "<Figure size 864x576 with 1 Axes>"
      ]
     },
     "metadata": {
      "needs_background": "light"
     },
     "output_type": "display_data"
    },
    {
     "name": "stdout",
     "output_type": "stream",
     "text": [
      "DATAFRAME:  n_rests -- Last Lag ------------------------------------\n"
     ]
    },
    {
     "data": {
      "image/png": "[encoded data removed]",
      "text/plain": [
       "<Figure size 864x576 with 1 Axes>"
      ]
     },
     "metadata": {
      "needs_background": "light"
     },
     "output_type": "display_data"
    },
    {
     "name": "stdout",
     "output_type": "stream",
     "text": [
      "DATAFRAME:  n_rests -- Last Lag ------------------------------------\n"
     ]
    },
    {
     "data": {
      "image/png": "[encoded data removed]",
      "text/plain": [
       "<Figure size 864x576 with 1 Axes>"
      ]
     },
     "metadata": {
      "needs_background": "light"
     },
     "output_type": "display_data"
    },
    {
     "name": "stdout",
     "output_type": "stream",
     "text": [
      "DATAFRAME:  n_rests -- Last Lag ------------------------------------\n"
     ]
    },
    {
     "data": {
      "image/png": "[encoded data removed]",
      "text/plain": [
       "<Figure size 864x576 with 1 Axes>"
      ]
     },
     "metadata": {
      "needs_background": "light"
     },
     "output_type": "display_data"
    },
    {
     "name": "stdout",
     "output_type": "stream",
     "text": [
      "DATAFRAME:  n_rests -- Last Lag ------------------------------------\n"
     ]
    },
    {
     "data": {
      "image/png": "[encoded data removed]",
      "text/plain": [
       "<Figure size 864x576 with 1 Axes>"
      ]
     },
     "metadata": {
      "needs_background": "light"
     },
     "output_type": "display_data"
    },
    {
     "name": "stdout",
     "output_type": "stream",
     "text": [
      "DATAFRAME:  n_rests -- Last Lag ------------------------------------\n"
     ]
    },
    {
     "data": {
      "image/png": "[encoded data removed]",
      "text/plain": [
       "<Figure size 864x576 with 1 Axes>"
      ]
     },
     "metadata": {
      "needs_background": "light"
     },
     "output_type": "display_data"
    },
    {
     "name": "stdout",
     "output_type": "stream",
     "text": [
      "DATAFRAME:  n_rests -- Last Lag ------------------------------------\n"
     ]
    },
    {
     "data": {
      "image/png": "[encoded data removed]",
      "text/plain": [
       "<Figure size 864x576 with 1 Axes>"
      ]
     },
     "metadata": {
      "needs_background": "light"
     },
     "output_type": "display_data"
    },
    {
     "name": "stdout",
     "output_type": "stream",
     "text": [
      "DATAFRAME:  n_rests -- Last Lag ------------------------------------\n"
     ]
    },
    {
     "data": {
      "image/png": "[encoded data removed]",
      "text/plain": [
       "<Figure size 864x576 with 1 Axes>"
      ]
     },
     "metadata": {
      "needs_background": "light"
     },
     "output_type": "display_data"
    },
    {
     "name": "stdout",
     "output_type": "stream",
     "text": [
      "CPU times: total: 10.2 s\n",
      "Wall time: 11.2 s\n"
     ]
    }
   ],
   "source": [
    "%%time\n",
    "\n",
    "for d in lags_df:\n",
    "    print('DATAFRAME: ', d.columns[0], '-- Last Lag ------------------------------------')\n",
    "    target = d.columns[0]\n",
    "    tree_feature_importance(d, target, split=1, plot = 2, r = 1, sort=0)"
   ]
  },
  {
   "cell_type": "markdown",
   "id": "fa98b216",
   "metadata": {},
   "source": [
    "#### <span style='background :skyblue' > Basic RF </span>"
   ]
  },
  {
   "cell_type": "code",
   "execution_count": 17,
   "id": "0cd2fe3e",
   "metadata": {},
   "outputs": [
    {
     "name": "stdout",
     "output_type": "stream",
     "text": [
      "CPU times: total: 9min 19s\n",
      "Wall time: 9min 23s\n"
     ]
    }
   ],
   "source": [
    "%%time\n",
    "\n",
    "start_full = time.time()\n",
    "\n",
    "lag_mae = []\n",
    "lag_mse = []\n",
    "lag_vi = []\n",
    "\n",
    "for d in lags_df:\n",
    "    sim_mae = []\n",
    "    sim_mse = []\n",
    "    sim_vi = []\n",
    "    \n",
    "    target = d.columns[0]\n",
    "    \n",
    "    for sim in range(n_sims):\n",
    "        mae , mse, vi = tree_feature_importance(d, target, split=n_split, plot = 3, r = 1)\n",
    "        \n",
    "        # Save data -- SIM\n",
    "        sim_mae.append(mae)\n",
    "        sim_mse.append(mse)\n",
    "        sim_vi.append(vi)\n",
    "        \n",
    "    mean_sim_vi = pd.DataFrame(columns = ['feature', 'importance'])\n",
    "\n",
    "    # Loop to make variable importance simulation mean\n",
    "    for i,col in zip(range(sim_vi[0].shape[0]), sim_vi[0]['feature']):\n",
    "        aux = []\n",
    "    \n",
    "        for j in range(n_sims):\n",
    "            aux.append(sim_vi[j]['importance'][i])\n",
    "    \n",
    "        mean_sim_vi.loc[i, 'feature'] = col\n",
    "        mean_sim_vi.loc[i, 'importance'] = np.mean(aux)\n",
    "\n",
    "    #print('\\n Mean Variable Importance LAGS DATAFRAMES \\n')\n",
    "    #mean_sim_vi.head()\n",
    "    \n",
    "    # Save Data -- LAG Loop\n",
    "    lag_mae.append(np.mean(sim_mae))\n",
    "    lag_mse.append(np.mean(sim_mse))\n",
    "    lag_vi.append(mean_sim_vi)\n",
    "    \n",
    "    # Save Data -- VARIABLES/FEATURES\n",
    "\n",
    "    #print(lag_mae)\n",
    "    #print(lag_mse)\n",
    "    #print(lag_vi)\n",
    "    \n",
    "end_full = time.time()"
   ]
  },
  {
   "cell_type": "code",
   "execution_count": 18,
   "id": "d3d32376",
   "metadata": {},
   "outputs": [
    {
     "name": "stdout",
     "output_type": "stream",
     "text": [
      "full time:  563.0720753669739 s\n"
     ]
    }
   ],
   "source": [
    "print(\"full time: \", (end_full-start_full), 's')"
   ]
  },
  {
   "cell_type": "code",
   "execution_count": 19,
   "id": "980d63fc",
   "metadata": {},
   "outputs": [
    {
     "name": "stdout",
     "output_type": "stream",
     "text": [
      "[2.4337999999999997, 1.9479866666666665, 1.9701466666666667, 2.0203599999999997, 1.9899466666666668, 1.8567066666666665, 1.7162266666666666, 1.7698666666666665, 1.8370133333333332, 1.853266666666666, 1.8412400000000002, 1.8590266666666666, 1.8362933333333336, 1.7345733333333335, 1.7532800000000002]\n",
      "[7.457026666666668, 5.624693333333334, 5.2167200000000005, 5.980306666666666, 5.948933333333334, 4.996906666666666, 4.671813333333334, 4.698093333333333, 5.051173333333332, 4.866560000000001, 4.728973333333334, 4.837680000000001, 4.808413333333334, 4.264520000000001, 4.3742]\n"
     ]
    }
   ],
   "source": [
    "print(lag_mae)\n",
    "print(lag_mse)"
   ]
  },
  {
   "cell_type": "markdown",
   "id": "cf6bf3b9",
   "metadata": {},
   "source": [
    "#### <span style='background :skyblue' > CV </span>"
   ]
  },
  {
   "cell_type": "markdown",
   "id": "59eb029d",
   "metadata": {},
   "source": [
    "<span style='background :skyblue' > TSCV </span>"
   ]
  },
  {
   "cell_type": "code",
   "execution_count": null,
   "id": "aac33ebd",
   "metadata": {},
   "outputs": [],
   "source": [
    "%%time\n",
    "\n",
    "start_full_tscv = time.time()\n",
    "\n",
    "lag_mae_tscv = []\n",
    "lag_mse_tscv = []\n",
    "lag_vi_tscv = []\n",
    "\n",
    "for d in lags_df:\n",
    "    sim_mae_tscv = []\n",
    "    sim_mse_tscv = []\n",
    "    sim_vi_tscv = []\n",
    "    \n",
    "    target = d.columns[0]\n",
    "    \n",
    "    for sim in range(n_sims):\n",
    "        mae_tscv , mse_tscv, vi_tscv = tree_feature_importance_cv(d, cv_split = n_split, target = d.columns[0], r = 0)\n",
    "        \n",
    "        # Save data -- SIM\n",
    "        sim_mae_tscv.append(mae_tscv)\n",
    "        sim_mse_tscv.append(mse_tscv)\n",
    "        sim_vi_tscv.append(vi_tscv)\n",
    "        \n",
    "    mean_sim_vi_tscv = pd.DataFrame(columns = ['feature', 'importance'])\n",
    "\n",
    "    # Loop to make variable importance simulation mean\n",
    "    for i,col in zip(range(sim_vi_tscv[0].shape[0]), sim_vi_tscv[0]['feature']):\n",
    "        aux = []\n",
    "    \n",
    "        for j in range(n_sims):\n",
    "            aux.append(sim_vi_tscv[j]['importance'][i])\n",
    "    \n",
    "        mean_sim_vi_tscv.loc[i, 'feature'] = col\n",
    "        mean_sim_vi_tscv.loc[i, 'importance'] = np.mean(aux)\n",
    "\n",
    "    #print('\\n Mean Variable Importance LAGS DATAFRAMES \\n')\n",
    "    #mean_sim_vi_tscv.head()\n",
    "    \n",
    "    # Save Data -- LAG Loop\n",
    "    lag_mae_tscv.append(np.mean(sim_mae_tscv))\n",
    "    lag_mse_tscv.append(np.mean(sim_mse_tscv))\n",
    "    lag_vi_tscv.append(mean_sim_vi_tscv)\n",
    "    \n",
    "    # Save Data -- VARIABLES/FEATURES\n",
    "\n",
    "    #print(lag_mae_tscv)\n",
    "    #print(lag_mse_tscv)\n",
    "    #print(lag_vi_tscv)\n",
    "    \n",
    "end_full_tscv = time.time()"
   ]
  },
  {
   "cell_type": "code",
   "execution_count": null,
   "id": "8f8f6565",
   "metadata": {},
   "outputs": [],
   "source": [
    "print(\"full time: \", (end_full_tscv-start_full_tscv)* 10**3, 'ms')"
   ]
  },
  {
   "cell_type": "code",
   "execution_count": null,
   "id": "f894f8ce",
   "metadata": {},
   "outputs": [],
   "source": [
    "print(np.round(lag_mae_tscv,2))\n",
    "print(np.round(lag_mse_tscv,2))"
   ]
  },
  {
   "cell_type": "markdown",
   "id": "154724b0",
   "metadata": {},
   "source": [
    "<span style='background :skyblue' > BCV </span>"
   ]
  },
  {
   "cell_type": "code",
   "execution_count": null,
   "id": "9c93e988",
   "metadata": {},
   "outputs": [],
   "source": [
    "%%time\n",
    "\n",
    "start_full_bcv = time.time()\n",
    "\n",
    "lag_mae_bcv = []\n",
    "lag_mse_bcv = []\n",
    "lag_vi_bcv = []\n",
    "\n",
    "for d in lags_df:\n",
    "    sim_mae_bcv = []\n",
    "    sim_mse_bcv = []\n",
    "    sim_vi_bcv = []\n",
    "    \n",
    "    target = d.columns[0]\n",
    "    \n",
    "    for sim in range(n_sims):\n",
    "        mae_bcv , mse_bcv, vi_bcv = tree_feature_importance_bcv(d, cv_split = n_split, target = d.columns[0], r = 0)\n",
    "\n",
    "        \n",
    "        # Save data -- SIM\n",
    "        sim_mae_bcv.append(mae_bcv)\n",
    "        sim_mse_bcv.append(mse_bcv)\n",
    "        sim_vi_bcv.append(vi_bcv)\n",
    "        \n",
    "    mean_sim_vi_bcv = pd.DataFrame(columns = ['feature', 'importance'])\n",
    "\n",
    "    # Loop to make variable importance simulation mean\n",
    "    for i,col in zip(range(sim_vi_bcv[0].shape[0]), sim_vi_bcv[0]['feature']):\n",
    "        aux = []\n",
    "    \n",
    "        for j in range(n_sims):\n",
    "            aux.append(sim_vi_bcv[j]['importance'][i])\n",
    "    \n",
    "        mean_sim_vi_bcv.loc[i, 'feature'] = col\n",
    "        mean_sim_vi_bcv.loc[i, 'importance'] = np.mean(aux)\n",
    "\n",
    "    #print('\\n Mean Variable Importance LAGS DATAFRAMES \\n')\n",
    "    #mean_sim_vi_bcv.head()\n",
    "    \n",
    "    # Save Data -- LAG Loop\n",
    "    lag_mae_bcv.append(np.mean(sim_mae_bcv))\n",
    "    lag_mse_bcv.append(np.mean(sim_mse_bcv))\n",
    "    lag_vi_bcv.append(mean_sim_vi_bcv)\n",
    "    \n",
    "    # Save Data -- VARIABLES/FEATURES\n",
    "\n",
    "    #print(lag_mae_bcv)\n",
    "    #print(lag_mse_bcv)\n",
    "    #print(lag_vi_bcv)\n",
    "    \n",
    "end_full_bcv = time.time()"
   ]
  },
  {
   "cell_type": "code",
   "execution_count": null,
   "id": "d03fda3b",
   "metadata": {},
   "outputs": [],
   "source": [
    "print(\"full time: \", (end_full_bcv-start_full_bcv)* 10**3, 'ms')"
   ]
  },
  {
   "cell_type": "code",
   "execution_count": null,
   "id": "9b218460",
   "metadata": {},
   "outputs": [],
   "source": [
    "print(np.round(lag_mae_bcv,2))\n",
    "print(np.round(lag_mse_bcv,2))"
   ]
  },
  {
   "cell_type": "markdown",
   "id": "7a220c2a",
   "metadata": {},
   "source": [
    "##### <span style='background :yellow' > Select best Nºlags and CV Type </span>\n",
    "\n",
    "##### <span style='background :yellow' > Need to make huge Simulation... a lot of time</span>\n"
   ]
  },
  {
   "cell_type": "markdown",
   "id": "c8f25c4a",
   "metadata": {},
   "source": [
    "### <span style='background :orange' > About checking time features and ciclycal values, we will use the results concluded from the first experiment N_Streams_Prediction </span>"
   ]
  },
  {
   "cell_type": "markdown",
   "id": "a031669f",
   "metadata": {},
   "source": [
    "# <span style='background :orange' > Is best base model??? </span>"
   ]
  },
  {
   "cell_type": "code",
   "execution_count": null,
   "id": "5a5f5513",
   "metadata": {},
   "outputs": [],
   "source": [
    "# End total time\n",
    "end_full_infi = time.time()"
   ]
  },
  {
   "cell_type": "code",
   "execution_count": null,
   "id": "e8428b2f",
   "metadata": {
    "scrolled": true
   },
   "outputs": [],
   "source": [
    "print(\"full time: \", (end_full_infi-start_full_infi)* 10**3, 'ms')"
   ]
  },
  {
   "cell_type": "markdown",
   "id": "091c9231",
   "metadata": {},
   "source": [
    "# <span style=\"background:lightGreen\"> Time Features Predictions <span>"
   ]
  },
  {
   "cell_type": "code",
   "execution_count": null,
   "id": "58b564ac",
   "metadata": {},
   "outputs": [],
   "source": [
    "def create_time_features(df, f=0):\n",
    "    df = df.copy()\n",
    "    if f == 0:\n",
    "        df['year'] = df.index.year\n",
    "        df['quarter'] = df.index.quarter\n",
    "        df['month'] = df.index.month\n",
    "        df['week'] = df.index.isocalendar().week\n",
    "        df['day'] = df.index.day\n",
    "        df['dayofyear'] = df.index.dayofyear\n",
    "        df['dayofweek'] = df.index.dayofweek\n",
    "    \n",
    "        df['is_month_end'] = df.index.is_month_end\n",
    "        df['is_month_start'] = df.index.is_month_start\n",
    "        df['is_cuarter_end'] = df.index.is_quarter_end\n",
    "        df['is_cuarter_start'] = df.index.is_quarter_start\n",
    "        df['is_year_start'] = df.index.is_year_start\n",
    "    \n",
    "    if f == 1:\n",
    "        df['year'] = df.index.year\n",
    "        df['quarter'] = df.index.quarter\n",
    "        df['month'] = df.index.month\n",
    "        df['week'] = df.index.isocalendar().week\n",
    "        df['day'] = df.index.day\n",
    "        df['dayofyear'] = df.index.dayofyear\n",
    "        df['dayofweek'] = df.index.dayofweek\n",
    "        \n",
    "    if f == 2:\n",
    "        df['day'] = df.index.day\n",
    "        df['dayofyear'] = df.index.dayofyear\n",
    "        df['dayofweek'] = df.index.dayofweek\n",
    "        df['year'] = df.index.year\n",
    "        \n",
    "        \n",
    "    return df"
   ]
  },
  {
   "cell_type": "code",
   "execution_count": null,
   "id": "bca21c5f",
   "metadata": {},
   "outputs": [],
   "source": [
    "# Seleccionar Dataframe con mejores lags\n",
    "# Crear Diferentes 3 sets de TF\n",
    "dftf1 = create_time_features(lags_df[7])\n",
    "dftf2 = create_time_features(lags_df[7], f = 1)\n",
    "dftf3 = create_time_features(lags_df[7], f = 2)"
   ]
  },
  {
   "cell_type": "markdown",
   "id": "10dfd565",
   "metadata": {},
   "source": [
    "### <span style=\"background:lightGreen\"> Base <span>"
   ]
  },
  {
   "cell_type": "markdown",
   "id": "016086dc",
   "metadata": {},
   "source": [
    "### <span style=\"background:skyblue\"> TF1 <span>"
   ]
  },
  {
   "cell_type": "code",
   "execution_count": null,
   "id": "63f76e58",
   "metadata": {},
   "outputs": [],
   "source": [
    "%%time\n",
    "\n",
    "df_mae_tf0 = []\n",
    "df_mse_tf0 = []\n",
    "df_var_i_tf0 = []\n",
    "\n",
    "sim_mae_tf0 = []\n",
    "sim_mse_tf0 = []\n",
    "sim_vi_tf0 = []\n",
    "\n",
    "target0 = dftf1.columns[0]\n",
    "        \n",
    "# Simulation Loop\n",
    "for sim in range(n_sims):\n",
    "    #print('-- Sim Nº', sim, '--\\n')\n",
    "    mae0 , mse0, vi0 = tree_feature_importance(dftf1, target0, split=n_split, plot = 3, r = 0)\n",
    "        \n",
    "    # Save data -- SIM\n",
    "    sim_mae_tf0.append(mae0)\n",
    "    sim_mse_tf0.append(mse0)\n",
    "    sim_vi_tf0.append(vi0)\n",
    "        \n",
    "    #print('mae = ', mae)\n",
    "    #print('mse = ', mse)\n",
    "    #print('vi -- \\n', vi, '\\n')\n",
    "    #print('feature --\\n', vi['feature'], '\\n\\nimportance -- \\n', vi['importance'], '\\n\\n')\n",
    "    \n",
    "#print('\\n\\nMean Evaluation SIM ', lag_i , ' METRICS')\n",
    "#print('MAE ', np.mean(sim_mae))\n",
    "#print('MSE ', np.mean(sim_mse))\n",
    "\n",
    "mean_sim_vi0 = pd.DataFrame(columns = ['feature', 'importance'])\n",
    "    \n",
    "# Loop to make variable importance simulation mean\n",
    "for i,col in zip(range(sim_vi_tf0[0].shape[0]), sim_vi_tf0[0]['feature']):\n",
    "    aux = []\n",
    "    \n",
    "    for j in range(n_sims):\n",
    "        aux.append(sim_vi_tf0[j]['importance'][i])\n",
    "    \n",
    "    mean_sim_vi0.loc[i, 'feature'] = col\n",
    "    mean_sim_vi0.loc[i, 'importance'] = np.mean(aux)\n",
    "\n",
    "#print('\\n Mean Variable Importance \\n')\n",
    "#mean_sim_vi.head()\n",
    "    \n",
    "# Save Data -- VARIABLES/FEATURES\n",
    "df_mae_tf0.append(np.mean(sim_mae_tf0))\n",
    "df_mse_tf0.append(np.mean(sim_mse_tf0))\n",
    "df_var_i_tf0.append(mean_sim_vi0)"
   ]
  },
  {
   "cell_type": "markdown",
   "id": "e06d35e6",
   "metadata": {},
   "source": [
    "### <span style=\"background:skyblue\"> TF2 <span>"
   ]
  },
  {
   "cell_type": "code",
   "execution_count": null,
   "id": "ef3c67a0",
   "metadata": {},
   "outputs": [],
   "source": [
    "%%time\n",
    "\n",
    "df_mae_tf1 = []\n",
    "df_mse_tf1 = []\n",
    "df_var_i_tf1 = []\n",
    "\n",
    "sim_mae_tf1 = []\n",
    "sim_mse_tf1 = []\n",
    "sim_vi_tf1 = []\n",
    "\n",
    "target1 = dftf2.columns[0]\n",
    "        \n",
    "# Simulation Loop\n",
    "for sim in range(n_sims):\n",
    "    #print('-- Sim Nº', sim, '--\\n')\n",
    "    mae1 , mse1, vi1 = tree_feature_importance(dftf2, target1, split=n_split, plot = 3, r = 1)\n",
    "        \n",
    "    # Save data -- SIM\n",
    "    sim_mae_tf1.append(mae1)\n",
    "    sim_mse_tf1.append(mse1)\n",
    "    sim_vi_tf1.append(vi1)\n",
    "        \n",
    "    #print('mae = ', mae)\n",
    "    #print('mse = ', mse)\n",
    "    #print('vi -- \\n', vi, '\\n')\n",
    "    #print('feature --\\n', vi['feature'], '\\n\\nimportance -- \\n', vi['importance'], '\\n\\n')\n",
    "    \n",
    "#print('\\n\\nMean Evaluation SIM ', lag_i , ' METRICS')\n",
    "#print('MAE ', np.mean(sim_mae))\n",
    "#print('MSE ', np.mean(sim_mse))\n",
    "\n",
    "mean_sim_vi1 = pd.DataFrame(columns = ['feature', 'importance'])\n",
    "    \n",
    "# Loop to make variable importance simulation mean\n",
    "for i,col in zip(range(sim_vi_tf1[0].shape[0]), sim_vi_tf1[0]['feature']):\n",
    "    aux = []\n",
    "    \n",
    "    for j in range(n_sims):\n",
    "        aux.append(sim_vi_tf1[j]['importance'][i])\n",
    "    \n",
    "    mean_sim_vi1.loc[i, 'feature'] = col\n",
    "    mean_sim_vi1.loc[i, 'importance'] = np.mean(aux)\n",
    "\n",
    "#print('\\n Mean Variable Importance \\n')\n",
    "#mean_sim_vi.head()\n",
    "    \n",
    "# Save Data -- VARIABLES/FEATURES\n",
    "df_mae_tf1.append(np.mean(sim_mae_tf1))\n",
    "df_mse_tf1.append(np.mean(sim_mse_tf1))\n",
    "df_var_i_tf1.append(mean_sim_vi1)"
   ]
  },
  {
   "cell_type": "markdown",
   "id": "f4b9efb8",
   "metadata": {},
   "source": [
    "### <span style=\"background:skyblue\"> TF3 <span>"
   ]
  },
  {
   "cell_type": "code",
   "execution_count": null,
   "id": "b350015e",
   "metadata": {},
   "outputs": [],
   "source": [
    "%%time\n",
    "\n",
    "df_mae_tf2 = []\n",
    "df_mse_tf2 = []\n",
    "df_var_i_tf2 = []\n",
    "\n",
    "sim_mae_tf2 = []\n",
    "sim_mse_tf2 = []\n",
    "sim_vi_tf2 = []\n",
    "\n",
    "target2 = dftf3.columns[0]\n",
    "        \n",
    "# Simulation Loop\n",
    "for sim in range(n_sims):\n",
    "    #print('-- Sim Nº', sim, '--\\n')\n",
    "    mae2 , mse2, vi2 = tree_feature_importance(dftf3, target2, split=n_split, plot = 3, r = 1)\n",
    "        \n",
    "    # Save data -- SIM\n",
    "    sim_mae_tf2.append(mae2)\n",
    "    sim_mse_tf2.append(mse2)\n",
    "    sim_vi_tf2.append(vi2)\n",
    "        \n",
    "    #print('mae = ', mae)\n",
    "    #print('mse = ', mse)\n",
    "    #print('vi -- \\n', vi, '\\n')\n",
    "    #print('feature --\\n', vi['feature'], '\\n\\nimportance -- \\n', vi['importance'], '\\n\\n')\n",
    "    \n",
    "#print('\\n\\nMean Evaluation SIM ', lag_i , ' METRICS')\n",
    "#print('MAE ', np.mean(sim_mae))\n",
    "#print('MSE ', np.mean(sim_mse))\n",
    "\n",
    "mean_sim_vi2 = pd.DataFrame(columns = ['feature', 'importance'])\n",
    "    \n",
    "# Loop to make variable importance simulation mean\n",
    "for i,col in zip(range(sim_vi_tf2[0].shape[0]), sim_vi_tf2[0]['feature']):\n",
    "    aux = []\n",
    "    \n",
    "    for j in range(n_sims):\n",
    "        aux.append(sim_vi_tf2[j]['importance'][i])\n",
    "    \n",
    "    mean_sim_vi2.loc[i, 'feature'] = col\n",
    "    mean_sim_vi2.loc[i, 'importance'] = np.mean(aux)\n",
    "\n",
    "#print('\\n Mean Variable Importance \\n')\n",
    "#mean_sim_vi.head()\n",
    "    \n",
    "# Save Data -- VARIABLES/FEATURES\n",
    "df_mae_tf2.append(np.mean(sim_mae_tf2))\n",
    "df_mse_tf2.append(np.mean(sim_mse_tf2))\n",
    "df_var_i_tf2.append(mean_sim_vi2)"
   ]
  },
  {
   "cell_type": "markdown",
   "id": "be02e67e",
   "metadata": {},
   "source": [
    "### <span style=\"background:lightGreen\"> TSCV <span>"
   ]
  },
  {
   "cell_type": "markdown",
   "id": "8986ae90",
   "metadata": {},
   "source": [
    "### <span style=\"background:skyblue\"> TF1 <span>"
   ]
  },
  {
   "cell_type": "code",
   "execution_count": null,
   "id": "f96e4c7a",
   "metadata": {},
   "outputs": [],
   "source": [
    "%%time\n",
    "\n",
    "df_mae_tf_0_tscv = []\n",
    "df_mse_tf_0_tscv = []\n",
    "df_var_i_tf_0_tscv = []\n",
    "\n",
    "sim_mae_tf_0_tscv = []\n",
    "sim_mse_tf_0_tscv = []\n",
    "sim_vi_tf_0_tscv = []\n",
    "\n",
    "target_0_tscv = dftf1.columns[0]\n",
    "        \n",
    "# Simulation Loop\n",
    "for sim in range(n_sims):\n",
    "    #print('-- Sim Nº', sim, '--\\n')\n",
    "    mae_0_tscv , mse_0_tscv, vi_0_tscv = tree_feature_importance_cv(dftf1, target = dftf1.columns[0], cv_split=n_split, r = 0)\n",
    "\n",
    "    # Save data -- SIM\n",
    "    sim_mae_tf_0_tscv.append(mae_0_tscv)\n",
    "    sim_mse_tf_0_tscv.append(mse_0_tscv)\n",
    "    sim_vi_tf_0_tscv.append(vi_0_tscv)\n",
    "        \n",
    "    #print('mae = ', mae)\n",
    "    #print('mse = ', mse)\n",
    "    #print('vi -- \\n', vi, '\\n')\n",
    "    #print('feature --\\n', vi['feature'], '\\n\\nimportance -- \\n', vi['importance'], '\\n\\n')\n",
    "    \n",
    "#print('\\n\\nMean Evaluation SIM ', lag_i , ' METRICS')\n",
    "#print('MAE ', np.mean(sim_mae))\n",
    "#print('MSE ', np.mean(sim_mse))\n",
    "\n",
    "mean_sim_vi_0_tscv = pd.DataFrame(columns = ['feature', 'importance'])\n",
    "    \n",
    "# Loop to make variable importance simulation mean\n",
    "for i,col in zip(range(sim_vi_tf_0_tscv[0].shape[0]), sim_vi_tf_0_tscv[0]['feature']):\n",
    "    aux = []\n",
    "    \n",
    "    for j in range(n_sims):\n",
    "        aux.append(sim_vi_tf_0_tscv[j]['importance'][i])\n",
    "    \n",
    "    mean_sim_vi_0_tscv.loc[i, 'feature'] = col\n",
    "    mean_sim_vi_0_tscv.loc[i, 'importance'] = np.mean(aux)\n",
    "\n",
    "#print('\\n Mean Variable Importance \\n')\n",
    "#mean_sim_vi.head()\n",
    "    \n",
    "# Save Data -- VARIABLES/FEATURES\n",
    "df_mae_tf_0_tscv.append(np.mean(sim_mae_tf_0_tscv))\n",
    "df_mse_tf_0_tscv.append(np.mean(sim_mse_tf_0_tscv))\n",
    "df_var_i_tf_0_tscv.append(mean_sim_vi_0_tscv)"
   ]
  },
  {
   "cell_type": "markdown",
   "id": "fac79201",
   "metadata": {},
   "source": [
    "### <span style=\"background:skyblue\"> TF2 <span>"
   ]
  },
  {
   "cell_type": "code",
   "execution_count": null,
   "id": "adb7890a",
   "metadata": {},
   "outputs": [],
   "source": [
    "%%time\n",
    "\n",
    "df_mae_tf_1_tscv = []\n",
    "df_mse_tf_1_tscv = []\n",
    "df_var_i_tf_1_tscv = []\n",
    "\n",
    "sim_mae_tf_1_tscv = []\n",
    "sim_mse_tf_1_tscv = []\n",
    "sim_vi_tf_1_tscv = []\n",
    "\n",
    "target_1_tscv = dftf2.columns[0]\n",
    "        \n",
    "# Simulation Loop\n",
    "for sim in range(n_sims):\n",
    "    #print('-- Sim Nº', sim, '--\\n')\n",
    "    mae_1_tscv , mse_1_tscv, vi_1_tscv = tree_feature_importance_cv(dftf2, target = dftf2.columns[0], cv_split=n_split, r = 0)\n",
    "\n",
    "    # Save data -- SIM\n",
    "    sim_mae_tf_1_tscv.append(mae_1_tscv)\n",
    "    sim_mse_tf_1_tscv.append(mse_1_tscv)\n",
    "    sim_vi_tf_1_tscv.append(vi_1_tscv)\n",
    "        \n",
    "    #print('mae = ', mae)\n",
    "    #print('mse = ', mse)\n",
    "    #print('vi -- \\n', vi, '\\n')\n",
    "    #print('feature --\\n', vi['feature'], '\\n\\nimportance -- \\n', vi['importance'], '\\n\\n')\n",
    "    \n",
    "#print('\\n\\nMean Evaluation SIM ', lag_i , ' METRICS')\n",
    "#print('MAE ', np.mean(sim_mae))\n",
    "#print('MSE ', np.mean(sim_mse))\n",
    "\n",
    "mean_sim_vi_1_tscv = pd.DataFrame(columns = ['feature', 'importance'])\n",
    "    \n",
    "# Loop to make variable importance simulation mean\n",
    "for i,col in zip(range(sim_vi_tf_1_tscv[0].shape[0]), sim_vi_tf_1_tscv[0]['feature']):\n",
    "    aux = []\n",
    "    \n",
    "    for j in range(n_sims):\n",
    "        aux.append(sim_vi_tf_1_tscv[j]['importance'][i])\n",
    "    \n",
    "    mean_sim_vi_1_tscv.loc[i, 'feature'] = col\n",
    "    mean_sim_vi_1_tscv.loc[i, 'importance'] = np.mean(aux)\n",
    "\n",
    "#print('\\n Mean Variable Importance \\n')\n",
    "#mean_sim_vi.head()\n",
    "    \n",
    "# Save Data -- VARIABLES/FEATURES\n",
    "df_mae_tf_1_tscv.append(np.mean(sim_mae_tf_1_tscv))\n",
    "df_mse_tf_1_tscv.append(np.mean(sim_mse_tf_1_tscv))\n",
    "df_var_i_tf_1_tscv.append(mean_sim_vi_1_tscv)"
   ]
  },
  {
   "cell_type": "markdown",
   "id": "79cc7511",
   "metadata": {},
   "source": [
    "### <span style=\"background:skyblue\"> TF3 <span>"
   ]
  },
  {
   "cell_type": "code",
   "execution_count": null,
   "id": "c8102398",
   "metadata": {},
   "outputs": [],
   "source": [
    "%%time\n",
    "\n",
    "df_mae_tf_2_tscv = []\n",
    "df_mse_tf_2_tscv = []\n",
    "df_var_i_tf_2_tscv = []\n",
    "\n",
    "sim_mae_tf_2_tscv = []\n",
    "sim_mse_tf_2_tscv = []\n",
    "sim_vi_tf_2_tscv = []\n",
    "\n",
    "target_2_tscv = dftf3.columns[0]\n",
    "        \n",
    "# Simulation Loop\n",
    "for sim in range(n_sims):\n",
    "    #print('-- Sim Nº', sim, '--\\n')\n",
    "    mae_2_tscv , mse_2_tscv, vi_2_tscv = tree_feature_importance_cv(dftf3, target = dftf3.columns[0], cv_split=n_split, r = 0)\n",
    "\n",
    "    # Save data -- SIM\n",
    "    sim_mae_tf_2_tscv.append(mae_2_tscv)\n",
    "    sim_mse_tf_2_tscv.append(mse_2_tscv)\n",
    "    sim_vi_tf_2_tscv.append(vi_2_tscv)\n",
    "        \n",
    "    #print('mae = ', mae)\n",
    "    #print('mse = ', mse)\n",
    "    #print('vi -- \\n', vi, '\\n')\n",
    "    #print('feature --\\n', vi['feature'], '\\n\\nimportance -- \\n', vi['importance'], '\\n\\n')\n",
    "    \n",
    "#print('\\n\\nMean Evaluation SIM ', lag_i , ' METRICS')\n",
    "#print('MAE ', np.mean(sim_mae))\n",
    "#print('MSE ', np.mean(sim_mse))\n",
    "\n",
    "mean_sim_vi_2_tscv = pd.DataFrame(columns = ['feature', 'importance'])\n",
    "    \n",
    "# Loop to make variable importance simulation mean\n",
    "for i,col in zip(range(sim_vi_tf_2_tscv[0].shape[0]), sim_vi_tf_2_tscv[0]['feature']):\n",
    "    aux = []\n",
    "    \n",
    "    for j in range(n_sims):\n",
    "        aux.append(sim_vi_tf_2_tscv[j]['importance'][i])\n",
    "    \n",
    "    mean_sim_vi_2_tscv.loc[i, 'feature'] = col\n",
    "    mean_sim_vi_2_tscv.loc[i, 'importance'] = np.mean(aux)\n",
    "\n",
    "#print('\\n Mean Variable Importance \\n')\n",
    "#mean_sim_vi.head()\n",
    "    \n",
    "# Save Data -- VARIABLES/FEATURES\n",
    "df_mae_tf_2_tscv.append(np.mean(sim_mae_tf_2_tscv))\n",
    "df_mse_tf_2_tscv.append(np.mean(sim_mse_tf_2_tscv))\n",
    "df_var_i_tf_2_tscv.append(mean_sim_vi_2_tscv)"
   ]
  },
  {
   "cell_type": "markdown",
   "id": "58b9d6fa",
   "metadata": {},
   "source": [
    "### <span style=\"background:lightGreen\"> BCV <span>"
   ]
  },
  {
   "cell_type": "markdown",
   "id": "7cf9cce5",
   "metadata": {},
   "source": [
    "### <span style=\"background:skyblue\"> TF1 <span>"
   ]
  },
  {
   "cell_type": "code",
   "execution_count": null,
   "id": "3623492c",
   "metadata": {},
   "outputs": [],
   "source": [
    "%%time\n",
    "\n",
    "df_mae_tf_0_bcv = []\n",
    "df_mse_tf_0_bcv = []\n",
    "df_var_i_tf_0_bcv = []\n",
    "\n",
    "sim_mae_tf_0_bcv = []\n",
    "sim_mse_tf_0_bcv = []\n",
    "sim_vi_tf_0_bcv = []\n",
    "\n",
    "target_0_bcv = dftf2.columns[0]\n",
    "        \n",
    "# Simulation Loop\n",
    "for sim in range(n_sims):\n",
    "    #print('-- Sim Nº', sim, '--\\n')\n",
    "    mae_0_bcv , mse_0_bcv, vi_0_bcv = tree_feature_importance_bcv(dftf2,  target = dftf2.columns[0], cv_split=n_split, r = 0)\n",
    "\n",
    "    # Save data -- SIM\n",
    "    sim_mae_tf_0_bcv.append(mae_0_bcv)\n",
    "    sim_mse_tf_0_bcv.append(mse_0_bcv)\n",
    "    sim_vi_tf_0_bcv.append(vi_0_bcv)\n",
    "        \n",
    "    #print('mae = ', mae)\n",
    "    #print('mse = ', mse)\n",
    "    #print('vi -- \\n', vi, '\\n')\n",
    "    #print('feature --\\n', vi['feature'], '\\n\\nimportance -- \\n', vi['importance'], '\\n\\n')\n",
    "    \n",
    "#print('\\n\\nMean Evaluation SIM ', lag_i , ' METRICS')\n",
    "#print('MAE ', np.mean(sim_mae))\n",
    "#print('MSE ', np.mean(sim_mse))\n",
    "\n",
    "mean_sim_vi_0_bcv = pd.DataFrame(columns = ['feature', 'importance'])\n",
    "    \n",
    "# Loop to make variable importance simulation mean\n",
    "for i,col in zip(range(sim_vi_tf_0_bcv[0].shape[0]), sim_vi_tf_0_bcv[0]['feature']):\n",
    "    aux = []\n",
    "    \n",
    "    for j in range(n_sims):\n",
    "        aux.append(sim_vi_tf_0_bcv[j]['importance'][i])\n",
    "    \n",
    "    mean_sim_vi_0_bcv.loc[i, 'feature'] = col\n",
    "    mean_sim_vi_0_bcv.loc[i, 'importance'] = np.mean(aux)\n",
    "\n",
    "#print('\\n Mean Variable Importance \\n')\n",
    "#mean_sim_vi.head()\n",
    "    \n",
    "# Save Data -- VARIABLES/FEATURES\n",
    "df_mae_tf_0_bcv.append(np.mean(sim_mae_tf_0_bcv))\n",
    "df_mse_tf_0_bcv.append(np.mean(sim_mse_tf_0_bcv))\n",
    "df_var_i_tf_0_bcv.append(mean_sim_vi_0_bcv)"
   ]
  },
  {
   "cell_type": "markdown",
   "id": "450c65fd",
   "metadata": {},
   "source": [
    "### <span style=\"background:skyblue\"> TF2 <span>"
   ]
  },
  {
   "cell_type": "code",
   "execution_count": null,
   "id": "c47a1a85",
   "metadata": {},
   "outputs": [],
   "source": [
    "%%time\n",
    "\n",
    "df_mae_tf_1_bcv = []\n",
    "df_mse_tf_1_bcv = []\n",
    "df_var_i_tf_1_bcv = []\n",
    "\n",
    "sim_mae_tf_1_bcv = []\n",
    "sim_mse_tf_1_bcv = []\n",
    "sim_vi_tf_1_bcv = []\n",
    "\n",
    "target_1_bcv = dftf2.columns[0]\n",
    "        \n",
    "# Simulation Loop\n",
    "for sim in range(n_sims):\n",
    "    #print('-- Sim Nº', sim, '--\\n')\n",
    "    mae_1_bcv , mse_1_bcv, vi_1_bcv = tree_feature_importance_bcv(dftf2, target = dftf2.columns[0], cv_split=n_split, r = 0)\n",
    "\n",
    "    # Save data -- SIM\n",
    "    sim_mae_tf_1_bcv.append(mae_1_bcv)\n",
    "    sim_mse_tf_1_bcv.append(mse_1_bcv)\n",
    "    sim_vi_tf_1_bcv.append(vi_1_bcv)\n",
    "        \n",
    "    #print('mae = ', mae)\n",
    "    #print('mse = ', mse)\n",
    "    #print('vi -- \\n', vi, '\\n')\n",
    "    #print('feature --\\n', vi['feature'], '\\n\\nimportance -- \\n', vi['importance'], '\\n\\n')\n",
    "    \n",
    "#print('\\n\\nMean Evaluation SIM ', lag_i , ' METRICS')\n",
    "#print('MAE ', np.mean(sim_mae))\n",
    "#print('MSE ', np.mean(sim_mse))\n",
    "\n",
    "mean_sim_vi_1_bcv = pd.DataFrame(columns = ['feature', 'importance'])\n",
    "    \n",
    "# Loop to make variable importance simulation mean\n",
    "for i,col in zip(range(sim_vi_tf_1_bcv[0].shape[0]), sim_vi_tf_1_bcv[0]['feature']):\n",
    "    aux = []\n",
    "    \n",
    "    for j in range(n_sims):\n",
    "        aux.append(sim_vi_tf_1_bcv[j]['importance'][i])\n",
    "    \n",
    "    mean_sim_vi_1_bcv.loc[i, 'feature'] = col\n",
    "    mean_sim_vi_1_bcv.loc[i, 'importance'] = np.mean(aux)\n",
    "\n",
    "#print('\\n Mean Variable Importance \\n')\n",
    "#mean_sim_vi.head()\n",
    "    \n",
    "# Save Data -- VARIABLES/FEATURES\n",
    "df_mae_tf_1_bcv.append(np.mean(sim_mae_tf_1_bcv))\n",
    "df_mse_tf_1_bcv.append(np.mean(sim_mse_tf_1_bcv))\n",
    "df_var_i_tf_1_bcv.append(mean_sim_vi_1_bcv)"
   ]
  },
  {
   "cell_type": "markdown",
   "id": "8129b542",
   "metadata": {},
   "source": [
    "### <span style=\"background:skyblue\"> TF3 <span>"
   ]
  },
  {
   "cell_type": "code",
   "execution_count": null,
   "id": "1fd740ac",
   "metadata": {
    "scrolled": true
   },
   "outputs": [],
   "source": [
    "%%time\n",
    "\n",
    "df_mae_tf_2_bcv = []\n",
    "df_mse_tf_2_bcv = []\n",
    "df_var_i_tf_2_bcv = []\n",
    "\n",
    "sim_mae_tf_2_bcv = []\n",
    "sim_mse_tf_2_bcv = []\n",
    "sim_vi_tf_2_bcv = []\n",
    "\n",
    "target_2_bcv = dftf3.columns[0]\n",
    "        \n",
    "# Simulation Loop\n",
    "for sim in range(n_sims):\n",
    "    #print('-- Sim Nº', sim, '--\\n')\n",
    "    mae_2_bcv , mse_2_bcv, vi_2_bcv = tree_feature_importance_bcv(dftf3, target = dftf3.columns[0], cv_split=n_split, r = 0)\n",
    "\n",
    "    # Save data -- SIM\n",
    "    sim_mae_tf_2_bcv.append(mae_2_bcv)\n",
    "    sim_mse_tf_2_bcv.append(mse_2_bcv)\n",
    "    sim_vi_tf_2_bcv.append(vi_2_bcv)\n",
    "        \n",
    "    #print('mae = ', mae)\n",
    "    #print('mse = ', mse)\n",
    "    #print('vi -- \\n', vi, '\\n')\n",
    "    #print('feature --\\n', vi['feature'], '\\n\\nimportance -- \\n', vi['importance'], '\\n\\n')\n",
    "    \n",
    "#print('\\n\\nMean Evaluation SIM ', lag_i , ' METRICS')\n",
    "#print('MAE ', np.mean(sim_mae))\n",
    "#print('MSE ', np.mean(sim_mse))\n",
    "\n",
    "mean_sim_vi_2_bcv = pd.DataFrame(columns = ['feature', 'importance'])\n",
    "    \n",
    "# Loop to make variable importance simulation mean\n",
    "for i,col in zip(range(sim_vi_tf_2_bcv[0].shape[0]), sim_vi_tf_2_bcv[0]['feature']):\n",
    "    aux = []\n",
    "    \n",
    "    for j in range(n_sims):\n",
    "        aux.append(sim_vi_tf_2_bcv[j]['importance'][i])\n",
    "    \n",
    "    mean_sim_vi_2_bcv.loc[i, 'feature'] = col\n",
    "    mean_sim_vi_2_bcv.loc[i, 'importance'] = np.mean(aux)\n",
    "\n",
    "#print('\\n Mean Variable Importance \\n')\n",
    "#mean_sim_vi.head()\n",
    "    \n",
    "# Save Data -- VARIABLES/FEATURES\n",
    "df_mae_tf_2_bcv.append(np.mean(sim_mae_tf_2_bcv))\n",
    "df_mse_tf_2_bcv.append(np.mean(sim_mse_tf_2_bcv))\n",
    "df_var_i_tf_2_bcv.append(mean_sim_vi_2_bcv)"
   ]
  },
  {
   "cell_type": "markdown",
   "id": "02e1c994",
   "metadata": {},
   "source": [
    "### <span style=\"background:lightGreen\"> Results <span>"
   ]
  },
  {
   "cell_type": "code",
   "execution_count": null,
   "id": "1b38bcbe",
   "metadata": {},
   "outputs": [],
   "source": [
    "for mae, d1, mae1, d2, mae2 in zip(df_mae_tf0, dftf2, df_mae_tf1, dftf3, df_mae_tf2):\n",
    "    print('TF 0 BCV:',str(dftf1.columns[0]), ': ', mae)\n",
    "    print('TF 1 BCV:', str(dftf2.columns[0]), ': ', mae1)\n",
    "    print('TF 2 BCV:',str(dftf3.columns[0]), ': ', mae2)\n",
    "    print('\\n')"
   ]
  },
  {
   "cell_type": "code",
   "execution_count": null,
   "id": "c2720fd9",
   "metadata": {},
   "outputs": [],
   "source": [
    "for mae, d1, mae1, d2, mae2 in zip(df_mae_tf_0_tscv, dftf2, df_mae_tf_1_tscv, dftf3, df_mae_tf_2_tsvc):\n",
    "    print('TF 0 BCV:',str(dftf1.columns[0]), ': ', mae)\n",
    "    print('TF 1 BCV:', str(dftf2.columns[0]), ': ', mae1)\n",
    "    print('TF 2 BCV:',str(dftf3.columns[0]), ': ', mae2)\n",
    "    print('\\n')"
   ]
  },
  {
   "cell_type": "code",
   "execution_count": null,
   "id": "14335e98",
   "metadata": {},
   "outputs": [],
   "source": [
    "for mae, d1, mae1, d2, mae2 in zip(df_mae_tf_0_bcv, dftf2, df_mae_tf_1_bcv, dftf3, df_mae_tf_2_bcv):\n",
    "    print('TF 0 BCV:',str(dftf1.columns[0]), ': ', mae)\n",
    "    print('TF 1 BCV:', str(dftf2.columns[0]), ': ', mae1)\n",
    "    print('TF 2 BCV:',str(dftf3.columns[0]), ': ', mae2)\n",
    "    print('\\n')"
   ]
  },
  {
   "cell_type": "code",
   "execution_count": null,
   "id": "6dd7ed6e",
   "metadata": {},
   "outputs": [],
   "source": []
  }
 ],
 "metadata": {
  "kernelspec": {
   "display_name": "Python 3 (ipykernel)",
   "language": "python",
   "name": "python3"
  },
  "language_info": {
   "codemirror_mode": {
    "name": "ipython",
    "version": 3
   },
   "file_extension": ".py",
   "mimetype": "text/x-python",
   "name": "python",
   "nbconvert_exporter": "python",
   "pygments_lexer": "ipython3",
   "version": "3.9.11"
  }
 },
 "nbformat": 4,
 "nbformat_minor": 5
}
