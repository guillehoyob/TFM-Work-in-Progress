{
 "cells": [
  {
   "cell_type": "markdown",
   "id": "9c9b1040",
   "metadata": {},
   "source": [
    "# Understanding & Cleaning the Data"
   ]
  },
  {
   "cell_type": "markdown",
   "id": "d936281e",
   "metadata": {},
   "source": [
    "# <span style='background :khaki' > Install & Importa Libraries </span>"
   ]
  },
  {
   "cell_type": "code",
   "execution_count": 174,
   "id": "483a5ed6",
   "metadata": {},
   "outputs": [
    {
     "name": "stdout",
     "output_type": "stream",
     "text": [
      "Requirement already satisfied: pandas in c:\\users\\ghoyo\\appdata\\local\\programs\\python\\python310\\lib\\site-packages (1.4.3)\n",
      "Requirement already satisfied: numpy>=1.21.0 in c:\\users\\ghoyo\\appdata\\local\\programs\\python\\python310\\lib\\site-packages (from pandas) (1.22.4)\n",
      "Requirement already satisfied: python-dateutil>=2.8.1 in c:\\users\\ghoyo\\appdata\\local\\programs\\python\\python310\\lib\\site-packages (from pandas) (2.8.2)\n",
      "Requirement already satisfied: pytz>=2020.1 in c:\\users\\ghoyo\\appdata\\local\\programs\\python\\python310\\lib\\site-packages (from pandas) (2022.2.1)\n",
      "Requirement already satisfied: six>=1.5 in c:\\users\\ghoyo\\appdata\\local\\programs\\python\\python310\\lib\\site-packages (from python-dateutil>=2.8.1->pandas) (1.16.0)\n",
      "Requirement already satisfied: matplotlib in c:\\users\\ghoyo\\appdata\\local\\programs\\python\\python310\\lib\\site-packages (3.5.3)\n",
      "Requirement already satisfied: numpy>=1.17 in c:\\users\\ghoyo\\appdata\\local\\programs\\python\\python310\\lib\\site-packages (from matplotlib) (1.22.4)\n",
      "Requirement already satisfied: packaging>=20.0 in c:\\users\\ghoyo\\appdata\\local\\programs\\python\\python310\\lib\\site-packages (from matplotlib) (21.3)\n",
      "Requirement already satisfied: fonttools>=4.22.0 in c:\\users\\ghoyo\\appdata\\local\\programs\\python\\python310\\lib\\site-packages (from matplotlib) (4.37.1)\n",
      "Requirement already satisfied: pillow>=6.2.0 in c:\\users\\ghoyo\\appdata\\local\\programs\\python\\python310\\lib\\site-packages (from matplotlib) (9.2.0)\n",
      "Requirement already satisfied: cycler>=0.10 in c:\\users\\ghoyo\\appdata\\local\\programs\\python\\python310\\lib\\site-packages (from matplotlib) (0.11.0)\n",
      "Requirement already satisfied: kiwisolver>=1.0.1 in c:\\users\\ghoyo\\appdata\\local\\programs\\python\\python310\\lib\\site-packages (from matplotlib) (1.4.4)\n",
      "Requirement already satisfied: python-dateutil>=2.7 in c:\\users\\ghoyo\\appdata\\local\\programs\\python\\python310\\lib\\site-packages (from matplotlib) (2.8.2)\n",
      "Requirement already satisfied: pyparsing>=2.2.1 in c:\\users\\ghoyo\\appdata\\local\\programs\\python\\python310\\lib\\site-packages (from matplotlib) (3.0.7)\n",
      "Requirement already satisfied: six>=1.5 in c:\\users\\ghoyo\\appdata\\local\\programs\\python\\python310\\lib\\site-packages (from python-dateutil>=2.7->matplotlib) (1.16.0)\n",
      "Requirement already satisfied: seaborn in c:\\users\\ghoyo\\appdata\\local\\programs\\python\\python310\\lib\\site-packages (0.12.0)\n",
      "Requirement already satisfied: pandas>=0.25 in c:\\users\\ghoyo\\appdata\\local\\programs\\python\\python310\\lib\\site-packages (from seaborn) (1.4.3)\n",
      "Requirement already satisfied: numpy>=1.17 in c:\\users\\ghoyo\\appdata\\local\\programs\\python\\python310\\lib\\site-packages (from seaborn) (1.22.4)\n",
      "Requirement already satisfied: matplotlib>=3.1 in c:\\users\\ghoyo\\appdata\\local\\programs\\python\\python310\\lib\\site-packages (from seaborn) (3.5.3)\n",
      "Requirement already satisfied: cycler>=0.10 in c:\\users\\ghoyo\\appdata\\local\\programs\\python\\python310\\lib\\site-packages (from matplotlib>=3.1->seaborn) (0.11.0)\n",
      "Requirement already satisfied: packaging>=20.0 in c:\\users\\ghoyo\\appdata\\local\\programs\\python\\python310\\lib\\site-packages (from matplotlib>=3.1->seaborn) (21.3)\n",
      "Requirement already satisfied: pyparsing>=2.2.1 in c:\\users\\ghoyo\\appdata\\local\\programs\\python\\python310\\lib\\site-packages (from matplotlib>=3.1->seaborn) (3.0.7)\n",
      "Requirement already satisfied: python-dateutil>=2.7 in c:\\users\\ghoyo\\appdata\\local\\programs\\python\\python310\\lib\\site-packages (from matplotlib>=3.1->seaborn) (2.8.2)\n",
      "Requirement already satisfied: kiwisolver>=1.0.1 in c:\\users\\ghoyo\\appdata\\local\\programs\\python\\python310\\lib\\site-packages (from matplotlib>=3.1->seaborn) (1.4.4)\n",
      "Requirement already satisfied: pillow>=6.2.0 in c:\\users\\ghoyo\\appdata\\local\\programs\\python\\python310\\lib\\site-packages (from matplotlib>=3.1->seaborn) (9.2.0)\n",
      "Requirement already satisfied: fonttools>=4.22.0 in c:\\users\\ghoyo\\appdata\\local\\programs\\python\\python310\\lib\\site-packages (from matplotlib>=3.1->seaborn) (4.37.1)\n",
      "Requirement already satisfied: pytz>=2020.1 in c:\\users\\ghoyo\\appdata\\local\\programs\\python\\python310\\lib\\site-packages (from pandas>=0.25->seaborn) (2022.2.1)\n",
      "Requirement already satisfied: six>=1.5 in c:\\users\\ghoyo\\appdata\\local\\programs\\python\\python310\\lib\\site-packages (from python-dateutil>=2.7->matplotlib>=3.1->seaborn) (1.16.0)\n",
      "Requirement already satisfied: dtale in c:\\users\\ghoyo\\appdata\\local\\programs\\python\\python310\\lib\\site-packages (2.9.0)\n",
      "Requirement already satisfied: future>=0.14.0 in c:\\users\\ghoyo\\appdata\\local\\programs\\python\\python310\\lib\\site-packages (from dtale) (0.18.2)\n",
      "Requirement already satisfied: Flask-Compress in c:\\users\\ghoyo\\appdata\\local\\programs\\python\\python310\\lib\\site-packages (from dtale) (1.13)\n",
      "Requirement already satisfied: dash>=2.0.0 in c:\\users\\ghoyo\\appdata\\local\\programs\\python\\python310\\lib\\site-packages (from dtale) (2.7.0)\n",
      "Requirement already satisfied: pandas in c:\\users\\ghoyo\\appdata\\local\\programs\\python\\python310\\lib\\site-packages (from dtale) (1.4.3)\n",
      "Requirement already satisfied: statsmodels in c:\\users\\ghoyo\\appdata\\local\\programs\\python\\python310\\lib\\site-packages (from dtale) (0.13.2)\n",
      "Requirement already satisfied: kaleido in c:\\users\\ghoyo\\appdata\\local\\programs\\python\\python310\\lib\\site-packages (from dtale) (0.2.1)\n",
      "Requirement already satisfied: xlrd in c:\\users\\ghoyo\\appdata\\local\\programs\\python\\python310\\lib\\site-packages (from dtale) (2.0.1)\n",
      "Requirement already satisfied: Flask in c:\\users\\ghoyo\\appdata\\local\\programs\\python\\python310\\lib\\site-packages (from dtale) (2.2.2)\n",
      "Requirement already satisfied: itsdangerous in c:\\users\\ghoyo\\appdata\\local\\programs\\python\\python310\\lib\\site-packages (from dtale) (2.1.2)\n",
      "Requirement already satisfied: matplotlib in c:\\users\\ghoyo\\appdata\\local\\programs\\python\\python310\\lib\\site-packages (from dtale) (3.5.3)\n",
      "Requirement already satisfied: flask-ngrok in c:\\users\\ghoyo\\appdata\\local\\programs\\python\\python310\\lib\\site-packages (from dtale) (0.0.25)\n",
      "Requirement already satisfied: seaborn in c:\\users\\ghoyo\\appdata\\local\\programs\\python\\python310\\lib\\site-packages (from dtale) (0.12.0)\n",
      "Requirement already satisfied: requests in c:\\users\\ghoyo\\appdata\\local\\programs\\python\\python310\\lib\\site-packages (from dtale) (2.27.1)\n",
      "Requirement already satisfied: networkx in c:\\users\\ghoyo\\appdata\\local\\programs\\python\\python310\\lib\\site-packages (from dtale) (2.8.8)\n",
      "Requirement already satisfied: certifi in c:\\users\\ghoyo\\appdata\\local\\programs\\python\\python310\\lib\\site-packages (from dtale) (2021.10.8)\n",
      "Requirement already satisfied: et-xmlfile in c:\\users\\ghoyo\\appdata\\local\\programs\\python\\python310\\lib\\site-packages (from dtale) (1.1.0)\n",
      "Requirement already satisfied: missingno<=0.4.2 in c:\\users\\ghoyo\\appdata\\local\\programs\\python\\python310\\lib\\site-packages (from dtale) (0.4.2)\n",
      "Requirement already satisfied: dash-colorscales in c:\\users\\ghoyo\\appdata\\local\\programs\\python\\python310\\lib\\site-packages (from dtale) (0.0.4)\n",
      "Requirement already satisfied: xarray in c:\\users\\ghoyo\\appdata\\local\\programs\\python\\python310\\lib\\site-packages (from dtale) (2022.11.0)\n",
      "Requirement already satisfied: squarify in c:\\users\\ghoyo\\appdata\\local\\programs\\python\\python310\\lib\\site-packages (from dtale) (0.4.3)\n",
      "Requirement already satisfied: dash-bootstrap-components in c:\\users\\ghoyo\\appdata\\local\\programs\\python\\python310\\lib\\site-packages (from dtale) (1.2.1)\n",
      "Requirement already satisfied: dash-daq in c:\\users\\ghoyo\\appdata\\local\\programs\\python\\python310\\lib\\site-packages (from dtale) (0.5.0)\n",
      "Requirement already satisfied: scikit-learn in c:\\users\\ghoyo\\appdata\\local\\programs\\python\\python310\\lib\\site-packages (from dtale) (1.1.2)\n",
      "Requirement already satisfied: strsimpy in c:\\users\\ghoyo\\appdata\\local\\programs\\python\\python310\\lib\\site-packages (from dtale) (0.2.1)\n",
      "Requirement already satisfied: lz4 in c:\\users\\ghoyo\\appdata\\local\\programs\\python\\python310\\lib\\site-packages (from dtale) (4.0.2)\n",
      "Requirement already satisfied: scipy in c:\\users\\ghoyo\\appdata\\local\\programs\\python\\python310\\lib\\site-packages (from dtale) (1.9.3)\n",
      "Requirement already satisfied: plotly>=5.0.0 in c:\\users\\ghoyo\\appdata\\local\\programs\\python\\python310\\lib\\site-packages (from dtale) (5.11.0)\n",
      "Requirement already satisfied: numpy in c:\\users\\ghoyo\\appdata\\local\\programs\\python\\python310\\lib\\site-packages (from dtale) (1.22.4)\n",
      "Requirement already satisfied: six in c:\\users\\ghoyo\\appdata\\local\\programs\\python\\python310\\lib\\site-packages (from dtale) (1.16.0)\n",
      "Requirement already satisfied: openpyxl in c:\\users\\ghoyo\\appdata\\local\\programs\\python\\python310\\lib\\site-packages (from dtale) (3.0.10)\n",
      "Requirement already satisfied: cycler in c:\\users\\ghoyo\\appdata\\local\\programs\\python\\python310\\lib\\site-packages (from dtale) (0.11.0)\n",
      "Requirement already satisfied: dash-table==5.0.0 in c:\\users\\ghoyo\\appdata\\local\\programs\\python\\python310\\lib\\site-packages (from dash>=2.0.0->dtale) (5.0.0)\n",
      "Requirement already satisfied: dash-html-components==2.0.0 in c:\\users\\ghoyo\\appdata\\local\\programs\\python\\python310\\lib\\site-packages (from dash>=2.0.0->dtale) (2.0.0)\n",
      "Requirement already satisfied: dash-core-components==2.0.0 in c:\\users\\ghoyo\\appdata\\local\\programs\\python\\python310\\lib\\site-packages (from dash>=2.0.0->dtale) (2.0.0)\n",
      "Requirement already satisfied: Jinja2>=3.0 in c:\\users\\ghoyo\\appdata\\local\\programs\\python\\python310\\lib\\site-packages (from Flask->dtale) (3.1.2)\n",
      "Requirement already satisfied: Werkzeug>=2.2.2 in c:\\users\\ghoyo\\appdata\\local\\programs\\python\\python310\\lib\\site-packages (from Flask->dtale) (2.2.2)\n",
      "Requirement already satisfied: click>=8.0 in c:\\users\\ghoyo\\appdata\\local\\programs\\python\\python310\\lib\\site-packages (from Flask->dtale) (8.0.3)\n",
      "Requirement already satisfied: tenacity>=6.2.0 in c:\\users\\ghoyo\\appdata\\local\\programs\\python\\python310\\lib\\site-packages (from plotly>=5.0.0->dtale) (8.1.0)\n",
      "Requirement already satisfied: brotli in c:\\users\\ghoyo\\appdata\\local\\programs\\python\\python310\\lib\\site-packages (from Flask-Compress->dtale) (1.0.9)\n",
      "Requirement already satisfied: pyparsing>=2.2.1 in c:\\users\\ghoyo\\appdata\\local\\programs\\python\\python310\\lib\\site-packages (from matplotlib->dtale) (3.0.7)\n",
      "Requirement already satisfied: fonttools>=4.22.0 in c:\\users\\ghoyo\\appdata\\local\\programs\\python\\python310\\lib\\site-packages (from matplotlib->dtale) (4.37.1)\n",
      "Requirement already satisfied: kiwisolver>=1.0.1 in c:\\users\\ghoyo\\appdata\\local\\programs\\python\\python310\\lib\\site-packages (from matplotlib->dtale) (1.4.4)\n",
      "Requirement already satisfied: packaging>=20.0 in c:\\users\\ghoyo\\appdata\\local\\programs\\python\\python310\\lib\\site-packages (from matplotlib->dtale) (21.3)\n",
      "Requirement already satisfied: python-dateutil>=2.7 in c:\\users\\ghoyo\\appdata\\local\\programs\\python\\python310\\lib\\site-packages (from matplotlib->dtale) (2.8.2)\n",
      "Requirement already satisfied: pillow>=6.2.0 in c:\\users\\ghoyo\\appdata\\local\\programs\\python\\python310\\lib\\site-packages (from matplotlib->dtale) (9.2.0)\n",
      "Requirement already satisfied: pytz>=2020.1 in c:\\users\\ghoyo\\appdata\\local\\programs\\python\\python310\\lib\\site-packages (from pandas->dtale) (2022.2.1)\n",
      "Requirement already satisfied: charset-normalizer~=2.0.0 in c:\\users\\ghoyo\\appdata\\local\\programs\\python\\python310\\lib\\site-packages (from requests->dtale) (2.0.12)\n",
      "Requirement already satisfied: idna<4,>=2.5 in c:\\users\\ghoyo\\appdata\\local\\programs\\python\\python310\\lib\\site-packages (from requests->dtale) (3.3)\n",
      "Requirement already satisfied: urllib3<1.27,>=1.21.1 in c:\\users\\ghoyo\\appdata\\local\\programs\\python\\python310\\lib\\site-packages (from requests->dtale) (1.26.9)\n",
      "Requirement already satisfied: threadpoolctl>=2.0.0 in c:\\users\\ghoyo\\appdata\\local\\programs\\python\\python310\\lib\\site-packages (from scikit-learn->dtale) (3.1.0)\n",
      "Requirement already satisfied: joblib>=1.0.0 in c:\\users\\ghoyo\\appdata\\local\\programs\\python\\python310\\lib\\site-packages (from scikit-learn->dtale) (1.2.0)\n",
      "Requirement already satisfied: patsy>=0.5.2 in c:\\users\\ghoyo\\appdata\\local\\programs\\python\\python310\\lib\\site-packages (from statsmodels->dtale) (0.5.3)\n",
      "Requirement already satisfied: colorama in c:\\users\\ghoyo\\appdata\\local\\programs\\python\\python310\\lib\\site-packages (from click>=8.0->Flask->dtale) (0.4.4)\n",
      "Requirement already satisfied: MarkupSafe>=2.0 in c:\\users\\ghoyo\\appdata\\local\\programs\\python\\python310\\lib\\site-packages (from Jinja2>=3.0->Flask->dtale) (2.1.1)\n"
     ]
    },
    {
     "name": "stdout",
     "output_type": "stream",
     "text": [
      "Requirement already satisfied: pip in c:\\users\\ghoyo\\appdata\\local\\programs\\python\\python310\\lib\\site-packages (23.0)\n"
     ]
    }
   ],
   "source": [
    "### ***Enviroment Preparation***\n",
    "# Install Pandas\n",
    "!pip install pandas\n",
    "!pip install matplotlib\n",
    "!pip install seaborn\n",
    "'''!pip install scikit-learn'''\n",
    "\n",
    "!pip install dtale\n",
    "\n",
    "# Update pip -- WARNING Resolution\n",
    "!python.exe -m pip install --upgrade pip"
   ]
  },
  {
   "cell_type": "code",
   "execution_count": 175,
   "id": "8295e816",
   "metadata": {},
   "outputs": [],
   "source": [
    "### ***Imports***\n",
    "import numpy as np\n",
    "import pandas as pd\n",
    "import matplotlib.pyplot as plt\n",
    "import seaborn as sns\n",
    "sns.set()\n",
    "\n",
    "from datetime import datetime\n",
    "from datetime import timedelta\n",
    "\n",
    "'''from sklearn.ensemble import IsolationForest'''\n",
    "\n",
    "import dtale\n",
    "import os"
   ]
  },
  {
   "cell_type": "code",
   "execution_count": null,
   "id": "8be708ae",
   "metadata": {},
   "outputs": [],
   "source": []
  },
  {
   "cell_type": "markdown",
   "id": "f06f7c69",
   "metadata": {},
   "source": [
    "# <span style='background :khaki' > Import all datafiles together </span>"
   ]
  },
  {
   "cell_type": "markdown",
   "id": "b0b7e08c",
   "metadata": {},
   "source": [
    "#### <span style=\"background:skyblue\"> Save all relevant file names <span>"
   ]
  },
  {
   "cell_type": "code",
   "execution_count": 176,
   "id": "3b23af8a",
   "metadata": {},
   "outputs": [],
   "source": [
    "folder_path = r'C:\\Users\\ghoyo\\Desktop\\TFM 3.0\\JawsSpotifyData'"
   ]
  },
  {
   "cell_type": "code",
   "execution_count": 177,
   "id": "934f5bcb",
   "metadata": {},
   "outputs": [
    {
     "name": "stdout",
     "output_type": "stream",
     "text": [
      "['endsong_0.json', 'endsong_1.json', 'endsong_2.json', 'endsong_3.json', 'endsong_4.json', 'endsong_5.json', 'endsong_6.json']\n"
     ]
    }
   ],
   "source": [
    "file_path_list = []\n",
    "\n",
    "for filename in os.listdir(folder_path):\n",
    "    if 'endsong_' in filename:\n",
    "        file_path = os.path.join(folder_path, filename)\n",
    "        if os.path.isfile(file_path):\n",
    "            file_path_list.append(filename)\n",
    "        \n",
    "print(file_path_list)"
   ]
  },
  {
   "cell_type": "markdown",
   "id": "a9036058",
   "metadata": {},
   "source": [
    "#### <span style=\"background:skyblue\"> Open Files as pandas dataframes and save them together in a list <span>"
   ]
  },
  {
   "cell_type": "code",
   "execution_count": 178,
   "id": "8655f73c",
   "metadata": {},
   "outputs": [],
   "source": [
    "# Create an empty list to store the data frames\n",
    "df_list = []\n",
    "\n",
    "# Iterate over the file paths and read the files into pandas data frames\n",
    "for file_path in file_path_list:\n",
    "    df = pd.read_json(folder_path+'\\\\'+file_path)\n",
    "    df_list.append(df)"
   ]
  },
  {
   "cell_type": "code",
   "execution_count": 179,
   "id": "4eb04351",
   "metadata": {},
   "outputs": [
    {
     "data": {
      "text/html": [
       "<div>\n",
       "<style scoped>\n",
       "    .dataframe tbody tr th:only-of-type {\n",
       "        vertical-align: middle;\n",
       "    }\n",
       "\n",
       "    .dataframe tbody tr th {\n",
       "        vertical-align: top;\n",
       "    }\n",
       "\n",
       "    .dataframe thead th {\n",
       "        text-align: right;\n",
       "    }\n",
       "</style>\n",
       "<table border=\"1\" class=\"dataframe\">\n",
       "  <thead>\n",
       "    <tr style=\"text-align: right;\">\n",
       "      <th></th>\n",
       "      <th>ts</th>\n",
       "      <th>username</th>\n",
       "      <th>platform</th>\n",
       "      <th>ms_played</th>\n",
       "      <th>conn_country</th>\n",
       "      <th>ip_addr_decrypted</th>\n",
       "      <th>user_agent_decrypted</th>\n",
       "      <th>master_metadata_track_name</th>\n",
       "      <th>master_metadata_album_artist_name</th>\n",
       "      <th>master_metadata_album_album_name</th>\n",
       "      <th>...</th>\n",
       "      <th>episode_name</th>\n",
       "      <th>episode_show_name</th>\n",
       "      <th>spotify_episode_uri</th>\n",
       "      <th>reason_start</th>\n",
       "      <th>reason_end</th>\n",
       "      <th>shuffle</th>\n",
       "      <th>skipped</th>\n",
       "      <th>offline</th>\n",
       "      <th>offline_timestamp</th>\n",
       "      <th>incognito_mode</th>\n",
       "    </tr>\n",
       "  </thead>\n",
       "  <tbody>\n",
       "    <tr>\n",
       "      <th>0</th>\n",
       "      <td>2017-04-08T03:34:25Z</td>\n",
       "      <td>javicalde</td>\n",
       "      <td>Android OS 7.0 API 24 (samsung, SM-G935F)</td>\n",
       "      <td>149625</td>\n",
       "      <td>ES</td>\n",
       "      <td>37.10.166.26</td>\n",
       "      <td>unknown</td>\n",
       "      <td>Dominator</td>\n",
       "      <td>Armin van Buuren</td>\n",
       "      <td>Dominator</td>\n",
       "      <td>...</td>\n",
       "      <td>None</td>\n",
       "      <td>None</td>\n",
       "      <td>None</td>\n",
       "      <td>trackdone</td>\n",
       "      <td>trackdone</td>\n",
       "      <td>True</td>\n",
       "      <td>NaN</td>\n",
       "      <td>False</td>\n",
       "      <td>1491622313381</td>\n",
       "      <td>False</td>\n",
       "    </tr>\n",
       "    <tr>\n",
       "      <th>1</th>\n",
       "      <td>2018-07-16T10:19:32Z</td>\n",
       "      <td>javicalde</td>\n",
       "      <td>iOS 11.4 (iPhone7,2)</td>\n",
       "      <td>8379</td>\n",
       "      <td>ES</td>\n",
       "      <td>193.152.35.79</td>\n",
       "      <td>unknown</td>\n",
       "      <td>Lo Siento</td>\n",
       "      <td>Kaydy Cain</td>\n",
       "      <td>Calle Amor</td>\n",
       "      <td>...</td>\n",
       "      <td>None</td>\n",
       "      <td>None</td>\n",
       "      <td>None</td>\n",
       "      <td>trackdone</td>\n",
       "      <td>fwdbtn</td>\n",
       "      <td>False</td>\n",
       "      <td>NaN</td>\n",
       "      <td>True</td>\n",
       "      <td>1531735184645</td>\n",
       "      <td>False</td>\n",
       "    </tr>\n",
       "  </tbody>\n",
       "</table>\n",
       "<p>2 rows × 21 columns</p>\n",
       "</div>"
      ],
      "text/plain": [
       "                     ts   username                                   platform  \\\n",
       "0  2017-04-08T03:34:25Z  javicalde  Android OS 7.0 API 24 (samsung, SM-G935F)   \n",
       "1  2018-07-16T10:19:32Z  javicalde                       iOS 11.4 (iPhone7,2)   \n",
       "\n",
       "   ms_played conn_country ip_addr_decrypted user_agent_decrypted  \\\n",
       "0     149625           ES      37.10.166.26              unknown   \n",
       "1       8379           ES     193.152.35.79              unknown   \n",
       "\n",
       "  master_metadata_track_name master_metadata_album_artist_name  \\\n",
       "0                  Dominator                  Armin van Buuren   \n",
       "1                  Lo Siento                        Kaydy Cain   \n",
       "\n",
       "  master_metadata_album_album_name  ... episode_name episode_show_name  \\\n",
       "0                        Dominator  ...         None              None   \n",
       "1                       Calle Amor  ...         None              None   \n",
       "\n",
       "  spotify_episode_uri reason_start reason_end shuffle  skipped  offline  \\\n",
       "0                None    trackdone  trackdone    True      NaN    False   \n",
       "1                None    trackdone     fwdbtn   False      NaN     True   \n",
       "\n",
       "   offline_timestamp  incognito_mode  \n",
       "0      1491622313381           False  \n",
       "1      1531735184645           False  \n",
       "\n",
       "[2 rows x 21 columns]"
      ]
     },
     "execution_count": 179,
     "metadata": {},
     "output_type": "execute_result"
    }
   ],
   "source": [
    "df_list[0].head(2)"
   ]
  },
  {
   "cell_type": "markdown",
   "id": "8b6ad278",
   "metadata": {},
   "source": [
    "#### <span style=\"background:skyblue\"> Check if all df have the same columns -- check dfs are compatible <span>"
   ]
  },
  {
   "cell_type": "code",
   "execution_count": 180,
   "id": "0075122e",
   "metadata": {},
   "outputs": [
    {
     "name": "stdout",
     "output_type": "stream",
     "text": [
      "All Dataframes have the same elements\n"
     ]
    }
   ],
   "source": [
    "columns_values = []\n",
    "\n",
    "for a in df_list:\n",
    "    columns_values.append(list(a.columns.values))\n",
    "    \n",
    "spot = len(columns_values) -1\n",
    "\n",
    "reference = columns_values[0]\n",
    "for check, i in zip(columns_values[1:], range(spot)):\n",
    "    if check != reference:\n",
    "        print('Dataframes do not have the same elements! - Failed at: ', i+1)\n",
    "        \n",
    "else:\n",
    "    print('All Dataframes have the same elements')"
   ]
  },
  {
   "cell_type": "markdown",
   "id": "ee387620",
   "metadata": {},
   "source": [
    "#### <span style=\"background:skyblue\"> Join Files, Delete Duplicates, Sort them by time stamp and Reset Index <span>"
   ]
  },
  {
   "cell_type": "code",
   "execution_count": 181,
   "id": "5cbec0ba",
   "metadata": {},
   "outputs": [
    {
     "data": {
      "text/plain": [
       "(106767, 21)"
      ]
     },
     "execution_count": 181,
     "metadata": {},
     "output_type": "execute_result"
    }
   ],
   "source": [
    "# Concatenate the data frames into a single data frame\n",
    "df = pd.concat(df_list, ignore_index=True)\n",
    "\n",
    "# Sort the data frame by a specific column\n",
    "df = df.sort_values(by='ts')\n",
    "\n",
    "# Size\n",
    "a = df.shape\n",
    "a"
   ]
  },
  {
   "cell_type": "code",
   "execution_count": 182,
   "id": "bef770ec",
   "metadata": {},
   "outputs": [
    {
     "data": {
      "text/plain": [
       "(106745, 21)"
      ]
     },
     "execution_count": 182,
     "metadata": {},
     "output_type": "execute_result"
    }
   ],
   "source": [
    "# Drop duplicates\n",
    "df.drop_duplicates(inplace=True)\n",
    "\n",
    "# Size\n",
    "b = df.shape\n",
    "b"
   ]
  },
  {
   "cell_type": "code",
   "execution_count": 183,
   "id": "90c4a280",
   "metadata": {},
   "outputs": [
    {
     "data": {
      "text/plain": [
       "22"
      ]
     },
     "execution_count": 183,
     "metadata": {},
     "output_type": "execute_result"
    }
   ],
   "source": [
    "# Difference of original and droped duplicates\n",
    "a[0]-b[0]"
   ]
  },
  {
   "cell_type": "code",
   "execution_count": 184,
   "id": "f0ef7d0d",
   "metadata": {},
   "outputs": [],
   "source": [
    "# Sort the data for dropped values and reset index\n",
    "df = df.sort_values(by='ts')\n",
    "df.reset_index(inplace=True, drop=True)"
   ]
  },
  {
   "cell_type": "code",
   "execution_count": null,
   "id": "62f98b41",
   "metadata": {},
   "outputs": [],
   "source": []
  },
  {
   "cell_type": "markdown",
   "id": "9ee392d9",
   "metadata": {},
   "source": [
    "# <span style='background :khaki' > Data Exploration </span>"
   ]
  },
  {
   "cell_type": "markdown",
   "id": "1d9e2239",
   "metadata": {},
   "source": [
    "### <span style=\"background:lightgreen\"> Understand the data -- Data Inspection <span>"
   ]
  },
  {
   "cell_type": "code",
   "execution_count": 185,
   "id": "a4c405d8",
   "metadata": {},
   "outputs": [
    {
     "data": {
      "text/html": [
       "<div>\n",
       "<style scoped>\n",
       "    .dataframe tbody tr th:only-of-type {\n",
       "        vertical-align: middle;\n",
       "    }\n",
       "\n",
       "    .dataframe tbody tr th {\n",
       "        vertical-align: top;\n",
       "    }\n",
       "\n",
       "    .dataframe thead th {\n",
       "        text-align: right;\n",
       "    }\n",
       "</style>\n",
       "<table border=\"1\" class=\"dataframe\">\n",
       "  <thead>\n",
       "    <tr style=\"text-align: right;\">\n",
       "      <th></th>\n",
       "      <th>ts</th>\n",
       "      <th>username</th>\n",
       "      <th>platform</th>\n",
       "      <th>ms_played</th>\n",
       "      <th>conn_country</th>\n",
       "      <th>ip_addr_decrypted</th>\n",
       "      <th>user_agent_decrypted</th>\n",
       "      <th>master_metadata_track_name</th>\n",
       "      <th>master_metadata_album_artist_name</th>\n",
       "      <th>master_metadata_album_album_name</th>\n",
       "      <th>...</th>\n",
       "      <th>episode_name</th>\n",
       "      <th>episode_show_name</th>\n",
       "      <th>spotify_episode_uri</th>\n",
       "      <th>reason_start</th>\n",
       "      <th>reason_end</th>\n",
       "      <th>shuffle</th>\n",
       "      <th>skipped</th>\n",
       "      <th>offline</th>\n",
       "      <th>offline_timestamp</th>\n",
       "      <th>incognito_mode</th>\n",
       "    </tr>\n",
       "  </thead>\n",
       "  <tbody>\n",
       "    <tr>\n",
       "      <th>0</th>\n",
       "      <td>2015-03-24T10:01:05Z</td>\n",
       "      <td>javicalde</td>\n",
       "      <td>Android OS 5.0 API 21 (samsung, SM-G900F)</td>\n",
       "      <td>51641</td>\n",
       "      <td>ES</td>\n",
       "      <td>79.146.217.142</td>\n",
       "      <td>unknown</td>\n",
       "      <td>El Rito</td>\n",
       "      <td>Gondwana</td>\n",
       "      <td>Reggae N Roll</td>\n",
       "      <td>...</td>\n",
       "      <td>None</td>\n",
       "      <td>None</td>\n",
       "      <td>None</td>\n",
       "      <td>appload</td>\n",
       "      <td>appload</td>\n",
       "      <td>False</td>\n",
       "      <td>1.0</td>\n",
       "      <td>False</td>\n",
       "      <td>0</td>\n",
       "      <td>False</td>\n",
       "    </tr>\n",
       "    <tr>\n",
       "      <th>1</th>\n",
       "      <td>2015-03-24T10:01:39Z</td>\n",
       "      <td>javicalde</td>\n",
       "      <td>Android OS 5.0 API 21 (samsung, SM-G900F)</td>\n",
       "      <td>35572</td>\n",
       "      <td>ES</td>\n",
       "      <td>79.146.217.142</td>\n",
       "      <td>unknown</td>\n",
       "      <td>Can't Stop Dancin' - A.C. Remix</td>\n",
       "      <td>Becky G</td>\n",
       "      <td>Can't Stop Dancin'</td>\n",
       "      <td>...</td>\n",
       "      <td>None</td>\n",
       "      <td>None</td>\n",
       "      <td>None</td>\n",
       "      <td>appload</td>\n",
       "      <td>appload</td>\n",
       "      <td>False</td>\n",
       "      <td>1.0</td>\n",
       "      <td>False</td>\n",
       "      <td>0</td>\n",
       "      <td>False</td>\n",
       "    </tr>\n",
       "  </tbody>\n",
       "</table>\n",
       "<p>2 rows × 21 columns</p>\n",
       "</div>"
      ],
      "text/plain": [
       "                     ts   username                                   platform  \\\n",
       "0  2015-03-24T10:01:05Z  javicalde  Android OS 5.0 API 21 (samsung, SM-G900F)   \n",
       "1  2015-03-24T10:01:39Z  javicalde  Android OS 5.0 API 21 (samsung, SM-G900F)   \n",
       "\n",
       "   ms_played conn_country ip_addr_decrypted user_agent_decrypted  \\\n",
       "0      51641           ES    79.146.217.142              unknown   \n",
       "1      35572           ES    79.146.217.142              unknown   \n",
       "\n",
       "        master_metadata_track_name master_metadata_album_artist_name  \\\n",
       "0                          El Rito                          Gondwana   \n",
       "1  Can't Stop Dancin' - A.C. Remix                           Becky G   \n",
       "\n",
       "  master_metadata_album_album_name  ... episode_name episode_show_name  \\\n",
       "0                    Reggae N Roll  ...         None              None   \n",
       "1               Can't Stop Dancin'  ...         None              None   \n",
       "\n",
       "  spotify_episode_uri reason_start reason_end shuffle  skipped  offline  \\\n",
       "0                None      appload    appload   False      1.0    False   \n",
       "1                None      appload    appload   False      1.0    False   \n",
       "\n",
       "   offline_timestamp  incognito_mode  \n",
       "0                  0           False  \n",
       "1                  0           False  \n",
       "\n",
       "[2 rows x 21 columns]"
      ]
     },
     "execution_count": 185,
     "metadata": {},
     "output_type": "execute_result"
    }
   ],
   "source": [
    "df.head(2)"
   ]
  },
  {
   "cell_type": "code",
   "execution_count": 186,
   "id": "81492c58",
   "metadata": {},
   "outputs": [
    {
     "name": "stdout",
     "output_type": "stream",
     "text": [
      "<class 'pandas.core.frame.DataFrame'>\n",
      "RangeIndex: 106745 entries, 0 to 106744\n",
      "Data columns (total 21 columns):\n",
      " #   Column                             Non-Null Count   Dtype  \n",
      "---  ------                             --------------   -----  \n",
      " 0   ts                                 106745 non-null  object \n",
      " 1   username                           106745 non-null  object \n",
      " 2   platform                           106745 non-null  object \n",
      " 3   ms_played                          106745 non-null  int64  \n",
      " 4   conn_country                       106745 non-null  object \n",
      " 5   ip_addr_decrypted                  106745 non-null  object \n",
      " 6   user_agent_decrypted               106181 non-null  object \n",
      " 7   master_metadata_track_name         106611 non-null  object \n",
      " 8   master_metadata_album_artist_name  106611 non-null  object \n",
      " 9   master_metadata_album_album_name   106611 non-null  object \n",
      " 10  spotify_track_uri                  106611 non-null  object \n",
      " 11  episode_name                       129 non-null     object \n",
      " 12  episode_show_name                  129 non-null     object \n",
      " 13  spotify_episode_uri                129 non-null     object \n",
      " 14  reason_start                       106745 non-null  object \n",
      " 15  reason_end                         106745 non-null  object \n",
      " 16  shuffle                            106745 non-null  bool   \n",
      " 17  skipped                            7113 non-null    float64\n",
      " 18  offline                            106745 non-null  bool   \n",
      " 19  offline_timestamp                  106745 non-null  int64  \n",
      " 20  incognito_mode                     106745 non-null  bool   \n",
      "dtypes: bool(3), float64(1), int64(2), object(15)\n",
      "memory usage: 15.0+ MB\n"
     ]
    }
   ],
   "source": [
    "# Null & No Null Value count, Tipe of variable \n",
    "df.info()"
   ]
  },
  {
   "cell_type": "code",
   "execution_count": 187,
   "id": "799082ef",
   "metadata": {},
   "outputs": [
    {
     "data": {
      "text/html": [
       "<div>\n",
       "<style scoped>\n",
       "    .dataframe tbody tr th:only-of-type {\n",
       "        vertical-align: middle;\n",
       "    }\n",
       "\n",
       "    .dataframe tbody tr th {\n",
       "        vertical-align: top;\n",
       "    }\n",
       "\n",
       "    .dataframe thead th {\n",
       "        text-align: right;\n",
       "    }\n",
       "</style>\n",
       "<table border=\"1\" class=\"dataframe\">\n",
       "  <thead>\n",
       "    <tr style=\"text-align: right;\">\n",
       "      <th></th>\n",
       "      <th>ms_played</th>\n",
       "      <th>skipped</th>\n",
       "      <th>offline_timestamp</th>\n",
       "    </tr>\n",
       "  </thead>\n",
       "  <tbody>\n",
       "    <tr>\n",
       "      <th>count</th>\n",
       "      <td>1.067450e+05</td>\n",
       "      <td>7113.000000</td>\n",
       "      <td>1.067450e+05</td>\n",
       "    </tr>\n",
       "    <tr>\n",
       "      <th>mean</th>\n",
       "      <td>1.464133e+05</td>\n",
       "      <td>0.472375</td>\n",
       "      <td>1.432552e+12</td>\n",
       "    </tr>\n",
       "    <tr>\n",
       "      <th>std</th>\n",
       "      <td>1.299455e+05</td>\n",
       "      <td>0.499271</td>\n",
       "      <td>4.563620e+11</td>\n",
       "    </tr>\n",
       "    <tr>\n",
       "      <th>min</th>\n",
       "      <td>0.000000e+00</td>\n",
       "      <td>0.000000</td>\n",
       "      <td>0.000000e+00</td>\n",
       "    </tr>\n",
       "    <tr>\n",
       "      <th>25%</th>\n",
       "      <td>1.989600e+04</td>\n",
       "      <td>0.000000</td>\n",
       "      <td>1.527582e+12</td>\n",
       "    </tr>\n",
       "    <tr>\n",
       "      <th>50%</th>\n",
       "      <td>1.618660e+05</td>\n",
       "      <td>0.000000</td>\n",
       "      <td>1.571566e+12</td>\n",
       "    </tr>\n",
       "    <tr>\n",
       "      <th>75%</th>\n",
       "      <td>2.141260e+05</td>\n",
       "      <td>1.000000</td>\n",
       "      <td>1.602674e+12</td>\n",
       "    </tr>\n",
       "    <tr>\n",
       "      <th>max</th>\n",
       "      <td>1.084291e+07</td>\n",
       "      <td>1.000000</td>\n",
       "      <td>1.669329e+12</td>\n",
       "    </tr>\n",
       "  </tbody>\n",
       "</table>\n",
       "</div>"
      ],
      "text/plain": [
       "          ms_played      skipped  offline_timestamp\n",
       "count  1.067450e+05  7113.000000       1.067450e+05\n",
       "mean   1.464133e+05     0.472375       1.432552e+12\n",
       "std    1.299455e+05     0.499271       4.563620e+11\n",
       "min    0.000000e+00     0.000000       0.000000e+00\n",
       "25%    1.989600e+04     0.000000       1.527582e+12\n",
       "50%    1.618660e+05     0.000000       1.571566e+12\n",
       "75%    2.141260e+05     1.000000       1.602674e+12\n",
       "max    1.084291e+07     1.000000       1.669329e+12"
      ]
     },
     "execution_count": 187,
     "metadata": {},
     "output_type": "execute_result"
    }
   ],
   "source": [
    "# Count, mean, std, min, max and percentiles\n",
    "df.describe()"
   ]
  },
  {
   "cell_type": "markdown",
   "id": "2adbcca5",
   "metadata": {},
   "source": [
    "# <span style='background :khaki' >  Cleaning the data <span>"
   ]
  },
  {
   "cell_type": "markdown",
   "id": "ea774a50",
   "metadata": {},
   "source": [
    "We cant drop nan values because some columns that are conected to others -- Song info (3 cols) and Podcast info (3 cols)\n",
    "\n",
    "Because of this, we are going first to join them in only one grop of 3 columns"
   ]
  },
  {
   "cell_type": "markdown",
   "id": "4c725367",
   "metadata": {},
   "source": [
    "### <span style=\"background:lightgreen\"> Join Podcast and Songs Columns </span>"
   ]
  },
  {
   "cell_type": "code",
   "execution_count": 188,
   "id": "d03efd03",
   "metadata": {},
   "outputs": [],
   "source": [
    "# Get Podcast Index List\n",
    "podcast_index = df['episode_name'].dropna().to_frame().index\n",
    "#podcast_index\n",
    "\n",
    "df['is_song'] = 1\n",
    "df['is_podcast'] = 0\n",
    "\n",
    "for i in podcast_index:\n",
    "    df.loc[i, 'is_song'] = 0\n",
    "    df.loc[i, 'is_podcast'] = 1\n",
    "    df.loc[i, 'master_metadata_track_name'] = df.loc[i, 'episode_name']\n",
    "    df.loc[i, 'master_metadata_album_artist_name'] = df.loc[i, 'episode_show_name']\n",
    "    df.loc[i, 'master_metadata_album_album_name'] = df.loc[i, 'episode_show_name']\n",
    "    df.loc[i, 'spotify_track_uri'] = df.loc[i, 'spotify_episode_uri']"
   ]
  },
  {
   "cell_type": "markdown",
   "id": "2cd6d968",
   "metadata": {},
   "source": [
    "### <span style=\"background:lightgreen\"> Delete Columns with too many nan values -- 5% Criteria </span>"
   ]
  },
  {
   "cell_type": "code",
   "execution_count": 189,
   "id": "7e19eda7",
   "metadata": {},
   "outputs": [
    {
     "name": "stdout",
     "output_type": "stream",
     "text": [
      "Dropping column episode_name --Too many NaN Values\n",
      "Dropping column episode_show_name --Too many NaN Values\n",
      "Dropping column spotify_episode_uri --Too many NaN Values\n",
      "<class 'pandas.core.frame.DataFrame'>\n",
      "RangeIndex: 106745 entries, 0 to 106744\n",
      "Data columns (total 20 columns):\n",
      " #   Column                             Non-Null Count   Dtype  \n",
      "---  ------                             --------------   -----  \n",
      " 0   ts                                 106745 non-null  object \n",
      " 1   username                           106745 non-null  object \n",
      " 2   platform                           106745 non-null  object \n",
      " 3   ms_played                          106745 non-null  int64  \n",
      " 4   conn_country                       106745 non-null  object \n",
      " 5   ip_addr_decrypted                  106745 non-null  object \n",
      " 6   user_agent_decrypted               106181 non-null  object \n",
      " 7   master_metadata_track_name         106740 non-null  object \n",
      " 8   master_metadata_album_artist_name  106740 non-null  object \n",
      " 9   master_metadata_album_album_name   106740 non-null  object \n",
      " 10  spotify_track_uri                  106740 non-null  object \n",
      " 11  reason_start                       106745 non-null  object \n",
      " 12  reason_end                         106745 non-null  object \n",
      " 13  shuffle                            106745 non-null  bool   \n",
      " 14  skipped                            7113 non-null    float64\n",
      " 15  offline                            106745 non-null  bool   \n",
      " 16  offline_timestamp                  106745 non-null  int64  \n",
      " 17  incognito_mode                     106745 non-null  bool   \n",
      " 18  is_song                            106745 non-null  int64  \n",
      " 19  is_podcast                         106745 non-null  int64  \n",
      "dtypes: bool(3), float64(1), int64(4), object(12)\n",
      "memory usage: 14.2+ MB\n"
     ]
    },
    {
     "data": {
      "text/plain": [
       "5337.25"
      ]
     },
     "execution_count": 189,
     "metadata": {},
     "output_type": "execute_result"
    }
   ],
   "source": [
    "### ***Data has importance if > 5% != Nan ***\n",
    "thresh = (df.shape[0]*5)/100\n",
    "#print(thresh)\n",
    "\n",
    "### ***Check What columns are useless - too many null values***\n",
    "column_header = list(df.columns.values)\n",
    "for c in column_header:\n",
    "    if (df[c].notna().sum() < thresh):\n",
    "        print('Dropping column', c, '--Too many NaN Values')\n",
    "        df.drop(c, inplace=True, axis=1)\n",
    "\n",
    "df.info()\n",
    "thresh"
   ]
  },
  {
   "cell_type": "markdown",
   "id": "bd9b8d7e",
   "metadata": {},
   "source": [
    "### <span style=\"background:lightgreen\"> Treatin Columns and Dropping Useless ones </span>"
   ]
  },
  {
   "cell_type": "code",
   "execution_count": 190,
   "id": "abcfd047",
   "metadata": {},
   "outputs": [],
   "source": [
    "### Imporant Values By Unique Values\n",
    "# Get new Column Name Values\n",
    "column_names = df.columns.values\n",
    "\n",
    "# Threshold for values evaluation 0,5% ***\n",
    "th_2 = (df.shape[0]*0.05)/100\n",
    "\n",
    "# Save\n",
    "unique_values_count = []\n",
    "for i in range(len(df.nunique())):\n",
    "    if(df.nunique()[i] < th_2):\n",
    "        unique_values_count.append(df[column_names[i]].value_counts())"
   ]
  },
  {
   "cell_type": "markdown",
   "id": "45976357",
   "metadata": {},
   "source": [
    "#### <span style=\"background:skyblue\"> Get Columns Info for a better evaluation </span>"
   ]
  },
  {
   "cell_type": "code",
   "execution_count": 191,
   "id": "1ab9d0f2",
   "metadata": {},
   "outputs": [
    {
     "name": "stdout",
     "output_type": "stream",
     "text": [
      "javicalde    106745\n",
      "Name: username, dtype: int64\n",
      "\n",
      "\n",
      "Android-tablet OS 10 API 29 (Xiaomi, Mi A3)                                                      15547\n",
      "Android OS 11 API 30 (samsung, SM-N770F)                                                         12842\n",
      "Android OS 9 API 28 (Xiaomi, Mi A3)                                                               9411\n",
      "Android OS 12 API 31 (samsung, SM-N770F)                                                          7546\n",
      "Android-tablet OS 7.0 API 24 (samsung, SM-G935F)                                                  6149\n",
      "iOS 12.1.4 (iPhone7,2)                                                                            4980\n",
      "iOS 12.1 (iPhone7,2)                                                                              4617\n",
      "Android-tablet OS 9 API 28 (Xiaomi, Mi A3)                                                        4477\n",
      "iOS 11.4.1 (iPhone7,2)                                                                            4238\n",
      "Android OS 7.0 API 24 (samsung, SM-G935F)                                                         4123\n",
      "iOS 12.3.1 (iPhone7,2)                                                                            3513\n",
      "Android OS 10 API 29 (samsung, SM-N770F)                                                          3427\n",
      "iOS 11.4 (iPhone7,2)                                                                              3113\n",
      "iOS 11.2.6 (iPhone7,2)                                                                            2567\n",
      "iOS 12.2 (iPhone7,2)                                                                              2190\n",
      "Partner amazon_salmon Amazon;Echo_Dot;27d4dfe427b34d57995b463e5d63198d;;tpapi                     2071\n",
      "Windows 10 (10.0.18362; x64)                                                                      1543\n",
      "iOS 11.1.2 (iPhone7,2)                                                                            1455\n",
      "iOS 11.1.2 (iPhone8,4)                                                                            1402\n",
      "iOS 11.2.2 (iPhone7,2)                                                                            1357\n",
      "iOS 11.3.1 (iPhone7,2)                                                                            1247\n",
      "iOS 11.3 (iPhone7,2)                                                                              1190\n",
      "iOS 11.0.3 (iPhone7,2)                                                                            1125\n",
      "iOS 11.2.5 (iPhone7,2)                                                                            1069\n",
      "Partner SCEI sony_tv;ps4;;                                                                         725\n",
      "Android OS 10 API 29 (Xiaomi, Mi A3)                                                               720\n",
      "iOS 11.0.3 (iPhone8,4)                                                                             605\n",
      "Android OS 5.0 API 21 (samsung, SM-G900F)                                                          450\n",
      "iOS 11.1.1 (iPhone7,2)                                                                             376\n",
      "Windows 10 (10.0.22000; x64)                                                                       344\n",
      "iOS 12.4 (iPhone7,2)                                                                               254\n",
      "Windows 10 (10.0.17134; x64)                                                                       231\n",
      "Windows 10 (10.0.19041; x64)                                                                       206\n",
      "Windows 10 (10.0.16299; x64)                                                                       196\n",
      "iOS 11.2.1 (iPhone8,4)                                                                             193\n",
      "iOS 10.3.3 (iPhone8,4)                                                                             177\n",
      "Windows 10 (10.0.18362; x64; AppX)                                                                 158\n",
      "Windows 10 (10.0.19043; x64)                                                                       148\n",
      "Partner algoriddim_ios Algoriddim;djay;d078baefabaa408cadb7d5a2ae0eddd3;;tpapi                     147\n",
      "iOS 11.1.1 (iPhone8,4)                                                                             123\n",
      "iOS 11.2.1 (iPhone7,2)                                                                             107\n",
      "Android OS 4.1.2 API 16 (samsung, GT-I9100)                                                        107\n",
      "iOS 6.1.6 (iPod4,1)                                                                                 80\n",
      "Partner sonos_imx6 Sonos;Play5;;;                                                                   51\n",
      "web_player windows 10;chrome 105.0.0.0;desktop                                                      44\n",
      "Partner algoriddim_android_armv7 Algoriddim;djay-FREE;d078baefabaa408cadb7d5a2ae0eddd3;;tpapi       29\n",
      "Android OS 5.1 API 22 (HUAWEI, HUAWEI RIO-L01)                                                      23\n",
      "Android OS 6.0.1 API 23 (samsung, SM-G935F)                                                         20\n",
      "Partner android_sdk XIAOMI;mi_a3;cb34f7ce080241568038a6fe6b03e394;9_arm64-v8a                       16\n",
      "Android-tablet OS 4.4.4 API 19 (samsung, SM-T560)                                                    5\n",
      "Android OS 6.0.1 API 23 (samsung, SM-G900F)                                                          5\n",
      "Partner samsung_tv_arm-v7a8v3r1-20121018 samsung_tv;tv_                                              3\n",
      "Partner ios_sdk Apple;iPhone7.2;7e91af2342ad4d619950799f466cde20;11.2.5                              3\n",
      "Name: platform, dtype: int64\n",
      "\n",
      "\n",
      "ES    105549\n",
      "MX       373\n",
      "IT       320\n",
      "ZZ       176\n",
      "DE        80\n",
      "NL        60\n",
      "CH        44\n",
      "NO        39\n",
      "FR        39\n",
      "AD        30\n",
      "AF        25\n",
      "--        10\n",
      "Name: conn_country, dtype: int64\n",
      "\n",
      "\n",
      "unknown     104454\n",
      "57802814      1551\n",
      "54198287       154\n",
      "55115833        22\n",
      "Name: user_agent_decrypted, dtype: int64\n",
      "\n",
      "\n",
      "trackdone     55483\n",
      "clickrow      20500\n",
      "fwdbtn        20352\n",
      "backbtn        4097\n",
      "playbtn        2630\n",
      "appload        2148\n",
      "remote          920\n",
      "                497\n",
      "trackerror      109\n",
      "unknown           6\n",
      "endplay           3\n",
      "Name: reason_start, dtype: int64\n",
      "\n",
      "\n",
      "trackdone                       57095\n",
      "fwdbtn                          20393\n",
      "endplay                         15357\n",
      "logout                           5637\n",
      "backbtn                          3995\n",
      "unexpected-exit-while-paused     3046\n",
      "                                  487\n",
      "remote                            430\n",
      "unexpected-exit                   215\n",
      "unknown                            56\n",
      "trackerror                         30\n",
      "appload                             2\n",
      "clickrow                            2\n",
      "Name: reason_end, dtype: int64\n",
      "\n",
      "\n",
      "False    76537\n",
      "True     30208\n",
      "Name: shuffle, dtype: int64\n",
      "\n",
      "\n",
      "0.0    3753\n",
      "1.0    3360\n",
      "Name: skipped, dtype: int64\n",
      "\n",
      "\n",
      "False    102229\n",
      "True       4516\n",
      "Name: offline, dtype: int64\n",
      "\n",
      "\n",
      "False    106724\n",
      "True         21\n",
      "Name: incognito_mode, dtype: int64\n",
      "\n",
      "\n",
      "1    106616\n",
      "0       129\n",
      "Name: is_song, dtype: int64\n",
      "\n",
      "\n",
      "0    106616\n",
      "1       129\n",
      "Name: is_podcast, dtype: int64\n",
      "\n",
      "\n"
     ]
    }
   ],
   "source": [
    "for u in unique_values_count:\n",
    "    print(u)\n",
    "    print('\\n')"
   ]
  },
  {
   "cell_type": "markdown",
   "id": "a0aca2c9",
   "metadata": {},
   "source": [
    "#### <span style=\"background:skyblue\"> Drop Useless Columns </span>"
   ]
  },
  {
   "cell_type": "code",
   "execution_count": 192,
   "id": "01235fd4",
   "metadata": {},
   "outputs": [],
   "source": [
    "# skipped - Incomplete Information\n",
    "df.drop('skipped', inplace=True, axis=1)\n",
    "# Username seams unecessary - only one value\n",
    "df.drop('username', inplace=True, axis=1)"
   ]
  },
  {
   "cell_type": "code",
   "execution_count": 193,
   "id": "0cf5825d",
   "metadata": {},
   "outputs": [],
   "source": [
    "# conn_country seams irrelevant - 1 week time travel - 93 sonsgs = 0,2% total \n",
    "df.drop('conn_country', inplace=True, axis=1)"
   ]
  },
  {
   "cell_type": "code",
   "execution_count": 194,
   "id": "0359f52e",
   "metadata": {},
   "outputs": [],
   "source": [
    "# ip_addr_decrypted is irrelevant\n",
    "df.drop('ip_addr_decrypted', inplace=True, axis=1)"
   ]
  },
  {
   "cell_type": "code",
   "execution_count": 195,
   "id": "7d63519f",
   "metadata": {},
   "outputs": [],
   "source": [
    "# user_agent_decrypted - only 50 results the other are unknown = NaN - useless\n",
    "df.drop('user_agent_decrypted', inplace=True, axis=1)"
   ]
  },
  {
   "cell_type": "code",
   "execution_count": 196,
   "id": "3142669e",
   "metadata": {},
   "outputs": [],
   "source": [
    "# Last 4 columns are useless for our propourse\n",
    "df.drop('shuffle', inplace=True, axis=1)\n",
    "df.drop('offline', inplace=True, axis=1)\n",
    "df.drop('offline_timestamp', inplace=True, axis=1)\n",
    "df.drop('incognito_mode', inplace=True, axis=1)"
   ]
  },
  {
   "cell_type": "markdown",
   "id": "1d830298",
   "metadata": {},
   "source": [
    "#### <span style=\"background:skyblue\"> Other Drop Info Criteria -- Search link spotify only tearts 30s or longer listened </span>"
   ]
  },
  {
   "cell_type": "code",
   "execution_count": 197,
   "id": "bd5cdae8",
   "metadata": {},
   "outputs": [],
   "source": [
    "# Replace songs that were listened less than 12s\n",
    "ix = df.loc[df['ms_played'] <= 12000].index\n",
    "df = df.drop(labels=ix, axis=0)"
   ]
  },
  {
   "cell_type": "markdown",
   "id": "48ba80f9",
   "metadata": {},
   "source": [
    "#### <span style=\"background:skyblue\"> Reset Index after Operations </span>"
   ]
  },
  {
   "cell_type": "code",
   "execution_count": 198,
   "id": "5695f121",
   "metadata": {},
   "outputs": [
    {
     "data": {
      "text/html": [
       "<div>\n",
       "<style scoped>\n",
       "    .dataframe tbody tr th:only-of-type {\n",
       "        vertical-align: middle;\n",
       "    }\n",
       "\n",
       "    .dataframe tbody tr th {\n",
       "        vertical-align: top;\n",
       "    }\n",
       "\n",
       "    .dataframe thead th {\n",
       "        text-align: right;\n",
       "    }\n",
       "</style>\n",
       "<table border=\"1\" class=\"dataframe\">\n",
       "  <thead>\n",
       "    <tr style=\"text-align: right;\">\n",
       "      <th></th>\n",
       "      <th>ts</th>\n",
       "      <th>platform</th>\n",
       "      <th>ms_played</th>\n",
       "      <th>master_metadata_track_name</th>\n",
       "      <th>master_metadata_album_artist_name</th>\n",
       "      <th>master_metadata_album_album_name</th>\n",
       "      <th>spotify_track_uri</th>\n",
       "      <th>reason_start</th>\n",
       "      <th>reason_end</th>\n",
       "      <th>is_song</th>\n",
       "      <th>is_podcast</th>\n",
       "    </tr>\n",
       "  </thead>\n",
       "  <tbody>\n",
       "    <tr>\n",
       "      <th>0</th>\n",
       "      <td>2015-03-24T10:01:05Z</td>\n",
       "      <td>Android OS 5.0 API 21 (samsung, SM-G900F)</td>\n",
       "      <td>51641</td>\n",
       "      <td>El Rito</td>\n",
       "      <td>Gondwana</td>\n",
       "      <td>Reggae N Roll</td>\n",
       "      <td>spotify:track:1MCWWh9fTfr4Ba2hdNHbkI</td>\n",
       "      <td>appload</td>\n",
       "      <td>appload</td>\n",
       "      <td>1</td>\n",
       "      <td>0</td>\n",
       "    </tr>\n",
       "    <tr>\n",
       "      <th>1</th>\n",
       "      <td>2015-03-24T10:01:39Z</td>\n",
       "      <td>Android OS 5.0 API 21 (samsung, SM-G900F)</td>\n",
       "      <td>35572</td>\n",
       "      <td>Can't Stop Dancin' - A.C. Remix</td>\n",
       "      <td>Becky G</td>\n",
       "      <td>Can't Stop Dancin'</td>\n",
       "      <td>spotify:track:798lmMNZ8Z9bfq2Ygsu5Pf</td>\n",
       "      <td>appload</td>\n",
       "      <td>appload</td>\n",
       "      <td>1</td>\n",
       "      <td>0</td>\n",
       "    </tr>\n",
       "    <tr>\n",
       "      <th>2</th>\n",
       "      <td>2015-03-24T10:02:19Z</td>\n",
       "      <td>Android OS 5.0 API 21 (samsung, SM-G900F)</td>\n",
       "      <td>40495</td>\n",
       "      <td>Mal De Amores</td>\n",
       "      <td>Juan Magán</td>\n",
       "      <td>Mal De Amores</td>\n",
       "      <td>spotify:track:3qblRaS6LNQlfr2iFdisRh</td>\n",
       "      <td>appload</td>\n",
       "      <td>fwdbtn</td>\n",
       "      <td>1</td>\n",
       "      <td>0</td>\n",
       "    </tr>\n",
       "  </tbody>\n",
       "</table>\n",
       "</div>"
      ],
      "text/plain": [
       "                     ts                                   platform  ms_played  \\\n",
       "0  2015-03-24T10:01:05Z  Android OS 5.0 API 21 (samsung, SM-G900F)      51641   \n",
       "1  2015-03-24T10:01:39Z  Android OS 5.0 API 21 (samsung, SM-G900F)      35572   \n",
       "2  2015-03-24T10:02:19Z  Android OS 5.0 API 21 (samsung, SM-G900F)      40495   \n",
       "\n",
       "        master_metadata_track_name master_metadata_album_artist_name  \\\n",
       "0                          El Rito                          Gondwana   \n",
       "1  Can't Stop Dancin' - A.C. Remix                           Becky G   \n",
       "2                    Mal De Amores                        Juan Magán   \n",
       "\n",
       "  master_metadata_album_album_name                     spotify_track_uri  \\\n",
       "0                    Reggae N Roll  spotify:track:1MCWWh9fTfr4Ba2hdNHbkI   \n",
       "1               Can't Stop Dancin'  spotify:track:798lmMNZ8Z9bfq2Ygsu5Pf   \n",
       "2                    Mal De Amores  spotify:track:3qblRaS6LNQlfr2iFdisRh   \n",
       "\n",
       "  reason_start reason_end  is_song  is_podcast  \n",
       "0      appload    appload        1           0  \n",
       "1      appload    appload        1           0  \n",
       "2      appload     fwdbtn        1           0  "
      ]
     },
     "execution_count": 198,
     "metadata": {},
     "output_type": "execute_result"
    }
   ],
   "source": [
    "# Reset index after operations\n",
    "df = df.sort_values('ts')\n",
    "df.reset_index(inplace=True, drop=True)\n",
    "df.head(3)"
   ]
  },
  {
   "cell_type": "markdown",
   "id": "4cd3d0e6",
   "metadata": {},
   "source": [
    "#### <span style=\"background:skyblue\"> Transform Usefull Columns </span>"
   ]
  },
  {
   "cell_type": "code",
   "execution_count": 199,
   "id": "c623ef8c",
   "metadata": {},
   "outputs": [],
   "source": [
    "# Platform - Split into Categories:\n",
    "#Phone = 'iOS' / 'Android'\n",
    "#Computer = 'windows' / 'web' / 'linux' / 'mac'\n",
    "#Devise = 'Amazon' / 'tv' / 'Partner' /\n",
    "\n",
    "df['platform'] = df['platform'].apply(lambda x : 'Phone' if ('iOS' in x or\n",
    "                                                               'Android' in x)\n",
    "                                      else(\n",
    "                                      'Computer' if ('Windows' in x or\n",
    "                                                    'web' in x)\n",
    "                                          else(\n",
    "                                          'Devise' if ('Amazon' in x or\n",
    "                                                      'tv' in x or\n",
    "                                                      'Partner' in x)\n",
    "                                              else('other')\n",
    "                                          )))"
   ]
  },
  {
   "cell_type": "code",
   "execution_count": 200,
   "id": "991580a4",
   "metadata": {},
   "outputs": [
    {
     "data": {
      "text/plain": [
       "array(['Phone', 'Devise', 'Computer'], dtype=object)"
      ]
     },
     "execution_count": 200,
     "metadata": {},
     "output_type": "execute_result"
    }
   ],
   "source": [
    "df['platform'].unique()"
   ]
  },
  {
   "cell_type": "markdown",
   "id": "f4dea7cc",
   "metadata": {},
   "source": [
    "### <span style=\"background:lightgreen\"> Handling missing or Nan Values <span>"
   ]
  },
  {
   "cell_type": "code",
   "execution_count": 201,
   "id": "d0203612",
   "metadata": {},
   "outputs": [
    {
     "data": {
      "text/plain": [
       "ts                                   0\n",
       "platform                             0\n",
       "ms_played                            0\n",
       "master_metadata_track_name           0\n",
       "master_metadata_album_artist_name    0\n",
       "master_metadata_album_album_name     0\n",
       "spotify_track_uri                    0\n",
       "reason_start                         0\n",
       "reason_end                           0\n",
       "is_song                              0\n",
       "is_podcast                           0\n",
       "dtype: int64"
      ]
     },
     "execution_count": 201,
     "metadata": {},
     "output_type": "execute_result"
    }
   ],
   "source": [
    "df.isnull().sum()"
   ]
  },
  {
   "cell_type": "code",
   "execution_count": 202,
   "id": "0e31d914",
   "metadata": {},
   "outputs": [],
   "source": [
    "# Only Remove Important Nan Values\n",
    "df.dropna(subset = [\"master_metadata_track_name\"], inplace=True)"
   ]
  },
  {
   "cell_type": "code",
   "execution_count": 203,
   "id": "355f9e72",
   "metadata": {},
   "outputs": [
    {
     "data": {
      "text/plain": [
       "ts                                   0\n",
       "platform                             0\n",
       "ms_played                            0\n",
       "master_metadata_track_name           0\n",
       "master_metadata_album_artist_name    0\n",
       "master_metadata_album_album_name     0\n",
       "spotify_track_uri                    0\n",
       "reason_start                         0\n",
       "reason_end                           0\n",
       "is_song                              0\n",
       "is_podcast                           0\n",
       "dtype: int64"
      ]
     },
     "execution_count": 203,
     "metadata": {},
     "output_type": "execute_result"
    }
   ],
   "source": [
    "df.isnull().sum()"
   ]
  },
  {
   "cell_type": "code",
   "execution_count": 204,
   "id": "a21ebecb",
   "metadata": {},
   "outputs": [
    {
     "data": {
      "text/html": [
       "<div>\n",
       "<style scoped>\n",
       "    .dataframe tbody tr th:only-of-type {\n",
       "        vertical-align: middle;\n",
       "    }\n",
       "\n",
       "    .dataframe tbody tr th {\n",
       "        vertical-align: top;\n",
       "    }\n",
       "\n",
       "    .dataframe thead th {\n",
       "        text-align: right;\n",
       "    }\n",
       "</style>\n",
       "<table border=\"1\" class=\"dataframe\">\n",
       "  <thead>\n",
       "    <tr style=\"text-align: right;\">\n",
       "      <th></th>\n",
       "      <th>ts</th>\n",
       "      <th>platform</th>\n",
       "      <th>ms_played</th>\n",
       "      <th>master_metadata_track_name</th>\n",
       "      <th>master_metadata_album_artist_name</th>\n",
       "      <th>master_metadata_album_album_name</th>\n",
       "      <th>spotify_track_uri</th>\n",
       "      <th>reason_start</th>\n",
       "      <th>reason_end</th>\n",
       "      <th>is_song</th>\n",
       "      <th>is_podcast</th>\n",
       "    </tr>\n",
       "  </thead>\n",
       "  <tbody>\n",
       "    <tr>\n",
       "      <th>0</th>\n",
       "      <td>2015-03-24T10:01:05Z</td>\n",
       "      <td>Phone</td>\n",
       "      <td>51641</td>\n",
       "      <td>El Rito</td>\n",
       "      <td>Gondwana</td>\n",
       "      <td>Reggae N Roll</td>\n",
       "      <td>spotify:track:1MCWWh9fTfr4Ba2hdNHbkI</td>\n",
       "      <td>appload</td>\n",
       "      <td>appload</td>\n",
       "      <td>1</td>\n",
       "      <td>0</td>\n",
       "    </tr>\n",
       "    <tr>\n",
       "      <th>1</th>\n",
       "      <td>2015-03-24T10:01:39Z</td>\n",
       "      <td>Phone</td>\n",
       "      <td>35572</td>\n",
       "      <td>Can't Stop Dancin' - A.C. Remix</td>\n",
       "      <td>Becky G</td>\n",
       "      <td>Can't Stop Dancin'</td>\n",
       "      <td>spotify:track:798lmMNZ8Z9bfq2Ygsu5Pf</td>\n",
       "      <td>appload</td>\n",
       "      <td>appload</td>\n",
       "      <td>1</td>\n",
       "      <td>0</td>\n",
       "    </tr>\n",
       "    <tr>\n",
       "      <th>2</th>\n",
       "      <td>2015-03-24T10:02:19Z</td>\n",
       "      <td>Phone</td>\n",
       "      <td>40495</td>\n",
       "      <td>Mal De Amores</td>\n",
       "      <td>Juan Magán</td>\n",
       "      <td>Mal De Amores</td>\n",
       "      <td>spotify:track:3qblRaS6LNQlfr2iFdisRh</td>\n",
       "      <td>appload</td>\n",
       "      <td>fwdbtn</td>\n",
       "      <td>1</td>\n",
       "      <td>0</td>\n",
       "    </tr>\n",
       "  </tbody>\n",
       "</table>\n",
       "</div>"
      ],
      "text/plain": [
       "                     ts platform  ms_played       master_metadata_track_name  \\\n",
       "0  2015-03-24T10:01:05Z    Phone      51641                          El Rito   \n",
       "1  2015-03-24T10:01:39Z    Phone      35572  Can't Stop Dancin' - A.C. Remix   \n",
       "2  2015-03-24T10:02:19Z    Phone      40495                    Mal De Amores   \n",
       "\n",
       "  master_metadata_album_artist_name master_metadata_album_album_name  \\\n",
       "0                          Gondwana                    Reggae N Roll   \n",
       "1                           Becky G               Can't Stop Dancin'   \n",
       "2                        Juan Magán                    Mal De Amores   \n",
       "\n",
       "                      spotify_track_uri reason_start reason_end  is_song  \\\n",
       "0  spotify:track:1MCWWh9fTfr4Ba2hdNHbkI      appload    appload        1   \n",
       "1  spotify:track:798lmMNZ8Z9bfq2Ygsu5Pf      appload    appload        1   \n",
       "2  spotify:track:3qblRaS6LNQlfr2iFdisRh      appload     fwdbtn        1   \n",
       "\n",
       "   is_podcast  \n",
       "0           0  \n",
       "1           0  \n",
       "2           0  "
      ]
     },
     "execution_count": 204,
     "metadata": {},
     "output_type": "execute_result"
    }
   ],
   "source": [
    "# Reset index after operations\n",
    "df = df.sort_values('ts')\n",
    "df.reset_index(inplace=True, drop=True)\n",
    "df.head(3)"
   ]
  },
  {
   "cell_type": "code",
   "execution_count": 205,
   "id": "28b3ef8b",
   "metadata": {},
   "outputs": [
    {
     "name": "stdout",
     "output_type": "stream",
     "text": [
      "<class 'pandas.core.frame.DataFrame'>\n",
      "RangeIndex: 82740 entries, 0 to 82739\n",
      "Data columns (total 11 columns):\n",
      " #   Column                             Non-Null Count  Dtype \n",
      "---  ------                             --------------  ----- \n",
      " 0   ts                                 82740 non-null  object\n",
      " 1   platform                           82740 non-null  object\n",
      " 2   ms_played                          82740 non-null  int64 \n",
      " 3   master_metadata_track_name         82740 non-null  object\n",
      " 4   master_metadata_album_artist_name  82740 non-null  object\n",
      " 5   master_metadata_album_album_name   82740 non-null  object\n",
      " 6   spotify_track_uri                  82740 non-null  object\n",
      " 7   reason_start                       82740 non-null  object\n",
      " 8   reason_end                         82740 non-null  object\n",
      " 9   is_song                            82740 non-null  int64 \n",
      " 10  is_podcast                         82740 non-null  int64 \n",
      "dtypes: int64(3), object(8)\n",
      "memory usage: 6.9+ MB\n"
     ]
    }
   ],
   "source": [
    "df.info()"
   ]
  },
  {
   "cell_type": "code",
   "execution_count": 206,
   "id": "5217dcee",
   "metadata": {},
   "outputs": [
    {
     "data": {
      "text/plain": [
       "(82740, 11)"
      ]
     },
     "execution_count": 206,
     "metadata": {},
     "output_type": "execute_result"
    }
   ],
   "source": [
    "df.shape"
   ]
  },
  {
   "cell_type": "markdown",
   "id": "b359e2e2",
   "metadata": {},
   "source": [
    "# <span style=\"background:Red\">  WEB SCRAPING DATAFRAME... Not Needed Right Now <span>"
   ]
  },
  {
   "cell_type": "markdown",
   "id": "4bab58b5",
   "metadata": {},
   "source": [
    "# <span style=\"background:Red\">  WEB SCRAPING DATAFRAME... Not Needed Right Now <span>"
   ]
  },
  {
   "cell_type": "markdown",
   "id": "83425b4f",
   "metadata": {},
   "source": [
    "# <span style=\"background:Red\">  WEB SCRAPING DATAFRAME... Not Needed Right Now <span>"
   ]
  },
  {
   "cell_type": "markdown",
   "id": "84b5d9e9",
   "metadata": {},
   "source": [
    "# <span style='background :khaki' > Handeling Outlayers <span>"
   ]
  },
  {
   "cell_type": "code",
   "execution_count": 207,
   "id": "4a3e7b58",
   "metadata": {},
   "outputs": [
    {
     "data": {
      "text/plain": [
       "<AxesSubplot:>"
      ]
     },
     "execution_count": 207,
     "metadata": {},
     "output_type": "execute_result"
    }
   ],
   "source": [
    "df.boxplot()"
   ]
  },
  {
   "cell_type": "code",
   "execution_count": 208,
   "id": "ce4e7b69",
   "metadata": {},
   "outputs": [
    {
     "data": {
      "text/plain": [
       "ms_played     230000.0\n",
       "is_song            1.0\n",
       "is_podcast         0.0\n",
       "Name: 0.75, dtype: float64"
      ]
     },
     "execution_count": 208,
     "metadata": {},
     "output_type": "execute_result"
    }
   ],
   "source": [
    "df.quantile(0.75)"
   ]
  },
  {
   "cell_type": "markdown",
   "id": "ed52590e",
   "metadata": {},
   "source": [
    "# <span style='background :khaki' > Exploratory Data Analysis (EDA) <span>"
   ]
  },
  {
   "cell_type": "code",
   "execution_count": 209,
   "id": "824b6982",
   "metadata": {},
   "outputs": [
    {
     "data": {
      "text/html": [
       "<div>\n",
       "<style scoped>\n",
       "    .dataframe tbody tr th:only-of-type {\n",
       "        vertical-align: middle;\n",
       "    }\n",
       "\n",
       "    .dataframe tbody tr th {\n",
       "        vertical-align: top;\n",
       "    }\n",
       "\n",
       "    .dataframe thead th {\n",
       "        text-align: right;\n",
       "    }\n",
       "</style>\n",
       "<table border=\"1\" class=\"dataframe\">\n",
       "  <thead>\n",
       "    <tr style=\"text-align: right;\">\n",
       "      <th></th>\n",
       "      <th>ms_played</th>\n",
       "      <th>is_song</th>\n",
       "      <th>is_podcast</th>\n",
       "    </tr>\n",
       "  </thead>\n",
       "  <tbody>\n",
       "    <tr>\n",
       "      <th>ms_played</th>\n",
       "      <td>1.000000</td>\n",
       "      <td>-0.275773</td>\n",
       "      <td>0.275773</td>\n",
       "    </tr>\n",
       "    <tr>\n",
       "      <th>is_song</th>\n",
       "      <td>-0.275773</td>\n",
       "      <td>1.000000</td>\n",
       "      <td>-1.000000</td>\n",
       "    </tr>\n",
       "    <tr>\n",
       "      <th>is_podcast</th>\n",
       "      <td>0.275773</td>\n",
       "      <td>-1.000000</td>\n",
       "      <td>1.000000</td>\n",
       "    </tr>\n",
       "  </tbody>\n",
       "</table>\n",
       "</div>"
      ],
      "text/plain": [
       "            ms_played   is_song  is_podcast\n",
       "ms_played    1.000000 -0.275773    0.275773\n",
       "is_song     -0.275773  1.000000   -1.000000\n",
       "is_podcast   0.275773 -1.000000    1.000000"
      ]
     },
     "execution_count": 209,
     "metadata": {},
     "output_type": "execute_result"
    }
   ],
   "source": [
    "df.corr()"
   ]
  },
  {
   "cell_type": "markdown",
   "id": "5ded7cdb",
   "metadata": {},
   "source": [
    "# <span style='background :khaki' > Preprocessing and Data Treatment <span>"
   ]
  },
  {
   "cell_type": "markdown",
   "id": "0f03a397",
   "metadata": {},
   "source": [
    "### <span style=\"background:lightgreen\"> Treating Time Data <span>"
   ]
  },
  {
   "cell_type": "markdown",
   "id": "9e8f3d8a",
   "metadata": {},
   "source": [
    "#### <span style=\"background:skyblue\"> Already existing Data <span>"
   ]
  },
  {
   "cell_type": "code",
   "execution_count": 210,
   "id": "ee6c263f",
   "metadata": {},
   "outputs": [],
   "source": [
    "# Ts - To Datetime\n",
    "df['end_streaming'] = df['ts'].apply(lambda x : x.replace('T', ' ').rstrip('Z'))\n",
    "df['end_streaming'] = df['end_streaming'].apply(lambda x : datetime.strptime(x, '%Y-%m-%d %H:%M:%S'))\n",
    "df.drop('ts', inplace=True, axis=1)"
   ]
  },
  {
   "cell_type": "code",
   "execution_count": 211,
   "id": "d000d03a",
   "metadata": {},
   "outputs": [],
   "source": [
    "# Miliseconds to Seconds\n",
    "df['s_played'] = df['ms_played'].apply(lambda x : round(x/1000))\n",
    "df.drop('ms_played', inplace=True, axis=1)"
   ]
  },
  {
   "cell_type": "markdown",
   "id": "34a0e6b8",
   "metadata": {},
   "source": [
    "#### <span style=\"background:skyblue\"> New Features -- DeltaTime <span>"
   ]
  },
  {
   "cell_type": "code",
   "execution_count": 212,
   "id": "f2567a23",
   "metadata": {},
   "outputs": [],
   "source": [
    "# End Streaming in Seconds\n",
    "epoch_time = datetime(1970, 1, 1)\n",
    "df['end_streaming_seconds'] = df['end_streaming'].apply(lambda x : (x - epoch_time).total_seconds())\n",
    "\n",
    "# Start Streaming in Seconds\n",
    "for a in range(df.shape[0]):\n",
    "    df.loc[a, 'start_streaming_seconds'] = df.loc[a, 'end_streaming_seconds'] - df.loc[a, 's_played']\n",
    "\n",
    "# Start streaming\n",
    "df['start_streaming'] = df['start_streaming_seconds'].apply(lambda x : (timedelta(seconds=x) + epoch_time))"
   ]
  },
  {
   "cell_type": "code",
   "execution_count": 213,
   "id": "ab79d41c",
   "metadata": {},
   "outputs": [],
   "source": [
    "### Delta Time between streamings\n",
    "for a in range(df.shape[0]):\n",
    "    if a != 0:\n",
    "        df.loc[a, 'delta_time'] = df.loc[a, 'start_streaming_seconds'] - df.loc[a-1, 'end_streaming_seconds']\n",
    "    else:\n",
    "        df.loc[a, 'delta_time'] = 0.0"
   ]
  },
  {
   "cell_type": "markdown",
   "id": "eeb54e6f",
   "metadata": {},
   "source": [
    "# <span style=\"background:Red\">  Delta Time Var and Histograms <span>"
   ]
  },
  {
   "cell_type": "markdown",
   "id": "b9008bfa",
   "metadata": {},
   "source": [
    "# <span style=\"background:Red\">  Delta Time Var and Histograms <span>"
   ]
  },
  {
   "cell_type": "markdown",
   "id": "a0220b87",
   "metadata": {},
   "source": [
    "# <span style=\"background:Red\">  Delta Time Var and Histograms <span>"
   ]
  },
  {
   "cell_type": "markdown",
   "id": "3584e210",
   "metadata": {},
   "source": [
    "# <span style='background :khaki' > Dealing with Errors From the Original Data <span>"
   ]
  },
  {
   "cell_type": "code",
   "execution_count": 214,
   "id": "83598244",
   "metadata": {},
   "outputs": [
    {
     "data": {
      "text/plain": [
       "41907"
      ]
     },
     "execution_count": 214,
     "metadata": {},
     "output_type": "execute_result"
    }
   ],
   "source": [
    "len(df.loc[df['delta_time'] < 0, 'delta_time']) "
   ]
  },
  {
   "cell_type": "code",
   "execution_count": 215,
   "id": "eb7bfce1",
   "metadata": {
    "scrolled": true
   },
   "outputs": [
    {
     "data": {
      "text/plain": [
       "array([-2.000e+00, -1.000e+00, -5.000e+00, -1.100e+01, -1.000e+01,\n",
       "       -6.000e+00, -2.200e+01, -2.400e+01, -1.720e+02, -2.110e+02,\n",
       "       -1.800e+02, -2.060e+02, -3.600e+01, -1.440e+02, -1.100e+02,\n",
       "       -1.420e+02, -2.300e+01, -3.330e+02, -7.400e+01, -1.570e+02,\n",
       "       -2.000e+02, -2.100e+01, -3.000e+00, -5.700e+01, -4.000e+01,\n",
       "       -4.000e+00, -1.340e+02, -1.750e+02, -1.650e+02, -1.180e+02,\n",
       "       -1.530e+02, -1.520e+02, -1.590e+02, -1.820e+02, -9.000e+00,\n",
       "       -1.160e+02, -5.500e+01, -2.700e+01, -2.130e+02, -4.400e+01,\n",
       "       -1.460e+02, -1.700e+01, -2.000e+01, -3.300e+01, -1.200e+01,\n",
       "       -1.400e+01, -1.930e+02, -5.600e+01, -8.000e+00, -1.300e+01,\n",
       "       -3.400e+01, -1.490e+02, -2.800e+01, -2.530e+02, -1.500e+01,\n",
       "       -1.960e+02, -1.730e+02, -2.080e+02, -2.020e+02, -2.950e+02,\n",
       "       -2.120e+02, -1.890e+02, -2.480e+02, -2.260e+02, -2.340e+02,\n",
       "       -2.280e+02, -2.170e+02, -2.200e+02, -2.900e+02, -2.030e+02,\n",
       "       -2.240e+02, -8.200e+01, -2.310e+02, -3.310e+02, -3.250e+02,\n",
       "       -1.500e+02, -2.320e+02, -1.850e+02, -2.210e+02, -2.710e+02,\n",
       "       -2.830e+02, -8.000e+01, -3.070e+02, -3.300e+02, -1.360e+02,\n",
       "       -1.710e+02, -1.150e+02, -6.100e+01, -2.690e+02, -2.300e+02,\n",
       "       -9.600e+01, -1.740e+02, -1.900e+02, -2.330e+02, -2.370e+02,\n",
       "       -1.370e+02, -1.210e+02, -1.110e+02, -2.460e+02, -3.200e+01,\n",
       "       -1.860e+02, -1.800e+01, -7.000e+00, -1.900e+01, -1.300e+02,\n",
       "       -1.840e+02, -3.900e+01, -1.400e+02, -1.690e+02, -6.600e+01,\n",
       "       -1.390e+02, -2.010e+02, -1.700e+02, -1.680e+02, -2.230e+02,\n",
       "       -5.800e+01, -1.290e+02, -1.880e+02, -2.900e+01, -6.900e+01,\n",
       "       -4.700e+01, -2.100e+02, -1.270e+02, -3.500e+01, -1.760e+02,\n",
       "       -9.900e+01, -2.860e+02, -4.100e+01, -3.130e+02, -8.100e+01,\n",
       "       -4.500e+01, -1.120e+02, -8.700e+01, -1.200e+02, -5.300e+01,\n",
       "       -1.600e+01, -1.030e+02, -2.180e+02, -1.970e+02, -2.140e+02,\n",
       "       -1.040e+02, -6.700e+01, -1.550e+02, -2.360e+02, -8.300e+01,\n",
       "       -7.300e+01, -8.600e+01, -2.490e+02, -3.100e+01, -2.040e+02,\n",
       "       -9.800e+01, -1.330e+02, -2.740e+02, -1.250e+02, -6.800e+01,\n",
       "       -3.000e+01, -2.250e+02, -1.050e+02, -9.100e+01, -5.000e+01,\n",
       "       -1.660e+02, -4.300e+01, -1.080e+02, -3.800e+01, -1.580e+02,\n",
       "       -7.700e+01, -1.380e+02, -1.920e+02, -9.300e+01, -2.500e+01,\n",
       "       -6.500e+01, -3.730e+02, -8.500e+01, -1.830e+02, -1.190e+02,\n",
       "       -2.600e+01, -2.410e+02, -1.780e+02, -5.900e+01, -9.200e+01,\n",
       "       -1.450e+02, -8.900e+01, -8.400e+01, -2.540e+02, -2.470e+02,\n",
       "       -1.320e+02, -1.810e+02, -2.580e+02, -6.200e+01, -4.200e+01,\n",
       "       -1.770e+02, -6.000e+01, -3.650e+02, -4.710e+02, -5.000e+02,\n",
       "       -4.420e+02, -5.390e+02, -9.500e+01, -1.020e+02, -1.910e+02,\n",
       "       -2.400e+02, -4.560e+02, -4.900e+02, -1.980e+02, -1.940e+02,\n",
       "       -2.050e+02, -2.160e+02, -1.140e+02, -2.270e+02, -2.090e+02,\n",
       "       -1.170e+02, -3.240e+02, -7.800e+01, -2.150e+02, -2.670e+02,\n",
       "       -4.110e+02, -7.900e+01, -2.650e+02, -2.920e+02, -2.440e+02,\n",
       "       -3.440e+02, -1.990e+02, -1.260e+02, -2.890e+02, -2.570e+02,\n",
       "       -2.850e+02, -2.380e+02, -1.600e+02, -4.240e+02, -1.010e+02,\n",
       "       -1.480e+02, -4.300e+02, -6.770e+02, -7.000e+01, -3.550e+02,\n",
       "       -3.580e+02, -2.880e+02, -4.090e+02, -6.190e+02, -3.590e+02,\n",
       "       -3.620e+02, -9.400e+01, -2.190e+02, -3.340e+02, -3.210e+02,\n",
       "       -2.770e+02, -2.500e+02, -9.000e+01, -2.430e+02, -2.550e+02,\n",
       "       -3.810e+02, -7.600e+01, -1.130e+02, -4.940e+02, -3.380e+02,\n",
       "       -7.500e+01, -5.190e+02, -1.540e+02, -4.900e+01, -1.430e+02,\n",
       "       -1.230e+02, -5.060e+02, -4.140e+02, -5.110e+02, -2.450e+02,\n",
       "       -2.980e+02, -1.220e+02, -3.920e+02, -4.630e+02, -5.100e+01,\n",
       "       -5.200e+01, -6.400e+01, -4.890e+02, -4.210e+02, -2.420e+02,\n",
       "       -1.510e+02, -2.720e+02, -3.120e+02, -3.570e+02, -1.610e+02,\n",
       "       -3.110e+02, -4.600e+02, -4.820e+02, -3.060e+02, -1.350e+02,\n",
       "       -3.050e+02, -4.800e+01, -3.030e+02, -3.700e+01, -1.630e+02,\n",
       "       -1.240e+02, -4.080e+02, -4.600e+01, -2.520e+02, -1.560e+02,\n",
       "       -2.070e+02, -1.410e+02, -2.840e+02, -1.470e+02, -8.800e+01,\n",
       "       -3.820e+02, -3.800e+02, -6.300e+01, -2.730e+02, -3.020e+02,\n",
       "       -3.410e+02, -1.620e+02, -9.700e+01, -5.400e+01, -2.590e+02,\n",
       "       -2.220e+02, -7.200e+01, -2.930e+02, -1.280e+02, -1.870e+02,\n",
       "       -2.660e+02, -2.640e+02, -4.100e+02, -2.970e+02, -1.000e+02,\n",
       "       -3.200e+02, -2.290e+02, -3.790e+02, -3.260e+02, -4.540e+02,\n",
       "       -2.700e+02, -7.100e+01, -3.010e+02, -1.790e+02, -4.750e+02,\n",
       "       -3.510e+02, -2.350e+02, -1.670e+02, -2.600e+02, -1.640e+02,\n",
       "       -1.950e+02, -2.680e+02, -3.370e+02, -1.090e+02, -1.060e+02,\n",
       "       -4.440e+02, -2.620e+02, -2.390e+02, -2.790e+02, -2.810e+02,\n",
       "       -1.310e+02, -3.630e+02, -4.620e+02, -3.770e+02, -3.690e+02,\n",
       "       -3.350e+02, -4.770e+02, -2.960e+02, -3.750e+02, -2.800e+02,\n",
       "       -4.510e+02, -3.420e+02, -3.610e+02, -3.080e+02, -3.670e+02,\n",
       "       -4.840e+02, -4.410e+02, -3.850e+02, -1.019e+03, -4.010e+02,\n",
       "       -1.070e+02, -2.940e+02, -2.760e+02, -3.040e+02, -4.430e+02,\n",
       "       -4.310e+02, -3.950e+02, -3.940e+02, -3.540e+02, -4.160e+02,\n",
       "       -4.000e+02, -4.670e+02, -7.870e+02, -3.490e+02, -2.990e+02,\n",
       "       -4.400e+02, -3.320e+02, -2.630e+02, -4.380e+02, -4.070e+02,\n",
       "       -5.970e+02, -3.530e+02, -4.120e+02, -3.460e+02, -4.680e+02,\n",
       "       -3.450e+02, -3.000e+02, -5.380e+02, -2.780e+02, -4.720e+02,\n",
       "       -4.290e+02, -5.160e+02, -4.170e+02, -4.030e+02, -4.490e+02,\n",
       "       -4.830e+02, -4.660e+02, -4.220e+02, -3.280e+02, -3.720e+02,\n",
       "       -3.880e+02, -6.050e+02, -7.740e+02, -5.300e+02, -3.220e+02,\n",
       "       -5.940e+02, -4.350e+02, -4.480e+02, -3.290e+02, -2.610e+02,\n",
       "       -3.180e+02, -3.170e+02, -3.970e+02, -3.760e+02, -4.390e+02,\n",
       "       -3.980e+02, -3.710e+02, -4.040e+02, -5.150e+02, -3.100e+02,\n",
       "       -3.520e+02, -3.740e+02, -2.910e+02, -4.340e+02, -4.320e+02,\n",
       "       -4.260e+02, -5.140e+02, -4.050e+02, -3.470e+02, -5.340e+02,\n",
       "       -3.090e+02, -4.280e+02, -3.430e+02, -3.600e+02, -4.550e+02,\n",
       "       -4.990e+02, -3.910e+02, -3.700e+02, -3.360e+02, -5.760e+02,\n",
       "       -4.640e+02, -3.270e+02, -7.720e+02, -2.560e+02, -5.260e+02,\n",
       "       -3.480e+02, -3.390e+02, -3.830e+02, -3.230e+02, -3.400e+02,\n",
       "       -3.960e+02, -2.510e+02, -4.330e+02, -4.230e+02, -3.190e+02,\n",
       "       -2.870e+02, -6.890e+02, -1.108e+03, -4.200e+02, -4.790e+02,\n",
       "       -5.240e+02, -3.930e+02, -3.160e+02, -5.220e+02, -3.560e+02,\n",
       "       -5.780e+02, -2.820e+02, -3.660e+02, -4.020e+02, -2.750e+02,\n",
       "       -3.150e+02, -3.900e+02, -3.500e+02, -1.438e+03, -6.640e+02,\n",
       "       -7.610e+02])"
      ]
     },
     "execution_count": 215,
     "metadata": {},
     "output_type": "execute_result"
    }
   ],
   "source": [
    "df.loc[df['delta_time'] < 0, 'delta_time'].unique()"
   ]
  },
  {
   "cell_type": "code",
   "execution_count": 216,
   "id": "085fa5f1",
   "metadata": {},
   "outputs": [
    {
     "data": {
      "text/html": [
       "<div>\n",
       "<style scoped>\n",
       "    .dataframe tbody tr th:only-of-type {\n",
       "        vertical-align: middle;\n",
       "    }\n",
       "\n",
       "    .dataframe tbody tr th {\n",
       "        vertical-align: top;\n",
       "    }\n",
       "\n",
       "    .dataframe thead th {\n",
       "        text-align: right;\n",
       "    }\n",
       "</style>\n",
       "<table border=\"1\" class=\"dataframe\">\n",
       "  <thead>\n",
       "    <tr style=\"text-align: right;\">\n",
       "      <th></th>\n",
       "      <th>end_streaming</th>\n",
       "      <th>s_played</th>\n",
       "      <th>start_streaming</th>\n",
       "      <th>delta_time</th>\n",
       "      <th>reason_start</th>\n",
       "      <th>reason_end</th>\n",
       "    </tr>\n",
       "  </thead>\n",
       "  <tbody>\n",
       "    <tr>\n",
       "      <th>65566</th>\n",
       "      <td>2021-04-28 14:55:39</td>\n",
       "      <td>122</td>\n",
       "      <td>2021-04-28 14:53:37</td>\n",
       "      <td>0.0</td>\n",
       "      <td>trackdone</td>\n",
       "      <td>trackdone</td>\n",
       "    </tr>\n",
       "    <tr>\n",
       "      <th>65567</th>\n",
       "      <td>2021-04-28 14:58:52</td>\n",
       "      <td>193</td>\n",
       "      <td>2021-04-28 14:55:39</td>\n",
       "      <td>0.0</td>\n",
       "      <td>trackdone</td>\n",
       "      <td>trackdone</td>\n",
       "    </tr>\n",
       "    <tr>\n",
       "      <th>65568</th>\n",
       "      <td>2021-04-28 14:59:20</td>\n",
       "      <td>1466</td>\n",
       "      <td>2021-04-28 14:34:54</td>\n",
       "      <td>-1438.0</td>\n",
       "      <td>trackdone</td>\n",
       "      <td>remote</td>\n",
       "    </tr>\n",
       "    <tr>\n",
       "      <th>65569</th>\n",
       "      <td>2021-04-28 15:03:07</td>\n",
       "      <td>254</td>\n",
       "      <td>2021-04-28 14:58:53</td>\n",
       "      <td>-27.0</td>\n",
       "      <td>trackdone</td>\n",
       "      <td>trackdone</td>\n",
       "    </tr>\n",
       "    <tr>\n",
       "      <th>65570</th>\n",
       "      <td>2021-04-28 15:06:22</td>\n",
       "      <td>195</td>\n",
       "      <td>2021-04-28 15:03:07</td>\n",
       "      <td>0.0</td>\n",
       "      <td>trackdone</td>\n",
       "      <td>trackdone</td>\n",
       "    </tr>\n",
       "  </tbody>\n",
       "</table>\n",
       "</div>"
      ],
      "text/plain": [
       "            end_streaming  s_played     start_streaming  delta_time  \\\n",
       "65566 2021-04-28 14:55:39       122 2021-04-28 14:53:37         0.0   \n",
       "65567 2021-04-28 14:58:52       193 2021-04-28 14:55:39         0.0   \n",
       "65568 2021-04-28 14:59:20      1466 2021-04-28 14:34:54     -1438.0   \n",
       "65569 2021-04-28 15:03:07       254 2021-04-28 14:58:53       -27.0   \n",
       "65570 2021-04-28 15:06:22       195 2021-04-28 15:03:07         0.0   \n",
       "\n",
       "      reason_start reason_end  \n",
       "65566    trackdone  trackdone  \n",
       "65567    trackdone  trackdone  \n",
       "65568    trackdone     remote  \n",
       "65569    trackdone  trackdone  \n",
       "65570    trackdone  trackdone  "
      ]
     },
     "execution_count": 216,
     "metadata": {},
     "output_type": "execute_result"
    }
   ],
   "source": [
    "df.loc[65566:65570, ['end_streaming', 's_played', 'start_streaming', 'delta_time', 'reason_start', 'reason_end']]"
   ]
  },
  {
   "cell_type": "markdown",
   "id": "e9690ea1",
   "metadata": {},
   "source": [
    "#### <span style=\"background:skyblue\"> We threat this erratic data as they are 0 <span>"
   ]
  },
  {
   "cell_type": "code",
   "execution_count": 217,
   "id": "3fd8a668",
   "metadata": {},
   "outputs": [],
   "source": [
    "df.loc[df['delta_time'] < 0, 'delta_time'] = 0.0"
   ]
  },
  {
   "cell_type": "markdown",
   "id": "ecadabe0",
   "metadata": {},
   "source": [
    "### <span style='background :yellow' > Generar Prueba -- saltar canciones, cerrar loco spotify... <span>"
   ]
  },
  {
   "cell_type": "markdown",
   "id": "3b84f37d",
   "metadata": {},
   "source": [
    "# <span style=\"background:Red\">  Delta Time Var and Histograms <span>"
   ]
  },
  {
   "cell_type": "markdown",
   "id": "0438f9d5",
   "metadata": {},
   "source": [
    "# <span style=\"background:Red\">  Delta Time Var and Histograms <span>"
   ]
  },
  {
   "cell_type": "markdown",
   "id": "ca73c7d2",
   "metadata": {},
   "source": [
    "# <span style=\"background:Red\">  Delta Time Var and Histograms <span>"
   ]
  },
  {
   "cell_type": "markdown",
   "id": "54cc6a71",
   "metadata": {},
   "source": [
    "### <span style=\"background:lightgreen\"> Time Features <span>"
   ]
  },
  {
   "cell_type": "markdown",
   "id": "9b6f7c7e",
   "metadata": {},
   "source": [
    "#### <span style=\"background:skyblue\"> Functions <span>"
   ]
  },
  {
   "cell_type": "code",
   "execution_count": 218,
   "id": "4c6181a3",
   "metadata": {},
   "outputs": [],
   "source": [
    "import datetime\n",
    "Y = 2000 # dummy leap year to allow input X-02-29 (leap day)\n",
    "seasons = [(3, (datetime.date(Y,  1,  1),  datetime.date(Y,  3, 20))),\n",
    "           (0, (datetime.date(Y,  3, 21),  datetime.date(Y,  6, 20))),\n",
    "           (1, (datetime.date(Y,  6, 21),  datetime.date(Y,  9, 22))),\n",
    "           (2, (datetime.date(Y,  9, 23),  datetime.date(Y, 12, 20))),\n",
    "           (3, (datetime.date(Y, 12, 21),  datetime.date(Y, 12, 31)))]\n",
    "\n",
    "def get_season(now):\n",
    "    if isinstance(now, type(now)):\n",
    "        now = now.date()\n",
    "    now = now.replace(year=Y)\n",
    "    return next(season for season, (start, end) in seasons\n",
    "                if start <= now <= end)\n",
    "\n",
    "def time_to_seconds(now):\n",
    "    return ((now.hour*60 + now.minute)*60 + now.second)"
   ]
  },
  {
   "cell_type": "markdown",
   "id": "13024951",
   "metadata": {},
   "source": [
    "#### <span style=\"background:skyblue\"> Time Features <span>"
   ]
  },
  {
   "cell_type": "code",
   "execution_count": 219,
   "id": "5a0ead16",
   "metadata": {},
   "outputs": [],
   "source": [
    "### Day Features\n",
    "# Create New Usefull Columns\n",
    "df['year'] = df['end_streaming'].apply(lambda x : x.year)\n",
    "df['seasson'] = df['end_streaming'].apply(lambda x : get_season(x))\n",
    "df['month'] = df['end_streaming'].apply(lambda x : x.month)\n",
    "df['month_and_year'] = df['end_streaming'].apply(lambda x : (x.year, x.month))\n",
    "df['month_and_year'] = df['month_and_year'].apply(lambda x: '-'.join(map(str, x)))\n",
    "df['week'] = df['end_streaming'].apply(lambda x : x.week)\n",
    "df['day'] = df['end_streaming'].apply(lambda x : x.day)\n",
    "df['days_to_next_month'] = df['end_streaming'].apply(lambda x : x.days_in_month-x.day)\n",
    "df['date'] = df['end_streaming'].apply(lambda x : x.date())\n",
    "df['hour'] = df['end_streaming'].apply(lambda x : x.hour)\n",
    "df['minute'] = df['end_streaming'].apply(lambda x : x.minute)\n",
    "df['second'] = df['end_streaming'].apply(lambda x : x.second)\n",
    "df['time'] = df['end_streaming'].apply(lambda x: x.time())\n",
    "df['str_time'] = df['time'].apply(lambda x: x.strftime('%H:%M:%S'))\n",
    "df['time_in_s'] = df['time'].apply(lambda x : time_to_seconds(x))\n",
    "\n",
    "# Week Days treat as a circle, 0 = Monday is closer to 6 = Sunday than to 3 = Thursday\n",
    "df['week_day'] = df['end_streaming'].apply(lambda x : x.weekday())"
   ]
  },
  {
   "cell_type": "markdown",
   "id": "9bcd9f96",
   "metadata": {},
   "source": [
    "<span style=\"background:yellow\"> About Circular data and about cyclical data ... Cordenadas Circulares </span>\n",
    "\n",
    "\n",
    "#df['week_day_sin'] = df['week_day'].apply(lambda x: np.sin(x*(2 * np.pi / 7)))\n",
    "\n",
    "#df['week_day_cos'] = df['week_day'].apply(lambda x: np.cos(x*(2 * np.pi / 7)))"
   ]
  },
  {
   "cell_type": "code",
   "execution_count": null,
   "id": "803a6c0b",
   "metadata": {},
   "outputs": [],
   "source": []
  },
  {
   "cell_type": "markdown",
   "id": "afb9dc9f",
   "metadata": {},
   "source": [
    "#### <span style=\"background:skyblue\"> Solving anomalies problems <span>"
   ]
  },
  {
   "cell_type": "markdown",
   "id": "916c0626",
   "metadata": {},
   "source": [
    "### <span style=\"background:yellow\"> Studing Delta time we get to know there are stop periods really high </span>\n",
    "\n",
    "Explain about why, what to do and what makes sense"
   ]
  },
  {
   "cell_type": "code",
   "execution_count": 220,
   "id": "a198ac08",
   "metadata": {},
   "outputs": [
    {
     "data": {
      "text/html": [
       "<div>\n",
       "<style scoped>\n",
       "    .dataframe tbody tr th:only-of-type {\n",
       "        vertical-align: middle;\n",
       "    }\n",
       "\n",
       "    .dataframe tbody tr th {\n",
       "        vertical-align: top;\n",
       "    }\n",
       "\n",
       "    .dataframe thead th {\n",
       "        text-align: right;\n",
       "    }\n",
       "</style>\n",
       "<table border=\"1\" class=\"dataframe\">\n",
       "  <thead>\n",
       "    <tr style=\"text-align: right;\">\n",
       "      <th></th>\n",
       "      <th>platform</th>\n",
       "      <th>master_metadata_track_name</th>\n",
       "      <th>master_metadata_album_artist_name</th>\n",
       "      <th>master_metadata_album_album_name</th>\n",
       "      <th>spotify_track_uri</th>\n",
       "      <th>reason_start</th>\n",
       "      <th>reason_end</th>\n",
       "      <th>is_song</th>\n",
       "      <th>is_podcast</th>\n",
       "      <th>end_streaming</th>\n",
       "      <th>...</th>\n",
       "      <th>day</th>\n",
       "      <th>days_to_next_month</th>\n",
       "      <th>date</th>\n",
       "      <th>hour</th>\n",
       "      <th>minute</th>\n",
       "      <th>second</th>\n",
       "      <th>time</th>\n",
       "      <th>str_time</th>\n",
       "      <th>time_in_s</th>\n",
       "      <th>week_day</th>\n",
       "    </tr>\n",
       "  </thead>\n",
       "  <tbody>\n",
       "    <tr>\n",
       "      <th>56</th>\n",
       "      <td>Phone</td>\n",
       "      <td>Intro to Captain Jack - Live April 1972 At Sig...</td>\n",
       "      <td>Billy Joel</td>\n",
       "      <td>Piano Man (Legacy Edition)</td>\n",
       "      <td>spotify:track:1nno3ZNMYJYNrp3hhVtyZ3</td>\n",
       "      <td>clickrow</td>\n",
       "      <td>endplay</td>\n",
       "      <td>1</td>\n",
       "      <td>0</td>\n",
       "      <td>2016-01-28 20:05:11</td>\n",
       "      <td>...</td>\n",
       "      <td>28</td>\n",
       "      <td>3</td>\n",
       "      <td>2016-01-28</td>\n",
       "      <td>20</td>\n",
       "      <td>5</td>\n",
       "      <td>11</td>\n",
       "      <td>20:05:11</td>\n",
       "      <td>20:05:11</td>\n",
       "      <td>72311</td>\n",
       "      <td>3</td>\n",
       "    </tr>\n",
       "  </tbody>\n",
       "</table>\n",
       "<p>1 rows × 30 columns</p>\n",
       "</div>"
      ],
      "text/plain": [
       "   platform                         master_metadata_track_name  \\\n",
       "56    Phone  Intro to Captain Jack - Live April 1972 At Sig...   \n",
       "\n",
       "   master_metadata_album_artist_name master_metadata_album_album_name  \\\n",
       "56                        Billy Joel       Piano Man (Legacy Edition)   \n",
       "\n",
       "                       spotify_track_uri reason_start reason_end  is_song  \\\n",
       "56  spotify:track:1nno3ZNMYJYNrp3hhVtyZ3     clickrow    endplay        1   \n",
       "\n",
       "    is_podcast       end_streaming  ...  day  days_to_next_month        date  \\\n",
       "56           0 2016-01-28 20:05:11  ...   28                   3  2016-01-28   \n",
       "\n",
       "   hour  minute  second      time  str_time time_in_s  week_day  \n",
       "56   20       5      11  20:05:11  20:05:11     72311         3  \n",
       "\n",
       "[1 rows x 30 columns]"
      ]
     },
     "execution_count": 220,
     "metadata": {},
     "output_type": "execute_result"
    }
   ],
   "source": [
    "df[df['delta_time'] == 22472086.0]"
   ]
  },
  {
   "cell_type": "code",
   "execution_count": 221,
   "id": "878fd336",
   "metadata": {},
   "outputs": [
    {
     "data": {
      "text/html": [
       "<div>\n",
       "<style scoped>\n",
       "    .dataframe tbody tr th:only-of-type {\n",
       "        vertical-align: middle;\n",
       "    }\n",
       "\n",
       "    .dataframe tbody tr th {\n",
       "        vertical-align: top;\n",
       "    }\n",
       "\n",
       "    .dataframe thead th {\n",
       "        text-align: right;\n",
       "    }\n",
       "</style>\n",
       "<table border=\"1\" class=\"dataframe\">\n",
       "  <thead>\n",
       "    <tr style=\"text-align: right;\">\n",
       "      <th></th>\n",
       "      <th>end_streaming</th>\n",
       "      <th>s_played</th>\n",
       "      <th>start_streaming</th>\n",
       "      <th>delta_time</th>\n",
       "    </tr>\n",
       "  </thead>\n",
       "  <tbody>\n",
       "    <tr>\n",
       "      <th>54</th>\n",
       "      <td>2015-05-13 17:45:57</td>\n",
       "      <td>207</td>\n",
       "      <td>2015-05-13 17:42:30</td>\n",
       "      <td>0.0</td>\n",
       "    </tr>\n",
       "    <tr>\n",
       "      <th>55</th>\n",
       "      <td>2015-05-13 17:50:09</td>\n",
       "      <td>251</td>\n",
       "      <td>2015-05-13 17:45:58</td>\n",
       "      <td>1.0</td>\n",
       "    </tr>\n",
       "    <tr>\n",
       "      <th>56</th>\n",
       "      <td>2016-01-28 20:05:11</td>\n",
       "      <td>16</td>\n",
       "      <td>2016-01-28 20:04:55</td>\n",
       "      <td>22472086.0</td>\n",
       "    </tr>\n",
       "    <tr>\n",
       "      <th>57</th>\n",
       "      <td>2016-01-28 20:53:19</td>\n",
       "      <td>193</td>\n",
       "      <td>2016-01-28 20:50:06</td>\n",
       "      <td>2695.0</td>\n",
       "    </tr>\n",
       "    <tr>\n",
       "      <th>58</th>\n",
       "      <td>2016-01-29 06:10:46</td>\n",
       "      <td>27</td>\n",
       "      <td>2016-01-29 06:10:19</td>\n",
       "      <td>33420.0</td>\n",
       "    </tr>\n",
       "  </tbody>\n",
       "</table>\n",
       "</div>"
      ],
      "text/plain": [
       "         end_streaming  s_played     start_streaming  delta_time\n",
       "54 2015-05-13 17:45:57       207 2015-05-13 17:42:30         0.0\n",
       "55 2015-05-13 17:50:09       251 2015-05-13 17:45:58         1.0\n",
       "56 2016-01-28 20:05:11        16 2016-01-28 20:04:55  22472086.0\n",
       "57 2016-01-28 20:53:19       193 2016-01-28 20:50:06      2695.0\n",
       "58 2016-01-29 06:10:46        27 2016-01-29 06:10:19     33420.0"
      ]
     },
     "execution_count": 221,
     "metadata": {},
     "output_type": "execute_result"
    }
   ],
   "source": [
    "df.loc[54:58, ['end_streaming', 's_played', 'start_streaming', 'delta_time']]"
   ]
  },
  {
   "cell_type": "code",
   "execution_count": 222,
   "id": "f67c3137",
   "metadata": {},
   "outputs": [],
   "source": [
    "month_in_secs = 2628002"
   ]
  },
  {
   "cell_type": "code",
   "execution_count": 223,
   "id": "0f877c29",
   "metadata": {},
   "outputs": [],
   "source": [
    "df['df_fractured'] = 0\n",
    "for a in df.index:\n",
    "    if (df.loc[a, 'delta_time'] >= month_in_secs):\n",
    "        df.loc[a, 'df_fractured'] = 1"
   ]
  },
  {
   "cell_type": "code",
   "execution_count": 224,
   "id": "0b98492f",
   "metadata": {},
   "outputs": [
    {
     "data": {
      "text/html": [
       "<div>\n",
       "<style scoped>\n",
       "    .dataframe tbody tr th:only-of-type {\n",
       "        vertical-align: middle;\n",
       "    }\n",
       "\n",
       "    .dataframe tbody tr th {\n",
       "        vertical-align: top;\n",
       "    }\n",
       "\n",
       "    .dataframe thead th {\n",
       "        text-align: right;\n",
       "    }\n",
       "</style>\n",
       "<table border=\"1\" class=\"dataframe\">\n",
       "  <thead>\n",
       "    <tr style=\"text-align: right;\">\n",
       "      <th></th>\n",
       "      <th>end_streaming</th>\n",
       "      <th>delta_time</th>\n",
       "    </tr>\n",
       "  </thead>\n",
       "  <tbody>\n",
       "    <tr>\n",
       "      <th>22</th>\n",
       "      <td>2015-05-11 19:30:54</td>\n",
       "      <td>3524879.0</td>\n",
       "    </tr>\n",
       "    <tr>\n",
       "      <th>56</th>\n",
       "      <td>2016-01-28 20:05:11</td>\n",
       "      <td>22472086.0</td>\n",
       "    </tr>\n",
       "    <tr>\n",
       "      <th>75</th>\n",
       "      <td>2016-08-28 22:41:22</td>\n",
       "      <td>18263718.0</td>\n",
       "    </tr>\n",
       "    <tr>\n",
       "      <th>627</th>\n",
       "      <td>2016-10-18 21:00:00</td>\n",
       "      <td>3129837.0</td>\n",
       "    </tr>\n",
       "    <tr>\n",
       "      <th>697</th>\n",
       "      <td>2017-03-10 07:32:11</td>\n",
       "      <td>7067416.0</td>\n",
       "    </tr>\n",
       "  </tbody>\n",
       "</table>\n",
       "</div>"
      ],
      "text/plain": [
       "          end_streaming  delta_time\n",
       "22  2015-05-11 19:30:54   3524879.0\n",
       "56  2016-01-28 20:05:11  22472086.0\n",
       "75  2016-08-28 22:41:22  18263718.0\n",
       "627 2016-10-18 21:00:00   3129837.0\n",
       "697 2017-03-10 07:32:11   7067416.0"
      ]
     },
     "execution_count": 224,
     "metadata": {},
     "output_type": "execute_result"
    }
   ],
   "source": [
    "a = df[df['df_fractured'] == 1]\n",
    "a[['end_streaming', 'delta_time']]"
   ]
  },
  {
   "cell_type": "markdown",
   "id": "b87ed016",
   "metadata": {},
   "source": [
    "#### <span style=\"background:skyblue\"> Thinking to remove this data <span>"
   ]
  },
  {
   "cell_type": "code",
   "execution_count": 225,
   "id": "cb6a85f1",
   "metadata": {},
   "outputs": [
    {
     "data": {
      "text/plain": [
       "0.8460236886632826"
      ]
     },
     "execution_count": 225,
     "metadata": {},
     "output_type": "execute_result"
    }
   ],
   "source": [
    "(700*100)/(df.shape[0])"
   ]
  },
  {
   "cell_type": "markdown",
   "id": "f689e2a2",
   "metadata": {},
   "source": [
    "loosing 1% of data is axceptable, and will solve a lot of problems"
   ]
  },
  {
   "cell_type": "markdown",
   "id": "a960f412",
   "metadata": {},
   "source": [
    "#### <span style=\"background:skyblue\"> Thinking to generate sparse data during this time <span>"
   ]
  },
  {
   "cell_type": "code",
   "execution_count": 226,
   "id": "393030df",
   "metadata": {
    "scrolled": true
   },
   "outputs": [
    {
     "name": "stdout",
     "output_type": "stream",
     "text": [
      "[34, 19, 552, 70]\n",
      "\n",
      "\n",
      "[40, 260, 211, 36, 81]\n",
      "a total of:  628 sparse data will be added. %= 0.7590132827324478\n"
     ]
    }
   ],
   "source": [
    "d = []\n",
    "b = a.index[0]\n",
    "\n",
    "for c in a.index[1:]:\n",
    "    d.append(c-b)\n",
    "    b = c\n",
    "\n",
    "print(d)\n",
    "    \n",
    "print('\\n')\n",
    "e = []\n",
    "for c in a.index:\n",
    "    e.append((df.loc[c, 'end_streaming'] - df.loc[c-1, 'end_streaming']).days)\n",
    "    \n",
    "print(e)\n",
    "print('a total of: ', sum(e), 'sparse data will be added. %=', sum(e)*100/int(df.index[-1]))"
   ]
  },
  {
   "cell_type": "code",
   "execution_count": null,
   "id": "8f09f33c",
   "metadata": {},
   "outputs": [],
   "source": []
  },
  {
   "cell_type": "markdown",
   "id": "7c81b299",
   "metadata": {},
   "source": [
    "# <span style='background :khaki' > Visualización de los Datos <span>"
   ]
  },
  {
   "cell_type": "code",
   "execution_count": 227,
   "id": "e20c5457",
   "metadata": {},
   "outputs": [],
   "source": [
    "#sns.pairplot(df)"
   ]
  },
  {
   "cell_type": "code",
   "execution_count": 228,
   "id": "8bbd7bab",
   "metadata": {},
   "outputs": [],
   "source": [
    "#sns.boxplot(x, y, data)"
   ]
  },
  {
   "cell_type": "code",
   "execution_count": 229,
   "id": "55d409f0",
   "metadata": {},
   "outputs": [],
   "source": [
    "#sns.countplot(x, data)"
   ]
  },
  {
   "cell_type": "markdown",
   "id": "4ee6ab01",
   "metadata": {},
   "source": [
    "### <span style=\"background:lightgreen\"> Plot Data By Day <span>"
   ]
  },
  {
   "cell_type": "code",
   "execution_count": 230,
   "id": "fe2c1bb2",
   "metadata": {},
   "outputs": [],
   "source": [
    "#dfi = df.set_index('date', drop=False)\n",
    "dfi = df.copy()"
   ]
  },
  {
   "cell_type": "code",
   "execution_count": 231,
   "id": "8881e783",
   "metadata": {},
   "outputs": [],
   "source": [
    "# Split by Days & Get Index\n",
    "# ==================================================================================\n",
    "all_days = dfi['date'].unique()\n",
    "days_ix = [dfi.loc[dfi['date'] == d].index for d in all_days]\n",
    "#days_ixº\n",
    "songs_in_day = [len(days_ix[a]) for a in range(len(days_ix))]"
   ]
  },
  {
   "cell_type": "code",
   "execution_count": 232,
   "id": "873e3b0f",
   "metadata": {
    "scrolled": true
   },
   "outputs": [
    {
     "name": "stdout",
     "output_type": "stream",
     "text": [
      "39.99033349444176\n",
      "801.2700853890232\n",
      "\n",
      "[8, 7, 7, 7, 7, 20, 2, 2, 15, 22, 148, 32, 25, 29, 77, 20, 38, 39, 51, 12, 5, 35, 1, 18, 1, 1, 11, 10, 4, 8, 21, 14, 1, 3, 1, 10, 66, 123, 63, 45, 56, 36, 73, 18, 76, 49, 89, 22, 58, 25, 9, 54, 43, 33, 49, 19, 20, 13, 26, 21, 76, 41, 78, 5, 4, 21, 24, 26, 15, 48, 44, 35, 41, 83, 52, 67, 73, 110, 29, 129, 115, 62, 60, 32, 32, 56, 11, 65, 73, 63, 53, 45, 85, 49, 22, 67, 15, 24, 28, 20, 25, 29, 24, 33, 1, 11, 25, 35, 6, 28, 21, 59, 18, 80, 2, 28, 15, 7, 17, 33, 6, 87, 45, 6, 38, 61, 25, 50, 30, 18, 29, 74, 109, 12, 16, 6, 33, 43, 10, 82, 54, 77, 18, 20, 8, 5, 38, 28, 24, 10, 53, 38, 1, 64, 52, 35, 17, 144, 18, 14, 21, 32, 11, 87, 129, 142, 25, 51, 25, 57, 30, 84, 151, 112, 26, 24, 23, 35, 10, 64, 60, 46, 61, 37, 16, 33, 56, 38, 30, 27, 27, 20, 32, 34, 32, 39, 27, 25, 10, 37, 99, 41, 8, 38, 17, 36, 38, 64, 15, 13, 23, 9, 39, 28, 97, 25, 17, 16, 24, 82, 18, 76, 64, 25, 47, 36, 48, 39, 80, 130, 39, 37, 28, 42, 65, 66, 5, 7, 34, 35, 32, 65, 15, 8, 156, 86, 65, 100, 85, 44, 54, 40, 50, 58, 23, 27, 98, 22, 13, 6, 38, 14, 51, 63, 24, 39, 57, 70, 20, 22, 100, 93, 18, 40, 70, 34, 71, 9, 128, 103, 78, 50, 75, 36, 133, 21, 146, 41, 101, 66, 63, 72, 53, 14, 29, 64, 118, 48, 67, 13, 5, 23, 17, 37, 13, 20, 16, 40, 37, 21, 65, 76, 46, 39, 5, 30, 26, 56, 81, 69, 14, 59, 42, 35, 57, 35, 44, 91, 31, 26, 42, 49, 51, 44, 42, 35, 24, 33, 38, 32, 58, 30, 29, 47, 22, 50, 66, 30, 82, 95, 37, 55, 33, 63, 64, 41, 38, 51, 29, 36, 37, 80, 24, 78, 58, 51, 11, 39, 39, 83, 30, 18, 18, 46, 54, 45, 15, 28, 32, 30, 57, 79, 59, 95, 50, 90, 65, 68, 149, 37, 21, 11, 37, 46, 25, 42, 47, 7, 25, 27, 18, 23, 37, 31, 2, 36, 37, 17, 45, 47, 25, 30, 28, 42, 72, 17, 53, 48, 14, 37, 89, 43, 38, 88, 79, 27, 45, 59, 62, 39, 59, 21, 22, 36, 11, 11, 25, 35, 24, 8, 27, 33, 30, 45, 78, 17, 5, 38, 37, 14, 59, 52, 27, 13, 62, 23, 22, 39, 55, 25, 52, 24, 85, 42, 5, 12, 11, 17, 10, 49, 13, 119, 23, 10, 25, 23, 32, 10, 10, 72, 41, 9, 21, 8, 24, 27, 32, 47, 18, 39, 43, 34, 36, 36, 12, 42, 62, 130, 129, 150, 125, 47, 123, 148, 121, 10, 6, 27, 16, 27, 10, 28, 40, 84, 44, 20, 33, 13, 81, 45, 48, 36, 128, 43, 30, 4, 24, 14, 9, 44, 19, 30, 27, 17, 109, 4, 44, 33, 18, 78, 30, 45, 20, 12, 37, 8, 11, 4, 40, 30, 9, 33, 35, 45, 30, 16, 45, 37, 6, 32, 20, 30, 72, 40, 21, 39, 35, 29, 17, 55, 17, 27, 19, 27, 26, 38, 22, 14, 26, 13, 51, 47, 24, 39, 22, 51, 39, 52, 53, 72, 33, 74, 42, 58, 30, 23, 100, 15, 29, 41, 40, 21, 23, 24, 51, 21, 36, 36, 26, 24, 10, 28, 28, 34, 46, 16, 17, 31, 4, 21, 23, 34, 62, 30, 88, 18, 32, 36, 41, 21, 58, 39, 16, 43, 60, 10, 23, 13, 7, 11, 51, 49, 82, 40, 82, 35, 21, 53, 45, 68, 47, 83, 21, 10, 22, 54, 47, 36, 52, 13, 9, 21, 53, 42, 53, 6, 9, 25, 11, 48, 42, 62, 73, 11, 18, 30, 96, 33, 21, 21, 16, 57, 27, 22, 23, 87, 33, 89, 8, 17, 82, 44, 44, 71, 31, 44, 42, 28, 36, 32, 72, 31, 55, 17, 53, 48, 52, 52, 53, 44, 43, 17, 51, 49, 63, 57, 20, 24, 24, 40, 52, 57, 22, 42, 55, 31, 55, 57, 57, 29, 42, 36, 20, 54, 47, 36, 58, 28, 16, 18, 50, 59, 45, 26, 46, 47, 49, 43, 59, 43, 59, 30, 47, 36, 47, 63, 57, 54, 35, 40, 23, 59, 84, 42, 36, 36, 58, 70, 40, 65, 51, 36, 45, 86, 49, 55, 37, 60, 69, 86, 46, 34, 55, 52, 46, 47, 27, 41, 58, 45, 47, 90, 65, 31, 27, 54, 65, 62, 103, 116, 69, 69, 53, 52, 89, 31, 56, 52, 57, 85, 45, 29, 93, 27, 20, 111, 58, 61, 79, 47, 79, 105, 24, 42, 40, 78, 58, 41, 20, 31, 30, 56, 22, 40, 24, 9, 20, 29, 41, 35, 21, 63, 83, 19, 29, 21, 85, 14, 52, 23, 29, 34, 28, 105, 46, 4, 3, 38, 13, 4, 48, 51, 20, 46, 34, 24, 21, 28, 25, 41, 48, 40, 71, 26, 75, 39, 38, 147, 25, 42, 45, 24, 36, 34, 36, 8, 44, 62, 53, 33, 64, 58, 41, 11, 29, 57, 52, 50, 12, 66, 43, 50, 27, 23, 33, 101, 172, 31, 16, 26, 39, 37, 38, 31, 46, 33, 43, 65, 59, 21, 41, 15, 17, 31, 78, 38, 15, 82, 24, 18, 40, 60, 58, 24, 40, 55, 29, 29, 32, 30, 21, 30, 24, 57, 48, 40, 40, 16, 30, 37, 18, 21, 72, 30, 34, 24, 23, 13, 35, 64, 67, 49, 22, 60, 19, 30, 59, 56, 46, 53, 48, 6, 43, 86, 31, 23, 58, 21, 43, 45, 40, 25, 15, 43, 21, 15, 71, 70, 65, 59, 35, 61, 22, 92, 73, 63, 46, 55, 55, 14, 30, 43, 68, 36, 86, 73, 15, 52, 31, 84, 49, 129, 64, 57, 32, 24, 64, 53, 93, 22, 50, 54, 26, 24, 95, 56, 57, 42, 13, 61, 23, 151, 38, 95, 78, 75, 34, 32, 70, 68, 22, 37, 61, 28, 43, 51, 48, 56, 48, 46, 97, 70, 20, 69, 52, 70, 51, 54, 64, 47, 12, 50, 11, 31, 47, 26, 37, 66, 29, 19, 42, 29, 23, 37, 68, 32, 26, 63, 68, 42, 47, 50, 47, 9, 48, 42, 55, 50, 59, 57, 51, 51, 62, 69, 46, 42, 8, 8, 6, 4, 12, 10, 21, 11, 7, 29, 7, 39, 10, 24, 29, 25, 19, 16, 48, 48, 31, 37, 62, 60, 47, 117, 24, 32, 59, 45, 47, 5, 34, 10, 14, 27, 41, 32, 25, 36, 41, 57, 42, 58, 53, 33, 61, 19, 60, 59, 106, 48, 55, 47, 48, 33, 50, 66, 93, 73, 57, 48, 34, 41, 39, 30, 64, 61, 36, 66, 46, 13, 64, 80, 67, 23, 43, 22, 66, 57, 77, 32, 119, 166, 69, 94, 73, 67, 44, 74, 82, 70, 71, 49, 27, 166, 67, 52, 25, 91, 67, 102, 68, 67, 33, 41, 67, 88, 83, 48, 105, 119, 52, 32, 39, 91, 50, 135, 207, 49, 57, 43, 56, 49, 121, 70, 96, 25, 83, 44, 78, 170, 29, 87, 76, 87, 53, 35, 14, 111, 85, 82, 80, 94, 106, 77, 126, 120, 36, 69, 18, 54, 54, 4, 18, 48, 43, 37, 154, 53, 107, 94, 43, 14, 111, 35, 21, 1, 28, 65, 82, 54, 66, 74, 118, 177, 72, 52, 60, 65, 39, 34, 96, 84, 87, 100, 75, 11, 107, 113, 18, 33, 51, 23, 42, 48, 1, 35, 62, 52, 83, 36, 28, 120, 51, 43, 68, 53, 50, 103, 23, 23, 30, 26, 64, 65, 56, 73, 38, 46, 66, 23, 27, 35, 95, 8, 33, 38, 43, 23, 57, 14, 54, 11, 30, 36, 47, 15, 31, 12, 31, 77, 47, 34, 46, 48, 36, 36, 23, 45, 11, 21, 29, 13, 36, 33, 33, 39, 12, 34, 20, 54, 31, 45, 41, 13, 78, 22, 7, 18, 41, 15, 31, 24, 14, 36, 33, 54, 12, 32, 19, 30, 43, 58, 30, 28, 21, 31, 90, 50, 16, 18, 7, 24, 86, 19, 27, 18, 18, 17, 15, 11, 11, 34, 44, 15, 59, 17, 95, 11, 71, 84, 44, 43, 50, 37, 9, 50, 82, 39, 60, 85, 25, 36, 57, 58, 45, 39, 22, 57, 10, 63, 44, 27, 31, 44, 23, 13, 32, 27, 66, 19, 34, 53, 12, 36, 36, 1, 31, 22, 47, 25, 42, 56, 36, 35, 4, 41, 11, 29, 18, 64, 24, 20, 36, 16, 26, 37, 19, 25, 26, 16, 27, 64, 19, 38, 20, 68, 6, 43, 53, 31, 39, 68, 46, 45, 6, 13, 56, 23, 18, 27, 112, 8, 23, 54, 56, 9, 34, 95, 25, 13, 31, 19, 22, 22, 36, 3, 24, 21, 51, 31, 73, 75, 12, 11, 47, 40, 54, 6, 79, 5, 55, 16, 17, 23, 44, 44, 8, 21, 17, 44, 39, 16, 72, 3, 51, 31, 22, 34, 97, 61, 7, 85, 40, 101, 39, 90, 36, 35, 26, 55, 18, 40, 41, 60, 54, 8, 9, 21, 12, 6, 9, 43, 50, 23, 78, 30, 63, 164, 73, 33, 10, 18, 44, 45, 21, 27, 31, 35, 23, 34, 45, 10, 10, 12, 39, 33, 24, 40, 147, 19, 16, 30, 7, 16, 36, 57, 20, 22, 23, 86, 83, 63, 59, 12, 9, 9, 8, 12, 60, 87, 29, 54, 23, 84, 54, 33, 2, 5, 30, 42, 29, 9, 46, 80, 36, 1, 21, 10, 34, 16, 16, 17, 17, 34, 12, 9, 29, 1, 14, 43, 89, 1, 21, 11, 3, 31, 34, 61, 17, 18, 11, 19, 12, 5, 18, 8, 44, 11, 15, 8, 62, 43, 16, 20, 6, 15, 9, 22, 190, 61, 109, 47, 20, 22, 38, 40, 10, 5, 10, 34, 17, 25, 64, 19, 28, 31, 30, 43, 9, 20, 23, 47, 10, 17, 13, 16, 32, 11, 45, 16, 13, 9, 59, 43, 18, 40, 37, 30, 39, 12, 43, 23, 23, 38, 44, 19, 8, 74, 32, 28, 43, 23, 15, 80, 52, 35, 56, 38, 55, 24, 53, 29, 35, 47, 29, 7, 18, 39, 61, 56, 42, 31, 35, 32, 37, 34, 25, 35, 24, 38, 21, 30, 46, 15, 66, 25, 77, 13, 25, 14, 45, 24, 40, 10, 86, 101, 47, 30, 38, 52, 6, 21, 59, 16, 98, 75, 34, 4, 22, 28, 34, 25, 16, 27, 12, 26, 11, 51, 13, 40, 24, 32, 71, 30, 50, 50, 43, 53, 32, 34, 50, 5, 9, 35, 24, 47, 6, 39, 2, 54, 34, 24, 56, 52, 47, 23, 30, 32, 32, 66, 46, 18, 50, 36, 66, 25, 52, 31, 49, 34, 17, 29, 16, 5, 8, 21, 63, 54, 54, 33, 90, 60, 26, 54, 21, 31, 41, 43, 20, 13, 33, 72, 19, 35, 44, 90, 3, 6, 38, 26, 11, 6, 9, 41, 32, 54, 79, 112, 12, 44, 10, 4, 40, 27, 34, 25, 23, 13, 30, 13, 22, 43, 48, 43, 12, 2, 21, 18, 68, 5, 15, 25, 19, 28, 33, 14, 70, 8, 19, 37, 23, 6, 30, 28, 20, 3, 6, 37, 34, 21, 36, 84, 9, 44, 30, 11, 84, 11, 17, 1, 25, 10, 6, 22, 37, 34, 24, 15, 9, 4, 29, 40, 41, 13, 31, 13, 10, 1, 13, 17, 5, 35, 48, 34, 13, 25, 13, 15, 8, 19, 25, 9, 7, 11, 8, 5, 54, 6, 23, 9, 5, 17, 27, 31, 29, 23, 11, 41, 38, 49, 26, 31, 6, 7, 6, 9, 21, 45, 12, 7, 1, 20, 18, 82, 1, 6, 20, 9, 12, 11, 27, 5, 22, 16, 14, 7, 43, 247, 21, 1, 18, 6, 7, 24, 7, 7, 5, 2, 1, 10, 34, 17, 14, 64, 29, 33, 48, 15, 98, 8, 25, 36, 16, 15, 10, 6, 136, 1, 7, 3, 29, 21, 44, 2, 15, 16, 14, 16, 3, 28, 5, 15, 9, 19, 19, 18, 6, 9, 15, 16, 15, 62, 10, 83, 28, 15, 7, 14, 1, 65, 12, 2, 1, 29, 4, 16, 9, 7, 25, 21, 19]\n"
     ]
    }
   ],
   "source": [
    "print(np.mean(songs_in_day))\n",
    "print(np.var(songs_in_day))\n",
    "print()\n",
    "print(songs_in_day)\n"
   ]
  },
  {
   "cell_type": "code",
   "execution_count": 233,
   "id": "89cb8c3d",
   "metadata": {},
   "outputs": [
    {
     "data": {
      "text/plain": [
       "[<matplotlib.lines.Line2D at 0x18ddbed2170>]"
      ]
     },
     "execution_count": 233,
     "metadata": {},
     "output_type": "execute_result"
    }
   ],
   "source": [
    "# Plot number of songs listened each day\n",
    "plt.plot(all_days, songs_in_day)"
   ]
  },
  {
   "cell_type": "markdown",
   "id": "f13c2da4",
   "metadata": {},
   "source": [
    "#### <span style=\"background:skyblue\"> Solving Unconsistency problem talked about too many time withouht litening <span>"
   ]
  },
  {
   "cell_type": "code",
   "execution_count": null,
   "id": "cfc8021b",
   "metadata": {},
   "outputs": [],
   "source": [
    "for a in dfi['month_and_year'].unique():\n",
    "    print(dfi[dfi['month_and_year'] == a].shape[0])"
   ]
  },
  {
   "cell_type": "code",
   "execution_count": null,
   "id": "19febff9",
   "metadata": {},
   "outputs": [],
   "source": [
    "dfi['month_and_year'].unique()"
   ]
  },
  {
   "cell_type": "code",
   "execution_count": null,
   "id": "3b3d7a61",
   "metadata": {},
   "outputs": [],
   "source": [
    "for a, i in zip(dfi['month_and_year'].unique(), range(len(dfi['month_and_year'].unique()))):\n",
    "    if(i < 9):\n",
    "        dfi.drop(dfi.loc[dfi['month_and_year'] == a].index, inplace=True)\n",
    "    "
   ]
  },
  {
   "cell_type": "code",
   "execution_count": null,
   "id": "358e2740",
   "metadata": {},
   "outputs": [],
   "source": [
    "dfi['month_and_year'].unique()"
   ]
  },
  {
   "cell_type": "code",
   "execution_count": null,
   "id": "d0a83fc0",
   "metadata": {},
   "outputs": [],
   "source": [
    "dfi.reset_index(inplace=True, drop=True)"
   ]
  },
  {
   "cell_type": "markdown",
   "id": "0486ca6b",
   "metadata": {},
   "source": [
    "#### <span style=\"background:skyblue\"> Plot Data By Day - Numbers <span>"
   ]
  },
  {
   "cell_type": "code",
   "execution_count": null,
   "id": "5dd36506",
   "metadata": {},
   "outputs": [],
   "source": [
    "# Split by Days & Get Index\n",
    "# ==================================================================================\n",
    "all_days = dfi['date'].unique()\n",
    "days_ix = [dfi.loc[dfi['date'] == d].index for d in all_days]\n",
    "#days_ixº\n",
    "songs_in_day = [len(days_ix[a]) for a in range(len(days_ix))]"
   ]
  },
  {
   "cell_type": "code",
   "execution_count": null,
   "id": "580cdea6",
   "metadata": {},
   "outputs": [],
   "source": [
    "for i in days_ix[:4]:\n",
    "    dfi.drop(i, inplace = True, axis = 0)\n",
    "    \n",
    "dfi.reset_index(inplace=True, drop=True)"
   ]
  },
  {
   "cell_type": "code",
   "execution_count": null,
   "id": "dcbdd408",
   "metadata": {},
   "outputs": [],
   "source": [
    "df.loc[0,'delta_time'] = 0.0"
   ]
  },
  {
   "cell_type": "code",
   "execution_count": null,
   "id": "d107f206",
   "metadata": {},
   "outputs": [],
   "source": [
    "# Split by Days & Get Index\n",
    "# ==================================================================================\n",
    "all_days = dfi['date'].unique()\n",
    "days_ix = [dfi.loc[dfi['date'] == d].index for d in all_days]\n",
    "#days_ixº\n",
    "songs_in_day = [len(days_ix[a]) for a in range(len(days_ix))]"
   ]
  },
  {
   "cell_type": "code",
   "execution_count": 235,
   "id": "94b5994c",
   "metadata": {
    "scrolled": true
   },
   "outputs": [
    {
     "name": "stdout",
     "output_type": "stream",
     "text": [
      "39.99033349444176\n",
      "801.2700853890232\n",
      "[8, 7, 7, 7, 7, 20, 2, 2, 15, 22, 148, 32, 25, 29, 77, 20, 38, 39, 51, 12, 5, 35, 1, 18, 1, 1, 11, 10, 4, 8, 21, 14, 1, 3, 1, 10, 66, 123, 63, 45, 56, 36, 73, 18, 76, 49, 89, 22, 58, 25, 9, 54, 43, 33, 49, 19, 20, 13, 26, 21, 76, 41, 78, 5, 4, 21, 24, 26, 15, 48, 44, 35, 41, 83, 52, 67, 73, 110, 29, 129, 115, 62, 60, 32, 32, 56, 11, 65, 73, 63, 53, 45, 85, 49, 22, 67, 15, 24, 28, 20, 25, 29, 24, 33, 1, 11, 25, 35, 6, 28, 21, 59, 18, 80, 2, 28, 15, 7, 17, 33, 6, 87, 45, 6, 38, 61, 25, 50, 30, 18, 29, 74, 109, 12, 16, 6, 33, 43, 10, 82, 54, 77, 18, 20, 8, 5, 38, 28, 24, 10, 53, 38, 1, 64, 52, 35, 17, 144, 18, 14, 21, 32, 11, 87, 129, 142, 25, 51, 25, 57, 30, 84, 151, 112, 26, 24, 23, 35, 10, 64, 60, 46, 61, 37, 16, 33, 56, 38, 30, 27, 27, 20, 32, 34, 32, 39, 27, 25, 10, 37, 99, 41, 8, 38, 17, 36, 38, 64, 15, 13, 23, 9, 39, 28, 97, 25, 17, 16, 24, 82, 18, 76, 64, 25, 47, 36, 48, 39, 80, 130, 39, 37, 28, 42, 65, 66, 5, 7, 34, 35, 32, 65, 15, 8, 156, 86, 65, 100, 85, 44, 54, 40, 50, 58, 23, 27, 98, 22, 13, 6, 38, 14, 51, 63, 24, 39, 57, 70, 20, 22, 100, 93, 18, 40, 70, 34, 71, 9, 128, 103, 78, 50, 75, 36, 133, 21, 146, 41, 101, 66, 63, 72, 53, 14, 29, 64, 118, 48, 67, 13, 5, 23, 17, 37, 13, 20, 16, 40, 37, 21, 65, 76, 46, 39, 5, 30, 26, 56, 81, 69, 14, 59, 42, 35, 57, 35, 44, 91, 31, 26, 42, 49, 51, 44, 42, 35, 24, 33, 38, 32, 58, 30, 29, 47, 22, 50, 66, 30, 82, 95, 37, 55, 33, 63, 64, 41, 38, 51, 29, 36, 37, 80, 24, 78, 58, 51, 11, 39, 39, 83, 30, 18, 18, 46, 54, 45, 15, 28, 32, 30, 57, 79, 59, 95, 50, 90, 65, 68, 149, 37, 21, 11, 37, 46, 25, 42, 47, 7, 25, 27, 18, 23, 37, 31, 2, 36, 37, 17, 45, 47, 25, 30, 28, 42, 72, 17, 53, 48, 14, 37, 89, 43, 38, 88, 79, 27, 45, 59, 62, 39, 59, 21, 22, 36, 11, 11, 25, 35, 24, 8, 27, 33, 30, 45, 78, 17, 5, 38, 37, 14, 59, 52, 27, 13, 62, 23, 22, 39, 55, 25, 52, 24, 85, 42, 5, 12, 11, 17, 10, 49, 13, 119, 23, 10, 25, 23, 32, 10, 10, 72, 41, 9, 21, 8, 24, 27, 32, 47, 18, 39, 43, 34, 36, 36, 12, 42, 62, 130, 129, 150, 125, 47, 123, 148, 121, 10, 6, 27, 16, 27, 10, 28, 40, 84, 44, 20, 33, 13, 81, 45, 48, 36, 128, 43, 30, 4, 24, 14, 9, 44, 19, 30, 27, 17, 109, 4, 44, 33, 18, 78, 30, 45, 20, 12, 37, 8, 11, 4, 40, 30, 9, 33, 35, 45, 30, 16, 45, 37, 6, 32, 20, 30, 72, 40, 21, 39, 35, 29, 17, 55, 17, 27, 19, 27, 26, 38, 22, 14, 26, 13, 51, 47, 24, 39, 22, 51, 39, 52, 53, 72, 33, 74, 42, 58, 30, 23, 100, 15, 29, 41, 40, 21, 23, 24, 51, 21, 36, 36, 26, 24, 10, 28, 28, 34, 46, 16, 17, 31, 4, 21, 23, 34, 62, 30, 88, 18, 32, 36, 41, 21, 58, 39, 16, 43, 60, 10, 23, 13, 7, 11, 51, 49, 82, 40, 82, 35, 21, 53, 45, 68, 47, 83, 21, 10, 22, 54, 47, 36, 52, 13, 9, 21, 53, 42, 53, 6, 9, 25, 11, 48, 42, 62, 73, 11, 18, 30, 96, 33, 21, 21, 16, 57, 27, 22, 23, 87, 33, 89, 8, 17, 82, 44, 44, 71, 31, 44, 42, 28, 36, 32, 72, 31, 55, 17, 53, 48, 52, 52, 53, 44, 43, 17, 51, 49, 63, 57, 20, 24, 24, 40, 52, 57, 22, 42, 55, 31, 55, 57, 57, 29, 42, 36, 20, 54, 47, 36, 58, 28, 16, 18, 50, 59, 45, 26, 46, 47, 49, 43, 59, 43, 59, 30, 47, 36, 47, 63, 57, 54, 35, 40, 23, 59, 84, 42, 36, 36, 58, 70, 40, 65, 51, 36, 45, 86, 49, 55, 37, 60, 69, 86, 46, 34, 55, 52, 46, 47, 27, 41, 58, 45, 47, 90, 65, 31, 27, 54, 65, 62, 103, 116, 69, 69, 53, 52, 89, 31, 56, 52, 57, 85, 45, 29, 93, 27, 20, 111, 58, 61, 79, 47, 79, 105, 24, 42, 40, 78, 58, 41, 20, 31, 30, 56, 22, 40, 24, 9, 20, 29, 41, 35, 21, 63, 83, 19, 29, 21, 85, 14, 52, 23, 29, 34, 28, 105, 46, 4, 3, 38, 13, 4, 48, 51, 20, 46, 34, 24, 21, 28, 25, 41, 48, 40, 71, 26, 75, 39, 38, 147, 25, 42, 45, 24, 36, 34, 36, 8, 44, 62, 53, 33, 64, 58, 41, 11, 29, 57, 52, 50, 12, 66, 43, 50, 27, 23, 33, 101, 172, 31, 16, 26, 39, 37, 38, 31, 46, 33, 43, 65, 59, 21, 41, 15, 17, 31, 78, 38, 15, 82, 24, 18, 40, 60, 58, 24, 40, 55, 29, 29, 32, 30, 21, 30, 24, 57, 48, 40, 40, 16, 30, 37, 18, 21, 72, 30, 34, 24, 23, 13, 35, 64, 67, 49, 22, 60, 19, 30, 59, 56, 46, 53, 48, 6, 43, 86, 31, 23, 58, 21, 43, 45, 40, 25, 15, 43, 21, 15, 71, 70, 65, 59, 35, 61, 22, 92, 73, 63, 46, 55, 55, 14, 30, 43, 68, 36, 86, 73, 15, 52, 31, 84, 49, 129, 64, 57, 32, 24, 64, 53, 93, 22, 50, 54, 26, 24, 95, 56, 57, 42, 13, 61, 23, 151, 38, 95, 78, 75, 34, 32, 70, 68, 22, 37, 61, 28, 43, 51, 48, 56, 48, 46, 97, 70, 20, 69, 52, 70, 51, 54, 64, 47, 12, 50, 11, 31, 47, 26, 37, 66, 29, 19, 42, 29, 23, 37, 68, 32, 26, 63, 68, 42, 47, 50, 47, 9, 48, 42, 55, 50, 59, 57, 51, 51, 62, 69, 46, 42, 8, 8, 6, 4, 12, 10, 21, 11, 7, 29, 7, 39, 10, 24, 29, 25, 19, 16, 48, 48, 31, 37, 62, 60, 47, 117, 24, 32, 59, 45, 47, 5, 34, 10, 14, 27, 41, 32, 25, 36, 41, 57, 42, 58, 53, 33, 61, 19, 60, 59, 106, 48, 55, 47, 48, 33, 50, 66, 93, 73, 57, 48, 34, 41, 39, 30, 64, 61, 36, 66, 46, 13, 64, 80, 67, 23, 43, 22, 66, 57, 77, 32, 119, 166, 69, 94, 73, 67, 44, 74, 82, 70, 71, 49, 27, 166, 67, 52, 25, 91, 67, 102, 68, 67, 33, 41, 67, 88, 83, 48, 105, 119, 52, 32, 39, 91, 50, 135, 207, 49, 57, 43, 56, 49, 121, 70, 96, 25, 83, 44, 78, 170, 29, 87, 76, 87, 53, 35, 14, 111, 85, 82, 80, 94, 106, 77, 126, 120, 36, 69, 18, 54, 54, 4, 18, 48, 43, 37, 154, 53, 107, 94, 43, 14, 111, 35, 21, 1, 28, 65, 82, 54, 66, 74, 118, 177, 72, 52, 60, 65, 39, 34, 96, 84, 87, 100, 75, 11, 107, 113, 18, 33, 51, 23, 42, 48, 1, 35, 62, 52, 83, 36, 28, 120, 51, 43, 68, 53, 50, 103, 23, 23, 30, 26, 64, 65, 56, 73, 38, 46, 66, 23, 27, 35, 95, 8, 33, 38, 43, 23, 57, 14, 54, 11, 30, 36, 47, 15, 31, 12, 31, 77, 47, 34, 46, 48, 36, 36, 23, 45, 11, 21, 29, 13, 36, 33, 33, 39, 12, 34, 20, 54, 31, 45, 41, 13, 78, 22, 7, 18, 41, 15, 31, 24, 14, 36, 33, 54, 12, 32, 19, 30, 43, 58, 30, 28, 21, 31, 90, 50, 16, 18, 7, 24, 86, 19, 27, 18, 18, 17, 15, 11, 11, 34, 44, 15, 59, 17, 95, 11, 71, 84, 44, 43, 50, 37, 9, 50, 82, 39, 60, 85, 25, 36, 57, 58, 45, 39, 22, 57, 10, 63, 44, 27, 31, 44, 23, 13, 32, 27, 66, 19, 34, 53, 12, 36, 36, 1, 31, 22, 47, 25, 42, 56, 36, 35, 4, 41, 11, 29, 18, 64, 24, 20, 36, 16, 26, 37, 19, 25, 26, 16, 27, 64, 19, 38, 20, 68, 6, 43, 53, 31, 39, 68, 46, 45, 6, 13, 56, 23, 18, 27, 112, 8, 23, 54, 56, 9, 34, 95, 25, 13, 31, 19, 22, 22, 36, 3, 24, 21, 51, 31, 73, 75, 12, 11, 47, 40, 54, 6, 79, 5, 55, 16, 17, 23, 44, 44, 8, 21, 17, 44, 39, 16, 72, 3, 51, 31, 22, 34, 97, 61, 7, 85, 40, 101, 39, 90, 36, 35, 26, 55, 18, 40, 41, 60, 54, 8, 9, 21, 12, 6, 9, 43, 50, 23, 78, 30, 63, 164, 73, 33, 10, 18, 44, 45, 21, 27, 31, 35, 23, 34, 45, 10, 10, 12, 39, 33, 24, 40, 147, 19, 16, 30, 7, 16, 36, 57, 20, 22, 23, 86, 83, 63, 59, 12, 9, 9, 8, 12, 60, 87, 29, 54, 23, 84, 54, 33, 2, 5, 30, 42, 29, 9, 46, 80, 36, 1, 21, 10, 34, 16, 16, 17, 17, 34, 12, 9, 29, 1, 14, 43, 89, 1, 21, 11, 3, 31, 34, 61, 17, 18, 11, 19, 12, 5, 18, 8, 44, 11, 15, 8, 62, 43, 16, 20, 6, 15, 9, 22, 190, 61, 109, 47, 20, 22, 38, 40, 10, 5, 10, 34, 17, 25, 64, 19, 28, 31, 30, 43, 9, 20, 23, 47, 10, 17, 13, 16, 32, 11, 45, 16, 13, 9, 59, 43, 18, 40, 37, 30, 39, 12, 43, 23, 23, 38, 44, 19, 8, 74, 32, 28, 43, 23, 15, 80, 52, 35, 56, 38, 55, 24, 53, 29, 35, 47, 29, 7, 18, 39, 61, 56, 42, 31, 35, 32, 37, 34, 25, 35, 24, 38, 21, 30, 46, 15, 66, 25, 77, 13, 25, 14, 45, 24, 40, 10, 86, 101, 47, 30, 38, 52, 6, 21, 59, 16, 98, 75, 34, 4, 22, 28, 34, 25, 16, 27, 12, 26, 11, 51, 13, 40, 24, 32, 71, 30, 50, 50, 43, 53, 32, 34, 50, 5, 9, 35, 24, 47, 6, 39, 2, 54, 34, 24, 56, 52, 47, 23, 30, 32, 32, 66, 46, 18, 50, 36, 66, 25, 52, 31, 49, 34, 17, 29, 16, 5, 8, 21, 63, 54, 54, 33, 90, 60, 26, 54, 21, 31, 41, 43, 20, 13, 33, 72, 19, 35, 44, 90, 3, 6, 38, 26, 11, 6, 9, 41, 32, 54, 79, 112, 12, 44, 10, 4, 40, 27, 34, 25, 23, 13, 30, 13, 22, 43, 48, 43, 12, 2, 21, 18, 68, 5, 15, 25, 19, 28, 33, 14, 70, 8, 19, 37, 23, 6, 30, 28, 20, 3, 6, 37, 34, 21, 36, 84, 9, 44, 30, 11, 84, 11, 17, 1, 25, 10, 6, 22, 37, 34, 24, 15, 9, 4, 29, 40, 41, 13, 31, 13, 10, 1, 13, 17, 5, 35, 48, 34, 13, 25, 13, 15, 8, 19, 25, 9, 7, 11, 8, 5, 54, 6, 23, 9, 5, 17, 27, 31, 29, 23, 11, 41, 38, 49, 26, 31, 6, 7, 6, 9, 21, 45, 12, 7, 1, 20, 18, 82, 1, 6, 20, 9, 12, 11, 27, 5, 22, 16, 14, 7, 43, 247, 21, 1, 18, 6, 7, 24, 7, 7, 5, 2, 1, 10, 34, 17, 14, 64, 29, 33, 48, 15, 98, 8, 25, 36, 16, 15, 10, 6, 136, 1, 7, 3, 29, 21, 44, 2, 15, 16, 14, 16, 3, 28, 5, 15, 9, 19, 19, 18, 6, 9, 15, 16, 15, 62, 10, 83, 28, 15, 7, 14, 1, 65, 12, 2, 1, 29, 4, 16, 9, 7, 25, 21, 19]\n"
     ]
    }
   ],
   "source": [
    "print(np.mean(songs_in_day))\n",
    "print(np.var(songs_in_day))\n",
    "print(songs_in_day)"
   ]
  },
  {
   "cell_type": "code",
   "execution_count": 236,
   "id": "1f1bddb2",
   "metadata": {},
   "outputs": [
    {
     "data": {
      "text/plain": [
       "[<matplotlib.lines.Line2D at 0x18e84d3a110>]"
      ]
     },
     "execution_count": 236,
     "metadata": {},
     "output_type": "execute_result"
    }
   ],
   "source": [
    "# Plot number of songs listened each day\n",
    "plt.plot(all_days, songs_in_day)"
   ]
  },
  {
   "cell_type": "markdown",
   "id": "e7513309",
   "metadata": {},
   "source": [
    "#### <span style=\"background:skyblue\"> Plot Data By Day - Delta Time <span>"
   ]
  },
  {
   "cell_type": "markdown",
   "id": "e2b90a79",
   "metadata": {},
   "source": [
    "<span style=\"background:violet\"> 3 Days <span>"
   ]
  },
  {
   "cell_type": "code",
   "execution_count": 238,
   "id": "c03a7ab7",
   "metadata": {},
   "outputs": [
    {
     "data": {
      "text/plain": [
       "[]"
      ]
     },
     "execution_count": 238,
     "metadata": {},
     "output_type": "execute_result"
    }
   ],
   "source": [
    "figure_0, axis_0 = plt.subplots(1, 2, figsize=(12, 4))\n",
    "axis_0[0].plot(dfi.loc[days_ix[230], 'hour'], dfi.loc[days_ix[230], 'delta_time'], label='MaxDay')\n",
    "axis_0[0].plot(dfi.loc[days_ix[229], 'hour'], dfi.loc[days_ix[229], 'delta_time'], label='Max-1', color='r')\n",
    "axis_0[0].plot(dfi.loc[days_ix[231], 'hour'], dfi.loc[days_ix[231], 'delta_time'], label='Max+1', color='g')\n",
    "axis_0[0].set_title(\"All Deltas by Hour\")\n",
    "\n",
    "axis_0[1].plot(dfi.loc[days_ix[230], 'delta_time'], label='MaxDay')\n",
    "axis_0[1].plot(dfi.loc[days_ix[229], 'delta_time'], label='Max-1', color='r')\n",
    "axis_0[1].plot(dfi.loc[days_ix[231], 'delta_time'], label='Max+1', color='g')\n",
    "axis_0[1].set_title(\"All Deltas by Index\")\n",
    "\n",
    "plt.plot()\n",
    "\n",
    "\n",
    "figure_1, axis_1 = plt.subplots(2, 2, figsize=(12, 8))\n",
    "axis_1[0, 0].plot(dfi.loc[days_ix[230], 'hour'], dfi.loc[days_ix[230], 'delta_time'], label='MaxDay-Hour')\n",
    "axis_1[1, 0].plot(dfi.loc[days_ix[229], 'hour'], dfi.loc[days_ix[229], 'delta_time'], label='Max-1-Hour', color='r')\n",
    "axis_1[2, 0].plot(dfi.loc[days_ix[231], 'hour'], dfi.loc[days_ix[231], 'delta_time'], label='Max+1-Hour', color='g')\n",
    "\n",
    "axis_1[0, 1].plot(dfi.loc[days_ix[230], 'delta_time'], label='MaxDay-Index')\n",
    "axis_1[1, 1].plot(dfi.loc[days_ix[229], 'delta_time'], label='Max-1-Index', color='r')\n",
    "axis_1[2, 1].plot(dfi.loc[days_ix[231], 'delta_time'], label='Max+1-Index', color='g')\n",
    "\n",
    "plt.plot()"
   ]
  },
  {
   "cell_type": "code",
   "execution_count": 239,
   "id": "37eb1b4d",
   "metadata": {},
   "outputs": [
    {
     "data": {
      "text/plain": [
       "15    272.0\n",
       "16      1.0\n",
       "17     25.0\n",
       "18      4.0\n",
       "19      0.0\n",
       "20      1.0\n",
       "21      0.0\n",
       "Name: delta_time, dtype: float64"
      ]
     },
     "execution_count": 239,
     "metadata": {},
     "output_type": "execute_result"
    }
   ],
   "source": [
    "dfi.loc[days_ix[2], 'delta_time']"
   ]
  },
  {
   "cell_type": "code",
   "execution_count": 241,
   "id": "a5579890",
   "metadata": {},
   "outputs": [
    {
     "data": {
      "text/html": [
       "<div>\n",
       "<style scoped>\n",
       "    .dataframe tbody tr th:only-of-type {\n",
       "        vertical-align: middle;\n",
       "    }\n",
       "\n",
       "    .dataframe tbody tr th {\n",
       "        vertical-align: top;\n",
       "    }\n",
       "\n",
       "    .dataframe thead th {\n",
       "        text-align: right;\n",
       "    }\n",
       "</style>\n",
       "<table border=\"1\" class=\"dataframe\">\n",
       "  <thead>\n",
       "    <tr style=\"text-align: right;\">\n",
       "      <th></th>\n",
       "      <th>end_streaming</th>\n",
       "      <th>delta_time</th>\n",
       "    </tr>\n",
       "  </thead>\n",
       "  <tbody>\n",
       "    <tr>\n",
       "      <th>0</th>\n",
       "      <td>2015-03-24 10:01:05</td>\n",
       "      <td>0.0</td>\n",
       "    </tr>\n",
       "    <tr>\n",
       "      <th>1</th>\n",
       "      <td>2015-03-24 10:01:39</td>\n",
       "      <td>0.0</td>\n",
       "    </tr>\n",
       "  </tbody>\n",
       "</table>\n",
       "</div>"
      ],
      "text/plain": [
       "        end_streaming  delta_time\n",
       "0 2015-03-24 10:01:05         0.0\n",
       "1 2015-03-24 10:01:39         0.0"
      ]
     },
     "execution_count": 241,
     "metadata": {},
     "output_type": "execute_result"
    }
   ],
   "source": [
    "dfi[['end_streaming', 'delta_time']].head(2)"
   ]
  },
  {
   "cell_type": "markdown",
   "id": "f79cbad4",
   "metadata": {},
   "source": [
    "<span style=\"background:violet\"> All of them <span>"
   ]
  },
  {
   "cell_type": "code",
   "execution_count": 243,
   "id": "c1d06463",
   "metadata": {},
   "outputs": [],
   "source": [
    "# Plot of delta time during the days\n",
    "\n",
    "#for i in range(len(all_days)):\n",
    "for i in range(10):\n",
    "    #plt.ylim(0, 1100000)\n",
    "    plt.ylim(0, 100000)\n",
    "    plt.plot(dfi.loc[days_ix[i], 'time_in_s'], dfi.loc[days_ix[i], 'delta_time'])"
   ]
  },
  {
   "cell_type": "markdown",
   "id": "784e8b6d",
   "metadata": {},
   "source": [
    "### <span style=\"background:lightgreen\"> Plot Data By Month <span>"
   ]
  },
  {
   "cell_type": "markdown",
   "id": "ddc414e4",
   "metadata": {},
   "source": [
    "#### <span style=\"background:skyblue\"> Plot Data By Month - Numbers <span>"
   ]
  },
  {
   "cell_type": "code",
   "execution_count": 244,
   "id": "5b8f6d9c",
   "metadata": {},
   "outputs": [],
   "source": [
    "# Split by Month\n",
    "# ==================================================================================\n",
    "all_months = dfi['month_and_year'].unique()\n",
    "month_ix = [dfi.loc[dfi['month_and_year'] == m].index for m in all_months]\n",
    "#month_ix\n",
    "songs_in_month = [len(month_ix[a]) for a in range(len(month_ix))]"
   ]
  },
  {
   "cell_type": "code",
   "execution_count": 245,
   "id": "ba8d0587",
   "metadata": {},
   "outputs": [
    {
     "name": "stdout",
     "output_type": "stream",
     "text": [
      "[15, 7, 34, 19, 227, 325, 2, 33, 35, 15, 1039, 1554, 918, 1102, 1521, 1107, 1294, 1445, 1954, 1198, 1268, 1601, 947, 1204, 1003, 1559, 1222, 825, 1168, 919, 1163, 1203, 1201, 1316, 1546, 1811, 1394, 885, 1409, 1290, 1150, 1269, 1655, 1708, 1240, 926, 1245, 1638, 2188, 2311, 1959, 1932, 1458, 994, 988, 1236, 974, 989, 1064, 1136, 1285, 1098, 894, 629, 1088, 882, 1136, 1192, 870, 1103, 1165, 792, 698, 571, 619, 755, 649, 476]\n"
     ]
    }
   ],
   "source": [
    "print(songs_in_month)"
   ]
  },
  {
   "cell_type": "code",
   "execution_count": 246,
   "id": "8fac2faa",
   "metadata": {},
   "outputs": [
    {
     "data": {
      "text/plain": [
       "[<matplotlib.lines.Line2D at 0x18e605569e0>]"
      ]
     },
     "execution_count": 246,
     "metadata": {},
     "output_type": "execute_result"
    }
   ],
   "source": [
    "plt.plot(all_months, songs_in_month)"
   ]
  },
  {
   "cell_type": "code",
   "execution_count": 247,
   "id": "a432c565",
   "metadata": {
    "scrolled": true
   },
   "outputs": [
    {
     "data": {
      "text/html": [
       "<div>\n",
       "<style scoped>\n",
       "    .dataframe tbody tr th:only-of-type {\n",
       "        vertical-align: middle;\n",
       "    }\n",
       "\n",
       "    .dataframe tbody tr th {\n",
       "        vertical-align: top;\n",
       "    }\n",
       "\n",
       "    .dataframe thead th {\n",
       "        text-align: right;\n",
       "    }\n",
       "</style>\n",
       "<table border=\"1\" class=\"dataframe\">\n",
       "  <thead>\n",
       "    <tr style=\"text-align: right;\">\n",
       "      <th></th>\n",
       "      <th>platform</th>\n",
       "      <th>master_metadata_track_name</th>\n",
       "      <th>master_metadata_album_artist_name</th>\n",
       "      <th>master_metadata_album_album_name</th>\n",
       "      <th>spotify_track_uri</th>\n",
       "      <th>reason_start</th>\n",
       "      <th>reason_end</th>\n",
       "      <th>is_song</th>\n",
       "      <th>is_podcast</th>\n",
       "      <th>end_streaming</th>\n",
       "      <th>...</th>\n",
       "      <th>days_to_next_month</th>\n",
       "      <th>date</th>\n",
       "      <th>hour</th>\n",
       "      <th>minute</th>\n",
       "      <th>second</th>\n",
       "      <th>time</th>\n",
       "      <th>str_time</th>\n",
       "      <th>time_in_s</th>\n",
       "      <th>week_day</th>\n",
       "      <th>df_fractured</th>\n",
       "    </tr>\n",
       "  </thead>\n",
       "  <tbody>\n",
       "    <tr>\n",
       "      <th>82264</th>\n",
       "      <td>Phone</td>\n",
       "      <td>Robot Dreams</td>\n",
       "      <td>Natural Language</td>\n",
       "      <td>MASA 003</td>\n",
       "      <td>spotify:track:61DifHIcN8BsiT2s6E2BWN</td>\n",
       "      <td>appload</td>\n",
       "      <td>logout</td>\n",
       "      <td>1</td>\n",
       "      <td>0</td>\n",
       "      <td>2022-11-01 12:40:48</td>\n",
       "      <td>...</td>\n",
       "      <td>29</td>\n",
       "      <td>2022-11-01</td>\n",
       "      <td>12</td>\n",
       "      <td>40</td>\n",
       "      <td>48</td>\n",
       "      <td>12:40:48</td>\n",
       "      <td>12:40:48</td>\n",
       "      <td>45648</td>\n",
       "      <td>1</td>\n",
       "      <td>0</td>\n",
       "    </tr>\n",
       "    <tr>\n",
       "      <th>82265</th>\n",
       "      <td>Phone</td>\n",
       "      <td>Tweakers</td>\n",
       "      <td>Gloosito</td>\n",
       "      <td>Tweakers</td>\n",
       "      <td>spotify:track:3w1SQ3igMnsldOANBo5dqm</td>\n",
       "      <td>playbtn</td>\n",
       "      <td>trackdone</td>\n",
       "      <td>1</td>\n",
       "      <td>0</td>\n",
       "      <td>2022-11-01 12:43:21</td>\n",
       "      <td>...</td>\n",
       "      <td>29</td>\n",
       "      <td>2022-11-01</td>\n",
       "      <td>12</td>\n",
       "      <td>43</td>\n",
       "      <td>21</td>\n",
       "      <td>12:43:21</td>\n",
       "      <td>12:43:21</td>\n",
       "      <td>45801</td>\n",
       "      <td>1</td>\n",
       "      <td>0</td>\n",
       "    </tr>\n",
       "    <tr>\n",
       "      <th>82266</th>\n",
       "      <td>Phone</td>\n",
       "      <td>Me Gustaron Tus Nai</td>\n",
       "      <td>Soto Asa</td>\n",
       "      <td>Down Music</td>\n",
       "      <td>spotify:track:2LXUOXihEoNt7aYYu5XjZ6</td>\n",
       "      <td>playbtn</td>\n",
       "      <td>trackdone</td>\n",
       "      <td>1</td>\n",
       "      <td>0</td>\n",
       "      <td>2022-11-01 12:48:42</td>\n",
       "      <td>...</td>\n",
       "      <td>29</td>\n",
       "      <td>2022-11-01</td>\n",
       "      <td>12</td>\n",
       "      <td>48</td>\n",
       "      <td>42</td>\n",
       "      <td>12:48:42</td>\n",
       "      <td>12:48:42</td>\n",
       "      <td>46122</td>\n",
       "      <td>1</td>\n",
       "      <td>0</td>\n",
       "    </tr>\n",
       "    <tr>\n",
       "      <th>82267</th>\n",
       "      <td>Phone</td>\n",
       "      <td>New Barcelona</td>\n",
       "      <td>Holics</td>\n",
       "      <td>Holics Tape</td>\n",
       "      <td>spotify:track:2ZEXLSjvNqrhJ97PhW60tf</td>\n",
       "      <td>trackdone</td>\n",
       "      <td>trackdone</td>\n",
       "      <td>1</td>\n",
       "      <td>0</td>\n",
       "      <td>2022-11-01 12:50:31</td>\n",
       "      <td>...</td>\n",
       "      <td>29</td>\n",
       "      <td>2022-11-01</td>\n",
       "      <td>12</td>\n",
       "      <td>50</td>\n",
       "      <td>31</td>\n",
       "      <td>12:50:31</td>\n",
       "      <td>12:50:31</td>\n",
       "      <td>46231</td>\n",
       "      <td>1</td>\n",
       "      <td>0</td>\n",
       "    </tr>\n",
       "    <tr>\n",
       "      <th>82268</th>\n",
       "      <td>Phone</td>\n",
       "      <td>Talking Shit</td>\n",
       "      <td>Gloosito</td>\n",
       "      <td>Talking Shit</td>\n",
       "      <td>spotify:track:1qrZAt4QbKwA25aA9ipfTb</td>\n",
       "      <td>trackdone</td>\n",
       "      <td>trackdone</td>\n",
       "      <td>1</td>\n",
       "      <td>0</td>\n",
       "      <td>2022-11-01 12:51:46</td>\n",
       "      <td>...</td>\n",
       "      <td>29</td>\n",
       "      <td>2022-11-01</td>\n",
       "      <td>12</td>\n",
       "      <td>51</td>\n",
       "      <td>46</td>\n",
       "      <td>12:51:46</td>\n",
       "      <td>12:51:46</td>\n",
       "      <td>46306</td>\n",
       "      <td>1</td>\n",
       "      <td>0</td>\n",
       "    </tr>\n",
       "    <tr>\n",
       "      <th>...</th>\n",
       "      <td>...</td>\n",
       "      <td>...</td>\n",
       "      <td>...</td>\n",
       "      <td>...</td>\n",
       "      <td>...</td>\n",
       "      <td>...</td>\n",
       "      <td>...</td>\n",
       "      <td>...</td>\n",
       "      <td>...</td>\n",
       "      <td>...</td>\n",
       "      <td>...</td>\n",
       "      <td>...</td>\n",
       "      <td>...</td>\n",
       "      <td>...</td>\n",
       "      <td>...</td>\n",
       "      <td>...</td>\n",
       "      <td>...</td>\n",
       "      <td>...</td>\n",
       "      <td>...</td>\n",
       "      <td>...</td>\n",
       "      <td>...</td>\n",
       "    </tr>\n",
       "    <tr>\n",
       "      <th>82735</th>\n",
       "      <td>Phone</td>\n",
       "      <td>mwah :3</td>\n",
       "      <td>rusowsky</td>\n",
       "      <td>mwah :3</td>\n",
       "      <td>spotify:track:3PIECzRdxCWyAz6Poe4Rcp</td>\n",
       "      <td>trackdone</td>\n",
       "      <td>trackdone</td>\n",
       "      <td>1</td>\n",
       "      <td>0</td>\n",
       "      <td>2022-11-24 22:13:20</td>\n",
       "      <td>...</td>\n",
       "      <td>6</td>\n",
       "      <td>2022-11-24</td>\n",
       "      <td>22</td>\n",
       "      <td>13</td>\n",
       "      <td>20</td>\n",
       "      <td>22:13:20</td>\n",
       "      <td>22:13:20</td>\n",
       "      <td>80000</td>\n",
       "      <td>3</td>\n",
       "      <td>0</td>\n",
       "    </tr>\n",
       "    <tr>\n",
       "      <th>82736</th>\n",
       "      <td>Phone</td>\n",
       "      <td>Tangos De Copera</td>\n",
       "      <td>La Plazuela</td>\n",
       "      <td>Tangos De Copera</td>\n",
       "      <td>spotify:track:4b6lJbPHnWpueU3ek8rUJP</td>\n",
       "      <td>trackdone</td>\n",
       "      <td>endplay</td>\n",
       "      <td>1</td>\n",
       "      <td>0</td>\n",
       "      <td>2022-11-24 22:15:38</td>\n",
       "      <td>...</td>\n",
       "      <td>6</td>\n",
       "      <td>2022-11-24</td>\n",
       "      <td>22</td>\n",
       "      <td>15</td>\n",
       "      <td>38</td>\n",
       "      <td>22:15:38</td>\n",
       "      <td>22:15:38</td>\n",
       "      <td>80138</td>\n",
       "      <td>3</td>\n",
       "      <td>0</td>\n",
       "    </tr>\n",
       "    <tr>\n",
       "      <th>82737</th>\n",
       "      <td>Phone</td>\n",
       "      <td>je suis</td>\n",
       "      <td>GAZZI</td>\n",
       "      <td>je suis</td>\n",
       "      <td>spotify:track:0VND0Hye2brqMEjQ7Pa8DG</td>\n",
       "      <td>clickrow</td>\n",
       "      <td>trackdone</td>\n",
       "      <td>1</td>\n",
       "      <td>0</td>\n",
       "      <td>2022-11-24 22:20:21</td>\n",
       "      <td>...</td>\n",
       "      <td>6</td>\n",
       "      <td>2022-11-24</td>\n",
       "      <td>22</td>\n",
       "      <td>20</td>\n",
       "      <td>21</td>\n",
       "      <td>22:20:21</td>\n",
       "      <td>22:20:21</td>\n",
       "      <td>80421</td>\n",
       "      <td>3</td>\n",
       "      <td>0</td>\n",
       "    </tr>\n",
       "    <tr>\n",
       "      <th>82738</th>\n",
       "      <td>Phone</td>\n",
       "      <td>mwah :3</td>\n",
       "      <td>rusowsky</td>\n",
       "      <td>mwah :3</td>\n",
       "      <td>spotify:track:3PIECzRdxCWyAz6Poe4Rcp</td>\n",
       "      <td>clickrow</td>\n",
       "      <td>trackdone</td>\n",
       "      <td>1</td>\n",
       "      <td>0</td>\n",
       "      <td>2022-11-24 22:22:38</td>\n",
       "      <td>...</td>\n",
       "      <td>6</td>\n",
       "      <td>2022-11-24</td>\n",
       "      <td>22</td>\n",
       "      <td>22</td>\n",
       "      <td>38</td>\n",
       "      <td>22:22:38</td>\n",
       "      <td>22:22:38</td>\n",
       "      <td>80558</td>\n",
       "      <td>3</td>\n",
       "      <td>0</td>\n",
       "    </tr>\n",
       "    <tr>\n",
       "      <th>82739</th>\n",
       "      <td>Phone</td>\n",
       "      <td>Tangos De Copera</td>\n",
       "      <td>La Plazuela</td>\n",
       "      <td>Tangos De Copera</td>\n",
       "      <td>spotify:track:4b6lJbPHnWpueU3ek8rUJP</td>\n",
       "      <td>trackdone</td>\n",
       "      <td>trackdone</td>\n",
       "      <td>1</td>\n",
       "      <td>0</td>\n",
       "      <td>2022-11-24 22:27:00</td>\n",
       "      <td>...</td>\n",
       "      <td>6</td>\n",
       "      <td>2022-11-24</td>\n",
       "      <td>22</td>\n",
       "      <td>27</td>\n",
       "      <td>0</td>\n",
       "      <td>22:27:00</td>\n",
       "      <td>22:27:00</td>\n",
       "      <td>80820</td>\n",
       "      <td>3</td>\n",
       "      <td>0</td>\n",
       "    </tr>\n",
       "  </tbody>\n",
       "</table>\n",
       "<p>476 rows × 31 columns</p>\n",
       "</div>"
      ],
      "text/plain": [
       "      platform master_metadata_track_name master_metadata_album_artist_name  \\\n",
       "82264    Phone               Robot Dreams                  Natural Language   \n",
       "82265    Phone                   Tweakers                          Gloosito   \n",
       "82266    Phone        Me Gustaron Tus Nai                          Soto Asa   \n",
       "82267    Phone              New Barcelona                            Holics   \n",
       "82268    Phone               Talking Shit                          Gloosito   \n",
       "...        ...                        ...                               ...   \n",
       "82735    Phone                    mwah :3                          rusowsky   \n",
       "82736    Phone           Tangos De Copera                       La Plazuela   \n",
       "82737    Phone                    je suis                             GAZZI   \n",
       "82738    Phone                    mwah :3                          rusowsky   \n",
       "82739    Phone           Tangos De Copera                       La Plazuela   \n",
       "\n",
       "      master_metadata_album_album_name                     spotify_track_uri  \\\n",
       "82264                         MASA 003  spotify:track:61DifHIcN8BsiT2s6E2BWN   \n",
       "82265                         Tweakers  spotify:track:3w1SQ3igMnsldOANBo5dqm   \n",
       "82266                       Down Music  spotify:track:2LXUOXihEoNt7aYYu5XjZ6   \n",
       "82267                      Holics Tape  spotify:track:2ZEXLSjvNqrhJ97PhW60tf   \n",
       "82268                     Talking Shit  spotify:track:1qrZAt4QbKwA25aA9ipfTb   \n",
       "...                                ...                                   ...   \n",
       "82735                          mwah :3  spotify:track:3PIECzRdxCWyAz6Poe4Rcp   \n",
       "82736                 Tangos De Copera  spotify:track:4b6lJbPHnWpueU3ek8rUJP   \n",
       "82737                          je suis  spotify:track:0VND0Hye2brqMEjQ7Pa8DG   \n",
       "82738                          mwah :3  spotify:track:3PIECzRdxCWyAz6Poe4Rcp   \n",
       "82739                 Tangos De Copera  spotify:track:4b6lJbPHnWpueU3ek8rUJP   \n",
       "\n",
       "      reason_start reason_end  is_song  is_podcast       end_streaming  ...  \\\n",
       "82264      appload     logout        1           0 2022-11-01 12:40:48  ...   \n",
       "82265      playbtn  trackdone        1           0 2022-11-01 12:43:21  ...   \n",
       "82266      playbtn  trackdone        1           0 2022-11-01 12:48:42  ...   \n",
       "82267    trackdone  trackdone        1           0 2022-11-01 12:50:31  ...   \n",
       "82268    trackdone  trackdone        1           0 2022-11-01 12:51:46  ...   \n",
       "...            ...        ...      ...         ...                 ...  ...   \n",
       "82735    trackdone  trackdone        1           0 2022-11-24 22:13:20  ...   \n",
       "82736    trackdone    endplay        1           0 2022-11-24 22:15:38  ...   \n",
       "82737     clickrow  trackdone        1           0 2022-11-24 22:20:21  ...   \n",
       "82738     clickrow  trackdone        1           0 2022-11-24 22:22:38  ...   \n",
       "82739    trackdone  trackdone        1           0 2022-11-24 22:27:00  ...   \n",
       "\n",
       "       days_to_next_month        date  hour minute  second      time  \\\n",
       "82264                  29  2022-11-01    12     40      48  12:40:48   \n",
       "82265                  29  2022-11-01    12     43      21  12:43:21   \n",
       "82266                  29  2022-11-01    12     48      42  12:48:42   \n",
       "82267                  29  2022-11-01    12     50      31  12:50:31   \n",
       "82268                  29  2022-11-01    12     51      46  12:51:46   \n",
       "...                   ...         ...   ...    ...     ...       ...   \n",
       "82735                   6  2022-11-24    22     13      20  22:13:20   \n",
       "82736                   6  2022-11-24    22     15      38  22:15:38   \n",
       "82737                   6  2022-11-24    22     20      21  22:20:21   \n",
       "82738                   6  2022-11-24    22     22      38  22:22:38   \n",
       "82739                   6  2022-11-24    22     27       0  22:27:00   \n",
       "\n",
       "       str_time  time_in_s week_day  df_fractured  \n",
       "82264  12:40:48      45648        1             0  \n",
       "82265  12:43:21      45801        1             0  \n",
       "82266  12:48:42      46122        1             0  \n",
       "82267  12:50:31      46231        1             0  \n",
       "82268  12:51:46      46306        1             0  \n",
       "...         ...        ...      ...           ...  \n",
       "82735  22:13:20      80000        3             0  \n",
       "82736  22:15:38      80138        3             0  \n",
       "82737  22:20:21      80421        3             0  \n",
       "82738  22:22:38      80558        3             0  \n",
       "82739  22:27:00      80820        3             0  \n",
       "\n",
       "[476 rows x 31 columns]"
      ]
     },
     "execution_count": 247,
     "metadata": {},
     "output_type": "execute_result"
    }
   ],
   "source": [
    "dfi[dfi['month_and_year'] == '2022-11']"
   ]
  },
  {
   "cell_type": "markdown",
   "id": "a4ca0f6a",
   "metadata": {},
   "source": [
    "#### <span style=\"background:skyblue\"> Plot Data By Month - DeltaTime <span>"
   ]
  },
  {
   "cell_type": "markdown",
   "id": "582bb8f5",
   "metadata": {},
   "source": [
    "<span style=\"background:violet\"> 3 Months <span>"
   ]
  },
  {
   "cell_type": "code",
   "execution_count": 248,
   "id": "4bbc746a",
   "metadata": {},
   "outputs": [
    {
     "data": {
      "text/plain": [
       "[]"
      ]
     },
     "execution_count": 248,
     "metadata": {},
     "output_type": "execute_result"
    }
   ],
   "source": [
    "figure_0, axis_0 = plt.subplots(1, 2, figsize=(12, 4))\n",
    "axis_0[0].plot(dfi.loc[month_ix[1], 'day'], dfi.loc[month_ix[1], 'delta_time'], label='MaxMonth')\n",
    "axis_0[0].plot(dfi.loc[month_ix[0], 'day'], dfi.loc[month_ix[0], 'delta_time'], label='Max-1', color='r')\n",
    "axis_0[0].plot(dfi.loc[month_ix[2], 'day'], dfi.loc[month_ix[2], 'delta_time'], label='Max+1', color='g')\n",
    "axis_0[0].set_title(\"All Deltas by Month\")\n",
    "\n",
    "axis_0[1].plot(dfi.loc[month_ix[1], 'delta_time'], label='MaxMonth')\n",
    "axis_0[1].plot(dfi.loc[month_ix[0], 'delta_time'], label='Max-1', color='r')\n",
    "axis_0[1].plot(dfi.loc[month_ix[2], 'delta_time'], label='Max+1', color='g')\n",
    "axis_0[1].set_title(\"All Deltas by Index\")\n",
    "\n",
    "plt.plot()\n",
    "\n",
    "figure_1, axis_1 = plt.subplots(3, 2, figsize=(12, 8))\n",
    "axis_1[0, 0].plot(dfi.loc[month_ix[1], 'day'], dfi.loc[month_ix[1], 'delta_time'], label='MaxMonth')\n",
    "axis_1[0, 1].plot(dfi.loc[month_ix[1], 'delta_time'], label='MaxMonth')\n",
    "axis_1[1, 0].plot(dfi.loc[month_ix[0], 'day'], dfi.loc[month_ix[0], 'delta_time'], label='Max-1', color='r')\n",
    "axis_1[1, 1].plot(dfi.loc[month_ix[0], 'delta_time'], label='Max-1', color='r')\n",
    "axis_1[2, 0].plot(dfi.loc[month_ix[2], 'day'], dfi.loc[month_ix[2], 'delta_time'], label='Max+1', color='g')\n",
    "axis_1[2, 1].plot(dfi.loc[month_ix[2], 'delta_time'], label='Max+1', color='g')\n",
    "\n",
    "plt.plot()"
   ]
  },
  {
   "cell_type": "markdown",
   "id": "7cf79271",
   "metadata": {},
   "source": [
    "<span style=\"background:violet\"> All Months - Split <span>"
   ]
  },
  {
   "cell_type": "code",
   "execution_count": null,
   "id": "72e19938",
   "metadata": {},
   "outputs": [],
   "source": [
    "# Plot of delta time during the days\n",
    "for i in range(len(all_months)):\n",
    "    dfi.loc[month_ix[i], 'delta_time'].plot()"
   ]
  },
  {
   "cell_type": "code",
   "execution_count": null,
   "id": "4c9d603f",
   "metadata": {},
   "outputs": [],
   "source": [
    "max(dfi['delta_time'])"
   ]
  },
  {
   "cell_type": "markdown",
   "id": "4ccbe577",
   "metadata": {},
   "source": [
    "<span style=\"background:violet\"> All Months - Together <span>"
   ]
  },
  {
   "cell_type": "code",
   "execution_count": null,
   "id": "ebec1b95",
   "metadata": {},
   "outputs": [],
   "source": [
    "for i in range(len(all_months)):\n",
    "#for i in range(6):\n",
    "    plt.plot(df.loc[month_ix[i], 'day'], dfi.loc[month_ix[i], 'delta_time'])"
   ]
  },
  {
   "cell_type": "markdown",
   "id": "0d26c69d",
   "metadata": {},
   "source": [
    "### <span style=\"background:lightgreen\"> Plot Data By Year <span>"
   ]
  },
  {
   "cell_type": "markdown",
   "id": "a89d1b53",
   "metadata": {},
   "source": [
    "#### <span style=\"background:skyblue\"> Plot Data By Year - Numbers <span>"
   ]
  },
  {
   "cell_type": "code",
   "execution_count": null,
   "id": "1fe8e585",
   "metadata": {},
   "outputs": [],
   "source": [
    "# Split by Month\n",
    "# ==================================================================================\n",
    "all_y = dfi['year'].unique()\n",
    "year_ix = [dfi.loc[df['year'] == y].index for y in all_y]\n",
    "#year_ix\n",
    "songs_in_y = [len(year_ix[a]) for a in range(len(year_ix))]"
   ]
  },
  {
   "cell_type": "code",
   "execution_count": null,
   "id": "a9b50c19",
   "metadata": {},
   "outputs": [],
   "source": [
    "print(songs_in_y)"
   ]
  },
  {
   "cell_type": "code",
   "execution_count": null,
   "id": "308adf8e",
   "metadata": {},
   "outputs": [],
   "source": [
    "# Plot number of songs listened each month\n",
    "plt.bar(list(all_y), songs_in_y)\n",
    "plt.title('Songs Listened Each Year')\n",
    "plt.xlabel('Years')\n",
    "plt.ylabel('Songs Listened')\n",
    "plt.show()"
   ]
  },
  {
   "cell_type": "markdown",
   "id": "307debab",
   "metadata": {},
   "source": [
    "#### <span style=\"background:skyblue\"> Plot Data By Year - DeltaTime <span>"
   ]
  },
  {
   "cell_type": "markdown",
   "id": "fc5a5f0e",
   "metadata": {},
   "source": [
    "<span style=\"background:violet\"> 3 Years <span>"
   ]
  },
  {
   "cell_type": "code",
   "execution_count": null,
   "id": "a868cbcd",
   "metadata": {},
   "outputs": [],
   "source": [
    "figure_0, axis_0 = plt.subplots(1, 2, figsize=(12, 4))\n",
    "axis_0[0].plot(dfi.loc[year_ix[2], 'month'], dfi.loc[year_ix[2], 'delta_time'], label='MaxYear')\n",
    "axis_0[0].plot(dfi.loc[year_ix[3], 'month'], dfi.loc[year_ix[3], 'delta_time'], label='Max+1', color='r')\n",
    "axis_0[0].plot(dfi.loc[year_ix[1], 'month'], dfi.loc[year_ix[1], 'delta_time'], label='Max-1', color='g')\n",
    "\n",
    "axis_0[0].set_title(\"All Deltas by Year\")\n",
    "\n",
    "axis_0[1].plot(dfi.loc[year_ix[2], 'delta_time'], label='MaxYear')\n",
    "axis_0[1].plot(dfi.loc[year_ix[3], 'delta_time'], label='Max+1', color='r')\n",
    "axis_0[1].plot(dfi.loc[year_ix[1], 'delta_time'], label='Max-1', color='g')\n",
    "axis_0[1].set_title(\"All Deltas by Index\")\n",
    "\n",
    "plt.plot()\n",
    "\n",
    "figure_1, axis_1 = plt.subplots(3, 2, figsize=(12, 8))\n",
    "axis_1[0, 0].plot(dfi.loc[year_ix[2], 'month'], dfi.loc[year_ix[2], 'delta_time'], label='MaxYear')\n",
    "axis_1[0, 1].plot(dfi.loc[year_ix[2], 'delta_time'], label='MaxYear')\n",
    "axis_1[1, 0].plot(dfi.loc[year_ix[3], 'month'], dfi.loc[year_ix[3], 'delta_time'], label='Max+1', color='r')\n",
    "axis_1[1, 1].plot(dfi.loc[year_ix[3], 'delta_time'], label='Max+1', color='r')\n",
    "axis_1[2, 0].plot(dfi.loc[year_ix[1], 'month'], dfi.loc[year_ix[1], 'delta_time'], label='Max-1', color='g')\n",
    "axis_1[2, 1].plot(dfi.loc[year_ix[1], 'delta_time'], label='Max-1', color='g')\n",
    "\n",
    "plt.plot()"
   ]
  },
  {
   "cell_type": "markdown",
   "id": "2d1f7cf7",
   "metadata": {},
   "source": [
    "<span style=\"background:violet\"> All Years <span>"
   ]
  },
  {
   "cell_type": "code",
   "execution_count": null,
   "id": "5c04b180",
   "metadata": {},
   "outputs": [],
   "source": [
    "# Plot of delta time during the days\n",
    "for i in range(len(all_y)):\n",
    "    dfi.loc[year_ix[i], 'delta_time'].plot()"
   ]
  },
  {
   "cell_type": "markdown",
   "id": "1da72e6f",
   "metadata": {},
   "source": [
    "# <span style=\"background:Red\">  Save Dataframes 4 BurningRate & 4 Predict Song (Classification) <span>"
   ]
  },
  {
   "cell_type": "markdown",
   "id": "1688c307",
   "metadata": {},
   "source": [
    "# <span style=\"background:Red\">  Save Dataframes 4 BurningRate & 4 Predict Song (Classification) <span>"
   ]
  },
  {
   "cell_type": "code",
   "execution_count": 249,
   "id": "95e30275",
   "metadata": {},
   "outputs": [
    {
     "ename": "OSError",
     "evalue": "Cannot save file into a non-existent directory: 'C:\\Users\\ghoyo\\Desktop\\TFM 3.0\\GeneratedDfs'",
     "output_type": "error",
     "traceback": [
      "\u001b[1;31m---------------------------------------------------------------------------\u001b[0m",
      "\u001b[1;31mOSError\u001b[0m                                   Traceback (most recent call last)",
      "Input \u001b[1;32mIn [249]\u001b[0m, in \u001b[0;36m<cell line: 1>\u001b[1;34m()\u001b[0m\n\u001b[1;32m----> 1\u001b[0m \u001b[43mdfi\u001b[49m\u001b[38;5;241;43m.\u001b[39;49m\u001b[43mto_json\u001b[49m\u001b[43m(\u001b[49m\u001b[38;5;124;43mr\u001b[39;49m\u001b[38;5;124;43m\"\u001b[39;49m\u001b[38;5;124;43mC:\u001b[39;49m\u001b[38;5;124;43m\\\u001b[39;49m\u001b[38;5;124;43mUsers\u001b[39;49m\u001b[38;5;124;43m\\\u001b[39;49m\u001b[38;5;124;43mghoyo\u001b[39;49m\u001b[38;5;124;43m\\\u001b[39;49m\u001b[38;5;124;43mDesktop\u001b[39;49m\u001b[38;5;124;43m\\\u001b[39;49m\u001b[38;5;124;43mTFM 3.0\u001b[39;49m\u001b[38;5;124;43m\\\u001b[39;49m\u001b[38;5;124;43mGeneratedDfs\u001b[39;49m\u001b[38;5;124;43m\\\u001b[39;49m\u001b[38;5;124;43mVisualsData.json\u001b[39;49m\u001b[38;5;124;43m\"\u001b[39;49m\u001b[43m)\u001b[49m\n",
      "File \u001b[1;32m~\\AppData\\Local\\Programs\\Python\\Python310\\lib\\site-packages\\pandas\\core\\generic.py:2621\u001b[0m, in \u001b[0;36mNDFrame.to_json\u001b[1;34m(self, path_or_buf, orient, date_format, double_precision, force_ascii, date_unit, default_handler, lines, compression, index, indent, storage_options)\u001b[0m\n\u001b[0;32m   2618\u001b[0m config\u001b[38;5;241m.\u001b[39mis_nonnegative_int(indent)\n\u001b[0;32m   2619\u001b[0m indent \u001b[38;5;241m=\u001b[39m indent \u001b[38;5;129;01mor\u001b[39;00m \u001b[38;5;241m0\u001b[39m\n\u001b[1;32m-> 2621\u001b[0m \u001b[38;5;28;01mreturn\u001b[39;00m \u001b[43mjson\u001b[49m\u001b[38;5;241;43m.\u001b[39;49m\u001b[43mto_json\u001b[49m\u001b[43m(\u001b[49m\n\u001b[0;32m   2622\u001b[0m \u001b[43m    \u001b[49m\u001b[43mpath_or_buf\u001b[49m\u001b[38;5;241;43m=\u001b[39;49m\u001b[43mpath_or_buf\u001b[49m\u001b[43m,\u001b[49m\n\u001b[0;32m   2623\u001b[0m \u001b[43m    \u001b[49m\u001b[43mobj\u001b[49m\u001b[38;5;241;43m=\u001b[39;49m\u001b[38;5;28;43mself\u001b[39;49m\u001b[43m,\u001b[49m\n\u001b[0;32m   2624\u001b[0m \u001b[43m    \u001b[49m\u001b[43morient\u001b[49m\u001b[38;5;241;43m=\u001b[39;49m\u001b[43morient\u001b[49m\u001b[43m,\u001b[49m\n\u001b[0;32m   2625\u001b[0m \u001b[43m    \u001b[49m\u001b[43mdate_format\u001b[49m\u001b[38;5;241;43m=\u001b[39;49m\u001b[43mdate_format\u001b[49m\u001b[43m,\u001b[49m\n\u001b[0;32m   2626\u001b[0m \u001b[43m    \u001b[49m\u001b[43mdouble_precision\u001b[49m\u001b[38;5;241;43m=\u001b[39;49m\u001b[43mdouble_precision\u001b[49m\u001b[43m,\u001b[49m\n\u001b[0;32m   2627\u001b[0m \u001b[43m    \u001b[49m\u001b[43mforce_ascii\u001b[49m\u001b[38;5;241;43m=\u001b[39;49m\u001b[43mforce_ascii\u001b[49m\u001b[43m,\u001b[49m\n\u001b[0;32m   2628\u001b[0m \u001b[43m    \u001b[49m\u001b[43mdate_unit\u001b[49m\u001b[38;5;241;43m=\u001b[39;49m\u001b[43mdate_unit\u001b[49m\u001b[43m,\u001b[49m\n\u001b[0;32m   2629\u001b[0m \u001b[43m    \u001b[49m\u001b[43mdefault_handler\u001b[49m\u001b[38;5;241;43m=\u001b[39;49m\u001b[43mdefault_handler\u001b[49m\u001b[43m,\u001b[49m\n\u001b[0;32m   2630\u001b[0m \u001b[43m    \u001b[49m\u001b[43mlines\u001b[49m\u001b[38;5;241;43m=\u001b[39;49m\u001b[43mlines\u001b[49m\u001b[43m,\u001b[49m\n\u001b[0;32m   2631\u001b[0m \u001b[43m    \u001b[49m\u001b[43mcompression\u001b[49m\u001b[38;5;241;43m=\u001b[39;49m\u001b[43mcompression\u001b[49m\u001b[43m,\u001b[49m\n\u001b[0;32m   2632\u001b[0m \u001b[43m    \u001b[49m\u001b[43mindex\u001b[49m\u001b[38;5;241;43m=\u001b[39;49m\u001b[43mindex\u001b[49m\u001b[43m,\u001b[49m\n\u001b[0;32m   2633\u001b[0m \u001b[43m    \u001b[49m\u001b[43mindent\u001b[49m\u001b[38;5;241;43m=\u001b[39;49m\u001b[43mindent\u001b[49m\u001b[43m,\u001b[49m\n\u001b[0;32m   2634\u001b[0m \u001b[43m    \u001b[49m\u001b[43mstorage_options\u001b[49m\u001b[38;5;241;43m=\u001b[39;49m\u001b[43mstorage_options\u001b[49m\u001b[43m,\u001b[49m\n\u001b[0;32m   2635\u001b[0m \u001b[43m\u001b[49m\u001b[43m)\u001b[49m\n",
      "File \u001b[1;32m~\\AppData\\Local\\Programs\\Python\\Python310\\lib\\site-packages\\pandas\\io\\json\\_json.py:127\u001b[0m, in \u001b[0;36mto_json\u001b[1;34m(path_or_buf, obj, orient, date_format, double_precision, force_ascii, date_unit, default_handler, lines, compression, index, indent, storage_options)\u001b[0m\n\u001b[0;32m    123\u001b[0m     s \u001b[38;5;241m=\u001b[39m convert_to_line_delimits(s)\n\u001b[0;32m    125\u001b[0m \u001b[38;5;28;01mif\u001b[39;00m path_or_buf \u001b[38;5;129;01mis\u001b[39;00m \u001b[38;5;129;01mnot\u001b[39;00m \u001b[38;5;28;01mNone\u001b[39;00m:\n\u001b[0;32m    126\u001b[0m     \u001b[38;5;66;03m# apply compression and byte/text conversion\u001b[39;00m\n\u001b[1;32m--> 127\u001b[0m     \u001b[38;5;28;01mwith\u001b[39;00m \u001b[43mget_handle\u001b[49m\u001b[43m(\u001b[49m\n\u001b[0;32m    128\u001b[0m \u001b[43m        \u001b[49m\u001b[43mpath_or_buf\u001b[49m\u001b[43m,\u001b[49m\u001b[43m \u001b[49m\u001b[38;5;124;43m\"\u001b[39;49m\u001b[38;5;124;43mw\u001b[39;49m\u001b[38;5;124;43m\"\u001b[39;49m\u001b[43m,\u001b[49m\u001b[43m \u001b[49m\u001b[43mcompression\u001b[49m\u001b[38;5;241;43m=\u001b[39;49m\u001b[43mcompression\u001b[49m\u001b[43m,\u001b[49m\u001b[43m \u001b[49m\u001b[43mstorage_options\u001b[49m\u001b[38;5;241;43m=\u001b[39;49m\u001b[43mstorage_options\u001b[49m\n\u001b[0;32m    129\u001b[0m \u001b[43m    \u001b[49m\u001b[43m)\u001b[49m \u001b[38;5;28;01mas\u001b[39;00m handles:\n\u001b[0;32m    130\u001b[0m         handles\u001b[38;5;241m.\u001b[39mhandle\u001b[38;5;241m.\u001b[39mwrite(s)\n\u001b[0;32m    131\u001b[0m \u001b[38;5;28;01melse\u001b[39;00m:\n",
      "File \u001b[1;32m~\\AppData\\Local\\Programs\\Python\\Python310\\lib\\site-packages\\pandas\\io\\common.py:694\u001b[0m, in \u001b[0;36mget_handle\u001b[1;34m(path_or_buf, mode, encoding, compression, memory_map, is_text, errors, storage_options)\u001b[0m\n\u001b[0;32m    692\u001b[0m \u001b[38;5;66;03m# Only for write methods\u001b[39;00m\n\u001b[0;32m    693\u001b[0m \u001b[38;5;28;01mif\u001b[39;00m \u001b[38;5;124m\"\u001b[39m\u001b[38;5;124mr\u001b[39m\u001b[38;5;124m\"\u001b[39m \u001b[38;5;129;01mnot\u001b[39;00m \u001b[38;5;129;01min\u001b[39;00m mode \u001b[38;5;129;01mand\u001b[39;00m is_path:\n\u001b[1;32m--> 694\u001b[0m     \u001b[43mcheck_parent_directory\u001b[49m\u001b[43m(\u001b[49m\u001b[38;5;28;43mstr\u001b[39;49m\u001b[43m(\u001b[49m\u001b[43mhandle\u001b[49m\u001b[43m)\u001b[49m\u001b[43m)\u001b[49m\n\u001b[0;32m    696\u001b[0m \u001b[38;5;28;01mif\u001b[39;00m compression:\n\u001b[0;32m    697\u001b[0m     \u001b[38;5;28;01mif\u001b[39;00m compression \u001b[38;5;241m!=\u001b[39m \u001b[38;5;124m\"\u001b[39m\u001b[38;5;124mzstd\u001b[39m\u001b[38;5;124m\"\u001b[39m:\n\u001b[0;32m    698\u001b[0m         \u001b[38;5;66;03m# compression libraries do not like an explicit text-mode\u001b[39;00m\n",
      "File \u001b[1;32m~\\AppData\\Local\\Programs\\Python\\Python310\\lib\\site-packages\\pandas\\io\\common.py:568\u001b[0m, in \u001b[0;36mcheck_parent_directory\u001b[1;34m(path)\u001b[0m\n\u001b[0;32m    566\u001b[0m parent \u001b[38;5;241m=\u001b[39m Path(path)\u001b[38;5;241m.\u001b[39mparent\n\u001b[0;32m    567\u001b[0m \u001b[38;5;28;01mif\u001b[39;00m \u001b[38;5;129;01mnot\u001b[39;00m parent\u001b[38;5;241m.\u001b[39mis_dir():\n\u001b[1;32m--> 568\u001b[0m     \u001b[38;5;28;01mraise\u001b[39;00m \u001b[38;5;167;01mOSError\u001b[39;00m(\u001b[38;5;124mrf\u001b[39m\u001b[38;5;124m\"\u001b[39m\u001b[38;5;124mCannot save file into a non-existent directory: \u001b[39m\u001b[38;5;124m'\u001b[39m\u001b[38;5;132;01m{\u001b[39;00mparent\u001b[38;5;132;01m}\u001b[39;00m\u001b[38;5;124m'\u001b[39m\u001b[38;5;124m\"\u001b[39m)\n",
      "\u001b[1;31mOSError\u001b[0m: Cannot save file into a non-existent directory: 'C:\\Users\\ghoyo\\Desktop\\TFM 3.0\\GeneratedDfs'"
     ]
    }
   ],
   "source": [
    "dfi.to_json(r\"C:\\Users\\ghoyo\\Desktop\\TFM 3.0\\GeneratedDfs\\VisualsData.json\")"
   ]
  },
  {
   "cell_type": "markdown",
   "id": "4b68578d",
   "metadata": {},
   "source": [
    "# <span style=\"background:Red\">  Save Dataframes 4 BurningRate & 4 Predict Song (Classification) <span>"
   ]
  },
  {
   "cell_type": "markdown",
   "id": "ad9b2275",
   "metadata": {},
   "source": [
    "# <span style=\"background:Red\">  Save Dataframes 4 BurningRate & 4 Predict Song (Classification) <span>"
   ]
  },
  {
   "cell_type": "code",
   "execution_count": null,
   "id": "16aa9509",
   "metadata": {},
   "outputs": [],
   "source": []
  },
  {
   "cell_type": "code",
   "execution_count": null,
   "id": "72c09003",
   "metadata": {},
   "outputs": [],
   "source": []
  },
  {
   "cell_type": "markdown",
   "id": "249e0a49",
   "metadata": {},
   "source": [
    "# <span style='background :khaki' > Make a dataframe with the info of each day <span>"
   ]
  },
  {
   "cell_type": "markdown",
   "id": "745cd352",
   "metadata": {},
   "source": [
    "This will make possible to generate predictions models"
   ]
  },
  {
   "cell_type": "markdown",
   "id": "f65e8c9a",
   "metadata": {},
   "source": [
    "### First Step - Totals\n",
    "- Total Nº Streams -> Nº Songs + Nº Podcast\n",
    "- Total s Streamed -> s Songs Listened + s Podcast Listened"
   ]
  },
  {
   "cell_type": "code",
   "execution_count": 250,
   "id": "5c826039",
   "metadata": {},
   "outputs": [],
   "source": [
    "df = dfi"
   ]
  },
  {
   "cell_type": "code",
   "execution_count": null,
   "id": "8f17df14",
   "metadata": {},
   "outputs": [],
   "source": [
    "df2 = dfi.copy()\n",
    "df2.drop(['spotify_track_uri', 'reason_start', 'end_streaming_seconds', 'start_streaming', 'delta_time', \n",
    "          'start_streaming_seconds', 'delta_time', 'week_day_sin', 'week_day_cos', 'time_in_s', 'str_time', 'platform', \n",
    "          'master_metadata_track_name', 'master_metadata_album_artist_name', 'master_metadata_album_album_name', 'reason_end', \n",
    "          'end_streaming', 'month_and_year', 'days_to_next_month', 'minute', 'second', 'time', 'year', 'seasson', 'month', \n",
    "          'week', 'day', 'hour', 'df_fractured'], inplace = True, axis = 1)"
   ]
  },
  {
   "cell_type": "code",
   "execution_count": null,
   "id": "25adcf0b",
   "metadata": {},
   "outputs": [],
   "source": [
    "df2.columns"
   ]
  },
  {
   "cell_type": "markdown",
   "id": "c37e2d63",
   "metadata": {},
   "source": [
    "#### <span style=\"background:skyblue\"> Get Total Nº Streams Each Day -> Nº Songs + Nº Podcast </span>"
   ]
  },
  {
   "cell_type": "code",
   "execution_count": null,
   "id": "db38fae1",
   "metadata": {},
   "outputs": [],
   "source": [
    "# Unique Days List\n",
    "unique_days = df2['date'].unique()\n",
    "len(unique_days)\n",
    "\n",
    "# Index each day\n",
    "day_ix = [df2.loc[df2['date'] == u].index for u in unique_days]\n",
    "\n",
    "# Total streams each day\n",
    "day_streams = [len(u) for u in day_ix]\n",
    "len(day_streams)\n",
    "\n",
    "# Total Songs each day\n",
    "day_songs_ix = [df2.loc[(df2['is_song'] == 1) & (df2['date'] == u)].index for u in unique_days]\n",
    "day_songs = [len(u) for u in day_songs_ix]\n",
    "len(day_songs)\n",
    "# Total Podcasts each day\n",
    "day_podcasts_ix = [df2.loc[(df['is_podcast'] == 1) & (df2['date'] == u)].index for u in unique_days]\n",
    "day_podcasts = [len(u) for u in day_podcasts_ix]\n",
    "len(day_podcasts)"
   ]
  },
  {
   "cell_type": "markdown",
   "id": "2d855a48",
   "metadata": {},
   "source": [
    "#### <span style=\"background:skyblue\"> Get Total s Streamed -> s Songs Listened + s Podcast Listened </span>"
   ]
  },
  {
   "cell_type": "code",
   "execution_count": null,
   "id": "5509ce8d",
   "metadata": {},
   "outputs": [],
   "source": [
    "# Unique Days List\n",
    "unique_days = df2['date'].unique()\n",
    "len(unique_days)\n",
    "\n",
    "# Index each day\n",
    "day_ix = [df2.loc[df2['date'] == u].index for u in unique_days]\n",
    "\n",
    "# Total s stream each day\n",
    "day_s_streams = [sum(df2.loc[u, 's_played']) for u in day_ix]\n",
    "len(day_s_streams)\n",
    "\n",
    "# Total Songs each day\n",
    "day_s_songs = [sum(df2.loc[(df2['is_song'] == 1) & (df2['date'] == u), 's_played']) for u in unique_days]\n",
    "len(day_s_songs)\n",
    "# Total Podcasts each day\n",
    "day_s_podcasts = [sum(df2.loc[(df2['is_podcast'] == 1) & (df2['date'] == u), 's_played']) for u in unique_days]\n",
    "len(day_s_podcasts)"
   ]
  },
  {
   "cell_type": "markdown",
   "id": "da8aa024",
   "metadata": {},
   "source": [
    "#### <span style=\"background:skyblue\"> New Songs Listened each Day </span>"
   ]
  },
  {
   "cell_type": "code",
   "execution_count": null,
   "id": "b84dae60",
   "metadata": {},
   "outputs": [],
   "source": [
    "### ***Get Unique Streams Names***\n",
    "unique_names = df.drop_duplicates(subset = ['master_metadata_track_name'])\n",
    "unique_names = unique_names[['master_metadata_track_name', 'master_metadata_album_artist_name', 'is_song']]\n",
    "unique_names\n",
    "\n",
    "## Now we need to specify for podcast\n",
    "u_s = unique_names[unique_names['is_song'] == 1]['master_metadata_track_name']\n",
    "u_p = unique_names[unique_names['is_song'] == 0]['master_metadata_album_artist_name']\n",
    "u_p = u_p.drop_duplicates()"
   ]
  },
  {
   "cell_type": "code",
   "execution_count": null,
   "id": "f5126946",
   "metadata": {},
   "outputs": [],
   "source": [
    "# Iterate over the list of unique song names saving the index of the first time listened\n",
    "list_of_index_song = [df.loc[df['master_metadata_track_name'] == song].index[0] for song in u_s]\n",
    "#len(list_of_index)\n",
    "\n",
    "# Iterate over the list of unique song names saving the index of the first time listened\n",
    "list_of_index_podcast = [df.loc[df['master_metadata_album_artist_name'] == podcast].index[0] for podcast in u_p]\n",
    "#len(list_of_index_podcast)"
   ]
  },
  {
   "cell_type": "code",
   "execution_count": null,
   "id": "08f269cd",
   "metadata": {},
   "outputs": [],
   "source": [
    "# Create column for first time listened song (Yes = 1, No = 0)\n",
    "df2['aux'] = df2.index\n",
    "df2['firstTime'] = 0\n",
    "for i in list_of_index_song:\n",
    "    df2.loc[i, 'firstTime'] = 1\n",
    "    \n",
    "for i in list_of_index_podcast:\n",
    "    df2.loc[i, 'firstTime'] = 1\n",
    "    \n",
    "#df.loc[df['master_metadata_track_name'] == 'RAPSTAR']\n",
    "df2.drop('aux', inplace=True, axis=1)\n",
    "\n",
    "#df.head()\n",
    "#df"
   ]
  },
  {
   "cell_type": "code",
   "execution_count": null,
   "id": "52305584",
   "metadata": {},
   "outputs": [],
   "source": [
    "# Add all new songs in one day\n",
    "day_n_new_streams = [sum(df2.loc[(df2['firstTime'] == 1) & (df2['date'] == u), 'firstTime']) for u in unique_days]\n",
    "day_n_new_song = [sum(df2.loc[(df2['firstTime'] == 1) & (df2['is_song'] == 1) & (df2['date'] == u), 'firstTime']) for u in unique_days]\n",
    "day_n_new_podcast = [sum(df2.loc[(df2['firstTime'] == 1) & (df2['is_podcast'] == 1) & (df2['date'] == u), 'firstTime']) for u in unique_days]\n",
    "\n",
    "len(day_n_new_podcast)"
   ]
  },
  {
   "cell_type": "markdown",
   "id": "75b9f885",
   "metadata": {},
   "source": [
    "#### <span style=\"background:skyblue\"> Create Daily Stats DF </span>"
   ]
  },
  {
   "cell_type": "code",
   "execution_count": null,
   "id": "d3a718ff",
   "metadata": {},
   "outputs": [],
   "source": [
    "%%time\n",
    "#Total Nº of streams each day =============================================================\n",
    "df2['day_n_streams'] = np.nan\n",
    "df2['day_n_songs'] = np.nan\n",
    "df2['day_n_podcast'] = np.nan\n",
    "\n",
    "#Total Nº of seconds streamed each day =============================================================\n",
    "df2['day_s_streams'] = np.nan\n",
    "df2['day_s_songs'] = np.nan\n",
    "df2['day_s_podcast'] = np.nan\n",
    "\n",
    "#Total Nº of seconds NOT streamed each day =============================================================\n",
    "df2['day_s_no_streams'] = np.nan\n",
    "df2['day_s_no_songs'] = np.nan\n",
    "df2['day_s_no_podcast'] = np.nan\n",
    "\n",
    "#Percentage of seconds streamed each day =============================================================\n",
    "df2['per_day_stream'] = np.nan\n",
    "df2['per_day_songs'] = np.nan\n",
    "df2['per_day_podcast'] = np.nan\n",
    "\n",
    "#Percentage of seconds streamed by total stream Time =============================================================\n",
    "df2['per_s_day_podcast'] = np.nan\n",
    "df2['per_s_day_podcast'] = np.nan\n",
    "\n",
    "# Count of new elements streamed this day ======================================================\n",
    "df2['day_new_stream'] = np.nan\n",
    "df2['day_new_song'] = np.nan\n",
    "df2['day_new_podcast'] = np.nan\n",
    "\n",
    "for i in range(len(df2.index)):\n",
    "    for u, d_s, d_so, d_po, d_s_s, d_s_so, d_s_po, d_n_s, d_n_so, d_n_po in zip(unique_days, day_streams, day_songs, \n",
    "                                                                                day_podcasts, day_s_streams, day_s_songs, \n",
    "                                                                                day_s_podcasts, day_n_new_streams, \n",
    "                                                                                day_n_new_song, day_n_new_podcast):\n",
    "        if (u == df2.loc[i, 'date']):\n",
    "            df2.loc[i, 'day_n_streams'] = d_s\n",
    "            df2.loc[i, 'day_n_songs'] = d_so\n",
    "            df2.loc[i, 'day_n_podcast'] = d_po\n",
    "            \n",
    "            df2.loc[i, 'day_s_streams'] = d_s_s\n",
    "            df2.loc[i, 'day_s_songs'] = d_s_so\n",
    "            df2.loc[i, 'day_s_podcast'] = d_s_po\n",
    "            \n",
    "            df2.loc[i, 'day_s_no_streams'] = 86400 - d_s_s\n",
    "            df2.loc[i, 'day_s_no_songs'] = 86400 - d_s_so\n",
    "            df2.loc[i, 'day_s_no_podcast'] = 86400 - d_s_po\n",
    "            \n",
    "            df2.loc[i, 'per_day_stream'] = round(df2.loc[i, 'day_s_streams']/86400, 2)\n",
    "            df2.loc[i, 'per_day_songs'] = round(df2.loc[i, 'day_s_songs']/86400, 2)\n",
    "            df2.loc[i, 'per_day_podcast'] = round(df2.loc[i, 'day_s_podcast']/86400, 2)\n",
    "            \n",
    "            df2.loc[i, 'per_s_day_songs'] = round(df2.loc[i, 'day_s_songs']/df2.loc[i, 'day_s_streams'], 2)\n",
    "            df2.loc[i, 'per_s_day_podcast'] = round(df2.loc[i, 'day_s_podcast']/df2.loc[i, 'day_s_streams'], 2)\n",
    "            \n",
    "            df2.loc[i, 'day_new_stream'] = d_n_s\n",
    "            df2.loc[i, 'day_new_song'] = d_n_so\n",
    "            df2.loc[i, 'day_new_podcast'] = d_n_po"
   ]
  },
  {
   "cell_type": "code",
   "execution_count": null,
   "id": "cea3de68",
   "metadata": {},
   "outputs": [],
   "source": [
    "df.isna().sum()"
   ]
  },
  {
   "cell_type": "code",
   "execution_count": null,
   "id": "524b7189",
   "metadata": {},
   "outputs": [],
   "source": [
    "df2.head()"
   ]
  },
  {
   "cell_type": "markdown",
   "id": "f906d096",
   "metadata": {},
   "source": [
    "# <span style='background :khaki' > Cleaning the new Dataframe <span>"
   ]
  },
  {
   "cell_type": "markdown",
   "id": "6958cadf",
   "metadata": {},
   "source": [
    "#### <span style=\"background:skyblue\"> Remove No Relevant Columns </span>"
   ]
  },
  {
   "cell_type": "code",
   "execution_count": null,
   "id": "56963d63",
   "metadata": {},
   "outputs": [],
   "source": [
    "df_easy_day = df2.copy()\n",
    "df_easy_day.columns"
   ]
  },
  {
   "cell_type": "code",
   "execution_count": null,
   "id": "57222e6b",
   "metadata": {},
   "outputs": [],
   "source": [
    "# Drop columns only dealing with a certain stream an not the hole day\n",
    "df_easy_day.drop(['is_song', 'is_podcast', 's_played', 'firstTime'], inplace = True, axis = 1)\n",
    "df_easy_day.columns"
   ]
  },
  {
   "cell_type": "markdown",
   "id": "f383af5f",
   "metadata": {},
   "source": [
    "#### <span style=\"background:skyblue\"> Remove Fake Predictors </span>"
   ]
  },
  {
   "cell_type": "code",
   "execution_count": null,
   "id": "bde907e3",
   "metadata": {},
   "outputs": [],
   "source": [
    "# When we have highly correlated features in the dataset, the values in “S” matrix will be small. \n",
    "# So inverse square of “S” matrix (S^-2 in the above equation) will be large which makes the variance of Wₗₛ large. \n",
    "# So, it is advised that we keep only one feature in the dataset if two features are highly correlated. \n",
    "#I hope this article was helpful. Please leave your queries if any below.\n",
    "\n",
    "# Remove Fake Detectors"
   ]
  },
  {
   "cell_type": "markdown",
   "id": "87b4922f",
   "metadata": {},
   "source": [
    "<span style=\"background:violet\"> Order the data </span>"
   ]
  },
  {
   "cell_type": "code",
   "execution_count": null,
   "id": "cb978c2c",
   "metadata": {},
   "outputs": [],
   "source": [
    "c = df_easy_day.columns\n",
    "c = c.drop('day_n_streams')\n",
    "c = list(c)\n",
    "c.insert(0, 'day_n_streams')\n",
    "\n",
    "df_easy_day = df_easy_day[c]\n",
    "df_easy_day.head()"
   ]
  },
  {
   "cell_type": "markdown",
   "id": "114f9b3a",
   "metadata": {},
   "source": [
    "<span style=\"background:violet\"> Investigate </span>"
   ]
  },
  {
   "cell_type": "code",
   "execution_count": null,
   "id": "d310bf24",
   "metadata": {},
   "outputs": [],
   "source": [
    "plt.figure(figsize=(16, 6))\n",
    "heatmap = sns.heatmap(round(df_easy_day.corr(),2), vmin=-1, vmax=1, annot=True, cmap='BrBG')\n",
    "heatmap.set_title('Correlation Heatmap', fontdict={'fontsize':18}, pad=12);\n",
    "# save heatmap as .png file\n",
    "# dpi - sets the resolution of the saved image in dots/inches\n",
    "# bbox_inches - when set to 'tight' - does not allow the labels to be cropped\n",
    "plt.savefig('heatmap.png', dpi=300, bbox_inches='tight')"
   ]
  },
  {
   "cell_type": "markdown",
   "id": "38bf445f",
   "metadata": {},
   "source": [
    "<span style=\"background:violet\"> Drop </span>"
   ]
  },
  {
   "cell_type": "code",
   "execution_count": null,
   "id": "913a9d2c",
   "metadata": {},
   "outputs": [],
   "source": [
    "df_easy_day.drop(['day_s_songs', 'day_s_podcast', 'day_s_no_songs', 'day_s_no_streams', \n",
    "                  'per_day_songs', 'per_day_songs', 'per_day_stream', 'per_day_podcast', \n",
    "                  'per_s_day_podcast', 'day_s_no_podcast', 'per_s_day_songs', \n",
    "                  'day_s_streams'], inplace=True, axis=1)"
   ]
  },
  {
   "cell_type": "code",
   "execution_count": null,
   "id": "9755e435",
   "metadata": {},
   "outputs": [],
   "source": [
    "df_easy_day.head()"
   ]
  },
  {
   "cell_type": "markdown",
   "id": "f651ed2e",
   "metadata": {},
   "source": [
    "### <span style=\"background:lightgreen\"> Create Last Dataframe </span>"
   ]
  },
  {
   "cell_type": "code",
   "execution_count": null,
   "id": "552ff8a7",
   "metadata": {},
   "outputs": [],
   "source": [
    "# The DF is going to consist of the necesary features to predict the numbero of streamed / new songs and total streams. With this predicted data we will be able to predict the number of podcast streamed.\n",
    "df_all_day = df_easy_day.copy()\n",
    "df_all_day.head()"
   ]
  },
  {
   "cell_type": "markdown",
   "id": "186e34f7",
   "metadata": {},
   "source": [
    "<span style=\"background:violet\"> Check </span>"
   ]
  },
  {
   "cell_type": "code",
   "execution_count": null,
   "id": "8424f24f",
   "metadata": {},
   "outputs": [],
   "source": [
    "plt.figure(figsize=(16, 6))\n",
    "heatmap = sns.heatmap(round(df_all_day.corr(),2), vmin=-1, vmax=1, annot=True, cmap='BrBG')\n",
    "heatmap.set_title('Correlation Heatmap', fontdict={'fontsize':18}, pad=12);\n",
    "# save heatmap as .png file\n",
    "# dpi - sets the resolution of the saved image in dots/inches\n",
    "# bbox_inches - when set to 'tight' - does not allow the labels to be cropped\n",
    "plt.savefig('heatmap.png', dpi=300, bbox_inches='tight')"
   ]
  },
  {
   "cell_type": "markdown",
   "id": "a541059d",
   "metadata": {},
   "source": [
    "#### <span style=\"background:skyblue\"> Missing Values </span>"
   ]
  },
  {
   "cell_type": "markdown",
   "id": "b4d533ef",
   "metadata": {},
   "source": [
    "<span style=\"background:violet\"> seach missing values </span>"
   ]
  },
  {
   "cell_type": "code",
   "execution_count": null,
   "id": "bf2dbc60",
   "metadata": {},
   "outputs": [],
   "source": [
    "start = df_all_day.index[0]\n",
    "end = df_all_day.index[-1]\n",
    "diff = end-start\n",
    "\n",
    "date_list = [start + timedelta(days=x) for x in range(diff.days+1)]\n",
    "print('Generated len = ', len(date_list), '\\t|', '\\t Gen_Start: ', date_list[0], '\\t Gen_End: ', date_list[-1])\n",
    "print('Original len =  ', len(df.index), '\\t|', '\\t Org_Start: ', start, '\\t Org_End: ', end)\n",
    "\n",
    "if(date_list[0] != start and date_list[-1] != end):\n",
    "    print('ERROR')\n",
    "elif(len(df_all_day.index) != len(date_list)):\n",
    "    print('Missing Values Existing... Reindexing')\n",
    "    df_all_day = df_all_day.reindex(date_list)\n",
    "    \n",
    "#a = pd.date_range(start=df_all_day.index[0], end=df_all_day.index[-1])\n",
    "#len(a)"
   ]
  },
  {
   "cell_type": "code",
   "execution_count": null,
   "id": "6494fac5",
   "metadata": {},
   "outputs": [],
   "source": [
    "df_all_day.info()"
   ]
  },
  {
   "cell_type": "code",
   "execution_count": null,
   "id": "0fa8341d",
   "metadata": {},
   "outputs": [],
   "source": [
    "df_all_day.isna().sum()[0]"
   ]
  },
  {
   "cell_type": "code",
   "execution_count": null,
   "id": "765403ba",
   "metadata": {},
   "outputs": [],
   "source": [
    "naix = df_all_day[df_all_day['day_n_streams'].isna()].index\n",
    "df_all_day[df_all_day['day_n_streams'].isna()]"
   ]
  },
  {
   "cell_type": "code",
   "execution_count": null,
   "id": "58ce0a54",
   "metadata": {},
   "outputs": [],
   "source": [
    "## Check variability of target variable to know if interpolation is an option\n",
    "df_all_day.var()"
   ]
  },
  {
   "cell_type": "markdown",
   "id": "2bc441e3",
   "metadata": {},
   "source": [
    "<span style=\"background:violet\"> Complete missing Data </span>"
   ]
  },
  {
   "cell_type": "markdown",
   "id": "b5c6cafc",
   "metadata": {},
   "source": [
    "<span style='background :yellow' > Should we interpolate ?? </span>\n",
    "- Spline Vs Time\n",
    " - Spline: Estimates values that minimize overall curvature, thus obtaining a smooth surface passing through the input points.\n",
    " - Time: Estimates missing values by focusing more on nearby points than far away points.\n",
    " \n",
    " \n",
    "- Forward & Backward\n",
    "- Statistical"
   ]
  },
  {
   "cell_type": "markdown",
   "id": "b09a0890",
   "metadata": {},
   "source": [
    "<span style='background :yellow' > No, We need to put ZEROS Everywhere Except in dayweek </span>\n",
    "\n",
    "df_easy_day = df_easy_day.interpolate(option ='spline')\n",
    "\n",
    "df_easy_day['day_n_streams'] = df_easy_day['day_n_streams'].interpolate(option ='spline')"
   ]
  },
  {
   "cell_type": "code",
   "execution_count": null,
   "id": "000b0270",
   "metadata": {},
   "outputs": [],
   "source": [
    "df_all_day.head(2)"
   ]
  },
  {
   "cell_type": "code",
   "execution_count": null,
   "id": "a6c1c222",
   "metadata": {},
   "outputs": [],
   "source": [
    "print('Number of missing values =', len(naix), '==', round((len(naix)/len(df_all_day.index))*100,2), '%\\n')\n",
    "for i in naix:\n",
    "    print(df_all_day.loc[i-timedelta(days=1):i+timedelta(days=1)], '\\n\\n')\n",
    "    print(' -------------------------------------------------------------- ', '\\n\\n')"
   ]
  },
  {
   "cell_type": "code",
   "execution_count": null,
   "id": "14ac884b",
   "metadata": {},
   "outputs": [],
   "source": [
    "for i in naix:\n",
    "    for j in df_all_day.columns:\n",
    "        if(j == 'week_day'):\n",
    "            if(df_all_day.loc[i-timedelta(days=1), j] != 6.0):\n",
    "                df_all_day.loc[i, j] = df_all_day.loc[i-timedelta(days=1), j]+1\n",
    "            else:\n",
    "                df_all_day.loc[i, j] = 0\n",
    "        else:    \n",
    "            df_all_day.loc[i, j] = 0"
   ]
  },
  {
   "cell_type": "code",
   "execution_count": null,
   "id": "61bfda1c",
   "metadata": {},
   "outputs": [],
   "source": [
    "for i in naix:\n",
    "    print(df_all_day.loc[i-timedelta(days=1):i+timedelta(days=1)], '\\n\\n')\n",
    "    print(' -------------------------------------------------------------- ', '\\n\\n')"
   ]
  },
  {
   "cell_type": "code",
   "execution_count": null,
   "id": "977ad219",
   "metadata": {},
   "outputs": [],
   "source": [
    "df_all_day.head()"
   ]
  },
  {
   "cell_type": "code",
   "execution_count": null,
   "id": "435257a6",
   "metadata": {},
   "outputs": [],
   "source": [
    "df_all_day.isna().sum()[0]"
   ]
  },
  {
   "cell_type": "code",
   "execution_count": null,
   "id": "ac183c4c",
   "metadata": {},
   "outputs": [],
   "source": [
    "df_all_day.info()"
   ]
  },
  {
   "cell_type": "markdown",
   "id": "3cddaec1",
   "metadata": {},
   "source": [
    "### <span style='background :lightgreen' > Save Data <span>"
   ]
  },
  {
   "cell_type": "code",
   "execution_count": null,
   "id": "117b82cb",
   "metadata": {},
   "outputs": [],
   "source": [
    "# DF 1 - Original - Predict Nº Streams\n",
    "df_all_day.to_json(r\"C:\\Users\\ghoyo\\Desktop\\TFM 3.0\\Project\\GeneratedDfs\\by_day.json\")"
   ]
  },
  {
   "cell_type": "code",
   "execution_count": null,
   "id": "caaa05dc",
   "metadata": {},
   "outputs": [],
   "source": [
    "sum(df_easy_day['day_new_stream'])"
   ]
  },
  {
   "cell_type": "code",
   "execution_count": null,
   "id": "4ee1714c",
   "metadata": {},
   "outputs": [],
   "source": [
    "sum(df_easy_day['day_n_streams'])"
   ]
  },
  {
   "cell_type": "markdown",
   "id": "8421bd9b",
   "metadata": {},
   "source": [
    "# <span style='background :khaki' > Treating Special Data <span>"
   ]
  },
  {
   "cell_type": "markdown",
   "id": "a578b53b",
   "metadata": {},
   "source": [
    "### <span style=\"background:lightgreen\"> First Discovered Songs</span>"
   ]
  },
  {
   "cell_type": "markdown",
   "id": "e5a06ef6",
   "metadata": {},
   "source": [
    "All songs and podcast in the first months are new, but this maight not be true, because you surely know most of them, although it is the first time you are listening to them at this platform "
   ]
  },
  {
   "cell_type": "code",
   "execution_count": null,
   "id": "646a8d1b",
   "metadata": {},
   "outputs": [],
   "source": [
    "df_all_day_2 = df_all_day.copy()\n",
    "ix_l = list(df_all_day_2.index[:30])"
   ]
  },
  {
   "cell_type": "code",
   "execution_count": null,
   "id": "45ab8649",
   "metadata": {},
   "outputs": [],
   "source": [
    "for i, j in zip(df_all_day_2.index, range(len(df_all_day_2.index))):\n",
    "    if j <= 60:\n",
    "        df_all_day_2.loc[i, 'day_new_stream'] = 0\n",
    "        df_all_day_2.loc[i, 'day_new_song'] = 0\n",
    "        df_all_day_2.loc[i, 'day_new_podcast'] = 0"
   ]
  },
  {
   "cell_type": "code",
   "execution_count": null,
   "id": "b35d59ef",
   "metadata": {},
   "outputs": [],
   "source": [
    "df_all_day_2"
   ]
  },
  {
   "cell_type": "code",
   "execution_count": null,
   "id": "e305aeb8",
   "metadata": {},
   "outputs": [],
   "source": [
    "df_all_day_2.info()"
   ]
  },
  {
   "cell_type": "markdown",
   "id": "bbeb1dd2",
   "metadata": {},
   "source": [
    "### <span style='background :lightgreen' > Save Data - 2<span>"
   ]
  },
  {
   "cell_type": "code",
   "execution_count": 254,
   "id": "c42d2f52",
   "metadata": {},
   "outputs": [
    {
     "ename": "NameError",
     "evalue": "name 'df_all_day_2' is not defined",
     "output_type": "error",
     "traceback": [
      "\u001b[1;31m---------------------------------------------------------------------------\u001b[0m",
      "\u001b[1;31mNameError\u001b[0m                                 Traceback (most recent call last)",
      "Input \u001b[1;32mIn [254]\u001b[0m, in \u001b[0;36m<cell line: 2>\u001b[1;34m()\u001b[0m\n\u001b[0;32m      1\u001b[0m \u001b[38;5;66;03m# DF 2 - Testing Stationary Transformations - Predict Nº Streams\u001b[39;00m\n\u001b[1;32m----> 2\u001b[0m \u001b[43mdf_all_day_2\u001b[49m\u001b[38;5;241m.\u001b[39mto_json(\u001b[38;5;124mr\u001b[39m\u001b[38;5;124m\"\u001b[39m\u001b[38;5;124mC:\u001b[39m\u001b[38;5;124m\\\u001b[39m\u001b[38;5;124mUsers\u001b[39m\u001b[38;5;124m\\\u001b[39m\u001b[38;5;124mghoyo\u001b[39m\u001b[38;5;124m\\\u001b[39m\u001b[38;5;124mDesktop\u001b[39m\u001b[38;5;124m\\\u001b[39m\u001b[38;5;124mTFM 3.0\u001b[39m\u001b[38;5;124m\\\u001b[39m\u001b[38;5;124mProject\u001b[39m\u001b[38;5;124m\\\u001b[39m\u001b[38;5;124mGeneratedDfs\u001b[39m\u001b[38;5;124m\\\u001b[39m\u001b[38;5;124mby_day_2.json\u001b[39m\u001b[38;5;124m\"\u001b[39m)\n",
      "\u001b[1;31mNameError\u001b[0m: name 'df_all_day_2' is not defined"
     ]
    }
   ],
   "source": [
    "# DF 2 - Testing Stationary Transformations - Predict Nº Streams\n",
    "df_all_day_2.to_json(r\"C:\\Users\\ghoyo\\Desktop\\TFM 3.0\\Project\\GeneratedDfs\\by_day_2.json\")"
   ]
  },
  {
   "cell_type": "code",
   "execution_count": 255,
   "id": "eb36456a",
   "metadata": {
    "scrolled": true
   },
   "outputs": [
    {
     "ename": "NameError",
     "evalue": "name 'df_all_day_2' is not defined",
     "output_type": "error",
     "traceback": [
      "\u001b[1;31m---------------------------------------------------------------------------\u001b[0m",
      "\u001b[1;31mNameError\u001b[0m                                 Traceback (most recent call last)",
      "Input \u001b[1;32mIn [255]\u001b[0m, in \u001b[0;36m<cell line: 1>\u001b[1;34m()\u001b[0m\n\u001b[1;32m----> 1\u001b[0m \u001b[38;5;28msum\u001b[39m(\u001b[43mdf_all_day_2\u001b[49m[\u001b[38;5;124m'\u001b[39m\u001b[38;5;124mday_new_stream\u001b[39m\u001b[38;5;124m'\u001b[39m])\n",
      "\u001b[1;31mNameError\u001b[0m: name 'df_all_day_2' is not defined"
     ]
    }
   ],
   "source": [
    "sum(df_all_day_2['day_new_stream'])"
   ]
  },
  {
   "cell_type": "code",
   "execution_count": null,
   "id": "9d4dcece",
   "metadata": {},
   "outputs": [],
   "source": [
    "sum(df_all_day_2['day_n_streams'])"
   ]
  },
  {
   "cell_type": "markdown",
   "id": "d9931e09",
   "metadata": {},
   "source": [
    "# <span style='background :khaki' > Generate New Dataframe For Rest Spikes <span>"
   ]
  },
  {
   "cell_type": "markdown",
   "id": "c1021b8b",
   "metadata": {},
   "source": [
    "### <span style=\"background:lightgreen\"> Rest Types </span>"
   ]
  },
  {
   "cell_type": "markdown",
   "id": "38c1fb1a",
   "metadata": {},
   "source": [
    "- <<< 10 = Distracción - Mo se Cuenta.\n",
    "- de 10 a 20 Mins = Descanso Corto\n",
    "- de 20 mins a 60 mins = Descanso\n",
    "- de 60 a 120 = Descanso Largo\n",
    "- de 120 a 240 = Pausa\n",
    "- de 240 a 480 = Dormido\n",
    "- de 480 a >>> = Suspendido "
   ]
  },
  {
   "cell_type": "code",
   "execution_count": null,
   "id": "d7335579",
   "metadata": {},
   "outputs": [],
   "source": [
    "dfi['delta_time'].head()"
   ]
  },
  {
   "cell_type": "markdown",
   "id": "50faaa91",
   "metadata": {},
   "source": [
    "<span style=\"background:yellow\"> Search more bibliography</span>"
   ]
  },
  {
   "cell_type": "markdown",
   "id": "2051d092",
   "metadata": {},
   "source": [
    "#### First we need to place the different thresholds for each rest class so when it is detected we save in a new dataset the most significant data:\n",
    " - index: Give access to all temporal features\n",
    " - listened time until then // Number of streamings done until then\n",
    " - Tipe of rest // Delta time = Seconds rested\n",
    " "
   ]
  },
  {
   "cell_type": "code",
   "execution_count": null,
   "id": "2dc3557c",
   "metadata": {},
   "outputs": [],
   "source": [
    "df_aux = dfi.copy()"
   ]
  },
  {
   "cell_type": "code",
   "execution_count": null,
   "id": "4e72605b",
   "metadata": {},
   "outputs": [],
   "source": [
    "df_aux[:20]['delta_time']\n",
    "df_aux.loc[0, ['delta_time']] = 0\n",
    "\n",
    "df_aux2 = df_aux\n",
    "df_aux2['delta_time']"
   ]
  },
  {
   "cell_type": "code",
   "execution_count": null,
   "id": "ef122f5b",
   "metadata": {},
   "outputs": [],
   "source": [
    "# Create new dataframe\n",
    "rest_df = pd.DataFrame(columns = ['end_streaming', 'delta_time', 'rest_type', 'total_time_listened', 'n_streams_listened'])"
   ]
  },
  {
   "cell_type": "code",
   "execution_count": null,
   "id": "ef4cc188",
   "metadata": {},
   "outputs": [],
   "source": [
    "df_aux2.loc[1:3, 's_played']"
   ]
  },
  {
   "cell_type": "code",
   "execution_count": null,
   "id": "90fa5558",
   "metadata": {},
   "outputs": [],
   "source": [
    "last_time = 0\n",
    "\n",
    "for i in df_aux2.index:\n",
    "    if df_aux2.loc[i, 'delta_time'] > 600 and df_aux2.loc[i, 'delta_time'] <= 1200:\n",
    "        tt_listened = sum(df_aux2.loc[last_time:i, 's_played'])\n",
    "        ns_listened = len(df_aux2.loc[last_time:i, 's_played'])\n",
    "        last_time = i+1 \n",
    "        new_row = pd.Series({'end_streaming': df_aux2.loc[i, 'end_streaming'], 'delta_time': df_aux2.loc[i, 'delta_time'], \n",
    "                             'rest_type': 0, 'total_time_listened': tt_listened, 'n_streams_listened': ns_listened})\n",
    "        rest_df = pd.concat([rest_df, new_row.to_frame().T])\n",
    "                \n",
    "    elif df_aux2.loc[i, 'delta_time'] > 1200 and df_aux2.loc[i, 'delta_time'] <= 3600:\n",
    "        tt_listened = sum(df_aux2.loc[last_time:i, 's_played'])\n",
    "        ns_listened = len(df_aux2.loc[last_time:i, 's_played'])\n",
    "        last_time = i+1 \n",
    "        new_row = pd.Series({'end_streaming': df_aux2.loc[i, 'end_streaming'], 'delta_time': df_aux2.loc[i, 'delta_time'], \n",
    "                             'rest_type': 1, 'total_time_listened': tt_listened, 'n_streams_listened': ns_listened})\n",
    "        rest_df = pd.concat([rest_df, new_row.to_frame().T])\n",
    "        #rest_df.append([df_aux2.loc[i, 'end_streaming'], df_aux2.loc[i, 'delta_time'], 1, total_time_listened, n_streams_listened])\n",
    "        \n",
    "    elif df_aux2.loc[i, 'delta_time'] > 3600 and df_aux2.loc[i, 'delta_time'] <= 7200:\n",
    "        tt_listened = sum(df_aux2.loc[last_time:i, 's_played'])\n",
    "        ns_listened = len(df_aux2.loc[last_time:i, 's_played'])\n",
    "        last_time = i+1 \n",
    "        new_row = pd.Series({'end_streaming': df_aux2.loc[i, 'end_streaming'], 'delta_time': df_aux2.loc[i, 'delta_time'], \n",
    "                             'rest_type': 2, 'total_time_listened': tt_listened, 'n_streams_listened': ns_listened})\n",
    "        rest_df = pd.concat([rest_df, new_row.to_frame().T])\n",
    "        #rest_df.append([df_aux2.loc[i, 'end_streaming'], df_aux2.loc[i, 'delta_time'], 2, total_time_listened, n_streams_listened])\n",
    "        \n",
    "    elif df_aux2.loc[i, 'delta_time'] > 7200 and df_aux2.loc[i, 'delta_time'] <= 14400:\n",
    "        tt_listened = sum(df_aux2.loc[last_time:i, 's_played'])\n",
    "        ns_listened = len(df_aux2.loc[last_time:i, 's_played'])\n",
    "        last_time = i+1 \n",
    "        new_row = pd.Series({'end_streaming': df_aux2.loc[i, 'end_streaming'], 'delta_time': df_aux2.loc[i, 'delta_time'], \n",
    "                             'rest_type': 3, 'total_time_listened': tt_listened, 'n_streams_listened': ns_listened})\n",
    "        rest_df = pd.concat([rest_df, new_row.to_frame().T])\n",
    "        #rest_df.append([df_aux2.loc[i, 'end_streaming'], df_aux2.loc[i, 'delta_time'], 3, total_time_listened, n_streams_listened])\n",
    "        \n",
    "    elif df_aux2.loc[i, 'delta_time'] > 14400 and df_aux2.loc[i, 'delta_time'] <= 28800:\n",
    "        tt_listened = sum(df_aux2.loc[last_time:i, 's_played'])\n",
    "        ns_listened = len(df_aux2.loc[last_time:i, 's_played'])\n",
    "        last_time = i+1\n",
    "        new_row = pd.Series({'end_streaming': df_aux2.loc[i, 'end_streaming'], 'delta_time': df_aux2.loc[i, 'delta_time'], \n",
    "                             'rest_type': 4, 'total_time_listened': tt_listened, 'n_streams_listened': ns_listened})\n",
    "        rest_df = pd.concat([rest_df, new_row.to_frame().T])\n",
    "        #rest_df.append([df_aux2.loc[i, 'end_streaming'], df_aux2.loc[i, 'delta_time'], 4, total_time_listened, n_streams_listened])\n",
    "        \n",
    "    elif df_aux2.loc[i, 'delta_time'] > 28800 and df_aux2.loc[i, 'delta_time'] <= 86400:\n",
    "        tt_listened = sum(df_aux2.loc[last_time:i, 's_played'])\n",
    "        ns_listened = len(df_aux2.loc[last_time:i, 's_played'])\n",
    "        last_time = i+1 \n",
    "        new_row = pd.Series({'end_streaming': df_aux2.loc[i, 'end_streaming'], 'delta_time': df_aux2.loc[i, 'delta_time'], \n",
    "                             'rest_type': 5, 'total_time_listened': tt_listened, 'n_streams_listened': ns_listened})\n",
    "        rest_df = pd.concat([rest_df, new_row.to_frame().T])\n",
    "        #rest_df.append([df_aux2.loc[i, 'end_streaming'], df_aux2.loc[i, 'delta_time'], 5, total_time_listened, n_streams_listened])\n",
    "        \n",
    "    elif df_aux2.loc[i, 'delta_time'] > 86400:\n",
    "        tt_listened = sum(df_aux2.loc[last_time:i, 's_played'])\n",
    "        ns_listened = len(df_aux2.loc[last_time:i, 's_played'])\n",
    "        last_time = i+1 \n",
    "        new_row = pd.Series({'end_streaming': df_aux2.loc[i, 'end_streaming'], 'delta_time': df_aux2.loc[i, 'delta_time'], \n",
    "                             'rest_type': 6, 'total_time_listened': tt_listened, 'n_streams_listened': ns_listened})\n",
    "        rest_df = pd.concat([rest_df, new_row.to_frame().T])\n",
    "        #rest_df.append([df_aux2.loc[i, 'end_streaming'], df_aux2.loc[i, 'delta_time'], 5, total_time_listened, n_streams_listened])"
   ]
  },
  {
   "cell_type": "code",
   "execution_count": null,
   "id": "45a02440",
   "metadata": {},
   "outputs": [],
   "source": [
    "rest_df.info()"
   ]
  },
  {
   "cell_type": "code",
   "execution_count": null,
   "id": "e9783e24",
   "metadata": {},
   "outputs": [],
   "source": [
    "rest_df.reset_index(inplace=True, drop=True)\n",
    "rest_df.set_index('end_streaming', inplace=True)\n",
    "rest_df"
   ]
  },
  {
   "cell_type": "markdown",
   "id": "b73626a6",
   "metadata": {},
   "source": [
    "### <span style=\"background:lightgreen\"> Save - 3 </span>"
   ]
  },
  {
   "cell_type": "code",
   "execution_count": null,
   "id": "1640dc43",
   "metadata": {},
   "outputs": [],
   "source": [
    "# Rest Types DF\n",
    "rest_df.to_json(r\"C:\\Users\\ghoyo\\Desktop\\TFM 3.0\\Project\\GeneratedDfs\\rests.json\")"
   ]
  },
  {
   "cell_type": "code",
   "execution_count": null,
   "id": "f8bf9e28",
   "metadata": {},
   "outputs": [],
   "source": []
  },
  {
   "cell_type": "code",
   "execution_count": null,
   "id": "b5b70699",
   "metadata": {},
   "outputs": [],
   "source": []
  },
  {
   "cell_type": "code",
   "execution_count": null,
   "id": "6c6db52f",
   "metadata": {},
   "outputs": [],
   "source": []
  },
  {
   "cell_type": "code",
   "execution_count": null,
   "id": "25320a04",
   "metadata": {},
   "outputs": [],
   "source": []
  },
  {
   "cell_type": "code",
   "execution_count": null,
   "id": "74ace209",
   "metadata": {},
   "outputs": [],
   "source": []
  }
 ],
 "metadata": {
  "kernelspec": {
   "display_name": "Python 3 (ipykernel)",
   "language": "python",
   "name": "python3"
  },
  "language_info": {
   "codemirror_mode": {
    "name": "ipython",
    "version": 3
   },
   "file_extension": ".py",
   "mimetype": "text/x-python",
   "name": "python",
   "nbconvert_exporter": "python",
   "pygments_lexer": "ipython3",
   "version": "3.10.6"
  }
 },
 "nbformat": 4,
 "nbformat_minor": 5
}
