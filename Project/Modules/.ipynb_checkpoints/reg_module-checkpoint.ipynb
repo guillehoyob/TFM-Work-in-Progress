{
 "cells": [
  {
   "cell_type": "markdown",
   "id": "6070edf3",
   "metadata": {},
   "source": [
    "# <span style=\"background:Beige\"> Module Defining - Functions <span>"
   ]
  },
  {
   "cell_type": "code",
   "execution_count": null,
   "id": "be8a7a5d",
   "metadata": {},
   "outputs": [],
   "source": []
  },
  {
   "cell_type": "markdown",
   "id": "fc89ef94",
   "metadata": {},
   "source": [
    "#### <span style=\"background:skyblue\"> CV - Methods <span>"
   ]
  },
  {
   "cell_type": "code",
   "execution_count": 4,
   "id": "4f255ba6",
   "metadata": {},
   "outputs": [],
   "source": [
    "class BlockingTimeSeriesSplit():\n",
    "    def __init__(self, n_splits):\n",
    "        self.n_splits = n_splits\n",
    "    \n",
    "    def get_n_splits(self, X, y, groups):\n",
    "        return self.n_splits\n",
    "    \n",
    "    def split(self, X, y=None, groups=None):\n",
    "        n_samples = len(X)\n",
    "        k_fold_size = n_samples // self.n_splits\n",
    "        indices = np.arange(n_samples)\n",
    "\n",
    "        margin = 0\n",
    "        for i in range(self.n_splits):\n",
    "            start = i * k_fold_size\n",
    "            stop = start + k_fold_size\n",
    "            mid = int(0.999999 * (stop - start)) + start\n",
    "            yield indices[start: mid], indices[mid + margin: stop]"
   ]
  },
  {
   "cell_type": "markdown",
   "id": "7e3d302d",
   "metadata": {},
   "source": [
    "#### <span style=\"background:skyblue\"> Baseline Methods <span>"
   ]
  },
  {
   "cell_type": "code",
   "execution_count": 5,
   "id": "24471ac8",
   "metadata": {},
   "outputs": [],
   "source": [
    "# persistence model\n",
    "def model_persistence(x):\n",
    "    return x"
   ]
  },
  {
   "cell_type": "code",
   "execution_count": null,
   "id": "eb709790",
   "metadata": {},
   "outputs": [],
   "source": []
  },
  {
   "cell_type": "markdown",
   "id": "8fd0c5ed",
   "metadata": {},
   "source": [
    "# <span style=\"background:Beige\"> Make Possible to import <span>"
   ]
  },
  {
   "cell_type": "code",
   "execution_count": 6,
   "id": "b8f1d07b",
   "metadata": {},
   "outputs": [],
   "source": [
    "__all__ = ['BlockingTimeSeriesSplit', 'model_persistence']"
   ]
  }
 ],
 "metadata": {
  "kernelspec": {
   "display_name": "Python 3 (ipykernel)",
   "language": "python",
   "name": "python3"
  },
  "language_info": {
   "codemirror_mode": {
    "name": "ipython",
    "version": 3
   },
   "file_extension": ".py",
   "mimetype": "text/x-python",
   "name": "python",
   "nbconvert_exporter": "python",
   "pygments_lexer": "ipython3",
   "version": "3.10.6"
  }
 },
 "nbformat": 4,
 "nbformat_minor": 5
}
